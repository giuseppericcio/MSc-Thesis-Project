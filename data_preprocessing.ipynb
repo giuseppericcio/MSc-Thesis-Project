{
 "cells": [
  {
   "cell_type": "markdown",
   "metadata": {},
   "source": [
    "# Data Preprocessing"
   ]
  },
  {
   "cell_type": "markdown",
   "metadata": {},
   "source": [
    "## Estrazione concetti da NOTEEVENTS"
   ]
  },
  {
   "cell_type": "code",
   "execution_count": 1,
   "metadata": {},
   "outputs": [
    {
     "name": "stderr",
     "output_type": "stream",
     "text": [
      "[nltk_data] Downloading package stopwords to\n",
      "[nltk_data]     C:\\Users\\giuse\\AppData\\Roaming\\nltk_data...\n",
      "[nltk_data]   Package stopwords is already up-to-date!\n",
      "[nltk_data] Downloading package punkt to\n",
      "[nltk_data]     C:\\Users\\giuse\\AppData\\Roaming\\nltk_data...\n",
      "[nltk_data]   Package punkt is already up-to-date!\n",
      "[nltk_data] Downloading package wordnet to\n",
      "[nltk_data]     C:\\Users\\giuse\\AppData\\Roaming\\nltk_data...\n",
      "[nltk_data]   Package wordnet is already up-to-date!\n"
     ]
    }
   ],
   "source": [
    "import sys\n",
    "import re\n",
    "import pandas as pd\n",
    "import matplotlib.pyplot as plt\n",
    "\n",
    "import medspacy\n",
    "\n",
    "import nltk\n",
    "from nltk.tokenize import word_tokenize\n",
    "from nltk.stem import WordNetLemmatizer\n",
    "from nltk.corpus import stopwords\n",
    "\n",
    "nltk.download('stopwords')\n",
    "nltk.download('punkt')\n",
    "nltk.download('wordnet')\n",
    "from nltk.corpus import stopwords\n",
    "\n",
    "from icdmappings import Mapper"
   ]
  },
  {
   "cell_type": "code",
   "execution_count": 2,
   "metadata": {},
   "outputs": [],
   "source": [
    "# Read the NOTEEVENTS and PATIENTS tables\n",
    "note = pd.read_csv(\n",
    "    \"data/NOTEEVENTS.csv\",\n",
    "    dtype={\"SUBJECT_ID\": str, \"HADM_ID\": str, \"CATEGORY\": str,\"CHARTDATE\": str, \"TEXT\": str},\n",
    "    parse_dates=[\"CHARTDATE\"],\n",
    "    infer_datetime_format=True\n",
    ")\n",
    "\n",
    "patient = pd.read_csv(\n",
    "    \"data/PATIENTS.csv\",\n",
    "    dtype={\"SUBJECT_ID\": str, \"GENDER\": str, \"DOB\": str, \"DOD\": str, \"DOD_HOSP\": str, \"DOD_SSN\": str},\n",
    "    parse_dates=[\"DOB\", \"DOD\", \"DOD_HOSP\", \"DOD_SSN\"],\n",
    "    infer_datetime_format=True\n",
    ")"
   ]
  },
  {
   "cell_type": "markdown",
   "metadata": {},
   "source": [
    "### Estrazione note d'interesse"
   ]
  },
  {
   "cell_type": "code",
   "execution_count": 3,
   "metadata": {},
   "outputs": [
    {
     "name": "stdout",
     "output_type": "stream",
     "text": [
      "(2083180, 11)\n"
     ]
    },
    {
     "data": {
      "text/html": [
       "<div>\n",
       "<style scoped>\n",
       "    .dataframe tbody tr th:only-of-type {\n",
       "        vertical-align: middle;\n",
       "    }\n",
       "\n",
       "    .dataframe tbody tr th {\n",
       "        vertical-align: top;\n",
       "    }\n",
       "\n",
       "    .dataframe thead th {\n",
       "        text-align: right;\n",
       "    }\n",
       "</style>\n",
       "<table border=\"1\" class=\"dataframe\">\n",
       "  <thead>\n",
       "    <tr style=\"text-align: right;\">\n",
       "      <th></th>\n",
       "      <th>ROW_ID</th>\n",
       "      <th>SUBJECT_ID</th>\n",
       "      <th>HADM_ID</th>\n",
       "      <th>CHARTDATE</th>\n",
       "      <th>CHARTTIME</th>\n",
       "      <th>STORETIME</th>\n",
       "      <th>CATEGORY</th>\n",
       "      <th>DESCRIPTION</th>\n",
       "      <th>CGID</th>\n",
       "      <th>ISERROR</th>\n",
       "      <th>TEXT</th>\n",
       "    </tr>\n",
       "  </thead>\n",
       "  <tbody>\n",
       "    <tr>\n",
       "      <th>0</th>\n",
       "      <td>174</td>\n",
       "      <td>22532</td>\n",
       "      <td>167853</td>\n",
       "      <td>2151-08-04</td>\n",
       "      <td>NaN</td>\n",
       "      <td>NaN</td>\n",
       "      <td>Discharge summary</td>\n",
       "      <td>Report</td>\n",
       "      <td>NaN</td>\n",
       "      <td>NaN</td>\n",
       "      <td>Admission Date:  [**2151-7-16**]       Dischar...</td>\n",
       "    </tr>\n",
       "    <tr>\n",
       "      <th>1</th>\n",
       "      <td>175</td>\n",
       "      <td>13702</td>\n",
       "      <td>107527</td>\n",
       "      <td>2118-06-14</td>\n",
       "      <td>NaN</td>\n",
       "      <td>NaN</td>\n",
       "      <td>Discharge summary</td>\n",
       "      <td>Report</td>\n",
       "      <td>NaN</td>\n",
       "      <td>NaN</td>\n",
       "      <td>Admission Date:  [**2118-6-2**]       Discharg...</td>\n",
       "    </tr>\n",
       "    <tr>\n",
       "      <th>2</th>\n",
       "      <td>176</td>\n",
       "      <td>13702</td>\n",
       "      <td>167118</td>\n",
       "      <td>2119-05-25</td>\n",
       "      <td>NaN</td>\n",
       "      <td>NaN</td>\n",
       "      <td>Discharge summary</td>\n",
       "      <td>Report</td>\n",
       "      <td>NaN</td>\n",
       "      <td>NaN</td>\n",
       "      <td>Admission Date:  [**2119-5-4**]              D...</td>\n",
       "    </tr>\n",
       "    <tr>\n",
       "      <th>3</th>\n",
       "      <td>177</td>\n",
       "      <td>13702</td>\n",
       "      <td>196489</td>\n",
       "      <td>2124-08-18</td>\n",
       "      <td>NaN</td>\n",
       "      <td>NaN</td>\n",
       "      <td>Discharge summary</td>\n",
       "      <td>Report</td>\n",
       "      <td>NaN</td>\n",
       "      <td>NaN</td>\n",
       "      <td>Admission Date:  [**2124-7-21**]              ...</td>\n",
       "    </tr>\n",
       "    <tr>\n",
       "      <th>4</th>\n",
       "      <td>178</td>\n",
       "      <td>26880</td>\n",
       "      <td>135453</td>\n",
       "      <td>2162-03-25</td>\n",
       "      <td>NaN</td>\n",
       "      <td>NaN</td>\n",
       "      <td>Discharge summary</td>\n",
       "      <td>Report</td>\n",
       "      <td>NaN</td>\n",
       "      <td>NaN</td>\n",
       "      <td>Admission Date:  [**2162-3-3**]              D...</td>\n",
       "    </tr>\n",
       "  </tbody>\n",
       "</table>\n",
       "</div>"
      ],
      "text/plain": [
       "   ROW_ID SUBJECT_ID HADM_ID  CHARTDATE CHARTTIME STORETIME  \\\n",
       "0     174      22532  167853 2151-08-04       NaN       NaN   \n",
       "1     175      13702  107527 2118-06-14       NaN       NaN   \n",
       "2     176      13702  167118 2119-05-25       NaN       NaN   \n",
       "3     177      13702  196489 2124-08-18       NaN       NaN   \n",
       "4     178      26880  135453 2162-03-25       NaN       NaN   \n",
       "\n",
       "            CATEGORY DESCRIPTION  CGID  ISERROR  \\\n",
       "0  Discharge summary      Report   NaN      NaN   \n",
       "1  Discharge summary      Report   NaN      NaN   \n",
       "2  Discharge summary      Report   NaN      NaN   \n",
       "3  Discharge summary      Report   NaN      NaN   \n",
       "4  Discharge summary      Report   NaN      NaN   \n",
       "\n",
       "                                                TEXT  \n",
       "0  Admission Date:  [**2151-7-16**]       Dischar...  \n",
       "1  Admission Date:  [**2118-6-2**]       Discharg...  \n",
       "2  Admission Date:  [**2119-5-4**]              D...  \n",
       "3  Admission Date:  [**2124-7-21**]              ...  \n",
       "4  Admission Date:  [**2162-3-3**]              D...  "
      ]
     },
     "execution_count": 3,
     "metadata": {},
     "output_type": "execute_result"
    }
   ],
   "source": [
    "print(note.shape)\n",
    "note.head(5)"
   ]
  },
  {
   "cell_type": "code",
   "execution_count": 4,
   "metadata": {},
   "outputs": [
    {
     "name": "stdout",
     "output_type": "stream",
     "text": [
      "(46520, 8)\n"
     ]
    },
    {
     "data": {
      "text/html": [
       "<div>\n",
       "<style scoped>\n",
       "    .dataframe tbody tr th:only-of-type {\n",
       "        vertical-align: middle;\n",
       "    }\n",
       "\n",
       "    .dataframe tbody tr th {\n",
       "        vertical-align: top;\n",
       "    }\n",
       "\n",
       "    .dataframe thead th {\n",
       "        text-align: right;\n",
       "    }\n",
       "</style>\n",
       "<table border=\"1\" class=\"dataframe\">\n",
       "  <thead>\n",
       "    <tr style=\"text-align: right;\">\n",
       "      <th></th>\n",
       "      <th>ROW_ID</th>\n",
       "      <th>SUBJECT_ID</th>\n",
       "      <th>GENDER</th>\n",
       "      <th>DOB</th>\n",
       "      <th>DOD</th>\n",
       "      <th>DOD_HOSP</th>\n",
       "      <th>DOD_SSN</th>\n",
       "      <th>EXPIRE_FLAG</th>\n",
       "    </tr>\n",
       "  </thead>\n",
       "  <tbody>\n",
       "    <tr>\n",
       "      <th>0</th>\n",
       "      <td>234</td>\n",
       "      <td>249</td>\n",
       "      <td>F</td>\n",
       "      <td>2075-03-13</td>\n",
       "      <td>NaT</td>\n",
       "      <td>NaT</td>\n",
       "      <td>NaT</td>\n",
       "      <td>0</td>\n",
       "    </tr>\n",
       "    <tr>\n",
       "      <th>1</th>\n",
       "      <td>235</td>\n",
       "      <td>250</td>\n",
       "      <td>F</td>\n",
       "      <td>2164-12-27</td>\n",
       "      <td>2188-11-22</td>\n",
       "      <td>2188-11-22</td>\n",
       "      <td>NaT</td>\n",
       "      <td>1</td>\n",
       "    </tr>\n",
       "    <tr>\n",
       "      <th>2</th>\n",
       "      <td>236</td>\n",
       "      <td>251</td>\n",
       "      <td>M</td>\n",
       "      <td>2090-03-15</td>\n",
       "      <td>NaT</td>\n",
       "      <td>NaT</td>\n",
       "      <td>NaT</td>\n",
       "      <td>0</td>\n",
       "    </tr>\n",
       "    <tr>\n",
       "      <th>3</th>\n",
       "      <td>237</td>\n",
       "      <td>252</td>\n",
       "      <td>M</td>\n",
       "      <td>2078-03-06</td>\n",
       "      <td>NaT</td>\n",
       "      <td>NaT</td>\n",
       "      <td>NaT</td>\n",
       "      <td>0</td>\n",
       "    </tr>\n",
       "    <tr>\n",
       "      <th>4</th>\n",
       "      <td>238</td>\n",
       "      <td>253</td>\n",
       "      <td>F</td>\n",
       "      <td>2089-11-26</td>\n",
       "      <td>NaT</td>\n",
       "      <td>NaT</td>\n",
       "      <td>NaT</td>\n",
       "      <td>0</td>\n",
       "    </tr>\n",
       "  </tbody>\n",
       "</table>\n",
       "</div>"
      ],
      "text/plain": [
       "   ROW_ID SUBJECT_ID GENDER        DOB        DOD   DOD_HOSP DOD_SSN  \\\n",
       "0     234        249      F 2075-03-13        NaT        NaT     NaT   \n",
       "1     235        250      F 2164-12-27 2188-11-22 2188-11-22     NaT   \n",
       "2     236        251      M 2090-03-15        NaT        NaT     NaT   \n",
       "3     237        252      M 2078-03-06        NaT        NaT     NaT   \n",
       "4     238        253      F 2089-11-26        NaT        NaT     NaT   \n",
       "\n",
       "   EXPIRE_FLAG  \n",
       "0            0  \n",
       "1            1  \n",
       "2            0  \n",
       "3            0  \n",
       "4            0  "
      ]
     },
     "execution_count": 4,
     "metadata": {},
     "output_type": "execute_result"
    }
   ],
   "source": [
    "print(patient.shape)\n",
    "patient.head(5)"
   ]
  },
  {
   "cell_type": "code",
   "execution_count": 17,
   "metadata": {},
   "outputs": [],
   "source": [
    "# Select only Discharge Summary notes written as Reports\n",
    "note_filtered = note[(note['CATEGORY'] == 'Discharge summary') & (note['DESCRIPTION'] == 'Report')]\n",
    "# Remove any notes with errors\n",
    "note_filtered = note_filtered[note_filtered['ISERROR'] != 1]\n",
    "# Remove notes with missing values\n",
    "note_filtered = note_filtered.dropna(subset=[\"SUBJECT_ID\", \"HADM_ID\", \"TEXT\"])\n",
    "# Calculate the number of tokens for each note and select only notes with at least 1000 tokens\n",
    "note_filtered['TOKEN_COUNT'] = note_filtered['TEXT'].str.len() / 4\n",
    "note_filtered = note_filtered[note_filtered['TOKEN_COUNT'] >= 1000]"
   ]
  },
  {
   "cell_type": "code",
   "execution_count": 18,
   "metadata": {},
   "outputs": [
    {
     "name": "stdout",
     "output_type": "stream",
     "text": [
      "Original dimensions: (51278, 12)\n",
      "\n",
      "Stats: ROW_ID         51278\n",
      "SUBJECT_ID     38890\n",
      "HADM_ID        49975\n",
      "CHARTDATE      27185\n",
      "CHARTTIME          0\n",
      "STORETIME          0\n",
      "CATEGORY           1\n",
      "DESCRIPTION        1\n",
      "CGID               0\n",
      "ISERROR            0\n",
      "TEXT           51215\n",
      "TOKEN_COUNT    16376\n",
      "dtype: int64\n",
      "\n",
      "Dimensions after processing: (51215, 12)\n",
      "\n"
     ]
    }
   ],
   "source": [
    "# Print the original dimensions of the dataframe\n",
    "print(\"Original dimensions: \" + str(note_filtered.shape) + \"\\n\")\n",
    "\n",
    "# Print the number of unique values for each column\n",
    "print(\"Stats: \" + str(note_filtered.nunique()) + \"\\n\")\n",
    "\n",
    "# Drop duplicates based on the 'TEXT' column and update the dataframe\n",
    "note_filtered.drop_duplicates(subset='TEXT', inplace=True)\n",
    "\n",
    "# Print the dimensions of the dataframe after removing duplicates\n",
    "print(\"Dimensions after processing: \" + str(note_filtered.shape) + \"\\n\")"
   ]
  },
  {
   "cell_type": "code",
   "execution_count": 19,
   "metadata": {},
   "outputs": [
    {
     "name": "stdout",
     "output_type": "stream",
     "text": [
      "(51215, 12)\n"
     ]
    },
    {
     "data": {
      "text/html": [
       "<div>\n",
       "<style scoped>\n",
       "    .dataframe tbody tr th:only-of-type {\n",
       "        vertical-align: middle;\n",
       "    }\n",
       "\n",
       "    .dataframe tbody tr th {\n",
       "        vertical-align: top;\n",
       "    }\n",
       "\n",
       "    .dataframe thead th {\n",
       "        text-align: right;\n",
       "    }\n",
       "</style>\n",
       "<table border=\"1\" class=\"dataframe\">\n",
       "  <thead>\n",
       "    <tr style=\"text-align: right;\">\n",
       "      <th></th>\n",
       "      <th>ROW_ID</th>\n",
       "      <th>SUBJECT_ID</th>\n",
       "      <th>HADM_ID</th>\n",
       "      <th>CHARTDATE</th>\n",
       "      <th>CHARTTIME</th>\n",
       "      <th>STORETIME</th>\n",
       "      <th>CATEGORY</th>\n",
       "      <th>DESCRIPTION</th>\n",
       "      <th>CGID</th>\n",
       "      <th>ISERROR</th>\n",
       "      <th>TEXT</th>\n",
       "      <th>TOKEN_COUNT</th>\n",
       "    </tr>\n",
       "  </thead>\n",
       "  <tbody>\n",
       "    <tr>\n",
       "      <th>1</th>\n",
       "      <td>175</td>\n",
       "      <td>13702</td>\n",
       "      <td>107527</td>\n",
       "      <td>2118-06-14</td>\n",
       "      <td>NaN</td>\n",
       "      <td>NaN</td>\n",
       "      <td>Discharge summary</td>\n",
       "      <td>Report</td>\n",
       "      <td>NaN</td>\n",
       "      <td>NaN</td>\n",
       "      <td>Admission Date:  [**2118-6-2**]       Discharg...</td>\n",
       "      <td>3158.25</td>\n",
       "    </tr>\n",
       "    <tr>\n",
       "      <th>2</th>\n",
       "      <td>176</td>\n",
       "      <td>13702</td>\n",
       "      <td>167118</td>\n",
       "      <td>2119-05-25</td>\n",
       "      <td>NaN</td>\n",
       "      <td>NaN</td>\n",
       "      <td>Discharge summary</td>\n",
       "      <td>Report</td>\n",
       "      <td>NaN</td>\n",
       "      <td>NaN</td>\n",
       "      <td>Admission Date:  [**2119-5-4**]              D...</td>\n",
       "      <td>2434.00</td>\n",
       "    </tr>\n",
       "    <tr>\n",
       "      <th>3</th>\n",
       "      <td>177</td>\n",
       "      <td>13702</td>\n",
       "      <td>196489</td>\n",
       "      <td>2124-08-18</td>\n",
       "      <td>NaN</td>\n",
       "      <td>NaN</td>\n",
       "      <td>Discharge summary</td>\n",
       "      <td>Report</td>\n",
       "      <td>NaN</td>\n",
       "      <td>NaN</td>\n",
       "      <td>Admission Date:  [**2124-7-21**]              ...</td>\n",
       "      <td>4284.50</td>\n",
       "    </tr>\n",
       "    <tr>\n",
       "      <th>4</th>\n",
       "      <td>178</td>\n",
       "      <td>26880</td>\n",
       "      <td>135453</td>\n",
       "      <td>2162-03-25</td>\n",
       "      <td>NaN</td>\n",
       "      <td>NaN</td>\n",
       "      <td>Discharge summary</td>\n",
       "      <td>Report</td>\n",
       "      <td>NaN</td>\n",
       "      <td>NaN</td>\n",
       "      <td>Admission Date:  [**2162-3-3**]              D...</td>\n",
       "      <td>3624.75</td>\n",
       "    </tr>\n",
       "    <tr>\n",
       "      <th>5</th>\n",
       "      <td>179</td>\n",
       "      <td>53181</td>\n",
       "      <td>170490</td>\n",
       "      <td>2172-03-08</td>\n",
       "      <td>NaN</td>\n",
       "      <td>NaN</td>\n",
       "      <td>Discharge summary</td>\n",
       "      <td>Report</td>\n",
       "      <td>NaN</td>\n",
       "      <td>NaN</td>\n",
       "      <td>Admission Date:  [**2172-3-5**]              D...</td>\n",
       "      <td>1951.75</td>\n",
       "    </tr>\n",
       "  </tbody>\n",
       "</table>\n",
       "</div>"
      ],
      "text/plain": [
       "   ROW_ID SUBJECT_ID HADM_ID  CHARTDATE CHARTTIME STORETIME  \\\n",
       "1     175      13702  107527 2118-06-14       NaN       NaN   \n",
       "2     176      13702  167118 2119-05-25       NaN       NaN   \n",
       "3     177      13702  196489 2124-08-18       NaN       NaN   \n",
       "4     178      26880  135453 2162-03-25       NaN       NaN   \n",
       "5     179      53181  170490 2172-03-08       NaN       NaN   \n",
       "\n",
       "            CATEGORY DESCRIPTION  CGID  ISERROR  \\\n",
       "1  Discharge summary      Report   NaN      NaN   \n",
       "2  Discharge summary      Report   NaN      NaN   \n",
       "3  Discharge summary      Report   NaN      NaN   \n",
       "4  Discharge summary      Report   NaN      NaN   \n",
       "5  Discharge summary      Report   NaN      NaN   \n",
       "\n",
       "                                                TEXT  TOKEN_COUNT  \n",
       "1  Admission Date:  [**2118-6-2**]       Discharg...      3158.25  \n",
       "2  Admission Date:  [**2119-5-4**]              D...      2434.00  \n",
       "3  Admission Date:  [**2124-7-21**]              ...      4284.50  \n",
       "4  Admission Date:  [**2162-3-3**]              D...      3624.75  \n",
       "5  Admission Date:  [**2172-3-5**]              D...      1951.75  "
      ]
     },
     "execution_count": 19,
     "metadata": {},
     "output_type": "execute_result"
    }
   ],
   "source": [
    "print(note_filtered.shape)\n",
    "note_filtered.head(5)"
   ]
  },
  {
   "cell_type": "code",
   "execution_count": 20,
   "metadata": {},
   "outputs": [
    {
     "data": {
      "image/png": "[encoded data removed]",
      "text/plain": [
       "<Figure size 1000x600 with 1 Axes>"
      ]
     },
     "metadata": {},
     "output_type": "display_data"
    }
   ],
   "source": [
    "# Count the number of visits per patient\n",
    "visit_counts = note_filtered.groupby('SUBJECT_ID').size()\n",
    "\n",
    "# Count the number of patients per number of visits\n",
    "patients_per_visit_count = visit_counts.value_counts().sort_index()\n",
    "\n",
    "# Create a bar chart\n",
    "plt.figure(figsize=(10, 6))\n",
    "patients_per_visit_count[1:10].plot(kind='bar')\n",
    "plt.title('Number of patients per number of visits')\n",
    "plt.xlabel('Number of visits')\n",
    "plt.ylabel('Number of patients')\n",
    "plt.grid(axis='y')\n",
    "\n",
    "# Show the chart\n",
    "plt.show()"
   ]
  },
  {
   "cell_type": "code",
   "execution_count": 35,
   "metadata": {},
   "outputs": [],
   "source": [
    "# Group the notes by patient\n",
    "group_note = note_filtered.groupby(\"SUBJECT_ID\")\n",
    "\n",
    "# Calculate the number of visits (discharge summaries) for each patient\n",
    "visits_per_patient = group_note['HADM_ID'].size()\n",
    "\n",
    "# Filter patients who have exactly 3 visits\n",
    "patients_with_at_least_two_visits = visits_per_patient[visits_per_patient == 3].index\n",
    "\n",
    "# Create a new DataFrame containing only patients with exactly 3 visits\n",
    "note_filtered_multiple_visits = note_filtered[note_filtered[\"SUBJECT_ID\"].isin(patients_with_at_least_two_visits)]\n",
    "\n",
    "# Reset the index of the new DataFrame\n",
    "note_filtered_multiple_visits = note_filtered_multiple_visits.reset_index(drop=True)"
   ]
  },
  {
   "cell_type": "code",
   "execution_count": 36,
   "metadata": {},
   "outputs": [
    {
     "name": "stdout",
     "output_type": "stream",
     "text": [
      "(4077, 12)\n"
     ]
    },
    {
     "data": {
      "text/html": [
       "<div>\n",
       "<style scoped>\n",
       "    .dataframe tbody tr th:only-of-type {\n",
       "        vertical-align: middle;\n",
       "    }\n",
       "\n",
       "    .dataframe tbody tr th {\n",
       "        vertical-align: top;\n",
       "    }\n",
       "\n",
       "    .dataframe thead th {\n",
       "        text-align: right;\n",
       "    }\n",
       "</style>\n",
       "<table border=\"1\" class=\"dataframe\">\n",
       "  <thead>\n",
       "    <tr style=\"text-align: right;\">\n",
       "      <th></th>\n",
       "      <th>ROW_ID</th>\n",
       "      <th>SUBJECT_ID</th>\n",
       "      <th>HADM_ID</th>\n",
       "      <th>CHARTDATE</th>\n",
       "      <th>CHARTTIME</th>\n",
       "      <th>STORETIME</th>\n",
       "      <th>CATEGORY</th>\n",
       "      <th>DESCRIPTION</th>\n",
       "      <th>CGID</th>\n",
       "      <th>ISERROR</th>\n",
       "      <th>TEXT</th>\n",
       "      <th>TOKEN_COUNT</th>\n",
       "    </tr>\n",
       "  </thead>\n",
       "  <tbody>\n",
       "    <tr>\n",
       "      <th>0</th>\n",
       "      <td>175</td>\n",
       "      <td>13702</td>\n",
       "      <td>107527</td>\n",
       "      <td>2118-06-14</td>\n",
       "      <td>NaN</td>\n",
       "      <td>NaN</td>\n",
       "      <td>Discharge summary</td>\n",
       "      <td>Report</td>\n",
       "      <td>NaN</td>\n",
       "      <td>NaN</td>\n",
       "      <td>Admission Date:  [**2118-6-2**]       Discharg...</td>\n",
       "      <td>3158.25</td>\n",
       "    </tr>\n",
       "    <tr>\n",
       "      <th>1</th>\n",
       "      <td>176</td>\n",
       "      <td>13702</td>\n",
       "      <td>167118</td>\n",
       "      <td>2119-05-25</td>\n",
       "      <td>NaN</td>\n",
       "      <td>NaN</td>\n",
       "      <td>Discharge summary</td>\n",
       "      <td>Report</td>\n",
       "      <td>NaN</td>\n",
       "      <td>NaN</td>\n",
       "      <td>Admission Date:  [**2119-5-4**]              D...</td>\n",
       "      <td>2434.00</td>\n",
       "    </tr>\n",
       "    <tr>\n",
       "      <th>2</th>\n",
       "      <td>177</td>\n",
       "      <td>13702</td>\n",
       "      <td>196489</td>\n",
       "      <td>2124-08-18</td>\n",
       "      <td>NaN</td>\n",
       "      <td>NaN</td>\n",
       "      <td>Discharge summary</td>\n",
       "      <td>Report</td>\n",
       "      <td>NaN</td>\n",
       "      <td>NaN</td>\n",
       "      <td>Admission Date:  [**2124-7-21**]              ...</td>\n",
       "      <td>4284.50</td>\n",
       "    </tr>\n",
       "    <tr>\n",
       "      <th>3</th>\n",
       "      <td>185</td>\n",
       "      <td>1136</td>\n",
       "      <td>139574</td>\n",
       "      <td>2192-05-23</td>\n",
       "      <td>NaN</td>\n",
       "      <td>NaN</td>\n",
       "      <td>Discharge summary</td>\n",
       "      <td>Report</td>\n",
       "      <td>NaN</td>\n",
       "      <td>NaN</td>\n",
       "      <td>Admission Date:  [**2192-4-19**]              ...</td>\n",
       "      <td>3769.50</td>\n",
       "    </tr>\n",
       "    <tr>\n",
       "      <th>4</th>\n",
       "      <td>230</td>\n",
       "      <td>9805</td>\n",
       "      <td>188132</td>\n",
       "      <td>2130-02-09</td>\n",
       "      <td>NaN</td>\n",
       "      <td>NaN</td>\n",
       "      <td>Discharge summary</td>\n",
       "      <td>Report</td>\n",
       "      <td>NaN</td>\n",
       "      <td>NaN</td>\n",
       "      <td>Admission Date:  [**2130-2-3**]              D...</td>\n",
       "      <td>1303.75</td>\n",
       "    </tr>\n",
       "  </tbody>\n",
       "</table>\n",
       "</div>"
      ],
      "text/plain": [
       "   ROW_ID SUBJECT_ID HADM_ID  CHARTDATE CHARTTIME STORETIME  \\\n",
       "0     175      13702  107527 2118-06-14       NaN       NaN   \n",
       "1     176      13702  167118 2119-05-25       NaN       NaN   \n",
       "2     177      13702  196489 2124-08-18       NaN       NaN   \n",
       "3     185       1136  139574 2192-05-23       NaN       NaN   \n",
       "4     230       9805  188132 2130-02-09       NaN       NaN   \n",
       "\n",
       "            CATEGORY DESCRIPTION  CGID  ISERROR  \\\n",
       "0  Discharge summary      Report   NaN      NaN   \n",
       "1  Discharge summary      Report   NaN      NaN   \n",
       "2  Discharge summary      Report   NaN      NaN   \n",
       "3  Discharge summary      Report   NaN      NaN   \n",
       "4  Discharge summary      Report   NaN      NaN   \n",
       "\n",
       "                                                TEXT  TOKEN_COUNT  \n",
       "0  Admission Date:  [**2118-6-2**]       Discharg...      3158.25  \n",
       "1  Admission Date:  [**2119-5-4**]              D...      2434.00  \n",
       "2  Admission Date:  [**2124-7-21**]              ...      4284.50  \n",
       "3  Admission Date:  [**2192-4-19**]              ...      3769.50  \n",
       "4  Admission Date:  [**2130-2-3**]              D...      1303.75  "
      ]
     },
     "execution_count": 36,
     "metadata": {},
     "output_type": "execute_result"
    }
   ],
   "source": [
    "print(note_filtered_multiple_visits.shape)\n",
    "note_filtered_multiple_visits.head(5)"
   ]
  },
  {
   "cell_type": "code",
   "execution_count": 37,
   "metadata": {},
   "outputs": [],
   "source": [
    "note_filtered_multiple_visits.set_index(\"ROW_ID\", inplace=True)"
   ]
  },
  {
   "cell_type": "code",
   "execution_count": 38,
   "metadata": {},
   "outputs": [
    {
     "data": {
      "text/html": [
       "<div>\n",
       "<style scoped>\n",
       "    .dataframe tbody tr th:only-of-type {\n",
       "        vertical-align: middle;\n",
       "    }\n",
       "\n",
       "    .dataframe tbody tr th {\n",
       "        vertical-align: top;\n",
       "    }\n",
       "\n",
       "    .dataframe thead th {\n",
       "        text-align: right;\n",
       "    }\n",
       "</style>\n",
       "<table border=\"1\" class=\"dataframe\">\n",
       "  <thead>\n",
       "    <tr style=\"text-align: right;\">\n",
       "      <th></th>\n",
       "      <th>SUBJECT_ID</th>\n",
       "      <th>HADM_ID</th>\n",
       "      <th>CHARTDATE</th>\n",
       "      <th>CHARTTIME</th>\n",
       "      <th>STORETIME</th>\n",
       "      <th>CATEGORY</th>\n",
       "      <th>DESCRIPTION</th>\n",
       "      <th>CGID</th>\n",
       "      <th>ISERROR</th>\n",
       "      <th>TEXT</th>\n",
       "      <th>TOKEN_COUNT</th>\n",
       "    </tr>\n",
       "    <tr>\n",
       "      <th>ROW_ID</th>\n",
       "      <th></th>\n",
       "      <th></th>\n",
       "      <th></th>\n",
       "      <th></th>\n",
       "      <th></th>\n",
       "      <th></th>\n",
       "      <th></th>\n",
       "      <th></th>\n",
       "      <th></th>\n",
       "      <th></th>\n",
       "      <th></th>\n",
       "    </tr>\n",
       "  </thead>\n",
       "  <tbody>\n",
       "    <tr>\n",
       "      <th>175</th>\n",
       "      <td>13702</td>\n",
       "      <td>107527</td>\n",
       "      <td>2118-06-14</td>\n",
       "      <td>NaN</td>\n",
       "      <td>NaN</td>\n",
       "      <td>Discharge summary</td>\n",
       "      <td>Report</td>\n",
       "      <td>NaN</td>\n",
       "      <td>NaN</td>\n",
       "      <td>Admission Date:  [**2118-6-2**]       Discharg...</td>\n",
       "      <td>3158.25</td>\n",
       "    </tr>\n",
       "    <tr>\n",
       "      <th>176</th>\n",
       "      <td>13702</td>\n",
       "      <td>167118</td>\n",
       "      <td>2119-05-25</td>\n",
       "      <td>NaN</td>\n",
       "      <td>NaN</td>\n",
       "      <td>Discharge summary</td>\n",
       "      <td>Report</td>\n",
       "      <td>NaN</td>\n",
       "      <td>NaN</td>\n",
       "      <td>Admission Date:  [**2119-5-4**]              D...</td>\n",
       "      <td>2434.00</td>\n",
       "    </tr>\n",
       "    <tr>\n",
       "      <th>177</th>\n",
       "      <td>13702</td>\n",
       "      <td>196489</td>\n",
       "      <td>2124-08-18</td>\n",
       "      <td>NaN</td>\n",
       "      <td>NaN</td>\n",
       "      <td>Discharge summary</td>\n",
       "      <td>Report</td>\n",
       "      <td>NaN</td>\n",
       "      <td>NaN</td>\n",
       "      <td>Admission Date:  [**2124-7-21**]              ...</td>\n",
       "      <td>4284.50</td>\n",
       "    </tr>\n",
       "    <tr>\n",
       "      <th>185</th>\n",
       "      <td>1136</td>\n",
       "      <td>139574</td>\n",
       "      <td>2192-05-23</td>\n",
       "      <td>NaN</td>\n",
       "      <td>NaN</td>\n",
       "      <td>Discharge summary</td>\n",
       "      <td>Report</td>\n",
       "      <td>NaN</td>\n",
       "      <td>NaN</td>\n",
       "      <td>Admission Date:  [**2192-4-19**]              ...</td>\n",
       "      <td>3769.50</td>\n",
       "    </tr>\n",
       "    <tr>\n",
       "      <th>230</th>\n",
       "      <td>9805</td>\n",
       "      <td>188132</td>\n",
       "      <td>2130-02-09</td>\n",
       "      <td>NaN</td>\n",
       "      <td>NaN</td>\n",
       "      <td>Discharge summary</td>\n",
       "      <td>Report</td>\n",
       "      <td>NaN</td>\n",
       "      <td>NaN</td>\n",
       "      <td>Admission Date:  [**2130-2-3**]              D...</td>\n",
       "      <td>1303.75</td>\n",
       "    </tr>\n",
       "  </tbody>\n",
       "</table>\n",
       "</div>"
      ],
      "text/plain": [
       "       SUBJECT_ID HADM_ID  CHARTDATE CHARTTIME STORETIME           CATEGORY  \\\n",
       "ROW_ID                                                                        \n",
       "175         13702  107527 2118-06-14       NaN       NaN  Discharge summary   \n",
       "176         13702  167118 2119-05-25       NaN       NaN  Discharge summary   \n",
       "177         13702  196489 2124-08-18       NaN       NaN  Discharge summary   \n",
       "185          1136  139574 2192-05-23       NaN       NaN  Discharge summary   \n",
       "230          9805  188132 2130-02-09       NaN       NaN  Discharge summary   \n",
       "\n",
       "       DESCRIPTION  CGID  ISERROR  \\\n",
       "ROW_ID                              \n",
       "175         Report   NaN      NaN   \n",
       "176         Report   NaN      NaN   \n",
       "177         Report   NaN      NaN   \n",
       "185         Report   NaN      NaN   \n",
       "230         Report   NaN      NaN   \n",
       "\n",
       "                                                     TEXT  TOKEN_COUNT  \n",
       "ROW_ID                                                                  \n",
       "175     Admission Date:  [**2118-6-2**]       Discharg...      3158.25  \n",
       "176     Admission Date:  [**2119-5-4**]              D...      2434.00  \n",
       "177     Admission Date:  [**2124-7-21**]              ...      4284.50  \n",
       "185     Admission Date:  [**2192-4-19**]              ...      3769.50  \n",
       "230     Admission Date:  [**2130-2-3**]              D...      1303.75  "
      ]
     },
     "execution_count": 38,
     "metadata": {},
     "output_type": "execute_result"
    }
   ],
   "source": [
    "note_filtered_multiple_visits.head(5)"
   ]
  },
  {
   "cell_type": "code",
   "execution_count": 39,
   "metadata": {},
   "outputs": [
    {
     "data": {
      "image/png": "[encoded data removed]",
      "text/plain": [
       "<Figure size 1000x600 with 1 Axes>"
      ]
     },
     "metadata": {},
     "output_type": "display_data"
    }
   ],
   "source": [
    "# Count the number of visits per patient\n",
    "visit_counts = note_filtered_multiple_visits.groupby('SUBJECT_ID').size()\n",
    "\n",
    "# Count the number of patients per number of visits\n",
    "patients_per_visit_count = visit_counts.value_counts().sort_index()\n",
    "\n",
    "# Create a bar chart\n",
    "plt.figure(figsize=(10, 6))\n",
    "patients_per_visit_count[:10].plot(kind='bar')\n",
    "plt.title('Number of patients per number of visits')\n",
    "plt.xlabel('Number of visits')\n",
    "plt.ylabel('Number of patients')\n",
    "plt.grid(axis='y')\n",
    "\n",
    "# Show the chart\n",
    "plt.show()"
   ]
  },
  {
   "cell_type": "code",
   "execution_count": 40,
   "metadata": {},
   "outputs": [
    {
     "name": "stdout",
     "output_type": "stream",
     "text": [
      "Stats: SUBJECT_ID     1359\n",
      "HADM_ID        3780\n",
      "CHARTDATE      3799\n",
      "CHARTTIME         0\n",
      "STORETIME         0\n",
      "CATEGORY          1\n",
      "DESCRIPTION       1\n",
      "CGID              0\n",
      "ISERROR           0\n",
      "TEXT           4077\n",
      "TOKEN_COUNT    3579\n",
      "dtype: int64\n",
      "\n"
     ]
    }
   ],
   "source": [
    "# Print the number of unique values for each column\n",
    "print(\"Stats: \" + str(note_filtered_multiple_visits.nunique()) + \"\\n\")"
   ]
  },
  {
   "cell_type": "markdown",
   "metadata": {},
   "source": [
    "### Estrazione delle sezioni e pulizia del testo delle note"
   ]
  },
  {
   "cell_type": "code",
   "execution_count": 41,
   "metadata": {},
   "outputs": [],
   "source": [
    "nlp = medspacy.load()"
   ]
  },
  {
   "cell_type": "code",
   "execution_count": 42,
   "metadata": {},
   "outputs": [
    {
     "data": {
      "text/plain": [
       "['medspacy_pyrush', 'medspacy_target_matcher', 'medspacy_context']"
      ]
     },
     "execution_count": 42,
     "metadata": {},
     "output_type": "execute_result"
    }
   ],
   "source": [
    "nlp.pipe_names"
   ]
  },
  {
   "cell_type": "code",
   "execution_count": 43,
   "metadata": {},
   "outputs": [],
   "source": [
    "sectionizer = nlp.add_pipe(\"medspacy_sectionizer\")"
   ]
  },
  {
   "cell_type": "code",
   "execution_count": 44,
   "metadata": {},
   "outputs": [
    {
     "data": {
      "text/plain": [
       "['medspacy_pyrush',\n",
       " 'medspacy_target_matcher',\n",
       " 'medspacy_context',\n",
       " 'medspacy_sectionizer']"
      ]
     },
     "execution_count": 44,
     "metadata": {},
     "output_type": "execute_result"
    }
   ],
   "source": [
    "nlp.pipe_names"
   ]
  },
  {
   "cell_type": "code",
   "execution_count": 45,
   "metadata": {},
   "outputs": [],
   "source": [
    "def section_extraction(text):\n",
    "    doc = nlp(text)\n",
    "    i = 0\n",
    "    note_prep = \"\"\n",
    "    for title in doc._.section_titles:\n",
    "        if str(title).lower() == 'chief complaint:':\n",
    "            note_prep += str(doc._.section_spans[i])\n",
    "        if str(title).lower() == 'history of present illness:' or str(title).lower() == 'history:':\n",
    "            note_prep += str(doc._.section_spans[i])\n",
    "        if str(title).lower() == 'past medical history:':\n",
    "            note_prep += str(doc._.section_spans[i])\n",
    "        if str(title).lower() == 'discharge medications:':\n",
    "            note_prep += str(doc._.section_spans[i])\n",
    "        if str(title).lower() == 'brief hospital course:' or str(title).lower() == 'hospital course:':\n",
    "            note_prep += str(doc._.section_spans[i])\n",
    "        if str(title).lower() == 'discharge diagnoses:':\n",
    "            note_prep += str(doc._.section_spans[i])\n",
    "        i += 1\n",
    "\n",
    "    return note_prep"
   ]
  },
  {
   "cell_type": "code",
   "execution_count": 46,
   "metadata": {},
   "outputs": [
    {
     "name": "stdout",
     "output_type": "stream",
     "text": [
      "Completed: 2.99%"
     ]
    },
    {
     "ename": "KeyboardInterrupt",
     "evalue": "",
     "output_type": "error",
     "traceback": [
      "\u001b[1;31m---------------------------------------------------------------------------\u001b[0m",
      "\u001b[1;31mKeyboardInterrupt\u001b[0m                         Traceback (most recent call last)",
      "\u001b[1;32mc:\\Users\\giuse\\Desktop\\MSc-Thesis-Project\\data_preprocessing.ipynb Cella 24\u001b[0m line \u001b[0;36m1\n\u001b[0;32m      <a href='vscode-notebook-cell:/c%3A/Users/giuse/Desktop/MSc-Thesis-Project/data_preprocessing.ipynb#X33sZmlsZQ%3D%3D?line=7'>8</a>\u001b[0m text \u001b[39m=\u001b[39m row[\u001b[39m'\u001b[39m\u001b[39mTEXT\u001b[39m\u001b[39m'\u001b[39m]\n\u001b[0;32m     <a href='vscode-notebook-cell:/c%3A/Users/giuse/Desktop/MSc-Thesis-Project/data_preprocessing.ipynb#X33sZmlsZQ%3D%3D?line=9'>10</a>\u001b[0m \u001b[39m# Extract the sections from the text\u001b[39;00m\n\u001b[1;32m---> <a href='vscode-notebook-cell:/c%3A/Users/giuse/Desktop/MSc-Thesis-Project/data_preprocessing.ipynb#X33sZmlsZQ%3D%3D?line=10'>11</a>\u001b[0m cleaned_text \u001b[39m=\u001b[39m section_extraction(text)\n\u001b[0;32m     <a href='vscode-notebook-cell:/c%3A/Users/giuse/Desktop/MSc-Thesis-Project/data_preprocessing.ipynb#X33sZmlsZQ%3D%3D?line=12'>13</a>\u001b[0m \u001b[39m# Save the cleaned text in the new 'Cleaned Text' column\u001b[39;00m\n\u001b[0;32m     <a href='vscode-notebook-cell:/c%3A/Users/giuse/Desktop/MSc-Thesis-Project/data_preprocessing.ipynb#X33sZmlsZQ%3D%3D?line=13'>14</a>\u001b[0m note_filtered_multiple_visits\u001b[39m.\u001b[39mat[index, \u001b[39m'\u001b[39m\u001b[39mCLEANED TEXT\u001b[39m\u001b[39m'\u001b[39m] \u001b[39m=\u001b[39m cleaned_text\n",
      "\u001b[1;32mc:\\Users\\giuse\\Desktop\\MSc-Thesis-Project\\data_preprocessing.ipynb Cella 24\u001b[0m line \u001b[0;36m2\n\u001b[0;32m      <a href='vscode-notebook-cell:/c%3A/Users/giuse/Desktop/MSc-Thesis-Project/data_preprocessing.ipynb#X33sZmlsZQ%3D%3D?line=0'>1</a>\u001b[0m \u001b[39mdef\u001b[39;00m \u001b[39msection_extraction\u001b[39m(text):\n\u001b[1;32m----> <a href='vscode-notebook-cell:/c%3A/Users/giuse/Desktop/MSc-Thesis-Project/data_preprocessing.ipynb#X33sZmlsZQ%3D%3D?line=1'>2</a>\u001b[0m     doc \u001b[39m=\u001b[39m nlp(text)\n\u001b[0;32m      <a href='vscode-notebook-cell:/c%3A/Users/giuse/Desktop/MSc-Thesis-Project/data_preprocessing.ipynb#X33sZmlsZQ%3D%3D?line=2'>3</a>\u001b[0m     i \u001b[39m=\u001b[39m \u001b[39m0\u001b[39m\n\u001b[0;32m      <a href='vscode-notebook-cell:/c%3A/Users/giuse/Desktop/MSc-Thesis-Project/data_preprocessing.ipynb#X33sZmlsZQ%3D%3D?line=3'>4</a>\u001b[0m     note_prep \u001b[39m=\u001b[39m \u001b[39m\"\u001b[39m\u001b[39m\"\u001b[39m\n",
      "File \u001b[1;32mc:\\Users\\giuse\\Desktop\\MSc-Thesis-Project\\proj_venv\\lib\\site-packages\\spacy\\language.py:1049\u001b[0m, in \u001b[0;36mLanguage.__call__\u001b[1;34m(self, text, disable, component_cfg)\u001b[0m\n\u001b[0;32m   1047\u001b[0m     error_handler \u001b[39m=\u001b[39m proc\u001b[39m.\u001b[39mget_error_handler()\n\u001b[0;32m   1048\u001b[0m \u001b[39mtry\u001b[39;00m:\n\u001b[1;32m-> 1049\u001b[0m     doc \u001b[39m=\u001b[39m proc(doc, \u001b[39m*\u001b[39m\u001b[39m*\u001b[39mcomponent_cfg\u001b[39m.\u001b[39mget(name, {}))  \u001b[39m# type: ignore[call-arg]\u001b[39;00m\n\u001b[0;32m   1050\u001b[0m \u001b[39mexcept\u001b[39;00m \u001b[39mKeyError\u001b[39;00m \u001b[39mas\u001b[39;00m e:\n\u001b[0;32m   1051\u001b[0m     \u001b[39m# This typically happens if a component is not initialized\u001b[39;00m\n\u001b[0;32m   1052\u001b[0m     \u001b[39mraise\u001b[39;00m \u001b[39mValueError\u001b[39;00m(Errors\u001b[39m.\u001b[39mE109\u001b[39m.\u001b[39mformat(name\u001b[39m=\u001b[39mname)) \u001b[39mfrom\u001b[39;00m \u001b[39me\u001b[39;00m\n",
      "File \u001b[1;32mc:\\Users\\giuse\\Desktop\\MSc-Thesis-Project\\proj_venv\\lib\\site-packages\\PyRuSH\\PyRuSHSentencizer.py:52\u001b[0m, in \u001b[0;36mPyRuSHSentencizer.__call__\u001b[1;34m(self, doc)\u001b[0m\n\u001b[0;32m     51\u001b[0m \u001b[39mdef\u001b[39;00m \u001b[39m__call__\u001b[39m(\u001b[39mself\u001b[39m, doc):\n\u001b[1;32m---> 52\u001b[0m     tags \u001b[39m=\u001b[39m \u001b[39mself\u001b[39;49m\u001b[39m.\u001b[39;49mpredict([doc])\n\u001b[0;32m     53\u001b[0m     cset_annotations([doc], tags)\n\u001b[0;32m     54\u001b[0m     \u001b[39mreturn\u001b[39;00m doc\n",
      "File \u001b[1;32mc:\\Users\\giuse\\Desktop\\MSc-Thesis-Project\\proj_venv\\lib\\site-packages\\PyRuSH\\PyRuSHSentencizer.py:60\u001b[0m, in \u001b[0;36mPyRuSHSentencizer.predict\u001b[1;34m(self, docs)\u001b[0m\n\u001b[0;32m     56\u001b[0m \u001b[39mdef\u001b[39;00m \u001b[39mpredict\u001b[39m(\u001b[39mself\u001b[39m, docs):\n\u001b[0;32m     57\u001b[0m \u001b[39m    \u001b[39m\u001b[39m\"\"\"Apply the pipeline's model to a batch of docs, without\u001b[39;00m\n\u001b[0;32m     58\u001b[0m \u001b[39m    modifying them.\u001b[39;00m\n\u001b[0;32m     59\u001b[0m \u001b[39m    \"\"\"\u001b[39;00m\n\u001b[1;32m---> 60\u001b[0m     guesses \u001b[39m=\u001b[39m cpredict(docs, \u001b[39mself\u001b[39;49m\u001b[39m.\u001b[39;49mrush\u001b[39m.\u001b[39;49msegToSentenceSpans)\n\u001b[0;32m     61\u001b[0m     \u001b[39mreturn\u001b[39;00m guesses\n",
      "File \u001b[1;32mc:\\Users\\giuse\\Desktop\\MSc-Thesis-Project\\proj_venv\\lib\\site-packages\\PyRuSH\\StaticSentencizerFun.pyx:18\u001b[0m, in \u001b[0;36mPyRuSH.StaticSentencizerFun.cpredict\u001b[1;34m()\u001b[0m\n",
      "File \u001b[1;32mc:\\Users\\giuse\\Desktop\\MSc-Thesis-Project\\proj_venv\\lib\\site-packages\\PyRuSH\\StaticSentencizerFun.pyx:28\u001b[0m, in \u001b[0;36mPyRuSH.StaticSentencizerFun.cpredict\u001b[1;34m()\u001b[0m\n",
      "File \u001b[1;32mc:\\Users\\giuse\\Desktop\\MSc-Thesis-Project\\proj_venv\\lib\\site-packages\\PyRuSH\\RuSH.py:109\u001b[0m, in \u001b[0;36mRuSH.segToSentenceSpans\u001b[1;34m(self, text)\u001b[0m\n\u001b[0;32m    107\u001b[0m output \u001b[39m=\u001b[39m []\n\u001b[0;32m    108\u001b[0m result \u001b[39m=\u001b[39m {BEGIN: [], END: []}\n\u001b[1;32m--> 109\u001b[0m \u001b[39mself\u001b[39;49m\u001b[39m.\u001b[39;49mfastner\u001b[39m.\u001b[39;49mprocess(text, \u001b[39m0\u001b[39;49m, result)\n\u001b[0;32m    111\u001b[0m \u001b[39m# log important message for debugging use\u001b[39;00m\n\u001b[0;32m    112\u001b[0m \u001b[39mif\u001b[39;00m \u001b[39mself\u001b[39m\u001b[39m.\u001b[39mlogger \u001b[39mis\u001b[39;00m \u001b[39mnot\u001b[39;00m \u001b[39mNone\u001b[39;00m \u001b[39mand\u001b[39;00m \u001b[39mself\u001b[39m\u001b[39m.\u001b[39mlogger\u001b[39m.\u001b[39misEnabledFor(logging\u001b[39m.\u001b[39mDEBUG):\n",
      "File \u001b[1;32mc:\\Users\\giuse\\Desktop\\MSc-Thesis-Project\\proj_venv\\lib\\site-packages\\PyFastNER\\FastCNER.py:233\u001b[0m, in \u001b[0;36mFastCNER.process\u001b[1;34m(self, text, offset, matches)\u001b[0m\n\u001b[0;32m    231\u001b[0m \u001b[39mfor\u001b[39;00m i \u001b[39min\u001b[39;00m \u001b[39mrange\u001b[39m(\u001b[39m0\u001b[39m, \u001b[39mlen\u001b[39m(text)):\n\u001b[0;32m    232\u001b[0m     pre_char \u001b[39m=\u001b[39m text[i \u001b[39m-\u001b[39m \u001b[39m1\u001b[39m] \u001b[39mif\u001b[39;00m i \u001b[39m>\u001b[39m \u001b[39m0\u001b[39m \u001b[39melse\u001b[39;00m \u001b[39m'\u001b[39m\u001b[39m \u001b[39m\u001b[39m'\u001b[39m\n\u001b[1;32m--> 233\u001b[0m     \u001b[39mself\u001b[39;49m\u001b[39m.\u001b[39;49mprocessRules(text, \u001b[39mself\u001b[39;49m\u001b[39m.\u001b[39;49mrule_map, i, \u001b[39m0\u001b[39;49m, i, matches, pre_char, \u001b[39mFalse\u001b[39;49;00m, \u001b[39m'\u001b[39;49m\u001b[39m \u001b[39;49m\u001b[39m'\u001b[39;49m)\n\u001b[0;32m    234\u001b[0m \u001b[39mself\u001b[39m\u001b[39m.\u001b[39mremovePseudo(matches)\n\u001b[0;32m    235\u001b[0m \u001b[39mreturn\u001b[39;00m matches\n",
      "File \u001b[1;32mc:\\Users\\giuse\\Desktop\\MSc-Thesis-Project\\proj_venv\\lib\\site-packages\\PyFastNER\\FastCNER.py:244\u001b[0m, in \u001b[0;36mFastCNER.processRules\u001b[1;34m(self, text, rule_map, match_begin, match_end, current_position, matches, pre_char, wildcard_support, pre_key)\u001b[0m\n\u001b[0;32m    241\u001b[0m this_char \u001b[39m=\u001b[39m text[current_position]\n\u001b[0;32m    243\u001b[0m \u001b[39mif\u001b[39;00m \u001b[39m'\u001b[39m\u001b[39m\\\\\u001b[39;00m\u001b[39m'\u001b[39m \u001b[39min\u001b[39;00m rule_map:\n\u001b[1;32m--> 244\u001b[0m     \u001b[39mself\u001b[39;49m\u001b[39m.\u001b[39;49mprocessWildCards(text, rule_map[\u001b[39m'\u001b[39;49m\u001b[39m\\\\\u001b[39;49;00m\u001b[39m'\u001b[39;49m], match_begin, match_end, current_position, matches, pre_char,\n\u001b[0;32m    245\u001b[0m                           \u001b[39mTrue\u001b[39;49;00m, \u001b[39m'\u001b[39;49m\u001b[39m\\\\\u001b[39;49;00m\u001b[39m'\u001b[39;49m)\n\u001b[0;32m    246\u001b[0m \u001b[39mif\u001b[39;00m \u001b[39m'\u001b[39m\u001b[39m(\u001b[39m\u001b[39m'\u001b[39m \u001b[39min\u001b[39;00m rule_map \u001b[39mand\u001b[39;00m pre_key \u001b[39m!=\u001b[39m \u001b[39m'\u001b[39m\u001b[39m\\\\\u001b[39;00m\u001b[39m'\u001b[39m:\n\u001b[0;32m    247\u001b[0m     \u001b[39mself\u001b[39m\u001b[39m.\u001b[39mprocessRules(text, rule_map[\u001b[39m'\u001b[39m\u001b[39m(\u001b[39m\u001b[39m'\u001b[39m], current_position, match_end, current_position, matches, pre_char,\n\u001b[0;32m    248\u001b[0m                       \u001b[39mFalse\u001b[39;00m, \u001b[39m'\u001b[39m\u001b[39m(\u001b[39m\u001b[39m'\u001b[39m)\n",
      "File \u001b[1;32mc:\\Users\\giuse\\Desktop\\MSc-Thesis-Project\\proj_venv\\lib\\site-packages\\PyFastNER\\FastCNER.py:308\u001b[0m, in \u001b[0;36mFastCNER.processWildCards\u001b[1;34m(self, text, rule_map, match_begin, match_end, current_position, matches, pre_char, wildcard_support, pre_key)\u001b[0m\n\u001b[0;32m    306\u001b[0m \u001b[39mfor\u001b[39;00m rule_char \u001b[39min\u001b[39;00m rule_map\u001b[39m.\u001b[39mkeys():\n\u001b[0;32m    307\u001b[0m     \u001b[39mif\u001b[39;00m rule_char \u001b[39min\u001b[39;00m \u001b[39mself\u001b[39m\u001b[39m.\u001b[39mwildcard_funcs:\n\u001b[1;32m--> 308\u001b[0m         \u001b[39mself\u001b[39;49m\u001b[39m.\u001b[39;49mwildcard_funcs[rule_char](text, rule_map, match_begin, match_end, current_position, matches,\n\u001b[0;32m    309\u001b[0m                                        this_char)\n\u001b[0;32m    310\u001b[0m     \u001b[39melse\u001b[39;00m:\n\u001b[0;32m    311\u001b[0m         logging\u001b[39m.\u001b[39minfo(\u001b[39m'\u001b[39m\u001b[39m\"\u001b[39m\u001b[39m\\\\\u001b[39;00m\u001b[39m'\u001b[39m \u001b[39m+\u001b[39m rule_char \u001b[39m+\u001b[39m \u001b[39m'\u001b[39m\u001b[39m\"\u001b[39m\u001b[39m is not a eligible syntax.\u001b[39m\u001b[39m'\u001b[39m)\n",
      "File \u001b[1;32mc:\\Users\\giuse\\Desktop\\MSc-Thesis-Project\\proj_venv\\lib\\site-packages\\PyFastNER\\WildCardFunctions.py:66\u001b[0m, in \u001b[0;36mWildCardFunctions.processWildCard_closeParan\u001b[1;34m(self, text, rule_map, match_begin, match_end, current_position, matches, this_char)\u001b[0m\n\u001b[0;32m     63\u001b[0m \u001b[39mdef\u001b[39;00m \u001b[39mprocessWildCard_closeParan\u001b[39m(\u001b[39mself\u001b[39m, text, rule_map, match_begin, match_end, current_position, matches,\n\u001b[0;32m     64\u001b[0m                                this_char):\n\u001b[0;32m     65\u001b[0m     \u001b[39mif\u001b[39;00m this_char \u001b[39m==\u001b[39m \u001b[39m'\u001b[39m\u001b[39m)\u001b[39m\u001b[39m'\u001b[39m:\n\u001b[1;32m---> 66\u001b[0m         \u001b[39mself\u001b[39;49m\u001b[39m.\u001b[39;49mprocessRules(text, rule_map[\u001b[39m'\u001b[39;49m\u001b[39m)\u001b[39;49m\u001b[39m'\u001b[39;49m], match_begin, match_end, current_position \u001b[39m+\u001b[39;49m \u001b[39m1\u001b[39;49m, matches,\n\u001b[0;32m     67\u001b[0m                           this_char, \u001b[39mTrue\u001b[39;49;00m, \u001b[39m'\u001b[39;49m\u001b[39m)\u001b[39;49m\u001b[39m'\u001b[39;49m)\n\u001b[0;32m     68\u001b[0m     \u001b[39mpass\u001b[39;00m\n",
      "File \u001b[1;32mc:\\Users\\giuse\\Desktop\\MSc-Thesis-Project\\proj_venv\\lib\\site-packages\\PyFastNER\\FastCNER.py:239\u001b[0m, in \u001b[0;36mFastCNER.processRules\u001b[1;34m(self, text, rule_map, match_begin, match_end, current_position, matches, pre_char, wildcard_support, pre_key)\u001b[0m\n\u001b[0;32m    237\u001b[0m \u001b[39mdef\u001b[39;00m \u001b[39mprocessRules\u001b[39m(\u001b[39mself\u001b[39m, text, rule_map, match_begin, match_end, current_position,\n\u001b[0;32m    238\u001b[0m                  matches, pre_char, wildcard_support, pre_key):\n\u001b[1;32m--> 239\u001b[0m     length \u001b[39m=\u001b[39m \u001b[39mlen\u001b[39;49m(text)\n\u001b[0;32m    240\u001b[0m     \u001b[39mif\u001b[39;00m current_position \u001b[39m<\u001b[39m length:\n\u001b[0;32m    241\u001b[0m         this_char \u001b[39m=\u001b[39m text[current_position]\n",
      "\u001b[1;31mKeyboardInterrupt\u001b[0m: "
     ]
    }
   ],
   "source": [
    "# Creation of a new column for the cleaned text\n",
    "note_filtered_multiple_visits['CLEANED TEXT'] = ''\n",
    "\n",
    "# Iteration over the rows of the DataFrame\n",
    "total_rows = len(note_filtered_multiple_visits)\n",
    "for i, (index, row) in enumerate(note_filtered_multiple_visits.iterrows()):\n",
    "    # Get the text from the desired column (e.g. 'Text')\n",
    "    text = row['TEXT']\n",
    "    \n",
    "    # Extract the sections from the text\n",
    "    cleaned_text = section_extraction(text)\n",
    "    \n",
    "    # Save the cleaned text in the new 'Cleaned Text' column\n",
    "    note_filtered_multiple_visits.at[index, 'CLEANED TEXT'] = cleaned_text\n",
    "    \n",
    "    # Calculate the completion percentage\n",
    "    percent_complete = ((i + 1) / total_rows) * 100\n",
    "    # Print the completion percentage overwriting the current line\n",
    "    sys.stdout.write(f\"\\rCompleted: {percent_complete:.2f}%\")\n",
    "    sys.stdout.flush()"
   ]
  },
  {
   "cell_type": "code",
   "execution_count": 47,
   "metadata": {},
   "outputs": [],
   "source": [
    "def tokenize_and_lemmatize(text):\n",
    "    # Tokenizzazione delle parole\n",
    "    tokens = word_tokenize(text)\n",
    "    \n",
    "    # Inizializzazione del lemmatizer\n",
    "    lemmatizer = WordNetLemmatizer()\n",
    "    \n",
    "    # Rimozione delle stopwords e simboli\n",
    "    stop_words = set(stopwords.words('english'))\n",
    "    symbols = ['[', '*', '+']\n",
    "    filtered_tokens = [token for token in tokens if token.lower() not in stop_words and not re.match(r'^\\W+$', token) and not any(symbol in token for symbol in symbols)]\n",
    "    \n",
    "    # Lemmatizzazione delle parole\n",
    "    lemmatized_tokens = [lemmatizer.lemmatize(token) for token in filtered_tokens]\n",
    "    \n",
    "    # Riaccorpamento del testo lemmatizzato\n",
    "    lemmatized_text = ' '.join(lemmatized_tokens)\n",
    "    \n",
    "    return lemmatized_text"
   ]
  },
  {
   "cell_type": "code",
   "execution_count": null,
   "metadata": {},
   "outputs": [],
   "source": [
    "# Creation of a new column for the lemmatized text\n",
    "note_filtered_multiple_visits['LEMMATIZED TEXT'] = ''\n",
    "\n",
    "# Iteration over the rows of the DataFrame\n",
    "total_rows = len(note_filtered_multiple_visits)\n",
    "for i, (index, row) in enumerate(note_filtered_multiple_visits.iterrows()):\n",
    "    # Get the text from the desired column (e.g. 'Text')\n",
    "    text = row['CLEANED TEXT']\n",
    "    \n",
    "    # Tokenization and lemmatization of the text\n",
    "    lemmatized_text = tokenize_and_lemmatize(text)\n",
    "    \n",
    "    # Save the lemmatized text in the new 'Lemmatized Text' column\n",
    "    note_filtered_multiple_visits.at[index, 'LEMMATIZED TEXT'] = lemmatized_text\n",
    "    \n",
    "    # Calculate the completion percentage\n",
    "    percent_complete = ((i + 1) / total_rows) * 100\n",
    "    # Print the completion percentage overwriting the current line\n",
    "    sys.stdout.write(f\"\\rCompleted: {percent_complete:.2f}%\")\n",
    "    sys.stdout.flush()"
   ]
  },
  {
   "cell_type": "markdown",
   "metadata": {},
   "source": [
    "### NER + EL con MedCAT"
   ]
  },
  {
   "cell_type": "code",
   "execution_count": null,
   "metadata": {},
   "outputs": [],
   "source": [
    "from medcat.cat import CAT\n",
    "from medcat.cdb import CDB\n",
    "from medcat.vocab import Vocab\n",
    "from medcat.meta_cat import MetaCAT"
   ]
  },
  {
   "cell_type": "code",
   "execution_count": null,
   "metadata": {},
   "outputs": [],
   "source": [
    "DATA_DIR = \"./data_umls/\"\n",
    "vocab_path = DATA_DIR + \"vocab.dat\"\n",
    "cdb_path = DATA_DIR + \"cdb.dat\""
   ]
  },
  {
   "cell_type": "code",
   "execution_count": null,
   "metadata": {},
   "outputs": [],
   "source": [
    "# Create and load the CDB (Concept Database)\n",
    "cdb = CDB.load(cdb_path)\n",
    "\n",
    "# Create and load the Vocabulary\n",
    "vocab = Vocab.load(vocab_path)\n",
    "\n",
    "# Load model for MetaAnnotations (optional)\n",
    "mc_status = MetaCAT.load(\"./data_umls/meta_Status/\")"
   ]
  },
  {
   "cell_type": "code",
   "execution_count": null,
   "metadata": {},
   "outputs": [],
   "source": [
    "# Create CAT - the main class from medcat used for concept annotation\n",
    "cat = CAT(cdb=cdb, config=cdb.config, vocab=vocab, meta_cats=[mc_status])"
   ]
  },
  {
   "cell_type": "code",
   "execution_count": null,
   "metadata": {},
   "outputs": [],
   "source": [
    "# Detect only the following entity:\n",
    "    # bpoc|T023|Body Part, Organ, or Organ Component\n",
    "    # lbtr|T034|Laboratory or Test Result\n",
    "    # patf|T046|Pathologic Function\n",
    "    # dsyn|T047|Disease or Syndrome\n",
    "    # mobd|T048|Mental or Behavioral Dysfunction\n",
    "    # lbpr|T059|Laboratory Procedure\n",
    "    # diap|T060|Diagnostic Procedure\n",
    "    # topp|T061|Therapeutic or Preventive Procedure\n",
    "    # phsu|T121|Pharmacologic Substance ---> SE LO AGGIUNGO MI METTE ANCHE ALTRA ROBA TIPO VITAMINE, ENZIMI, ETC.\n",
    "    # sosy|T184|Sign or Symptom\n",
    "\n",
    "type_ids_filter = ['T047','T048','T184']\n",
    "cui_filters = set()\n",
    "for type_ids in type_ids_filter:\n",
    "    cui_filters.update(cat.cdb.addl_info['type_id2cuis'][type_ids])\n",
    "cat.cdb.config.linking['filters']['cuis'] = cui_filters"
   ]
  },
  {
   "cell_type": "code",
   "execution_count": null,
   "metadata": {},
   "outputs": [],
   "source": [
    "color_dict = {\n",
    "    'Body Part, Organ, or Organ Component': '#FFCE80',  # Arancione pastello\n",
    "    'Laboratory or Test Result': '#FFF9C4',             # Giallo chiaro\n",
    "    'Disease or Syndrome': '#B5EAD7',                   # Verde acqua chiaro\n",
    "    'Mental or Behavioral Dysfunction': '#F0B2FF',      # Viola pastello\n",
    "    'Laboratory Procedure': '#D0D9FF',                  # Blu chiaro\n",
    "    'Diagnostic Procedure': '#FFD9EC',                  # Rosa chiaro\n",
    "    'Therapeutic or Preventive Procedure': '#C4FFFF',   # Azzurro chiaro\n",
    "    'Pharmacologic Substance': '#FFDAB9',               # Pesca pastello\n",
    "    'Sign or Symptom': '#FFC4F3',                       # Magenta chiaro\n",
    "    'Pathologic Function': '#B5EAD7'                    # Verde acqua chiaro\n",
    "}"
   ]
  },
  {
   "cell_type": "code",
   "execution_count": null,
   "metadata": {},
   "outputs": [],
   "source": [
    "# Initialize an empty list to store the extracted entities\n",
    "entities_lemma = []\n",
    "\n",
    "# Get the total number of rows in the DataFrame\n",
    "total_rows = len(note_filtered_multiple_visits)\n",
    "\n",
    "# Loop over each row in the DataFrame\n",
    "for i, row in enumerate(note_filtered_multiple_visits.index):\n",
    "    # Extract the named entities from the text in the current row\n",
    "    ner = cat.get_entities(note_filtered_multiple_visits['TEXT'][row])\n",
    "    # Add the row ID, subject ID, and HADM ID to the named entities dictionary\n",
    "    ner['row_id'] = row\n",
    "    ner['subject_id'] = note_filtered_multiple_visits['SUBJECT_ID'][row]\n",
    "    ner['hadm_id'] = note_filtered_multiple_visits['HADM_ID'][row]\n",
    "    # Append the named entities to the list\n",
    "    entities_lemma.append(ner)\n",
    "\n",
    "    # Calculate the completion percentage\n",
    "    percent_complete = ((i + 1) / total_rows) * 100\n",
    "    # Print the completion percentage overwriting the current line\n",
    "    sys.stdout.write(f\"\\rCompleted: {percent_complete:.2f}%\")\n",
    "    sys.stdout.flush()"
   ]
  },
  {
   "cell_type": "code",
   "execution_count": null,
   "metadata": {},
   "outputs": [],
   "source": [
    "entities_lemma"
   ]
  },
  {
   "cell_type": "markdown",
   "metadata": {},
   "source": [
    "### Salvataggio NOTEEVENTS_ICD"
   ]
  },
  {
   "cell_type": "code",
   "execution_count": null,
   "metadata": {},
   "outputs": [],
   "source": [
    "mapper = Mapper()\n",
    "\n",
    "# Example data structure for the dataframe\n",
    "df_structure = {\n",
    "    'ROW_ID': [],\n",
    "    'SUBJECT_ID': [],\n",
    "    'HADM_ID': [],\n",
    "    'SEQ_NUM': [],\n",
    "    #'ICD10_CODE': [],\n",
    "    'ICD9_CODE': []\n",
    "}\n",
    "\n",
    "# Process the data to extract needed information\n",
    "for record in entities_lemma:\n",
    "    row_id = record['row_id']\n",
    "    subject_id = record['subject_id']\n",
    "    hadm_id = record['hadm_id']\n",
    "    entities = record['entities']\n",
    "    seq_num = 1  # Reset sequence number for each record\n",
    "    icd9_codes = set()  # Initialize a set to store unique ICD-9 codes for each record\n",
    "\n",
    "    for entity_id, entity in sorted(entities.items()):\n",
    "        # Read ICD-10 information, if available\n",
    "        icd10_info = entity.get('icd10', [])\n",
    "        \n",
    "        # If ICD-10 information is not empty, append data to the structure\n",
    "        if icd10_info:\n",
    "            for icd10 in icd10_info:\n",
    "                # icd9 to icd10\n",
    "                # Remove the period from the ICD-10 code\n",
    "                icd10code_cleaned = icd10['chapter'].replace('.', '')\n",
    "                icd9 = mapper.map(icd10code_cleaned, source='icd10', target='icd9')\n",
    "                if icd9 and icd9 not in icd9_codes:\n",
    "                    df_structure['ROW_ID'].append(row_id)\n",
    "                    df_structure['SUBJECT_ID'].append(subject_id)\n",
    "                    df_structure['HADM_ID'].append(hadm_id)\n",
    "                    df_structure['SEQ_NUM'].append(seq_num)\n",
    "                    #df_structure['ICD10_CODE'].append(icd10['chapter'])  # Using ICD-10 'chapter' as a placeholder for ICD-9 code\n",
    "                    df_structure['ICD9_CODE'].append(icd9)  # Using ICD-10 'chapter' as a placeholder for ICD-9 code\n",
    "                    seq_num += 1  # Increment SEQ_NUM only if icd10_info is not empty and icd9 is unique\n",
    "                    icd9_codes.add(icd9)  # Add the ICD-9 code to the set of unique codes for the current record\n",
    "                else:\n",
    "                    break\n",
    "            \n",
    "# Create the dataframe\n",
    "noteevents_df = pd.DataFrame(df_structure)"
   ]
  },
  {
   "cell_type": "code",
   "execution_count": null,
   "metadata": {},
   "outputs": [],
   "source": [
    "noteevents_df.to_csv('data/NOTEEVEENTS_ICD.csv', sep=\",\", index=False, header=True)"
   ]
  },
  {
   "cell_type": "markdown",
   "metadata": {},
   "source": [
    "## Generazione del Dataset con PyHealth"
   ]
  },
  {
   "cell_type": "code",
   "execution_count": null,
   "metadata": {},
   "outputs": [],
   "source": [
    "from pyhealth.datasets import MIMIC3Dataset\n",
    "\n",
    "dataset = MIMIC3Dataset(\n",
    "    root='data/',\n",
    "    tables=[\"DIAGNOSES_ICD\",\"PROCEDURES_ICD\",\"NOTEEVENTS_ICD\",\"PRESCRIPTIONS\"],\n",
    "    code_mapping={\"NDC\": (\"ATC\", {\"target_kwargs\": {\"level\": 3}})}\n",
    ")"
   ]
  },
  {
   "cell_type": "code",
   "execution_count": null,
   "metadata": {},
   "outputs": [],
   "source": [
    "dataset.stat()"
   ]
  },
  {
   "cell_type": "code",
   "execution_count": null,
   "metadata": {},
   "outputs": [],
   "source": [
    "# get patient dictionary\n",
    "patient_dict = dataset.patients\n",
    "print(list(patient_dict.keys()))\n",
    "print(len(patient_dict))"
   ]
  },
  {
   "cell_type": "code",
   "execution_count": null,
   "metadata": {},
   "outputs": [],
   "source": [
    "# get the \"10\" patient\n",
    "patient = patient_dict[\"19547\"]\n",
    "patient.gender, patient.birth_datetime, patient.ethnicity, patient.death_datetime, patient.visits\n",
    "print(patient.visits)"
   ]
  },
  {
   "cell_type": "code",
   "execution_count": null,
   "metadata": {},
   "outputs": [],
   "source": [
    "# get the visit list of this patient\n",
    "visit_dict = patient.visits\n",
    "print (list(visit_dict.keys()))"
   ]
  },
  {
   "cell_type": "code",
   "execution_count": null,
   "metadata": {},
   "outputs": [],
   "source": [
    "# get the first visit\n",
    "visit = visit_dict['138551']\n",
    "visit.encounter_time, visit.available_tables, visit.num_events, visit.event_list_dict"
   ]
  },
  {
   "cell_type": "code",
   "execution_count": null,
   "metadata": {},
   "outputs": [],
   "source": [
    "visit.get_code_list(table='NOTEEVENTS_ICD')"
   ]
  },
  {
   "cell_type": "code",
   "execution_count": null,
   "metadata": {},
   "outputs": [],
   "source": [
    "visit.get_code_list('NOTEEVENTS_ICD')"
   ]
  },
  {
   "cell_type": "code",
   "execution_count": null,
   "metadata": {},
   "outputs": [],
   "source": [
    "from pyhealth.tasks import drug_recommendation_mimic3_fn\n",
    "\n",
    "mimic3sample = dataset.set_task(task_fn=drug_recommendation_mimic3_fn) # use default task"
   ]
  },
  {
   "cell_type": "code",
   "execution_count": null,
   "metadata": {},
   "outputs": [],
   "source": [
    "mimic3sample.samples"
   ]
  }
 ],
 "metadata": {
  "kernelspec": {
   "display_name": "Python 3",
   "language": "python",
   "name": "python3"
  },
  "language_info": {
   "codemirror_mode": {
    "name": "ipython",
    "version": 3
   },
   "file_extension": ".py",
   "mimetype": "text/x-python",
   "name": "python",
   "nbconvert_exporter": "python",
   "pygments_lexer": "ipython3",
   "version": "3.9.10"
  }
 },
 "nbformat": 4,
 "nbformat_minor": 2
}
