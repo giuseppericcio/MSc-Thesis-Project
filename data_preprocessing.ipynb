{
 "cells": [
  {
   "cell_type": "markdown",
   "metadata": {},
   "source": [
    "## Data Preprocessing (with the extraction of concepts from NOTEEVENTS)"
   ]
  },
  {
   "cell_type": "markdown",
   "metadata": {},
   "source": [
    "### Libraries"
   ]
  },
  {
   "cell_type": "code",
   "execution_count": 1,
   "metadata": {},
   "outputs": [
    {
     "name": "stderr",
     "output_type": "stream",
     "text": [
      "[nltk_data] Downloading package stopwords to\n",
      "[nltk_data]     C:\\Users\\giuse\\AppData\\Roaming\\nltk_data...\n",
      "[nltk_data]   Package stopwords is already up-to-date!\n",
      "[nltk_data] Downloading package punkt to\n",
      "[nltk_data]     C:\\Users\\giuse\\AppData\\Roaming\\nltk_data...\n",
      "[nltk_data]   Package punkt is already up-to-date!\n",
      "[nltk_data] Downloading package wordnet to\n",
      "[nltk_data]     C:\\Users\\giuse\\AppData\\Roaming\\nltk_data...\n",
      "[nltk_data]   Package wordnet is already up-to-date!\n"
     ]
    }
   ],
   "source": [
    "import sys\n",
    "import re\n",
    "import pandas as pd\n",
    "import matplotlib.pyplot as plt\n",
    "\n",
    "import medspacy\n",
    "\n",
    "import nltk\n",
    "from nltk.tokenize import word_tokenize\n",
    "from nltk.stem import WordNetLemmatizer\n",
    "from nltk.corpus import stopwords\n",
    "\n",
    "nltk.download('stopwords')\n",
    "nltk.download('punkt')\n",
    "nltk.download('wordnet')\n",
    "from nltk.corpus import stopwords\n",
    "\n",
    "from icdmappings import Mapper"
   ]
  },
  {
   "cell_type": "markdown",
   "metadata": {},
   "source": [
    "### Exploratory Data Analysis (EDA)"
   ]
  },
  {
   "cell_type": "code",
   "execution_count": 2,
   "metadata": {},
   "outputs": [],
   "source": [
    "# Read the NOTEEVENTS and PATIENTS tables\n",
    "note = pd.read_csv(\n",
    "    \"data/NOTEEVENTS.csv\",\n",
    "    dtype={\"SUBJECT_ID\": str, \"HADM_ID\": str, \"CATEGORY\": str,\"CHARTDATE\": str, \"TEXT\": str},\n",
    "    parse_dates=[\"CHARTDATE\"],\n",
    "    infer_datetime_format=True\n",
    ")\n",
    "\n",
    "patient = pd.read_csv(\n",
    "    \"data/PATIENTS.csv\",\n",
    "    dtype={\"SUBJECT_ID\": str, \"GENDER\": str, \"DOB\": str, \"DOD\": str, \"DOD_HOSP\": str, \"DOD_SSN\": str},\n",
    "    parse_dates=[\"DOB\", \"DOD\", \"DOD_HOSP\", \"DOD_SSN\"],\n",
    "    infer_datetime_format=True,\n",
    ")"
   ]
  },
  {
   "cell_type": "code",
   "execution_count": 3,
   "metadata": {},
   "outputs": [
    {
     "name": "stdout",
     "output_type": "stream",
     "text": [
      "(2083180, 11)\n"
     ]
    },
    {
     "data": {
      "text/html": [
       "<div>\n",
       "<style scoped>\n",
       "    .dataframe tbody tr th:only-of-type {\n",
       "        vertical-align: middle;\n",
       "    }\n",
       "\n",
       "    .dataframe tbody tr th {\n",
       "        vertical-align: top;\n",
       "    }\n",
       "\n",
       "    .dataframe thead th {\n",
       "        text-align: right;\n",
       "    }\n",
       "</style>\n",
       "<table border=\"1\" class=\"dataframe\">\n",
       "  <thead>\n",
       "    <tr style=\"text-align: right;\">\n",
       "      <th></th>\n",
       "      <th>ROW_ID</th>\n",
       "      <th>SUBJECT_ID</th>\n",
       "      <th>HADM_ID</th>\n",
       "      <th>CHARTDATE</th>\n",
       "      <th>CHARTTIME</th>\n",
       "      <th>STORETIME</th>\n",
       "      <th>CATEGORY</th>\n",
       "      <th>DESCRIPTION</th>\n",
       "      <th>CGID</th>\n",
       "      <th>ISERROR</th>\n",
       "      <th>TEXT</th>\n",
       "    </tr>\n",
       "  </thead>\n",
       "  <tbody>\n",
       "    <tr>\n",
       "      <th>0</th>\n",
       "      <td>174</td>\n",
       "      <td>22532</td>\n",
       "      <td>167853</td>\n",
       "      <td>2151-08-04</td>\n",
       "      <td>NaN</td>\n",
       "      <td>NaN</td>\n",
       "      <td>Discharge summary</td>\n",
       "      <td>Report</td>\n",
       "      <td>NaN</td>\n",
       "      <td>NaN</td>\n",
       "      <td>Admission Date:  [**2151-7-16**]       Dischar...</td>\n",
       "    </tr>\n",
       "    <tr>\n",
       "      <th>1</th>\n",
       "      <td>175</td>\n",
       "      <td>13702</td>\n",
       "      <td>107527</td>\n",
       "      <td>2118-06-14</td>\n",
       "      <td>NaN</td>\n",
       "      <td>NaN</td>\n",
       "      <td>Discharge summary</td>\n",
       "      <td>Report</td>\n",
       "      <td>NaN</td>\n",
       "      <td>NaN</td>\n",
       "      <td>Admission Date:  [**2118-6-2**]       Discharg...</td>\n",
       "    </tr>\n",
       "    <tr>\n",
       "      <th>2</th>\n",
       "      <td>176</td>\n",
       "      <td>13702</td>\n",
       "      <td>167118</td>\n",
       "      <td>2119-05-25</td>\n",
       "      <td>NaN</td>\n",
       "      <td>NaN</td>\n",
       "      <td>Discharge summary</td>\n",
       "      <td>Report</td>\n",
       "      <td>NaN</td>\n",
       "      <td>NaN</td>\n",
       "      <td>Admission Date:  [**2119-5-4**]              D...</td>\n",
       "    </tr>\n",
       "    <tr>\n",
       "      <th>3</th>\n",
       "      <td>177</td>\n",
       "      <td>13702</td>\n",
       "      <td>196489</td>\n",
       "      <td>2124-08-18</td>\n",
       "      <td>NaN</td>\n",
       "      <td>NaN</td>\n",
       "      <td>Discharge summary</td>\n",
       "      <td>Report</td>\n",
       "      <td>NaN</td>\n",
       "      <td>NaN</td>\n",
       "      <td>Admission Date:  [**2124-7-21**]              ...</td>\n",
       "    </tr>\n",
       "    <tr>\n",
       "      <th>4</th>\n",
       "      <td>178</td>\n",
       "      <td>26880</td>\n",
       "      <td>135453</td>\n",
       "      <td>2162-03-25</td>\n",
       "      <td>NaN</td>\n",
       "      <td>NaN</td>\n",
       "      <td>Discharge summary</td>\n",
       "      <td>Report</td>\n",
       "      <td>NaN</td>\n",
       "      <td>NaN</td>\n",
       "      <td>Admission Date:  [**2162-3-3**]              D...</td>\n",
       "    </tr>\n",
       "  </tbody>\n",
       "</table>\n",
       "</div>"
      ],
      "text/plain": [
       "   ROW_ID SUBJECT_ID HADM_ID  CHARTDATE CHARTTIME STORETIME  \\\n",
       "0     174      22532  167853 2151-08-04       NaN       NaN   \n",
       "1     175      13702  107527 2118-06-14       NaN       NaN   \n",
       "2     176      13702  167118 2119-05-25       NaN       NaN   \n",
       "3     177      13702  196489 2124-08-18       NaN       NaN   \n",
       "4     178      26880  135453 2162-03-25       NaN       NaN   \n",
       "\n",
       "            CATEGORY DESCRIPTION  CGID  ISERROR  \\\n",
       "0  Discharge summary      Report   NaN      NaN   \n",
       "1  Discharge summary      Report   NaN      NaN   \n",
       "2  Discharge summary      Report   NaN      NaN   \n",
       "3  Discharge summary      Report   NaN      NaN   \n",
       "4  Discharge summary      Report   NaN      NaN   \n",
       "\n",
       "                                                TEXT  \n",
       "0  Admission Date:  [**2151-7-16**]       Dischar...  \n",
       "1  Admission Date:  [**2118-6-2**]       Discharg...  \n",
       "2  Admission Date:  [**2119-5-4**]              D...  \n",
       "3  Admission Date:  [**2124-7-21**]              ...  \n",
       "4  Admission Date:  [**2162-3-3**]              D...  "
      ]
     },
     "execution_count": 3,
     "metadata": {},
     "output_type": "execute_result"
    }
   ],
   "source": [
    "print(note.shape)\n",
    "note.head(5)"
   ]
  },
  {
   "cell_type": "code",
   "execution_count": 4,
   "metadata": {},
   "outputs": [
    {
     "name": "stdout",
     "output_type": "stream",
     "text": [
      "(46520, 8)\n"
     ]
    },
    {
     "data": {
      "text/html": [
       "<div>\n",
       "<style scoped>\n",
       "    .dataframe tbody tr th:only-of-type {\n",
       "        vertical-align: middle;\n",
       "    }\n",
       "\n",
       "    .dataframe tbody tr th {\n",
       "        vertical-align: top;\n",
       "    }\n",
       "\n",
       "    .dataframe thead th {\n",
       "        text-align: right;\n",
       "    }\n",
       "</style>\n",
       "<table border=\"1\" class=\"dataframe\">\n",
       "  <thead>\n",
       "    <tr style=\"text-align: right;\">\n",
       "      <th></th>\n",
       "      <th>ROW_ID</th>\n",
       "      <th>SUBJECT_ID</th>\n",
       "      <th>GENDER</th>\n",
       "      <th>DOB</th>\n",
       "      <th>DOD</th>\n",
       "      <th>DOD_HOSP</th>\n",
       "      <th>DOD_SSN</th>\n",
       "      <th>EXPIRE_FLAG</th>\n",
       "    </tr>\n",
       "  </thead>\n",
       "  <tbody>\n",
       "    <tr>\n",
       "      <th>0</th>\n",
       "      <td>234</td>\n",
       "      <td>249</td>\n",
       "      <td>F</td>\n",
       "      <td>2075-03-13</td>\n",
       "      <td>NaT</td>\n",
       "      <td>NaT</td>\n",
       "      <td>NaT</td>\n",
       "      <td>0</td>\n",
       "    </tr>\n",
       "    <tr>\n",
       "      <th>1</th>\n",
       "      <td>235</td>\n",
       "      <td>250</td>\n",
       "      <td>F</td>\n",
       "      <td>2164-12-27</td>\n",
       "      <td>2188-11-22</td>\n",
       "      <td>2188-11-22</td>\n",
       "      <td>NaT</td>\n",
       "      <td>1</td>\n",
       "    </tr>\n",
       "    <tr>\n",
       "      <th>2</th>\n",
       "      <td>236</td>\n",
       "      <td>251</td>\n",
       "      <td>M</td>\n",
       "      <td>2090-03-15</td>\n",
       "      <td>NaT</td>\n",
       "      <td>NaT</td>\n",
       "      <td>NaT</td>\n",
       "      <td>0</td>\n",
       "    </tr>\n",
       "    <tr>\n",
       "      <th>3</th>\n",
       "      <td>237</td>\n",
       "      <td>252</td>\n",
       "      <td>M</td>\n",
       "      <td>2078-03-06</td>\n",
       "      <td>NaT</td>\n",
       "      <td>NaT</td>\n",
       "      <td>NaT</td>\n",
       "      <td>0</td>\n",
       "    </tr>\n",
       "    <tr>\n",
       "      <th>4</th>\n",
       "      <td>238</td>\n",
       "      <td>253</td>\n",
       "      <td>F</td>\n",
       "      <td>2089-11-26</td>\n",
       "      <td>NaT</td>\n",
       "      <td>NaT</td>\n",
       "      <td>NaT</td>\n",
       "      <td>0</td>\n",
       "    </tr>\n",
       "  </tbody>\n",
       "</table>\n",
       "</div>"
      ],
      "text/plain": [
       "   ROW_ID SUBJECT_ID GENDER        DOB        DOD   DOD_HOSP DOD_SSN  \\\n",
       "0     234        249      F 2075-03-13        NaT        NaT     NaT   \n",
       "1     235        250      F 2164-12-27 2188-11-22 2188-11-22     NaT   \n",
       "2     236        251      M 2090-03-15        NaT        NaT     NaT   \n",
       "3     237        252      M 2078-03-06        NaT        NaT     NaT   \n",
       "4     238        253      F 2089-11-26        NaT        NaT     NaT   \n",
       "\n",
       "   EXPIRE_FLAG  \n",
       "0            0  \n",
       "1            1  \n",
       "2            0  \n",
       "3            0  \n",
       "4            0  "
      ]
     },
     "execution_count": 4,
     "metadata": {},
     "output_type": "execute_result"
    }
   ],
   "source": [
    "print(patient.shape)\n",
    "patient.head(5)"
   ]
  },
  {
   "cell_type": "code",
   "execution_count": 5,
   "metadata": {},
   "outputs": [
    {
     "name": "stdout",
     "output_type": "stream",
     "text": [
      "ROW_ID         55177\n",
      "SUBJECT_ID     41103\n",
      "HADM_ID        52691\n",
      "CHARTDATE      27971\n",
      "CHARTTIME          0\n",
      "STORETIME          0\n",
      "CATEGORY           1\n",
      "DESCRIPTION        1\n",
      "CGID               0\n",
      "ISERROR            0\n",
      "TEXT           55102\n",
      "TOKEN_COUNT    18558\n",
      "dtype: int64\n",
      "Avg. Token Count:  2552.366556717473\n"
     ]
    }
   ],
   "source": [
    "# Select only Discharge Summary notes written as Reports\n",
    "note_filtered = note[(note['CATEGORY'] == 'Discharge summary') & (note['DESCRIPTION'] == 'Report')]\n",
    "# Convert the 'SUBJECT_ID' column of the 'note_filtered' dataframe to integer type\n",
    "note_filtered['SUBJECT_ID'] = note_filtered['SUBJECT_ID'].astype(int)\n",
    "# Remove any notes with errors\n",
    "note_filtered = note_filtered[note_filtered['ISERROR'] != 1]\n",
    "# Remove notes with missing values\n",
    "note_filtered = note_filtered.dropna(subset=[\"SUBJECT_ID\", \"HADM_ID\", \"TEXT\"])\n",
    "# Calculate the number of tokens for each note and select only notes with at least 1000 tokens\n",
    "note_filtered['TOKEN_COUNT'] = note_filtered['TEXT'].str.len() / 4\n",
    "\n",
    "print(note_filtered.nunique())\n",
    "print(\"Avg. Token Count: \", note_filtered['TOKEN_COUNT'].mean())"
   ]
  },
  {
   "cell_type": "code",
   "execution_count": 6,
   "metadata": {},
   "outputs": [
    {
     "data": {
      "image/png": "[encoded data removed]",
      "text/plain": [
       "<Figure size 640x480 with 1 Axes>"
      ]
     },
     "metadata": {},
     "output_type": "display_data"
    }
   ],
   "source": [
    "# Plot the distribution of note lengths\n",
    "note_filtered['TOKEN_COUNT'].hist(bins=50)\n",
    "plt.title('Distribution of Note Lengths')\n",
    "plt.xlabel('Number of Tokens')\n",
    "plt.ylabel('Number of Notes')\n",
    "plt.show()"
   ]
  },
  {
   "cell_type": "code",
   "execution_count": 17,
   "metadata": {},
   "outputs": [
    {
     "name": "stdout",
     "output_type": "stream",
     "text": [
      "Stats: ROW_ID         45955\n",
      "SUBJECT_ID     35674\n",
      "HADM_ID        44958\n",
      "CHARTDATE      25780\n",
      "CHARTTIME          0\n",
      "STORETIME          0\n",
      "CATEGORY           1\n",
      "DESCRIPTION        1\n",
      "CGID               0\n",
      "ISERROR            0\n",
      "TEXT           45955\n",
      "TOKEN_COUNT    13087\n",
      "dtype: int64\n",
      "\n"
     ]
    }
   ],
   "source": [
    "# Filter the 'note_filtered' dataframe to only include notes with at least 1500 and at most 2500 tokens\n",
    "note_filtered_mod = note_filtered[(note_filtered['TOKEN_COUNT'] >= 1175) & (note_filtered['TOKEN_COUNT'] <= 4850)]\n",
    "# Drop duplicates based on the 'TEXT' column and update the dataframe\n",
    "note_filtered_mod.drop_duplicates(subset='TEXT', inplace=True)\n",
    "\n",
    "# Print the number of unique values for each column\n",
    "print(\"Stats: \" + str(note_filtered_mod.nunique()) + \"\\n\")"
   ]
  },
  {
   "cell_type": "code",
   "execution_count": 18,
   "metadata": {},
   "outputs": [
    {
     "data": {
      "image/png": "[encoded data removed]",
      "text/plain": [
       "<Figure size 640x480 with 1 Axes>"
      ]
     },
     "metadata": {},
     "output_type": "display_data"
    }
   ],
   "source": [
    "# Count the number of visits per patient\n",
    "visit_counts = note_filtered_mod.groupby('SUBJECT_ID').size()\n",
    "\n",
    "# Count the number of patients per number of visits\n",
    "patients_per_visit_count = visit_counts.value_counts().sort_index()\n",
    "\n",
    "# Create a bar chart\n",
    "# plt.figure(figsize=(10, 6))\n",
    "patients_per_visit_count[:10].plot(kind='bar')\n",
    "plt.title('Distribution Number of Visits')\n",
    "plt.xlabel('Number of visits')\n",
    "plt.ylabel('Number of patients')\n",
    "plt.grid(axis='y')\n",
    "\n",
    "# Show the chart\n",
    "plt.show()"
   ]
  },
  {
   "cell_type": "code",
   "execution_count": 19,
   "metadata": {},
   "outputs": [],
   "source": [
    "# Group the notes by patient\n",
    "group_note = note_filtered_mod.groupby(\"SUBJECT_ID\")\n",
    "\n",
    "# Calculate the number of visits (discharge summaries) for each patient\n",
    "visits_per_patient = group_note['HADM_ID'].size()\n",
    "\n",
    "# Filter patients who have at least 2 visits\n",
    "patients_with_at_least_two_visits = visits_per_patient[visits_per_patient >= 2].index\n",
    "\n",
    "# Create a new DataFrame containing only patients with at least 2 visits\n",
    "note_filtered_multiple_visits = note_filtered_mod[note_filtered_mod[\"SUBJECT_ID\"].isin(patients_with_at_least_two_visits)]\n",
    "\n",
    "# Reset the index of the new DataFrame\n",
    "note_filtered_multiple_visits = note_filtered_multiple_visits.reset_index(drop=True)\n",
    "note_filtered_multiple_visits.set_index(\"ROW_ID\", inplace=True)"
   ]
  },
  {
   "cell_type": "code",
   "execution_count": 20,
   "metadata": {},
   "outputs": [
    {
     "name": "stdout",
     "output_type": "stream",
     "text": [
      "SUBJECT_ID      6353\n",
      "HADM_ID        15637\n",
      "CHARTDATE      13093\n",
      "CHARTTIME          0\n",
      "STORETIME          0\n",
      "CATEGORY           1\n",
      "DESCRIPTION        1\n",
      "CGID               0\n",
      "ISERROR            0\n",
      "TEXT           16634\n",
      "TOKEN_COUNT     9558\n",
      "dtype: int64\n",
      "Avg. Token Count:  2720.1040940242874\n"
     ]
    }
   ],
   "source": [
    "print(note_filtered_multiple_visits.nunique())\n",
    "print(\"Avg. Token Count: \", note_filtered_multiple_visits['TOKEN_COUNT'].mean())"
   ]
  },
  {
   "cell_type": "code",
   "execution_count": 21,
   "metadata": {},
   "outputs": [
    {
     "data": {
      "image/png": "[encoded data removed]",
      "text/plain": [
       "<Figure size 640x480 with 1 Axes>"
      ]
     },
     "metadata": {},
     "output_type": "display_data"
    }
   ],
   "source": [
    "# Count the number of visits per patient\n",
    "visit_counts = note_filtered_multiple_visits.groupby('SUBJECT_ID').size()\n",
    "\n",
    "# Count the number of patients per number of visits\n",
    "patients_per_visit_count = visit_counts.value_counts().sort_index()\n",
    "\n",
    "# Create a bar chart\n",
    "# plt.figure(figsize=(10, 6))\n",
    "patients_per_visit_count[:10].plot(kind='bar')\n",
    "plt.title('Number of patients per number of visits')\n",
    "plt.xlabel('Number of visits')\n",
    "plt.ylabel('Number of patients')\n",
    "plt.grid(axis='y')\n",
    "\n",
    "# Show the chart\n",
    "plt.show()"
   ]
  },
  {
   "cell_type": "markdown",
   "metadata": {},
   "source": [
    "### Prescriptions Analysis"
   ]
  },
  {
   "cell_type": "code",
   "execution_count": null,
   "metadata": {},
   "outputs": [],
   "source": [
    "# Read the PRESCRIPTIONS table\n",
    "prescriptions = pd.read_csv(\n",
    "    \"data/PRESCRIPTIONS.csv\"\n",
    ")"
   ]
  },
  {
   "cell_type": "code",
   "execution_count": null,
   "metadata": {},
   "outputs": [
    {
     "name": "stdout",
     "output_type": "stream",
     "text": [
      "(4156450, 19)\n"
     ]
    },
    {
     "data": {
      "text/html": [
       "<div>\n",
       "<style scoped>\n",
       "    .dataframe tbody tr th:only-of-type {\n",
       "        vertical-align: middle;\n",
       "    }\n",
       "\n",
       "    .dataframe tbody tr th {\n",
       "        vertical-align: top;\n",
       "    }\n",
       "\n",
       "    .dataframe thead th {\n",
       "        text-align: right;\n",
       "    }\n",
       "</style>\n",
       "<table border=\"1\" class=\"dataframe\">\n",
       "  <thead>\n",
       "    <tr style=\"text-align: right;\">\n",
       "      <th></th>\n",
       "      <th>ROW_ID</th>\n",
       "      <th>SUBJECT_ID</th>\n",
       "      <th>HADM_ID</th>\n",
       "      <th>ICUSTAY_ID</th>\n",
       "      <th>STARTDATE</th>\n",
       "      <th>ENDDATE</th>\n",
       "      <th>DRUG_TYPE</th>\n",
       "      <th>DRUG</th>\n",
       "      <th>DRUG_NAME_POE</th>\n",
       "      <th>DRUG_NAME_GENERIC</th>\n",
       "      <th>FORMULARY_DRUG_CD</th>\n",
       "      <th>GSN</th>\n",
       "      <th>NDC</th>\n",
       "      <th>PROD_STRENGTH</th>\n",
       "      <th>DOSE_VAL_RX</th>\n",
       "      <th>DOSE_UNIT_RX</th>\n",
       "      <th>FORM_VAL_DISP</th>\n",
       "      <th>FORM_UNIT_DISP</th>\n",
       "      <th>ROUTE</th>\n",
       "    </tr>\n",
       "  </thead>\n",
       "  <tbody>\n",
       "    <tr>\n",
       "      <th>0</th>\n",
       "      <td>2214776</td>\n",
       "      <td>6</td>\n",
       "      <td>107064</td>\n",
       "      <td>NaN</td>\n",
       "      <td>2175-06-11 00:00:00</td>\n",
       "      <td>2175-06-12 00:00:00</td>\n",
       "      <td>MAIN</td>\n",
       "      <td>Tacrolimus</td>\n",
       "      <td>Tacrolimus</td>\n",
       "      <td>Tacrolimus</td>\n",
       "      <td>TACR1</td>\n",
       "      <td>021796</td>\n",
       "      <td>469061711.0</td>\n",
       "      <td>1mg Capsule</td>\n",
       "      <td>2</td>\n",
       "      <td>mg</td>\n",
       "      <td>2</td>\n",
       "      <td>CAP</td>\n",
       "      <td>PO</td>\n",
       "    </tr>\n",
       "    <tr>\n",
       "      <th>1</th>\n",
       "      <td>2214775</td>\n",
       "      <td>6</td>\n",
       "      <td>107064</td>\n",
       "      <td>NaN</td>\n",
       "      <td>2175-06-11 00:00:00</td>\n",
       "      <td>2175-06-12 00:00:00</td>\n",
       "      <td>MAIN</td>\n",
       "      <td>Warfarin</td>\n",
       "      <td>Warfarin</td>\n",
       "      <td>Warfarin</td>\n",
       "      <td>WARF5</td>\n",
       "      <td>006562</td>\n",
       "      <td>56017275.0</td>\n",
       "      <td>5mg Tablet</td>\n",
       "      <td>5</td>\n",
       "      <td>mg</td>\n",
       "      <td>1</td>\n",
       "      <td>TAB</td>\n",
       "      <td>PO</td>\n",
       "    </tr>\n",
       "    <tr>\n",
       "      <th>2</th>\n",
       "      <td>2215524</td>\n",
       "      <td>6</td>\n",
       "      <td>107064</td>\n",
       "      <td>NaN</td>\n",
       "      <td>2175-06-11 00:00:00</td>\n",
       "      <td>2175-06-12 00:00:00</td>\n",
       "      <td>MAIN</td>\n",
       "      <td>Heparin Sodium</td>\n",
       "      <td>NaN</td>\n",
       "      <td>NaN</td>\n",
       "      <td>HEPAPREMIX</td>\n",
       "      <td>006522</td>\n",
       "      <td>338055002.0</td>\n",
       "      <td>25,000 unit Premix Bag</td>\n",
       "      <td>25,000</td>\n",
       "      <td>UNIT</td>\n",
       "      <td>1</td>\n",
       "      <td>BAG</td>\n",
       "      <td>IV</td>\n",
       "    </tr>\n",
       "    <tr>\n",
       "      <th>3</th>\n",
       "      <td>2216265</td>\n",
       "      <td>6</td>\n",
       "      <td>107064</td>\n",
       "      <td>NaN</td>\n",
       "      <td>2175-06-11 00:00:00</td>\n",
       "      <td>2175-06-12 00:00:00</td>\n",
       "      <td>BASE</td>\n",
       "      <td>D5W</td>\n",
       "      <td>NaN</td>\n",
       "      <td>NaN</td>\n",
       "      <td>HEPBASE</td>\n",
       "      <td>NaN</td>\n",
       "      <td>0.0</td>\n",
       "      <td>HEPARIN BASE</td>\n",
       "      <td>250</td>\n",
       "      <td>ml</td>\n",
       "      <td>250</td>\n",
       "      <td>ml</td>\n",
       "      <td>IV</td>\n",
       "    </tr>\n",
       "    <tr>\n",
       "      <th>4</th>\n",
       "      <td>2214773</td>\n",
       "      <td>6</td>\n",
       "      <td>107064</td>\n",
       "      <td>NaN</td>\n",
       "      <td>2175-06-11 00:00:00</td>\n",
       "      <td>2175-06-12 00:00:00</td>\n",
       "      <td>MAIN</td>\n",
       "      <td>Furosemide</td>\n",
       "      <td>Furosemide</td>\n",
       "      <td>Furosemide</td>\n",
       "      <td>FURO20</td>\n",
       "      <td>008208</td>\n",
       "      <td>54829725.0</td>\n",
       "      <td>20mg Tablet</td>\n",
       "      <td>20</td>\n",
       "      <td>mg</td>\n",
       "      <td>1</td>\n",
       "      <td>TAB</td>\n",
       "      <td>PO</td>\n",
       "    </tr>\n",
       "  </tbody>\n",
       "</table>\n",
       "</div>"
      ],
      "text/plain": [
       "    ROW_ID  SUBJECT_ID  HADM_ID  ICUSTAY_ID            STARTDATE  \\\n",
       "0  2214776           6   107064         NaN  2175-06-11 00:00:00   \n",
       "1  2214775           6   107064         NaN  2175-06-11 00:00:00   \n",
       "2  2215524           6   107064         NaN  2175-06-11 00:00:00   \n",
       "3  2216265           6   107064         NaN  2175-06-11 00:00:00   \n",
       "4  2214773           6   107064         NaN  2175-06-11 00:00:00   \n",
       "\n",
       "               ENDDATE DRUG_TYPE            DRUG DRUG_NAME_POE  \\\n",
       "0  2175-06-12 00:00:00      MAIN      Tacrolimus    Tacrolimus   \n",
       "1  2175-06-12 00:00:00      MAIN        Warfarin      Warfarin   \n",
       "2  2175-06-12 00:00:00      MAIN  Heparin Sodium           NaN   \n",
       "3  2175-06-12 00:00:00      BASE             D5W           NaN   \n",
       "4  2175-06-12 00:00:00      MAIN      Furosemide    Furosemide   \n",
       "\n",
       "  DRUG_NAME_GENERIC FORMULARY_DRUG_CD     GSN          NDC  \\\n",
       "0        Tacrolimus             TACR1  021796  469061711.0   \n",
       "1          Warfarin             WARF5  006562   56017275.0   \n",
       "2               NaN        HEPAPREMIX  006522  338055002.0   \n",
       "3               NaN           HEPBASE     NaN          0.0   \n",
       "4        Furosemide            FURO20  008208   54829725.0   \n",
       "\n",
       "            PROD_STRENGTH DOSE_VAL_RX DOSE_UNIT_RX FORM_VAL_DISP  \\\n",
       "0             1mg Capsule           2           mg             2   \n",
       "1              5mg Tablet           5           mg             1   \n",
       "2  25,000 unit Premix Bag      25,000         UNIT             1   \n",
       "3            HEPARIN BASE         250           ml           250   \n",
       "4             20mg Tablet          20           mg             1   \n",
       "\n",
       "  FORM_UNIT_DISP ROUTE  \n",
       "0            CAP    PO  \n",
       "1            TAB    PO  \n",
       "2            BAG    IV  \n",
       "3             ml    IV  \n",
       "4            TAB    PO  "
      ]
     },
     "metadata": {},
     "output_type": "display_data"
    }
   ],
   "source": [
    "print(prescriptions.shape)\n",
    "prescriptions.head(5)"
   ]
  },
  {
   "cell_type": "code",
   "execution_count": null,
   "metadata": {},
   "outputs": [
    {
     "data": {
      "text/plain": [
       "(37356,)"
      ]
     },
     "metadata": {},
     "output_type": "display_data"
    }
   ],
   "source": [
    "# Convert the 'SUBJECT_ID' column of the 'prescriptions' dataframe to integer type\n",
    "prescriptions['SUBJECT_ID'] = prescriptions['SUBJECT_ID'].astype(int)\n",
    "\n",
    "# Filter the 'prescriptions' dataframe to only include rows where the 'SUBJECT_ID' is in the unique 'SUBJECT_ID' values of the 'note_filtered' dataframe\n",
    "prescriptions_filtered = prescriptions[prescriptions['SUBJECT_ID'].isin(note_filtered['SUBJECT_ID'].unique().tolist())]\n",
    "\n",
    "# Print the number of unique 'SUBJECT_ID' values in the 'SUBJECT_ID' column of the 'prescriptions_filtered' dataframe\n",
    "prescriptions_filtered['SUBJECT_ID'].unique().shape"
   ]
  },
  {
   "cell_type": "code",
   "execution_count": null,
   "metadata": {},
   "outputs": [],
   "source": [
    "# Remove duplicates w.r.t. 'SUBJECT_ID', 'HADM_ID', and 'DRUG'\n",
    "prescriptions_filtered = prescriptions_filtered.drop_duplicates(subset=['SUBJECT_ID', 'HADM_ID', 'DRUG'])"
   ]
  },
  {
   "cell_type": "code",
   "execution_count": null,
   "metadata": {},
   "outputs": [
    {
     "data": {
      "text/plain": [
       "HADM_ID\n",
       "100001    37\n",
       "100003    23\n",
       "100006    37\n",
       "100007    39\n",
       "100009    49\n",
       "          ..\n",
       "199992    29\n",
       "199993    59\n",
       "199995    49\n",
       "199998    54\n",
       "199999    26\n",
       "Name: DRUG, Length: 48177, dtype: int64"
      ]
     },
     "metadata": {},
     "output_type": "display_data"
    }
   ],
   "source": [
    "# Calculate the number of DRUGS per visit\n",
    "max_drugs_per_visit = prescriptions_filtered.groupby('HADM_ID')['DRUG'].count()\n",
    "max_drugs_per_visit"
   ]
  },
  {
   "cell_type": "code",
   "execution_count": null,
   "metadata": {},
   "outputs": [
    {
     "name": "stdout",
     "output_type": "stream",
     "text": [
      "The max number of DRUGS per visit is: 173\n"
     ]
    }
   ],
   "source": [
    "# Calculate the max number of DRUGS per visit\n",
    "max_drugs_per_visit = prescriptions_filtered.groupby('HADM_ID')['DRUG'].count().max()\n",
    "\n",
    "print(\"The max number of DRUGS per visit is:\", max_drugs_per_visit)"
   ]
  },
  {
   "cell_type": "markdown",
   "metadata": {},
   "source": [
    "### Extraction of sections (OPTIONAL: does not improve the accuracy)"
   ]
  },
  {
   "cell_type": "code",
   "execution_count": 29,
   "metadata": {},
   "outputs": [],
   "source": [
    "nlp = medspacy.load()"
   ]
  },
  {
   "cell_type": "code",
   "execution_count": 381,
   "metadata": {},
   "outputs": [
    {
     "data": {
      "text/plain": [
       "['medspacy_pyrush', 'medspacy_target_matcher', 'medspacy_context']"
      ]
     },
     "execution_count": 381,
     "metadata": {},
     "output_type": "execute_result"
    }
   ],
   "source": [
    "nlp.pipe_names"
   ]
  },
  {
   "cell_type": "code",
   "execution_count": 41,
   "metadata": {},
   "outputs": [],
   "source": [
    "sectionizer = nlp.add_pipe(\"medspacy_sectionizer\")"
   ]
  },
  {
   "cell_type": "code",
   "execution_count": 42,
   "metadata": {},
   "outputs": [
    {
     "data": {
      "text/plain": [
       "['medspacy_pyrush',\n",
       " 'medspacy_target_matcher',\n",
       " 'medspacy_context',\n",
       " 'medspacy_sectionizer']"
      ]
     },
     "execution_count": 42,
     "metadata": {},
     "output_type": "execute_result"
    }
   ],
   "source": [
    "nlp.pipe_names"
   ]
  },
  {
   "cell_type": "code",
   "execution_count": 43,
   "metadata": {},
   "outputs": [],
   "source": [
    "def section_extraction(text):\n",
    "    doc = nlp(text)\n",
    "    i = 0\n",
    "    note_prep = \"\"\n",
    "    for title in doc._.section_titles:\n",
    "        if str(title).lower() == 'chief complaint:':\n",
    "            note_prep += str(doc._.section_spans[i])\n",
    "        if str(title).lower() == 'history of present illness:' or str(title).lower() == 'history:':\n",
    "            note_prep += str(doc._.section_spans[i])\n",
    "        if str(title).lower() == 'past medical history:':\n",
    "            note_prep += str(doc._.section_spans[i])\n",
    "        if str(title).lower() == 'discharge medications:':\n",
    "            note_prep += str(doc._.section_spans[i])\n",
    "        if str(title).lower() == 'brief hospital course:' or str(title).lower() == 'hospital course:':\n",
    "            note_prep += str(doc._.section_spans[i])\n",
    "        if str(title).lower() == 'discharge diagnoses:':\n",
    "            note_prep += str(doc._.section_spans[i])\n",
    "        i += 1\n",
    "\n",
    "    return note_prep"
   ]
  },
  {
   "cell_type": "code",
   "execution_count": 44,
   "metadata": {},
   "outputs": [
    {
     "name": "stdout",
     "output_type": "stream",
     "text": [
      "Completed: 100.00%"
     ]
    }
   ],
   "source": [
    "# Creation of a new column for the cleaned text\n",
    "note_filtered_multiple_visits['CLEANED TEXT'] = ''\n",
    "\n",
    "# Iteration over the rows of the DataFrame\n",
    "total_rows = len(note_filtered_multiple_visits)\n",
    "for i, (index, row) in enumerate(note_filtered_multiple_visits.iterrows()):\n",
    "    # Get the text from the desired column (e.g. 'Text')\n",
    "    text = row['TEXT']\n",
    "    \n",
    "    # Extract the sections from the text\n",
    "    cleaned_text = section_extraction(text)\n",
    "    \n",
    "    # Save the cleaned text in the new 'Cleaned Text' column\n",
    "    note_filtered_multiple_visits.at[index, 'CLEANED TEXT'] = cleaned_text\n",
    "    \n",
    "    # Calculate the completion percentage\n",
    "    percent_complete = ((i + 1) / total_rows) * 100\n",
    "    # Print the completion percentage overwriting the current line\n",
    "    sys.stdout.write(f\"\\rCompleted: {percent_complete:.2f}%\")\n",
    "    sys.stdout.flush()"
   ]
  },
  {
   "cell_type": "markdown",
   "metadata": {},
   "source": [
    "### Data Preprocessing: Remove Duplicates, Tokenization and Lemmatization"
   ]
  },
  {
   "cell_type": "code",
   "execution_count": 14,
   "metadata": {},
   "outputs": [],
   "source": [
    "def tokenize_and_lemmatize(text):\n",
    "    # Tokenizzazione delle parole\n",
    "    tokens = word_tokenize(text)\n",
    "    \n",
    "    # Inizializzazione del lemmatizer\n",
    "    lemmatizer = WordNetLemmatizer()\n",
    "    \n",
    "    # Rimozione delle stopwords e simboli\n",
    "    stop_words = set(stopwords.words('english'))\n",
    "    symbols = ['[', '*', '+']\n",
    "    filtered_tokens = [token for token in tokens if token.lower() not in stop_words and not re.match(r'^\\W+$', token) and not any(symbol in token for symbol in symbols)]\n",
    "    \n",
    "    # Lemmatizzazione delle parole\n",
    "    lemmatized_tokens = [lemmatizer.lemmatize(token) for token in filtered_tokens]\n",
    "    \n",
    "    # Riaccorpamento del testo lemmatizzato\n",
    "    lemmatized_text = ' '.join(lemmatized_tokens)\n",
    "    \n",
    "    return lemmatized_text"
   ]
  },
  {
   "cell_type": "code",
   "execution_count": 22,
   "metadata": {},
   "outputs": [
    {
     "name": "stdout",
     "output_type": "stream",
     "text": [
      "Completed: 100.00%"
     ]
    }
   ],
   "source": [
    "# Creation of a new column for the lemmatized text\n",
    "note_filtered_multiple_visits['LEMMATIZED TEXT'] = ''\n",
    "\n",
    "# Iteration over the rows of the DataFrame\n",
    "total_rows = len(note_filtered_multiple_visits)\n",
    "for i, (index, row) in enumerate(note_filtered_multiple_visits.iterrows()):\n",
    "    # Get the text from the desired column (e.g. 'Text')\n",
    "    text = row['TEXT']\n",
    "    \n",
    "    # Tokenization and lemmatization of the text\n",
    "    lemmatized_text = tokenize_and_lemmatize(text)\n",
    "    \n",
    "    # Save the lemmatized text in the new 'Lemmatized Text' column\n",
    "    note_filtered_multiple_visits.at[index, 'LEMMATIZED TEXT'] = lemmatized_text\n",
    "    \n",
    "    # Calculate the completion percentage\n",
    "    percent_complete = ((i + 1) / total_rows) * 100\n",
    "    # Print the completion percentage overwriting the current line\n",
    "    sys.stdout.write(f\"\\rCompleted: {percent_complete:.2f}%\")\n",
    "    sys.stdout.flush()"
   ]
  },
  {
   "cell_type": "code",
   "execution_count": 23,
   "metadata": {},
   "outputs": [
    {
     "name": "stdout",
     "output_type": "stream",
     "text": [
      "SUBJECT_ID            6353\n",
      "HADM_ID              15637\n",
      "CHARTDATE            13093\n",
      "CHARTTIME                0\n",
      "STORETIME                0\n",
      "CATEGORY                 1\n",
      "DESCRIPTION              1\n",
      "CGID                     0\n",
      "ISERROR                  0\n",
      "TEXT                 16634\n",
      "TOKEN_COUNT           9558\n",
      "LEMMATIZED TEXT      16625\n",
      "LEMMA_TOKEN_COUNT     8404\n",
      "dtype: int64\n",
      "Avg. Token Count:  2074.0603583022726\n"
     ]
    }
   ],
   "source": [
    "note_filtered_multiple_visits['LEMMA_TOKEN_COUNT'] = note_filtered_multiple_visits['LEMMATIZED TEXT'].str.len() / 4\n",
    "\n",
    "print(note_filtered_multiple_visits.nunique())\n",
    "print(\"Avg. Token Count: \", note_filtered_multiple_visits['LEMMA_TOKEN_COUNT'].mean())"
   ]
  },
  {
   "cell_type": "markdown",
   "metadata": {},
   "source": [
    "### NER + EL with MedCAT"
   ]
  },
  {
   "cell_type": "code",
   "execution_count": 33,
   "metadata": {},
   "outputs": [],
   "source": [
    "from medcat.cat import CAT\n",
    "from medcat.cdb import CDB\n",
    "from medcat.vocab import Vocab\n",
    "from medcat.meta_cat import MetaCAT"
   ]
  },
  {
   "cell_type": "code",
   "execution_count": 34,
   "metadata": {},
   "outputs": [],
   "source": [
    "DATA_DIR = \"./data_umls/\"\n",
    "vocab_path = DATA_DIR + \"vocab.dat\"\n",
    "cdb_path = DATA_DIR + \"cdb.dat\""
   ]
  },
  {
   "cell_type": "code",
   "execution_count": 35,
   "metadata": {},
   "outputs": [],
   "source": [
    "# Create and load the CDB (Concept Database)\n",
    "cdb = CDB.load(cdb_path)\n",
    "\n",
    "# Create and load the Vocabulary\n",
    "vocab = Vocab.load(vocab_path)\n",
    "\n",
    "# Load model for MetaAnnotations (optional)\n",
    "mc_status = MetaCAT.load(\"./data_umls/meta_Status/\")"
   ]
  },
  {
   "cell_type": "code",
   "execution_count": 36,
   "metadata": {},
   "outputs": [],
   "source": [
    "# Create CAT - the main class from medcat used for concept annotation\n",
    "cat = CAT(cdb=cdb, config=cdb.config, vocab=vocab, meta_cats=[mc_status])"
   ]
  },
  {
   "cell_type": "code",
   "execution_count": 37,
   "metadata": {},
   "outputs": [],
   "source": [
    "# Detect only the following entity:\n",
    "    # bpoc|T023|Body Part, Organ, or Organ Component\n",
    "    # lbtr|T034|Laboratory or Test Result\n",
    "    # patf|T046|Pathologic Function\n",
    "    # dsyn|T047|Disease or Syndrome\n",
    "    # mobd|T048|Mental or Behavioral Dysfunction\n",
    "    # lbpr|T059|Laboratory Procedure\n",
    "    # diap|T060|Diagnostic Procedure\n",
    "    # topp|T061|Therapeutic or Preventive Procedure\n",
    "    # phsu|T121|Pharmacologic Substance ---> SE LO AGGIUNGO MI METTE ANCHE ALTRA ROBA TIPO VITAMINE, ENZIMI, ETC.\n",
    "    # sosy|T184|Sign or Symptom\n",
    "\n",
    "type_ids_filter = ['T047','T184']\n",
    "cui_filters = set()\n",
    "for type_ids in type_ids_filter:\n",
    "    cui_filters.update(cat.cdb.addl_info['type_id2cuis'][type_ids])\n",
    "cat.cdb.config.linking['filters']['cuis'] = cui_filters"
   ]
  },
  {
   "cell_type": "code",
   "execution_count": 38,
   "metadata": {},
   "outputs": [
    {
     "name": "stderr",
     "output_type": "stream",
     "text": [
      "Processing Rows: 100%|██████████| 16634/16634 [2:04:39<00:00,  2.22it/s]  \n"
     ]
    }
   ],
   "source": [
    "import sys\n",
    "from tqdm import tqdm\n",
    "\n",
    "# Initialize an empty list to store the extracted entities\n",
    "entities_lemma = [] \n",
    "total_rows = len(note_filtered_multiple_visits)\n",
    "\n",
    "# Use tqdm to create a progress bar\n",
    "for i, row in tqdm(enumerate(note_filtered_multiple_visits.index), total=total_rows, desc=\"Processing Rows\"):\n",
    "    # Extract the named entities from the text in the current row\n",
    "    ner = cat.get_entities(note_filtered_multiple_visits['LEMMATIZED TEXT'][row])\n",
    "    # Add the row ID, subject ID, and HADM ID to the named entities dictionary\n",
    "    ner['row_id'] = row\n",
    "    ner['subject_id'] = note_filtered_multiple_visits['SUBJECT_ID'][row]\n",
    "    ner['hadm_id'] = note_filtered_multiple_visits['HADM_ID'][row]\n",
    "    # Append the named entities to the list\n",
    "    entities_lemma.append(ner)"
   ]
  },
  {
   "cell_type": "markdown",
   "metadata": {},
   "source": [
    "### Saving the concepts obtained into NOTEEVENTS_ICD"
   ]
  },
  {
   "cell_type": "code",
   "execution_count": 39,
   "metadata": {},
   "outputs": [],
   "source": [
    "mapper = Mapper()\n",
    "\n",
    "# Example data structure for the dataframe\n",
    "df_structure = {\n",
    "    'ROW_ID': [],\n",
    "    'SUBJECT_ID': [],\n",
    "    'HADM_ID': [],\n",
    "    'SEQ_NUM': [],\n",
    "    #'ICD10_CODE': [],\n",
    "    'ICD9_CODE': []\n",
    "}\n",
    "\n",
    "# Process the data to extract needed information\n",
    "for record in entities_lemma:\n",
    "    row_id = record['row_id']\n",
    "    subject_id = record['subject_id']\n",
    "    hadm_id = record['hadm_id']\n",
    "    entities = record['entities']\n",
    "    seq_num = 1  # Reset sequence number for each record\n",
    "    icd9_codes = set()  # Initialize a set to store unique ICD-9 codes for each record\n",
    "\n",
    "    for entity_id, entity in sorted(entities.items()):\n",
    "        # Read ICD-10 information, if available\n",
    "        icd10_info = entity.get('icd10', [])\n",
    "        \n",
    "        # If ICD-10 information is not empty, append data to the structure\n",
    "        if icd10_info:\n",
    "            for icd10 in icd10_info:\n",
    "                # icd9 to icd10\n",
    "                # Remove the period from the ICD-10 code\n",
    "                icd10code_cleaned = icd10['chapter'].replace('.', '')\n",
    "                icd9 = mapper.map(icd10code_cleaned, source='icd10', target='icd9')\n",
    "                if icd9 and icd9 not in icd9_codes:\n",
    "                    df_structure['ROW_ID'].append(row_id)\n",
    "                    df_structure['SUBJECT_ID'].append(subject_id)\n",
    "                    df_structure['HADM_ID'].append(hadm_id)\n",
    "                    df_structure['SEQ_NUM'].append(seq_num)\n",
    "                    #df_structure['ICD10_CODE'].append(icd10['chapter'])  # Using ICD-10 'chapter' as a placeholder for ICD-9 code\n",
    "                    df_structure['ICD9_CODE'].append(icd9)  # Using ICD-10 'chapter' as a placeholder for ICD-9 code\n",
    "                    seq_num += 1  # Increment SEQ_NUM only if icd10_info is not empty and icd9 is unique\n",
    "                    icd9_codes.add(icd9)  # Add the ICD-9 code to the set of unique codes for the current record\n",
    "                else:\n",
    "                    continue\n",
    "            \n",
    "# Create the dataframe\n",
    "noteevents_df = pd.DataFrame(df_structure)"
   ]
  },
  {
   "cell_type": "code",
   "execution_count": 45,
   "metadata": {},
   "outputs": [
    {
     "name": "stdout",
     "output_type": "stream",
     "text": [
      "(334546, 5)\n",
      "Number of visits: 15637\n",
      "Number of patients: 6353\n",
      "Number of unique symptoms: 1204\n"
     ]
    }
   ],
   "source": [
    "print(noteevents_df.shape)\n",
    "print('Number of visits: ' + str(len(noteevents_df['HADM_ID'].unique())))\n",
    "print('Number of patients: ' + str(len(noteevents_df['SUBJECT_ID'].unique())))\n",
    "print('Number of unique symptoms: ' + str(len(noteevents_df['ICD9_CODE'].unique())))"
   ]
  },
  {
   "cell_type": "code",
   "execution_count": 46,
   "metadata": {},
   "outputs": [],
   "source": [
    "noteevents_df.to_csv('data/NOTEEVENTS_ICD_EXTRA.csv', sep=\",\", index=False, header=True)"
   ]
  },
  {
   "cell_type": "code",
   "execution_count": 60,
   "metadata": {},
   "outputs": [
    {
     "data": {
      "text/html": [
       "<div>\n",
       "<style scoped>\n",
       "    .dataframe tbody tr th:only-of-type {\n",
       "        vertical-align: middle;\n",
       "    }\n",
       "\n",
       "    .dataframe tbody tr th {\n",
       "        vertical-align: top;\n",
       "    }\n",
       "\n",
       "    .dataframe thead th {\n",
       "        text-align: right;\n",
       "    }\n",
       "</style>\n",
       "<table border=\"1\" class=\"dataframe\">\n",
       "  <thead>\n",
       "    <tr style=\"text-align: right;\">\n",
       "      <th></th>\n",
       "      <th>ROW_ID</th>\n",
       "      <th>SUBJECT_ID</th>\n",
       "      <th>GENDER</th>\n",
       "      <th>DOB</th>\n",
       "      <th>DOD</th>\n",
       "      <th>DOD_HOSP</th>\n",
       "      <th>DOD_SSN</th>\n",
       "      <th>EXPIRE_FLAG</th>\n",
       "    </tr>\n",
       "  </thead>\n",
       "  <tbody>\n",
       "    <tr>\n",
       "      <th>0</th>\n",
       "      <td>234</td>\n",
       "      <td>249</td>\n",
       "      <td>F</td>\n",
       "      <td>2075-03-13</td>\n",
       "      <td>NaT</td>\n",
       "      <td>NaT</td>\n",
       "      <td>NaT</td>\n",
       "      <td>0</td>\n",
       "    </tr>\n",
       "    <tr>\n",
       "      <th>3</th>\n",
       "      <td>237</td>\n",
       "      <td>252</td>\n",
       "      <td>M</td>\n",
       "      <td>2078-03-06</td>\n",
       "      <td>NaT</td>\n",
       "      <td>NaT</td>\n",
       "      <td>NaT</td>\n",
       "      <td>0</td>\n",
       "    </tr>\n",
       "    <tr>\n",
       "      <th>6</th>\n",
       "      <td>240</td>\n",
       "      <td>256</td>\n",
       "      <td>M</td>\n",
       "      <td>2086-07-31</td>\n",
       "      <td>NaT</td>\n",
       "      <td>NaT</td>\n",
       "      <td>NaT</td>\n",
       "      <td>0</td>\n",
       "    </tr>\n",
       "    <tr>\n",
       "      <th>22</th>\n",
       "      <td>628</td>\n",
       "      <td>665</td>\n",
       "      <td>M</td>\n",
       "      <td>2052-05-20</td>\n",
       "      <td>2120-02-04</td>\n",
       "      <td>2120-02-04</td>\n",
       "      <td>NaT</td>\n",
       "      <td>1</td>\n",
       "    </tr>\n",
       "    <tr>\n",
       "      <th>31</th>\n",
       "      <td>637</td>\n",
       "      <td>674</td>\n",
       "      <td>F</td>\n",
       "      <td>2113-12-14</td>\n",
       "      <td>2195-02-17</td>\n",
       "      <td>2195-02-17</td>\n",
       "      <td>2195-02-17</td>\n",
       "      <td>1</td>\n",
       "    </tr>\n",
       "    <tr>\n",
       "      <th>...</th>\n",
       "      <td>...</td>\n",
       "      <td>...</td>\n",
       "      <td>...</td>\n",
       "      <td>...</td>\n",
       "      <td>...</td>\n",
       "      <td>...</td>\n",
       "      <td>...</td>\n",
       "      <td>...</td>\n",
       "    </tr>\n",
       "    <tr>\n",
       "      <th>46491</th>\n",
       "      <td>31816</td>\n",
       "      <td>43991</td>\n",
       "      <td>M</td>\n",
       "      <td>2069-01-27</td>\n",
       "      <td>NaT</td>\n",
       "      <td>NaT</td>\n",
       "      <td>NaT</td>\n",
       "      <td>0</td>\n",
       "    </tr>\n",
       "    <tr>\n",
       "      <th>46506</th>\n",
       "      <td>31831</td>\n",
       "      <td>44061</td>\n",
       "      <td>M</td>\n",
       "      <td>2073-09-29</td>\n",
       "      <td>NaT</td>\n",
       "      <td>NaT</td>\n",
       "      <td>NaT</td>\n",
       "      <td>0</td>\n",
       "    </tr>\n",
       "    <tr>\n",
       "      <th>46507</th>\n",
       "      <td>31832</td>\n",
       "      <td>44064</td>\n",
       "      <td>M</td>\n",
       "      <td>2115-11-18</td>\n",
       "      <td>NaT</td>\n",
       "      <td>NaT</td>\n",
       "      <td>NaT</td>\n",
       "      <td>0</td>\n",
       "    </tr>\n",
       "    <tr>\n",
       "      <th>46513</th>\n",
       "      <td>31838</td>\n",
       "      <td>44083</td>\n",
       "      <td>M</td>\n",
       "      <td>2057-11-15</td>\n",
       "      <td>2114-02-20</td>\n",
       "      <td>2114-02-20</td>\n",
       "      <td>2114-02-20</td>\n",
       "      <td>1</td>\n",
       "    </tr>\n",
       "    <tr>\n",
       "      <th>46519</th>\n",
       "      <td>31844</td>\n",
       "      <td>44128</td>\n",
       "      <td>M</td>\n",
       "      <td>2098-07-25</td>\n",
       "      <td>NaT</td>\n",
       "      <td>NaT</td>\n",
       "      <td>NaT</td>\n",
       "      <td>0</td>\n",
       "    </tr>\n",
       "  </tbody>\n",
       "</table>\n",
       "<p>6353 rows × 8 columns</p>\n",
       "</div>"
      ],
      "text/plain": [
       "       ROW_ID SUBJECT_ID GENDER        DOB        DOD   DOD_HOSP    DOD_SSN  \\\n",
       "0         234        249      F 2075-03-13        NaT        NaT        NaT   \n",
       "3         237        252      M 2078-03-06        NaT        NaT        NaT   \n",
       "6         240        256      M 2086-07-31        NaT        NaT        NaT   \n",
       "22        628        665      M 2052-05-20 2120-02-04 2120-02-04        NaT   \n",
       "31        637        674      F 2113-12-14 2195-02-17 2195-02-17 2195-02-17   \n",
       "...       ...        ...    ...        ...        ...        ...        ...   \n",
       "46491   31816      43991      M 2069-01-27        NaT        NaT        NaT   \n",
       "46506   31831      44061      M 2073-09-29        NaT        NaT        NaT   \n",
       "46507   31832      44064      M 2115-11-18        NaT        NaT        NaT   \n",
       "46513   31838      44083      M 2057-11-15 2114-02-20 2114-02-20 2114-02-20   \n",
       "46519   31844      44128      M 2098-07-25        NaT        NaT        NaT   \n",
       "\n",
       "       EXPIRE_FLAG  \n",
       "0                0  \n",
       "3                0  \n",
       "6                0  \n",
       "22               1  \n",
       "31               1  \n",
       "...            ...  \n",
       "46491            0  \n",
       "46506            0  \n",
       "46507            0  \n",
       "46513            1  \n",
       "46519            0  \n",
       "\n",
       "[6353 rows x 8 columns]"
      ]
     },
     "execution_count": 60,
     "metadata": {},
     "output_type": "execute_result"
    }
   ],
   "source": [
    "patient_filtered = patient[patient['SUBJECT_ID'].astype(int).isin(noteevents_df['SUBJECT_ID'].unique())]\n",
    "patient_filtered\n"
   ]
  },
  {
   "cell_type": "code",
   "execution_count": 61,
   "metadata": {},
   "outputs": [],
   "source": [
    "patient_filtered.to_csv('data/PATIENTS_SEL_EXTRA.csv', sep=\",\", index=False, header=True)"
   ]
  }
 ],
 "metadata": {
  "kernelspec": {
   "display_name": "Python 3",
   "language": "python",
   "name": "python3"
  },
  "language_info": {
   "codemirror_mode": {
    "name": "ipython",
    "version": 3
   },
   "file_extension": ".py",
   "mimetype": "text/x-python",
   "name": "python",
   "nbconvert_exporter": "python",
   "pygments_lexer": "ipython3",
   "version": "3.9.10"
  }
 },
 "nbformat": 4,
 "nbformat_minor": 2
}
