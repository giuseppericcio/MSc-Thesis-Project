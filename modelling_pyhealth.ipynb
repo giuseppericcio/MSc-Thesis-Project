{
 "cells": [
  {
   "cell_type": "markdown",
   "metadata": {},
   "source": [
    "# Modelling with PyHealth (using NOTEEVENTS_ICD)"
   ]
  },
  {
   "cell_type": "markdown",
   "metadata": {},
   "source": [
    "## Libraries"
   ]
  },
  {
   "cell_type": "code",
   "execution_count": 233,
   "metadata": {},
   "outputs": [],
   "source": [
    "import pandas as pd\n",
    "import numpy as np"
   ]
  },
  {
   "cell_type": "code",
   "execution_count": null,
   "metadata": {},
   "outputs": [],
   "source": [
    "%pip install torch==2.1.0"
   ]
  },
  {
   "cell_type": "code",
   "execution_count": 1,
   "metadata": {},
   "outputs": [
    {
     "name": "stdout",
     "output_type": "stream",
     "text": [
      "2.1.0+cpu\n"
     ]
    }
   ],
   "source": [
    "import torch\n",
    "print(torch.__version__)\n",
    "\n",
    "# Install required packages.\n",
    "import os\n",
    "os.environ['TORCH'] = torch.__version__"
   ]
  },
  {
   "cell_type": "code",
   "execution_count": 13,
   "metadata": {},
   "outputs": [
    {
     "name": "stdout",
     "output_type": "stream",
     "text": [
      "Looking in links: https://data.pyg.org/whl/torch-${TORCH}.html\n",
      "Requirement already satisfied: torch-scatter in c:\\users\\giuse\\desktop\\msc-thesis-project\\proj_venv\\lib\\site-packages (2.1.2+pt21cpu)\n",
      "Note: you may need to restart the kernel to use updated packages.\n",
      "Looking in links: https://data.pyg.org/whl/torch-${TORCH}.html\n",
      "Requirement already satisfied: torch-sparse in c:\\users\\giuse\\desktop\\msc-thesis-project\\proj_venv\\lib\\site-packages (0.6.18+pt21cpu)\n",
      "Requirement already satisfied: scipy in c:\\users\\giuse\\desktop\\msc-thesis-project\\proj_venv\\lib\\site-packages (from torch-sparse) (1.9.3)\n",
      "Requirement already satisfied: numpy<1.26.0,>=1.18.5 in c:\\users\\giuse\\desktop\\msc-thesis-project\\proj_venv\\lib\\site-packages (from scipy->torch-sparse) (1.25.2)\n",
      "Note: you may need to restart the kernel to use updated packages.\n"
     ]
    }
   ],
   "source": [
    "%pip install torch-scatter -f https://data.pyg.org/whl/torch-${TORCH}.html\n",
    "%pip install torch-sparse -f https://data.pyg.org/whl/torch-${TORCH}.html"
   ]
  },
  {
   "cell_type": "code",
   "execution_count": null,
   "metadata": {},
   "outputs": [],
   "source": [
    "%pip install torch-geometric"
   ]
  },
  {
   "cell_type": "code",
   "execution_count": 2,
   "metadata": {},
   "outputs": [],
   "source": [
    "# carica i dati dai file csv\n",
    "noteevents = pd.read_csv('data/NOTEEVENTS_ICD.csv')\n",
    "patients = pd.read_csv('data/PATIENTS.csv')\n",
    "\n",
    "# seleziona i pazienti presenti in NOTEEVENTS_ICD\n",
    "selected_patients = patients[patients['SUBJECT_ID'].isin(noteevents['SUBJECT_ID'].unique())]\n",
    "\n",
    "# salva il risultato in un file csv\n",
    "selected_patients.to_csv('data/PATIENTS_SEL.csv', index=False)\n"
   ]
  },
  {
   "cell_type": "markdown",
   "metadata": {},
   "source": [
    "## Loading MIMIC-III into PyHealth"
   ]
  },
  {
   "cell_type": "code",
   "execution_count": 1,
   "metadata": {},
   "outputs": [],
   "source": [
    "from pyhealth.datasets import MIMIC3Dataset\n",
    "\n",
    "dataset = MIMIC3Dataset(\n",
    "    root='data/',\n",
    "    tables=[\"DIAGNOSES_ICD\",\"PROCEDURES_ICD\",\"PRESCRIPTIONS\",\"NOTEEVENTS_ICD\"],\n",
    "    code_mapping={\"NDC\": (\"ATC\", {\"target_kwargs\": {\"level\": 4}})},\n",
    "    # refresh_cache=True,\n",
    "    # dev=True\n",
    ")"
   ]
  },
  {
   "cell_type": "code",
   "execution_count": 2,
   "metadata": {},
   "outputs": [
    {
     "name": "stdout",
     "output_type": "stream",
     "text": [
      "\n",
      "Statistics of base dataset (dev=False):\n",
      "\t- Dataset: MIMIC3Dataset\n",
      "\t- Number of patients: 1560\n",
      "\t- Number of visits: 5014\n",
      "\t- Number of visits per patient: 3.2141\n",
      "\t- Number of events per visit in DIAGNOSES_ICD: 11.5987\n",
      "\t- Number of events per visit in PROCEDURES_ICD: 3.8771\n",
      "\t- Number of events per visit in PRESCRIPTIONS: 44.3879\n",
      "\t- Number of events per visit in NOTEEVENTS_ICD: 11.0782\n",
      "\n"
     ]
    },
    {
     "data": {
      "text/plain": [
       "'\\nStatistics of base dataset (dev=False):\\n\\t- Dataset: MIMIC3Dataset\\n\\t- Number of patients: 1560\\n\\t- Number of visits: 5014\\n\\t- Number of visits per patient: 3.2141\\n\\t- Number of events per visit in DIAGNOSES_ICD: 11.5987\\n\\t- Number of events per visit in PROCEDURES_ICD: 3.8771\\n\\t- Number of events per visit in PRESCRIPTIONS: 44.3879\\n\\t- Number of events per visit in NOTEEVENTS_ICD: 11.0782\\n'"
      ]
     },
     "execution_count": 2,
     "metadata": {},
     "output_type": "execute_result"
    }
   ],
   "source": [
    "dataset.stat()"
   ]
  },
  {
   "cell_type": "markdown",
   "metadata": {},
   "source": [
    "## Reading retrieved dataset"
   ]
  },
  {
   "cell_type": "code",
   "execution_count": 4,
   "metadata": {},
   "outputs": [
    {
     "name": "stdout",
     "output_type": "stream",
     "text": [
      "['10055', '10071', '10077', '10144', '10160', '10174', '10197', '10207', '10254', '10285', '1029', '10302', '10304', '10310', '10328', '10342', '10369', '10414', '10434', '10442', '10478', '10487', '10488', '1050', '10594', '10612', '10618', '10634', '10635', '10637', '10660', '10679', '10687', '1069', '10742', '10774', '10820', '10832', '10859', '10884', '109', '10906', '10932', '10939', '10973', '10976', '10977', '11043', '11102', '11108', '11135', '11165', '11171', '112', '11205', '1122', '11234', '11236', '11242', '11255', '11318', '11342', '11346', '11421', '11442', '11464', '11479', '11588', '11590', '11604', '11623', '11634', '11716', '11763', '11764', '11778', '11818', '11825', '11830', '11838', '11861', '1187', '11876', '11885', '11892', '11897', '11932', '1197', '11970', '12039', '12076', '12110', '12113', '12125', '12149', '12198', '12203', '12217', '1223', '12281', '12344', '124', '12411', '12446', '12467', '12501', '12515', '12521', '12566', '12567', '12690', '12706', '12712', '12720', '12769', '12788', '12798', '12799', '12819', '12829', '12833', '12834', '12849', '12856', '12902', '12945', '12954', '12982', '1301', '13033', '13055', '13074', '13192', '13212', '13223', '13259', '13293', '13305', '13308', '1332', '13329', '13355', '13384', '1339', '13403', '13476', '13508', '13552', '13599', '13627', '13641', '13653', '13686', '13705', '13733', '13739', '13740', '13744', '13767', '138', '13816', '13837', '1386', '13864', '13868', '13882', '13902', '13920', '13936', '13948', '13960', '13965', '14002', '1401', '14031', '14061', '14079', '14085', '14094', '14154', '1419', '1422', '14241', '14310', '14330', '14363', '1441', '14412', '14427', '14507', '14532', '14566', '14669', '14701', '14716', '1474', '14757', '14761', '1478', '14806', '14828', '14836', '14841', '1488', '14885', '1493', '14957', '15006', '15017', '15037', '15041', '15057', '15128', '1516', '1517', '15208', '15209', '15226', '15232', '15262', '1531', '15355', '15370', '15374', '15380', '15387', '15432', '1544', '15450', '15453', '15472', '15482', '15508', '15547', '15573', '15628', '15636', '15645', '15654', '15672', '1569', '15749', '15752', '15754', '1578', '15783', '15784', '15850', '15852', '15881', '1590', '15916', '15919', '15936', '1594', '15996', '16013', '16025', '16053', '1610', '16108', '1611', '16122', '16146', '16147', '16178', '16186', '16194', '16200', '16210', '16236', '16256', '16275', '16279', '16286', '16336', '1636', '16375', '16382', '16412', '16455', '16490', '16531', '16549', '16551', '16592', '16618', '16621', '16655', '16666', '16674', '16696', '16698', '16709', '16727', '16740', '16745', '16774', '16776', '16802', '16803', '16832', '16839', '16860', '16881', '16884', '16917', '16988', '16989', '16992', '16994', '16997', '17021', '17072', '17083', '17094', '17098', '17108', '17125', '17139', '17143', '17153', '17206', '17212', '17236', '17245', '17367', '17384', '17421', '17472', '17488', '17505', '17513', '17530', '17546', '17548', '17581', '17589', '17617', '17655', '17659', '17680', '17702', '17712', '17722', '17735', '17767', '1778', '17780', '17782', '17789', '17820', '17837', '17843', '17858', '1787', '17879', '17886', '17891', '17894', '17899', '17904', '17906', '17949', '17997', '18', '18055', '18094', '18105', '18126', '18144', '18200', '18353', '18376', '18400', '18408', '18418', '18430', '18459', '18490', '18497', '18572', '18633', '18648', '18657', '18681', '18689', '18704', '18739', '18771', '188', '18846', '18908', '18910', '18924', '18928', '18942', '18946', '18971', '18982', '18983', '1900', '19029', '19039', '19053', '19059', '19060', '19069', '19079', '19087', '19102', '19117', '19142', '19155', '19191', '19213', '19246', '19270', '1931', '19310', '19344', '1935', '19354', '19356', '1936', '19370', '19371', '19418', '1944', '19469', '19475', '19493', '19512', '19547', '19568', '19583', '19620', '19627', '19746', '19754', '19771', '19793', '19798', '19805', '19817', '19823', '1985', '19855', '19859', '1991', '1995', '19960', '19981', '1999', '20007', '20011', '20036', '20061', '20064', '20066', '20075', '20086', '20124', '20144', '20162', '2018', '20190', '20204', '20217', '20226', '20248', '20296', '20312', '20324', '20339', '2034', '20368', '20383', '20389', '20410', '20423', '20473', '20479', '2049', '20546', '20577', '20624', '20643', '20644', '20678', '20745', '2075', '20796', '2081', '2085', '2093', '20931', '20940', '20944', '20947', '20957', '20979', '20988', '21015', '21025', '21072', '21090', '21099', '21108', '21144', '21195', '21220', '21223', '21280', '21293', '21318', '21321', '2136', '21362', '21401', '21413', '21431', '21447', '21448', '21452', '21453', '21454', '21458', '21460', '21483', '21510', '21513', '21514', '21518', '21574', '2159', '21645', '21651', '21666', '21673', '21693', '21700', '21706', '21734', '21845', '2185', '21860', '21864', '2187', '21881', '21901', '21910', '21951', '21965', '21975', '21990', '22010', '22017', '22083', '22119', '22126', '2215', '22180', '22200', '22225', '2223', '2224', '22277', '22285', '22291', '22426', '22478', '22490', '22505', '22525', '22579', '22587', '22624', '2264', '22644', '2265', '22656', '22712', '22732', '22754', '22763', '22766', '22780', '22782', '22792', '22795', '22800', '22804', '22806', '22835', '22851', '22856', '22910', '22914', '22921', '22938', '22946', '22963', '22987', '23014', '23036', '23039', '23049', '23097', '23100', '23108', '23140', '23150', '23161', '23197', '23209', '23219', '2323', '23298', '23306', '23318', '23339', '23364', '23365', '23380', '23397', '23475', '23477', '23478', '23483', '2349', '23517', '23518', '23568', '23577', '23637', '23641', '2365', '23657', '23680', '23687', '23694', '23706', '23707', '23711', '23725', '23734', '23735', '23761', '23872', '23882', '23933', '23943', '23946', '23990', '24029', '24094', '24099', '24111', '24127', '24134', '24141', '24198', '24276', '24344', '24444', '24465', '24486', '2452', '24562', '24571', '24573', '24580', '2460', '24631', '24672', '24674', '24682', '24683', '24685', '24712', '24714', '24743', '24794', '24806', '24807', '24824', '24850', '24858', '24889', '24902', '24958', '24975', '24977', '24995', '25001', '25009', '25049', '25060', '25069', '25072', '25073', '25111', '25115', '25117', '2512', '25135', '25225', '25229', '25235', '25251', '25295', '25302', '25318', '25321', '25323', '25332', '25338', '25354', '25384', '25396', '25400', '25403', '25452', '2549', '2550', '25512', '25515', '25579', '25640', '25655', '25699', '25708', '25722', '25764', '25768', '25780', '25790', '25814', '25876', '25882', '25889', '2589', '25891', '2590', '25963', '25975', '26027', '26036', '26043', '26067', '26094', '26105', '26118', '26124', '26134', '26139', '26161', '26168', '26200', '26208', '26212', '26214', '2622', '26224', '26234', '26261', '26274', '26277', '26313', '26317', '26324', '26370', '26372', '26384', '26398', '26405', '26421', '26453', '26455', '26474', '26479', '26515', '26519', '26579', '2658', '26604', '26673', '26709', '26724', '26845', '26868', '26889', '26928', '26935', '26948', '26956', '2710', '27102', '27106', '27195', '27210', '27242', '27247', '2731', '27355', '27362', '27398', '27449', '27462', '27486', '27517', '27547', '27603', '27643', '27657', '27667', '27690', '27710', '27714', '27723', '27745', '2775', '27750', '27793', '27799', '27800', '27808', '2784', '27872', '2791', '27910', '27931', '27960', '2799', '28043', '28050', '28055', '28057', '28104', '28180', '28190', '28240', '28264', '28281', '283', '28365', '28394', '28423', '28424', '28531', '28561', '28577', '28601', '28651', '28657', '28671', '28716', '2872', '28735', '28805', '2890', '28944', '28982', '28999', '29035', '29055', '29092', '29137', '29334', '29350', '29352', '29360', '29372', '2939', '29398', '29426', '29478', '29483', '29576', '29633', '29660', '29666', '2973', '2975', '29859', '29862', '29872', '29946', '29965', '29967', '2997', '29972', '30183', '30217', '30221', '30239', '30243', '30277', '30296', '30322', '3036', '30412', '30457', '30507', '30508', '3052', '30530', '30533', '30548', '30551', '30552', '30564', '30590', '30616', '30638', '30660', '30671', '30678', '30682', '30696', '3070', '30737', '3078', '30786', '30855', '30887', '30917', '3100', '3115', '31170', '31185', '31205', '31312', '3133', '31332', '31340', '31376', '31385', '3154', '31640', '31719', '3181', '31966', '31996', '32052', '32082', '32161', '3225', '323', '32348', '32453', '32466', '32605', '3266', '32664', '32678', '32707', '32743', '32790', '32791', '3280', '3306', '3322', '3362', '3365', '339', '3393', '3417', '3436', '3437', '3460', '3490', '3496', '3506', '353', '3543', '3566', '3600', '3632', '3637', '3674', '3683', '3734', '3860', '3876', '3889', '3917', '3929', '394', '3974', '3977', '4004', '40464', '4059', '4063', '40697', '4096', '41034', '4113', '4126', '4138', '41603', '4166', '41702', '41768', '4187', '41966', '42180', '423', '42351', '4240', '4245', '4267', '4317', '4329', '43367', '434', '4367', '43673', '43991', '4410', '4448', '44521', '4454', '4458', '44602', '44751', '4495', '45180', '452', '4520', '4521', '45232', '4527', '45321', '45437', '45542', '4555', '45655', '4566', '4571', '4587', '46028', '4604', '46057', '4609', '46105', '46127', '46189', '46228', '4631', '46487', '4655', '46566', '46569', '46586', '4688', '47035', '47045', '47137', '4714', '4765', '4766', '47758', '47827', '4784', '4787', '47941', '4796', '48025', '48123', '4816', '4825', '4827', '48372', '48414', '48580', '48697', '4893', '4929', '4954', '49683', '5015', '5031', '5032', '5042', '5047', '5048', '5049', '5050', '50532', '5060', '50623', '5074', '5077', '50817', '50969', '51337', '51349', '5142', '5146', '51493', '515', '5158', '5171', '518', '5183', '52068', '522', '52263', '5242', '52482', '525', '52592', '52593', '5278', '52985', '53098', '53283', '53404', '5343', '53437', '5347', '5370', '5382', '5389', '5397', '5424', '54502', '5456', '54610', '5466', '5476', '54826', '54935', '5494', '5525', '55529', '5598', '55992', '5604', '5611', '5617', '56174', '5619', '56287', '5645', '56552', '5662', '5665', '5672', '56861', '5689', '57001', '5709', '57105', '5712', '5727', '57299', '5766', '5783', '5794', '5806', '5816', '58163', '5830', '58308', '58377', '5865', '5879', '58825', '58965', '5901', '59049', '59158', '5954', '5970', '5978', '59797', '59845', '59848', '59864', '59875', '59924', '59948', '60020', '6008', '60142', '60181', '60668', '6069', '60842', '6085', '60893', '61', '61198', '6124', '61259', '61630', '61659', '61809', '6195', '6212', '62186', '62261', '6272', '62813', '629', '6300', '63048', '6321', '63292', '634', '6349', '6358', '63637', '6365', '63660', '638', '63938', '6428', '6437', '6440', '6449', '6466', '64906', '64919', '64988', '65082', '65190', '65284', '6534', '65364', '65431', '65454', '65481', '6571', '65779', '65954', '65982', '65994', '6603', '6604', '66158', '6621', '6636', '6638', '665', '66637', '6685', '67017', '67070', '6710', '6711', '6718', '67426', '6749', '67683', '679', '67910', '68184', '68218', '6824', '6828', '68301', '6843', '68453', '6871', '6894', '6917', '69251', '69359', '69398', '6953', '6954', '6973', '69855', '70004', '7009', '7029', '703', '70386', '70494', '7066', '70807', '71192', '7138', '7142', '7169', '7170', '71878', '7188', '7192', '71921', '72083', '72147', '7223', '7232', '7234', '72447', '725', '72707', '7275', '72847', '72940', '73206', '7327', '73370', '7344', '73454', '73509', '7357', '7359', '73770', '7391', '74046', '7413', '74319', '74444', '747', '7477', '7482', '7504', '7514', '75249', '7529', '7552', '7562', '75668', '7589', '7614', '76203', '7621', '7629', '76459', '76646', '7666', '7668', '7681', '7702', '77037', '77067', '7718', '77220', '7726', '773', '77341', '77413', '7752', '7784', '77850', '7798', '7799', '78007', '7809', '7815', '78342', '78419', '78536', '7859', '78641', '787', '78814', '7908', '79100', '7955', '7958', '79673', '79977', '80144', '80163', '80369', '8060', '80791', '808', '8081', '80956', '8109', '81114', '8120', '81209', '81464', '81529', '81543', '8163', '81662', '81778', '82104', '8222', '8231', '8238', '8251', '8258', '8273', '82960', '8309', '83151', '8321', '83210', '8369', '8432', '84350', '8445', '84465', '8447', '8450', '8452', '84595', '8466', '84669', '8467', '8471', '8472', '84745', '849', '8493', '8501', '8505', '8507', '85079', '852', '85350', '8543', '8556', '8564', '8565', '85723', '85740', '85870', '8597', '85999', '86018', '86146', '862', '863', '8665', '86717', '87160', '8734', '8789', '87926', '87978', '8799', '8801', '88206', '8851', '8869', '88711', '88782', '88857', '88882', '8896', '8917', '89180', '89290', '89446', '8947', '89840', '8989', '8992', '9012', '90369', '904', '9061', '90889', '9090', '90902', '9102', '91103', '91295', '9177', '91827', '92066', '9216', '9233', '9248', '9253', '9256', '92895', '9304', '93229', '9324', '93277', '93336', '9362', '9363', '93632', '9395', '9397', '93996', '9402', '94049', '9412', '94264', '94312', '9453', '948', '9484', '9486', '949', '94962', '9505', '95122', '9517', '9518', '952', '95238', '9540', '9544', '95447', '9555', '95637', '9571', '95725', '959', '96010', '96212', '96442', '9656', '96759', '96791', '96950', '9714', '9725', '97307', '97353', '9736', '97443', '97488', '97529', '9753', '97543', '97917', '9795', '97984', '98024', '9818', '98518', '9862', '98744', '98813', '9882', '9887', '9889', '9900', '99031', '9923', '99299', '9930', '99322', '9933', '99384', '99408', '99503', '9962', '9970', '9973', '9976', '9982']\n",
      "1560\n"
     ]
    }
   ],
   "source": [
    "# get patient dictionary\n",
    "patient_dict = dataset.patients\n",
    "print(list(patient_dict.keys()))\n",
    "print(len(patient_dict))"
   ]
  },
  {
   "cell_type": "code",
   "execution_count": 5,
   "metadata": {},
   "outputs": [
    {
     "name": "stdout",
     "output_type": "stream",
     "text": [
      "OrderedDict([('124383', Visit 124383 from patient 4096 with 86 events from tables ['DIAGNOSES_ICD', 'PROCEDURES_ICD', 'PRESCRIPTIONS', 'NOTEEVENTS_ICD']), ('161677', Visit 161677 from patient 4096 with 109 events from tables ['DIAGNOSES_ICD', 'PROCEDURES_ICD', 'PRESCRIPTIONS', 'NOTEEVENTS_ICD'])])\n"
     ]
    }
   ],
   "source": [
    "# get the \"10\" patient\n",
    "patient = patient_dict[\"4096\"]\n",
    "patient.gender, patient.birth_datetime, patient.ethnicity, patient.death_datetime, patient.visits\n",
    "print(patient.visits)"
   ]
  },
  {
   "cell_type": "code",
   "execution_count": 27,
   "metadata": {},
   "outputs": [
    {
     "name": "stdout",
     "output_type": "stream",
     "text": [
      "['124383', '161677']\n"
     ]
    }
   ],
   "source": [
    "# get the visit list of this patient\n",
    "visit_dict = patient.visits\n",
    "print (list(visit_dict.keys()))"
   ]
  },
  {
   "cell_type": "code",
   "execution_count": 28,
   "metadata": {},
   "outputs": [
    {
     "data": {
      "text/plain": [
       "(datetime.datetime(2170, 7, 20, 18, 9),\n",
       " ['DIAGNOSES_ICD', 'PROCEDURES_ICD', 'PRESCRIPTIONS', 'NOTEEVENTS_ICD'],\n",
       " 86,\n",
       " {'DIAGNOSES_ICD': [Event with ICD9CM code 0389 from table DIAGNOSES_ICD,\n",
       "   Event with ICD9CM code 5849 from table DIAGNOSES_ICD,\n",
       "   Event with ICD9CM code 496 from table DIAGNOSES_ICD,\n",
       "   Event with ICD9CM code 4280 from table DIAGNOSES_ICD,\n",
       "   Event with ICD9CM code 42731 from table DIAGNOSES_ICD,\n",
       "   Event with ICD9CM code 566 from table DIAGNOSES_ICD,\n",
       "   Event with ICD9CM code 99592 from table DIAGNOSES_ICD,\n",
       "   Event with ICD9CM code 4589 from table DIAGNOSES_ICD,\n",
       "   Event with ICD9CM code 25080 from table DIAGNOSES_ICD,\n",
       "   Event with ICD9CM code 4019 from table DIAGNOSES_ICD,\n",
       "   Event with ICD9CM code 2859 from table DIAGNOSES_ICD,\n",
       "   Event with ICD9CM code 78009 from table DIAGNOSES_ICD,\n",
       "   Event with ICD9CM code 4439 from table DIAGNOSES_ICD,\n",
       "   Event with ICD9CM code 5939 from table DIAGNOSES_ICD,\n",
       "   Event with ICD9CM code 71590 from table DIAGNOSES_ICD,\n",
       "   Event with ICD9CM code V1259 from table DIAGNOSES_ICD,\n",
       "   Event with ICD9CM code V1251 from table DIAGNOSES_ICD],\n",
       "  'PROCEDURES_ICD': [Event with ICD9PROC code 3893 from table PROCEDURES_ICD,\n",
       "   Event with ICD9PROC code 9609 from table PROCEDURES_ICD,\n",
       "   Event with ICD9PROC code 9904 from table PROCEDURES_ICD,\n",
       "   Event with ICD9PROC code 9390 from table PROCEDURES_ICD,\n",
       "   Event with ICD9PROC code 3893 from table PROCEDURES_ICD],\n",
       "  'PRESCRIPTIONS': [Event with ATC code N03A from table PRESCRIPTIONS,\n",
       "   Event with ATC code A02B from table PRESCRIPTIONS,\n",
       "   Event with ATC code C09A from table PRESCRIPTIONS,\n",
       "   Event with ATC code H01A from table PRESCRIPTIONS,\n",
       "   Event with ATC code J01M from table PRESCRIPTIONS,\n",
       "   Event with ATC code N02B from table PRESCRIPTIONS,\n",
       "   Event with ATC code R03A from table PRESCRIPTIONS,\n",
       "   Event with ATC code C10A from table PRESCRIPTIONS,\n",
       "   Event with ATC code B05X from table PRESCRIPTIONS,\n",
       "   Event with ATC code N03A from table PRESCRIPTIONS,\n",
       "   Event with ATC code A12A from table PRESCRIPTIONS,\n",
       "   Event with ATC code C01C from table PRESCRIPTIONS,\n",
       "   Event with ATC code V06D from table PRESCRIPTIONS,\n",
       "   Event with ATC code J01X from table PRESCRIPTIONS,\n",
       "   Event with ATC code N02A from table PRESCRIPTIONS,\n",
       "   Event with ATC code N02B from table PRESCRIPTIONS,\n",
       "   Event with ATC code B01A from table PRESCRIPTIONS,\n",
       "   Event with ATC code R03B from table PRESCRIPTIONS,\n",
       "   Event with ATC code J01X from table PRESCRIPTIONS,\n",
       "   Event with ATC code C05A from table PRESCRIPTIONS,\n",
       "   Event with ATC code D04A from table PRESCRIPTIONS,\n",
       "   Event with ATC code B05X from table PRESCRIPTIONS,\n",
       "   Event with ATC code N06A from table PRESCRIPTIONS,\n",
       "   Event with ATC code N05A from table PRESCRIPTIONS,\n",
       "   Event with ATC code N05A from table PRESCRIPTIONS,\n",
       "   Event with ATC code C07A from table PRESCRIPTIONS,\n",
       "   Event with ATC code N02B from table PRESCRIPTIONS,\n",
       "   Event with ATC code B01A from table PRESCRIPTIONS,\n",
       "   Event with ATC code C03C from table PRESCRIPTIONS,\n",
       "   Event with ATC code J01X from table PRESCRIPTIONS,\n",
       "   Event with ATC code P01A from table PRESCRIPTIONS,\n",
       "   Event with ATC code C01D from table PRESCRIPTIONS,\n",
       "   Event with ATC code C09A from table PRESCRIPTIONS,\n",
       "   Event with ATC code J01M from table PRESCRIPTIONS,\n",
       "   Event with ATC code N05A from table PRESCRIPTIONS,\n",
       "   Event with ATC code A10A from table PRESCRIPTIONS,\n",
       "   Event with ATC code N02A from table PRESCRIPTIONS,\n",
       "   Event with ATC code A02A from table PRESCRIPTIONS,\n",
       "   Event with ATC code A06A from table PRESCRIPTIONS,\n",
       "   Event with ATC code A12C from table PRESCRIPTIONS,\n",
       "   Event with ATC code A12B from table PRESCRIPTIONS],\n",
       "  'NOTEEVENTS_ICD': [Event with ICD9CM code V419 from table NOTEEVENTS_ICD,\n",
       "   Event with ICD9CM code 4019 from table NOTEEVENTS_ICD,\n",
       "   Event with ICD9CM code 4439 from table NOTEEVENTS_ICD,\n",
       "   Event with ICD9CM code 43491 from table NOTEEVENTS_ICD,\n",
       "   Event with ICD9CM code 78060 from table NOTEEVENTS_ICD,\n",
       "   Event with ICD9CM code 51189 from table NOTEEVENTS_ICD,\n",
       "   Event with ICD9CM code 7840 from table NOTEEVENTS_ICD,\n",
       "   Event with ICD9CM code 78650 from table NOTEEVENTS_ICD,\n",
       "   Event with ICD9CM code 78609 from table NOTEEVENTS_ICD,\n",
       "   Event with ICD9CM code 78605 from table NOTEEVENTS_ICD,\n",
       "   Event with ICD9CM code 78096 from table NOTEEVENTS_ICD,\n",
       "   Event with ICD9CM code 2724 from table NOTEEVENTS_ICD,\n",
       "   Event with ICD9CM code 53081 from table NOTEEVENTS_ICD,\n",
       "   Event with ICD9CM code 71590 from table NOTEEVENTS_ICD,\n",
       "   Event with ICD9CM code 5770 from table NOTEEVENTS_ICD,\n",
       "   Event with ICD9CM code 496 from table NOTEEVENTS_ICD,\n",
       "   Event with ICD9CM code 27800 from table NOTEEVENTS_ICD,\n",
       "   Event with ICD9CM code 7823 from table NOTEEVENTS_ICD,\n",
       "   Event with ICD9CM code 42761 from table NOTEEVENTS_ICD,\n",
       "   Event with ICD9CM code 2512 from table NOTEEVENTS_ICD,\n",
       "   Event with ICD9CM code 5849 from table NOTEEVENTS_ICD,\n",
       "   Event with ICD9CM code 78791 from table NOTEEVENTS_ICD,\n",
       "   Event with ICD9CM code 3301 from table NOTEEVENTS_ICD]})"
      ]
     },
     "execution_count": 28,
     "metadata": {},
     "output_type": "execute_result"
    }
   ],
   "source": [
    "# get the first visit\n",
    "visit = visit_dict['124383']\n",
    "visit.encounter_time, visit.available_tables, visit.num_events, visit.event_list_dict"
   ]
  },
  {
   "cell_type": "code",
   "execution_count": 29,
   "metadata": {},
   "outputs": [
    {
     "data": {
      "text/plain": [
       "['V419',\n",
       " '4019',\n",
       " '4439',\n",
       " '43491',\n",
       " '78060',\n",
       " '51189',\n",
       " '7840',\n",
       " '78650',\n",
       " '78609',\n",
       " '78605',\n",
       " '78096',\n",
       " '2724',\n",
       " '53081',\n",
       " '71590',\n",
       " '5770',\n",
       " '496',\n",
       " '27800',\n",
       " '7823',\n",
       " '42761',\n",
       " '2512',\n",
       " '5849',\n",
       " '78791',\n",
       " '3301']"
      ]
     },
     "execution_count": 29,
     "metadata": {},
     "output_type": "execute_result"
    }
   ],
   "source": [
    "visit.get_code_list(table='NOTEEVENTS_ICD')"
   ]
  },
  {
   "cell_type": "markdown",
   "metadata": {},
   "source": [
    "## Modelling data for task of Drug Recommendation"
   ]
  },
  {
   "cell_type": "code",
   "execution_count": 3,
   "metadata": {},
   "outputs": [
    {
     "name": "stderr",
     "output_type": "stream",
     "text": [
      "Generating samples for drug_recommendation_mimic3_fn: 100%|██████████| 1560/1560 [00:00<00:00, 9565.29it/s]\n"
     ]
    }
   ],
   "source": [
    "from pyhealth.tasks import drug_recommendation_mimic3_fn\n",
    "from pyhealth.datasets import split_by_patient, get_dataloader\n",
    "\n",
    "mimic3sample = dataset.set_task(task_fn=drug_recommendation_mimic3_fn) # use default task\n",
    "train_ds, val_ds, test_ds = split_by_patient(mimic3sample, [0.8, 0.1, 0.1])"
   ]
  },
  {
   "cell_type": "code",
   "execution_count": 4,
   "metadata": {},
   "outputs": [
    {
     "name": "stdout",
     "output_type": "stream",
     "text": [
      "Statistics of sample dataset:\n",
      "\t- Dataset: MIMIC3Dataset\n",
      "\t- Task: drug_recommendation_mimic3_fn\n",
      "\t- Number of samples: 2012\n",
      "\t- Number of patients: 906\n",
      "\t- Number of visits: 2012\n",
      "\t- Number of visits per patient: 2.2208\n",
      "\t- conditions:\n",
      "\t\t- Number of conditions per sample: 18.8827\n",
      "\t\t- Number of unique conditions: 2099\n",
      "\t\t- Distribution of conditions (Top-10): [('4019', 1225), ('4280', 1021), ('42731', 783), ('41401', 767), ('5849', 594), ('25000', 537), ('53081', 458), ('5990', 393), ('40391', 389), ('2724', 386)]\n",
      "\t- procedures:\n",
      "\t\t- Number of procedures per sample: 7.0055\n",
      "\t\t- Number of unique procedures: 733\n",
      "\t\t- Distribution of procedures (Top-10): [('3893', 1047), ('9904', 776), ('9604', 529), ('3995', 505), ('966', 484), ('9671', 477), ('3891', 295), ('9672', 292), ('3961', 267), ('9915', 257)]\n",
      "\t- drugs:\n",
      "\t\t- Number of drugs per sample: 30.2271\n",
      "\t\t- Number of unique drugs: 406\n",
      "\t\t- Distribution of drugs (Top-10): [('B05XA', 1792), ('B01AB', 1561), ('A02BC', 1494), ('N02BE', 1465), ('V06DC', 1383), ('N02AA', 1327), ('A06AA', 1243), ('A06AD', 1182), ('A12CC', 1179), ('C07AB', 1156)]\n",
      "\t- drugs_hist:\n",
      "\t\t- Number of drugs_hist per sample: 21.2758\n",
      "\t\t- Number of unique drugs_hist: 384\n",
      "\t\t- Distribution of drugs_hist (Top-10): [('B05XA', 1287), ('B01AB', 1132), ('A02BC', 1132), ('N02BE', 1006), ('V06DC', 999), ('N02AA', 945), ('A06AA', 831), ('A12CC', 829), ('C07AB', 819), ('A06AD', 802)]\n",
      "\t- symptoms:\n",
      "\t\t- Number of symptoms per sample: 27.8588\n",
      "\t\t- Number of unique symptoms: 714\n",
      "\t\t- Distribution of symptoms (Top-10): [('V419', 3386), ('4019', 2372), ('7823', 2242), ('78060', 2124), ('78096', 2113), ('78650', 1390), ('78609', 1027), ('78605', 1020), ('4289', 1005), ('78900', 901)]\n"
     ]
    },
    {
     "data": {
      "text/plain": [
       "\"Statistics of sample dataset:\\n\\t- Dataset: MIMIC3Dataset\\n\\t- Task: drug_recommendation_mimic3_fn\\n\\t- Number of samples: 2012\\n\\t- Number of patients: 906\\n\\t- Number of visits: 2012\\n\\t- Number of visits per patient: 2.2208\\n\\t- conditions:\\n\\t\\t- Number of conditions per sample: 18.8827\\n\\t\\t- Number of unique conditions: 2099\\n\\t\\t- Distribution of conditions (Top-10): [('4019', 1225), ('4280', 1021), ('42731', 783), ('41401', 767), ('5849', 594), ('25000', 537), ('53081', 458), ('5990', 393), ('40391', 389), ('2724', 386)]\\n\\t- procedures:\\n\\t\\t- Number of procedures per sample: 7.0055\\n\\t\\t- Number of unique procedures: 733\\n\\t\\t- Distribution of procedures (Top-10): [('3893', 1047), ('9904', 776), ('9604', 529), ('3995', 505), ('966', 484), ('9671', 477), ('3891', 295), ('9672', 292), ('3961', 267), ('9915', 257)]\\n\\t- drugs:\\n\\t\\t- Number of drugs per sample: 30.2271\\n\\t\\t- Number of unique drugs: 406\\n\\t\\t- Distribution of drugs (Top-10): [('B05XA', 1792), ('B01AB', 1561), ('A02BC', 1494), ('N02BE', 1465), ('V06DC', 1383), ('N02AA', 1327), ('A06AA', 1243), ('A06AD', 1182), ('A12CC', 1179), ('C07AB', 1156)]\\n\\t- drugs_hist:\\n\\t\\t- Number of drugs_hist per sample: 21.2758\\n\\t\\t- Number of unique drugs_hist: 384\\n\\t\\t- Distribution of drugs_hist (Top-10): [('B05XA', 1287), ('B01AB', 1132), ('A02BC', 1132), ('N02BE', 1006), ('V06DC', 999), ('N02AA', 945), ('A06AA', 831), ('A12CC', 829), ('C07AB', 819), ('A06AD', 802)]\\n\\t- symptoms:\\n\\t\\t- Number of symptoms per sample: 27.8588\\n\\t\\t- Number of unique symptoms: 714\\n\\t\\t- Distribution of symptoms (Top-10): [('V419', 3386), ('4019', 2372), ('7823', 2242), ('78060', 2124), ('78096', 2113), ('78650', 1390), ('78609', 1027), ('78605', 1020), ('4289', 1005), ('78900', 901)]\""
      ]
     },
     "execution_count": 4,
     "metadata": {},
     "output_type": "execute_result"
    }
   ],
   "source": [
    "mimic3sample.stat()"
   ]
  },
  {
   "cell_type": "code",
   "execution_count": 5,
   "metadata": {},
   "outputs": [],
   "source": [
    "# create dataloaders (torch.data.DataLoader)\n",
    "train_loader = get_dataloader(train_ds, batch_size=32, shuffle=True)\n",
    "val_loader = get_dataloader(val_ds, batch_size=32, shuffle=False)\n",
    "test_loader = get_dataloader(test_ds, batch_size=32, shuffle=False)"
   ]
  },
  {
   "cell_type": "code",
   "execution_count": 6,
   "metadata": {},
   "outputs": [
    {
     "data": {
      "text/plain": [
       "(1593, 207, 212)"
      ]
     },
     "execution_count": 6,
     "metadata": {},
     "output_type": "execute_result"
    }
   ],
   "source": [
    "len(train_ds), len(val_ds), len(test_ds)"
   ]
  },
  {
   "cell_type": "code",
   "execution_count": null,
   "metadata": {},
   "outputs": [],
   "source": [
    "test_ds[0]"
   ]
  },
  {
   "cell_type": "markdown",
   "metadata": {},
   "source": [
    "## Our Model"
   ]
  },
  {
   "cell_type": "code",
   "execution_count": 100,
   "metadata": {},
   "outputs": [
    {
     "name": "stdout",
     "output_type": "stream",
     "text": [
      "The autoreload extension is already loaded. To reload it, use:\n",
      "  %reload_ext autoreload\n"
     ]
    },
    {
     "data": {
      "text/plain": [
       "<module 'pyhealth.models' from 'c:\\\\users\\\\giuse\\\\desktop\\\\msc-thesis-project\\\\proj_venv\\\\src\\\\pyhealth\\\\pyhealth\\\\models\\\\__init__.py'>"
      ]
     },
     "execution_count": 100,
     "metadata": {},
     "output_type": "execute_result"
    }
   ],
   "source": [
    "%load_ext autoreload\n",
    "%autoreload 2\n",
    "\n",
    "import importlib\n",
    "import pyhealth.models\n",
    "\n",
    "importlib.reload(pyhealth.models)"
   ]
  },
  {
   "cell_type": "code",
   "execution_count": 101,
   "metadata": {},
   "outputs": [],
   "source": [
    "from pyhealth.models import GNN\n",
    "\n",
    "model = GNN(\n",
    "    dataset=mimic3sample,\n",
    "    feature_keys=[\"procedures\", \"symptoms\", \"conditions\"],\n",
    "    label_key=\"drugs\",\n",
    "    k=0\n",
    ")"
   ]
  },
  {
   "cell_type": "code",
   "execution_count": 102,
   "metadata": {},
   "outputs": [
    {
     "name": "stdout",
     "output_type": "stream",
     "text": [
      "GNN(\n",
      "  (x_dict): X_Dict(\n",
      "    (pat_emb): Embedding(906, 128)\n",
      "    (vis_emb): Embedding(2012, 128)\n",
      "    (symp_emb): Embedding(714, 128)\n",
      "    (proc_emb): Embedding(733, 128)\n",
      "    (dis_emb): Embedding(2099, 128)\n",
      "    (drug_emb): Embedding(406, 128)\n",
      "  )\n",
      "  (layer): GNNLayer(\n",
      "    (gnn): GraphModule(\n",
      "      (conv1): ModuleDict(\n",
      "        (patient__has__visit): SAGEConv((-1, -1), 128, aggr=mean)\n",
      "        (visit__presents__symptom): SAGEConv((-1, -1), 128, aggr=mean)\n",
      "        (visit__has__disease): SAGEConv((-1, -1), 128, aggr=mean)\n",
      "        (visit__has_treat__procedure): SAGEConv((-1, -1), 128, aggr=mean)\n",
      "        (visit__has_received__drug): SAGEConv((-1, -1), 128, aggr=mean)\n",
      "        (visit__rev_has__patient): SAGEConv((-1, -1), 128, aggr=mean)\n",
      "        (symptom__rev_presents__visit): SAGEConv((-1, -1), 128, aggr=mean)\n",
      "        (disease__rev_has__visit): SAGEConv((-1, -1), 128, aggr=mean)\n",
      "        (procedure__rev_has_treat__visit): SAGEConv((-1, -1), 128, aggr=mean)\n",
      "        (drug__rev_has_received__visit): SAGEConv((-1, -1), 128, aggr=mean)\n",
      "      )\n",
      "      (bn1): ModuleDict(\n",
      "        (patient): BatchNorm1d(128, eps=1e-05, momentum=0.1, affine=True, track_running_stats=True)\n",
      "        (visit): BatchNorm1d(128, eps=1e-05, momentum=0.1, affine=True, track_running_stats=True)\n",
      "        (symptom): BatchNorm1d(128, eps=1e-05, momentum=0.1, affine=True, track_running_stats=True)\n",
      "        (procedure): BatchNorm1d(128, eps=1e-05, momentum=0.1, affine=True, track_running_stats=True)\n",
      "        (disease): BatchNorm1d(128, eps=1e-05, momentum=0.1, affine=True, track_running_stats=True)\n",
      "        (drug): BatchNorm1d(128, eps=1e-05, momentum=0.1, affine=True, track_running_stats=True)\n",
      "      )\n",
      "      (conv2): ModuleDict(\n",
      "        (patient__has__visit): SAGEConv((-1, -1), 128, aggr=mean)\n",
      "        (visit__presents__symptom): SAGEConv((-1, -1), 128, aggr=mean)\n",
      "        (visit__has__disease): SAGEConv((-1, -1), 128, aggr=mean)\n",
      "        (visit__has_treat__procedure): SAGEConv((-1, -1), 128, aggr=mean)\n",
      "        (visit__has_received__drug): SAGEConv((-1, -1), 128, aggr=mean)\n",
      "        (visit__rev_has__patient): SAGEConv((-1, -1), 128, aggr=mean)\n",
      "        (symptom__rev_presents__visit): SAGEConv((-1, -1), 128, aggr=mean)\n",
      "        (disease__rev_has__visit): SAGEConv((-1, -1), 128, aggr=mean)\n",
      "        (procedure__rev_has_treat__visit): SAGEConv((-1, -1), 128, aggr=mean)\n",
      "        (drug__rev_has_received__visit): SAGEConv((-1, -1), 128, aggr=mean)\n",
      "      )\n",
      "      (bn2): ModuleDict(\n",
      "        (patient): BatchNorm1d(128, eps=1e-05, momentum=0.1, affine=True, track_running_stats=True)\n",
      "        (visit): BatchNorm1d(128, eps=1e-05, momentum=0.1, affine=True, track_running_stats=True)\n",
      "        (symptom): BatchNorm1d(128, eps=1e-05, momentum=0.1, affine=True, track_running_stats=True)\n",
      "        (procedure): BatchNorm1d(128, eps=1e-05, momentum=0.1, affine=True, track_running_stats=True)\n",
      "        (disease): BatchNorm1d(128, eps=1e-05, momentum=0.1, affine=True, track_running_stats=True)\n",
      "        (drug): BatchNorm1d(128, eps=1e-05, momentum=0.1, affine=True, track_running_stats=True)\n",
      "      )\n",
      "      (conv3): ModuleDict(\n",
      "        (patient__has__visit): SAGEConv((-1, -1), 128, aggr=mean)\n",
      "        (visit__presents__symptom): SAGEConv((-1, -1), 128, aggr=mean)\n",
      "        (visit__has__disease): SAGEConv((-1, -1), 128, aggr=mean)\n",
      "        (visit__has_treat__procedure): SAGEConv((-1, -1), 128, aggr=mean)\n",
      "        (visit__has_received__drug): SAGEConv((-1, -1), 128, aggr=mean)\n",
      "        (visit__rev_has__patient): SAGEConv((-1, -1), 128, aggr=mean)\n",
      "        (symptom__rev_presents__visit): SAGEConv((-1, -1), 128, aggr=mean)\n",
      "        (disease__rev_has__visit): SAGEConv((-1, -1), 128, aggr=mean)\n",
      "        (procedure__rev_has_treat__visit): SAGEConv((-1, -1), 128, aggr=mean)\n",
      "        (drug__rev_has_received__visit): SAGEConv((-1, -1), 128, aggr=mean)\n",
      "      )\n",
      "      (bn3): ModuleDict(\n",
      "        (patient): BatchNorm1d(128, eps=1e-05, momentum=0.1, affine=True, track_running_stats=True)\n",
      "        (visit): BatchNorm1d(128, eps=1e-05, momentum=0.1, affine=True, track_running_stats=True)\n",
      "        (symptom): BatchNorm1d(128, eps=1e-05, momentum=0.1, affine=True, track_running_stats=True)\n",
      "        (procedure): BatchNorm1d(128, eps=1e-05, momentum=0.1, affine=True, track_running_stats=True)\n",
      "        (disease): BatchNorm1d(128, eps=1e-05, momentum=0.1, affine=True, track_running_stats=True)\n",
      "        (drug): BatchNorm1d(128, eps=1e-05, momentum=0.1, affine=True, track_running_stats=True)\n",
      "      )\n",
      "      (conv4): ModuleDict(\n",
      "        (patient__has__visit): SAGEConv((-1, -1), 128, aggr=mean)\n",
      "        (visit__presents__symptom): SAGEConv((-1, -1), 128, aggr=mean)\n",
      "        (visit__has__disease): SAGEConv((-1, -1), 128, aggr=mean)\n",
      "        (visit__has_treat__procedure): SAGEConv((-1, -1), 128, aggr=mean)\n",
      "        (visit__has_received__drug): SAGEConv((-1, -1), 128, aggr=mean)\n",
      "        (visit__rev_has__patient): SAGEConv((-1, -1), 128, aggr=mean)\n",
      "        (symptom__rev_presents__visit): SAGEConv((-1, -1), 128, aggr=mean)\n",
      "        (disease__rev_has__visit): SAGEConv((-1, -1), 128, aggr=mean)\n",
      "        (procedure__rev_has_treat__visit): SAGEConv((-1, -1), 128, aggr=mean)\n",
      "        (drug__rev_has_received__visit): SAGEConv((-1, -1), 128, aggr=mean)\n",
      "      )\n",
      "      (bn4): ModuleDict(\n",
      "        (patient): BatchNorm1d(128, eps=1e-05, momentum=0.1, affine=True, track_running_stats=True)\n",
      "        (visit): BatchNorm1d(128, eps=1e-05, momentum=0.1, affine=True, track_running_stats=True)\n",
      "        (symptom): BatchNorm1d(128, eps=1e-05, momentum=0.1, affine=True, track_running_stats=True)\n",
      "        (procedure): BatchNorm1d(128, eps=1e-05, momentum=0.1, affine=True, track_running_stats=True)\n",
      "        (disease): BatchNorm1d(128, eps=1e-05, momentum=0.1, affine=True, track_running_stats=True)\n",
      "        (drug): BatchNorm1d(128, eps=1e-05, momentum=0.1, affine=True, track_running_stats=True)\n",
      "      )\n",
      "      (dropout): ModuleDict(\n",
      "        (patient): Dropout(p=0.4, inplace=False)\n",
      "        (visit): Dropout(p=0.4, inplace=False)\n",
      "        (symptom): Dropout(p=0.4, inplace=False)\n",
      "        (procedure): Dropout(p=0.4, inplace=False)\n",
      "        (disease): Dropout(p=0.4, inplace=False)\n",
      "        (drug): Dropout(p=0.4, inplace=False)\n",
      "      )\n",
      "    )\n",
      "    (classifier): Classifier(\n",
      "      (lin1): Linear(in_features=256, out_features=128, bias=True)\n",
      "      (lin2): Linear(in_features=128, out_features=1, bias=True)\n",
      "    )\n",
      "  )\n",
      ")\n",
      "Metrics: None\n",
      "Device: cpu\n",
      "\n",
      "Training:\n",
      "Batch size: 32\n",
      "Optimizer: <class 'torch.optim.adam.Adam'>\n",
      "Optimizer params: {'lr': 0.0002}\n",
      "Weight decay: 0.0\n",
      "Max grad norm: None\n",
      "Val dataloader: <torch.utils.data.dataloader.DataLoader object at 0x000001485BB81790>\n",
      "Monitor: pr_auc_samples\n",
      "Monitor criterion: max\n",
      "Epochs: 10\n",
      "\n"
     ]
    },
    {
     "data": {
      "application/vnd.jupyter.widget-view+json": {
       "model_id": "065ff0a839bf482c93e48c14214b901b",
       "version_major": 2,
       "version_minor": 0
      },
      "text/plain": [
       "Epoch 0 / 10:   0%|          | 0/50 [00:00<?, ?it/s]"
      ]
     },
     "metadata": {},
     "output_type": "display_data"
    },
    {
     "name": "stdout",
     "output_type": "stream",
     "text": [
      "--- Train epoch-0, step-50 ---\n",
      "loss: 0.3453\n"
     ]
    },
    {
     "name": "stderr",
     "output_type": "stream",
     "text": [
      "Evaluation: 100%|██████████| 7/7 [00:00<00:00,  9.36it/s]"
     ]
    },
    {
     "name": "stdout",
     "output_type": "stream",
     "text": [
      "--- Eval epoch-0, step-50 ---\n",
      "pr_auc_samples: 0.3862\n",
      "loss: 0.2770\n",
      "New best pr_auc_samples score (0.3862) at epoch-0, step-50\n"
     ]
    },
    {
     "name": "stderr",
     "output_type": "stream",
     "text": [
      "\n"
     ]
    },
    {
     "name": "stdout",
     "output_type": "stream",
     "text": [
      "\n"
     ]
    },
    {
     "data": {
      "application/vnd.jupyter.widget-view+json": {
       "model_id": "22ad4cd047ac4f57a8a1025d00264d6a",
       "version_major": 2,
       "version_minor": 0
      },
      "text/plain": [
       "Epoch 1 / 10:   0%|          | 0/50 [00:00<?, ?it/s]"
      ]
     },
     "metadata": {},
     "output_type": "display_data"
    },
    {
     "name": "stdout",
     "output_type": "stream",
     "text": [
      "--- Train epoch-1, step-100 ---\n",
      "loss: 0.2093\n"
     ]
    },
    {
     "name": "stderr",
     "output_type": "stream",
     "text": [
      "Evaluation: 100%|██████████| 7/7 [00:00<00:00,  8.96it/s]"
     ]
    },
    {
     "name": "stdout",
     "output_type": "stream",
     "text": [
      "--- Eval epoch-1, step-100 ---\n"
     ]
    },
    {
     "name": "stderr",
     "output_type": "stream",
     "text": [
      "\n"
     ]
    },
    {
     "name": "stdout",
     "output_type": "stream",
     "text": [
      "pr_auc_samples: 0.4899\n",
      "loss: 0.1713\n",
      "New best pr_auc_samples score (0.4899) at epoch-1, step-100\n",
      "\n"
     ]
    },
    {
     "data": {
      "application/vnd.jupyter.widget-view+json": {
       "model_id": "137ce1e2b0414837a5fa84c0d8130f86",
       "version_major": 2,
       "version_minor": 0
      },
      "text/plain": [
       "Epoch 2 / 10:   0%|          | 0/50 [00:00<?, ?it/s]"
      ]
     },
     "metadata": {},
     "output_type": "display_data"
    },
    {
     "name": "stdout",
     "output_type": "stream",
     "text": [
      "--- Train epoch-2, step-150 ---\n",
      "loss: 0.1489\n"
     ]
    },
    {
     "name": "stderr",
     "output_type": "stream",
     "text": [
      "Evaluation: 100%|██████████| 7/7 [00:00<00:00,  9.63it/s]"
     ]
    },
    {
     "name": "stdout",
     "output_type": "stream",
     "text": [
      "--- Eval epoch-2, step-150 ---\n",
      "pr_auc_samples: 0.5311\n",
      "loss: 0.1486\n",
      "New best pr_auc_samples score (0.5311) at epoch-2, step-150\n"
     ]
    },
    {
     "name": "stderr",
     "output_type": "stream",
     "text": [
      "\n"
     ]
    },
    {
     "name": "stdout",
     "output_type": "stream",
     "text": [
      "\n"
     ]
    },
    {
     "data": {
      "application/vnd.jupyter.widget-view+json": {
       "model_id": "a5526b2e68b9465bae7e07c1d2ce6cf5",
       "version_major": 2,
       "version_minor": 0
      },
      "text/plain": [
       "Epoch 3 / 10:   0%|          | 0/50 [00:00<?, ?it/s]"
      ]
     },
     "metadata": {},
     "output_type": "display_data"
    },
    {
     "name": "stdout",
     "output_type": "stream",
     "text": [
      "--- Train epoch-3, step-200 ---\n",
      "loss: 0.1353\n"
     ]
    },
    {
     "name": "stderr",
     "output_type": "stream",
     "text": [
      "Evaluation: 100%|██████████| 7/7 [00:00<00:00,  9.25it/s]\n"
     ]
    },
    {
     "name": "stdout",
     "output_type": "stream",
     "text": [
      "--- Eval epoch-3, step-200 ---\n",
      "pr_auc_samples: 0.5522\n",
      "loss: 0.1415\n",
      "New best pr_auc_samples score (0.5522) at epoch-3, step-200\n",
      "\n"
     ]
    },
    {
     "data": {
      "application/vnd.jupyter.widget-view+json": {
       "model_id": "85c1bcc1fc8f4183b6ad8256375057c3",
       "version_major": 2,
       "version_minor": 0
      },
      "text/plain": [
       "Epoch 4 / 10:   0%|          | 0/50 [00:00<?, ?it/s]"
      ]
     },
     "metadata": {},
     "output_type": "display_data"
    },
    {
     "name": "stdout",
     "output_type": "stream",
     "text": [
      "--- Train epoch-4, step-250 ---\n",
      "loss: 0.1297\n"
     ]
    },
    {
     "name": "stderr",
     "output_type": "stream",
     "text": [
      "Evaluation: 100%|██████████| 7/7 [00:00<00:00,  9.25it/s]"
     ]
    },
    {
     "name": "stdout",
     "output_type": "stream",
     "text": [
      "--- Eval epoch-4, step-250 ---\n"
     ]
    },
    {
     "name": "stderr",
     "output_type": "stream",
     "text": [
      "\n"
     ]
    },
    {
     "name": "stdout",
     "output_type": "stream",
     "text": [
      "pr_auc_samples: 0.5594\n",
      "loss: 0.1381\n",
      "New best pr_auc_samples score (0.5594) at epoch-4, step-250\n",
      "\n"
     ]
    },
    {
     "data": {
      "application/vnd.jupyter.widget-view+json": {
       "model_id": "129b9d5f423a4f9c819965dab8cad539",
       "version_major": 2,
       "version_minor": 0
      },
      "text/plain": [
       "Epoch 5 / 10:   0%|          | 0/50 [00:00<?, ?it/s]"
      ]
     },
     "metadata": {},
     "output_type": "display_data"
    },
    {
     "name": "stdout",
     "output_type": "stream",
     "text": [
      "--- Train epoch-5, step-300 ---\n",
      "loss: 0.1251\n"
     ]
    },
    {
     "name": "stderr",
     "output_type": "stream",
     "text": [
      "Evaluation: 100%|██████████| 7/7 [00:01<00:00,  4.39it/s]"
     ]
    },
    {
     "name": "stdout",
     "output_type": "stream",
     "text": [
      "--- Eval epoch-5, step-300 ---\n",
      "pr_auc_samples: 0.5643\n",
      "loss: 0.1350\n"
     ]
    },
    {
     "name": "stderr",
     "output_type": "stream",
     "text": [
      "\n"
     ]
    },
    {
     "name": "stdout",
     "output_type": "stream",
     "text": [
      "New best pr_auc_samples score (0.5643) at epoch-5, step-300\n",
      "\n"
     ]
    },
    {
     "data": {
      "application/vnd.jupyter.widget-view+json": {
       "model_id": "15692504642a4379b175fca1086204c1",
       "version_major": 2,
       "version_minor": 0
      },
      "text/plain": [
       "Epoch 6 / 10:   0%|          | 0/50 [00:00<?, ?it/s]"
      ]
     },
     "metadata": {},
     "output_type": "display_data"
    },
    {
     "name": "stdout",
     "output_type": "stream",
     "text": [
      "--- Train epoch-6, step-350 ---\n",
      "loss: 0.1214\n"
     ]
    },
    {
     "name": "stderr",
     "output_type": "stream",
     "text": [
      "Evaluation: 100%|██████████| 7/7 [00:00<00:00, 10.56it/s]\n"
     ]
    },
    {
     "name": "stdout",
     "output_type": "stream",
     "text": [
      "--- Eval epoch-6, step-350 ---\n",
      "pr_auc_samples: 0.5680\n",
      "loss: 0.1322\n",
      "New best pr_auc_samples score (0.5680) at epoch-6, step-350\n",
      "\n"
     ]
    },
    {
     "data": {
      "application/vnd.jupyter.widget-view+json": {
       "model_id": "28e5299f9d304910839719d3a3d095ba",
       "version_major": 2,
       "version_minor": 0
      },
      "text/plain": [
       "Epoch 7 / 10:   0%|          | 0/50 [00:00<?, ?it/s]"
      ]
     },
     "metadata": {},
     "output_type": "display_data"
    },
    {
     "name": "stdout",
     "output_type": "stream",
     "text": [
      "--- Train epoch-7, step-400 ---\n",
      "loss: 0.1184\n"
     ]
    },
    {
     "name": "stderr",
     "output_type": "stream",
     "text": [
      "Evaluation: 100%|██████████| 7/7 [00:01<00:00,  4.86it/s]"
     ]
    },
    {
     "name": "stdout",
     "output_type": "stream",
     "text": [
      "--- Eval epoch-7, step-400 ---\n",
      "pr_auc_samples: 0.5720\n",
      "loss: 0.1298\n",
      "New best pr_auc_samples score (0.5720) at epoch-7, step-400\n"
     ]
    },
    {
     "name": "stderr",
     "output_type": "stream",
     "text": [
      "\n"
     ]
    },
    {
     "name": "stdout",
     "output_type": "stream",
     "text": [
      "\n"
     ]
    },
    {
     "data": {
      "application/vnd.jupyter.widget-view+json": {
       "model_id": "ab4403eddf6f42c7958d7a713ab3e8d8",
       "version_major": 2,
       "version_minor": 0
      },
      "text/plain": [
       "Epoch 8 / 10:   0%|          | 0/50 [00:00<?, ?it/s]"
      ]
     },
     "metadata": {},
     "output_type": "display_data"
    },
    {
     "name": "stdout",
     "output_type": "stream",
     "text": [
      "--- Train epoch-8, step-450 ---\n",
      "loss: 0.1157\n"
     ]
    },
    {
     "name": "stderr",
     "output_type": "stream",
     "text": [
      "Evaluation: 100%|██████████| 7/7 [00:00<00:00, 11.66it/s]\n"
     ]
    },
    {
     "name": "stdout",
     "output_type": "stream",
     "text": [
      "--- Eval epoch-8, step-450 ---\n",
      "pr_auc_samples: 0.5779\n",
      "loss: 0.1275\n",
      "New best pr_auc_samples score (0.5779) at epoch-8, step-450\n",
      "\n"
     ]
    },
    {
     "data": {
      "application/vnd.jupyter.widget-view+json": {
       "model_id": "e06523383acf4d9985b19a94b703657d",
       "version_major": 2,
       "version_minor": 0
      },
      "text/plain": [
       "Epoch 9 / 10:   0%|          | 0/50 [00:00<?, ?it/s]"
      ]
     },
     "metadata": {},
     "output_type": "display_data"
    },
    {
     "name": "stdout",
     "output_type": "stream",
     "text": [
      "--- Train epoch-9, step-500 ---\n",
      "loss: 0.1119\n"
     ]
    },
    {
     "name": "stderr",
     "output_type": "stream",
     "text": [
      "Evaluation: 100%|██████████| 7/7 [00:01<00:00,  5.59it/s]"
     ]
    },
    {
     "name": "stdout",
     "output_type": "stream",
     "text": [
      "--- Eval epoch-9, step-500 ---\n",
      "pr_auc_samples: 0.5868\n",
      "loss: 0.1249\n",
      "New best pr_auc_samples score (0.5868) at epoch-9, step-500\n",
      "Loaded best model\n"
     ]
    },
    {
     "name": "stderr",
     "output_type": "stream",
     "text": [
      "\n"
     ]
    },
    {
     "data": {
      "image/png": "[encoded data removed]",
      "text/plain": [
       "<Figure size 1000x1000 with 1 Axes>"
      ]
     },
     "metadata": {},
     "output_type": "display_data"
    }
   ],
   "source": [
    "from pyhealth.trainer import Trainer\n",
    "\n",
    "trainer = Trainer(model=model)\n",
    "trainer.train(\n",
    "    model_name=\"gnn\",\n",
    "    train_dataloader=train_loader,\n",
    "    val_dataloader=val_loader,\n",
    "    epochs=10,\n",
    "    optimizer_params = {\"lr\": 2 * 1e-4},\n",
    "    monitor=\"pr_auc_samples\",\n",
    "    monitor_criterion=\"max\",\n",
    ")"
   ]
  },
  {
   "cell_type": "markdown",
   "metadata": {},
   "source": [
    "### Results"
   ]
  },
  {
   "attachments": {
    "image-2.png": {
     "image/png": "[encoded data removed]"
    }
   },
   "cell_type": "markdown",
   "metadata": {},
   "source": [
    "loss: 0.0714\n",
    "New best pr_auc_samples score (0.7785) at epoch-49, step-2550\n",
    "\n",
    "![image-2.png](attachment:image-2.png)"
   ]
  },
  {
   "cell_type": "markdown",
   "metadata": {},
   "source": [
    "### Inference"
   ]
  },
  {
   "cell_type": "code",
   "execution_count": 103,
   "metadata": {},
   "outputs": [
    {
     "name": "stderr",
     "output_type": "stream",
     "text": [
      "Evaluation: 100%|██████████| 7/7 [00:00<00:00, 10.25it/s]"
     ]
    },
    {
     "name": "stdout",
     "output_type": "stream",
     "text": [
      "0.11576942673751286\n"
     ]
    },
    {
     "name": "stderr",
     "output_type": "stream",
     "text": [
      "\n"
     ]
    }
   ],
   "source": [
    "from pyhealth.metrics import multilabel_metrics_fn\n",
    "\n",
    "y_true, y_prob, loss = trainer.inference(test_loader)\n",
    "print(loss)"
   ]
  },
  {
   "cell_type": "code",
   "execution_count": 104,
   "metadata": {},
   "outputs": [
    {
     "name": "stdout",
     "output_type": "stream",
     "text": [
      "(212, 406)\n",
      "(79802,)\n",
      "(6270,)\n"
     ]
    }
   ],
   "source": [
    "print(y_true.shape)\n",
    "\n",
    "print(y_true[y_true == 0].shape)\n",
    "print(y_true[y_true == 1].shape)"
   ]
  },
  {
   "cell_type": "code",
   "execution_count": 105,
   "metadata": {},
   "outputs": [
    {
     "name": "stdout",
     "output_type": "stream",
     "text": [
      "(212, 406)\n",
      "0.9725289\n",
      "0.00018993951\n"
     ]
    }
   ],
   "source": [
    "print(y_prob.shape)\n",
    "print(y_prob.max())\n",
    "print(y_prob.min())"
   ]
  },
  {
   "cell_type": "code",
   "execution_count": 106,
   "metadata": {},
   "outputs": [
    {
     "name": "stdout",
     "output_type": "stream",
     "text": [
      "[[0. 0. 0. ... 0. 1. 0.]\n",
      " [0. 0. 0. ... 0. 1. 0.]\n",
      " [0. 0. 0. ... 1. 1. 0.]\n",
      " ...\n",
      " [0. 0. 0. ... 0. 0. 0.]\n",
      " [0. 0. 0. ... 0. 0. 0.]\n",
      " [0. 0. 0. ... 0. 0. 0.]]\n",
      "------------------\n",
      "[[0. 0. 0. ... 0. 1. 0.]\n",
      " [0. 0. 0. ... 0. 1. 0.]\n",
      " [0. 0. 0. ... 0. 1. 0.]\n",
      " ...\n",
      " [0. 0. 0. ... 0. 1. 0.]\n",
      " [0. 0. 0. ... 0. 1. 0.]\n",
      " [0. 0. 0. ... 0. 1. 0.]]\n",
      "(80947,)\n",
      "(5125,)\n"
     ]
    }
   ],
   "source": [
    "print(y_true)\n",
    "print(\"------------------\")\n",
    "threshold = 0.5\n",
    "y_prob_threshold = (y_prob >= threshold).astype(float)\n",
    "print(y_prob_threshold)\n",
    "print(y_prob_threshold[y_prob_threshold == 0].shape)\n",
    "print(y_prob_threshold[y_prob_threshold == 1].shape)"
   ]
  },
  {
   "cell_type": "code",
   "execution_count": 107,
   "metadata": {},
   "outputs": [
    {
     "data": {
      "text/plain": [
       "{'accuracy': 0.9362975183567246,\n",
       " 'f1_samples': 0.5023587487116475,\n",
       " 'pr_auc_samples': 0.5732474636345122,\n",
       " 'jaccard_samples': 0.34442470247329904,\n",
       " 'precision_samples': 0.5725188424217476,\n",
       " 'recall_samples': 0.4791821087517637}"
      ]
     },
     "execution_count": 107,
     "metadata": {},
     "output_type": "execute_result"
    }
   ],
   "source": [
    "# risultati\n",
    "metrics = [\"accuracy\", \"f1_samples\", \"pr_auc_samples\", \"jaccard_samples\", \"precision_samples\", \"recall_samples\"]\n",
    "multilabel_metrics_fn(y_true, y_prob, metrics=metrics, threshold=0.5)"
   ]
  },
  {
   "cell_type": "code",
   "execution_count": 128,
   "metadata": {},
   "outputs": [
    {
     "data": {
      "image/png": "[encoded data removed]",
      "text/plain": [
       "<Figure size 700x700 with 2 Axes>"
      ]
     },
     "metadata": {},
     "output_type": "display_data"
    }
   ],
   "source": [
    "from sklearn.metrics import confusion_matrix\n",
    "import matplotlib.pyplot as plt\n",
    "import seaborn as sns\n",
    "\n",
    "conf_matrix = confusion_matrix(y_true.flatten(), y_prob_threshold.flatten())\n",
    "\n",
    "sns.heatmap(conf_matrix, annot=True, cmap=\"Blues\", fmt=\".0f\")\n",
    "plt.xlabel(\"Predicted Labels\")\n",
    "plt.ylabel(\"True Labels\")\n",
    "plt.title(\"Confusion Matrix\")\n",
    "plt.show()"
   ]
  },
  {
   "cell_type": "markdown",
   "metadata": {},
   "source": [
    "### Interpretability"
   ]
  },
  {
   "cell_type": "code",
   "execution_count": 127,
   "metadata": {},
   "outputs": [
    {
     "data": {
      "text/plain": [
       "HeteroData(\n",
       "  patient={ node_id=[9] },\n",
       "  visit={ node_id=[20] },\n",
       "  symptom={ node_id=[120] },\n",
       "  procedure={ node_id=[58] },\n",
       "  disease={ node_id=[157] },\n",
       "  drug={ node_id=[406] },\n",
       "  (patient, has, visit)={ edge_index=[2, 353] },\n",
       "  (visit, presents, symptom)={ edge_index=[2, 353] },\n",
       "  (visit, has, disease)={ edge_index=[2, 226] },\n",
       "  (visit, has_treat, procedure)={ edge_index=[2, 102] },\n",
       "  (visit, has_received, drug)={\n",
       "    edge_index=[2, 594],\n",
       "    edge_label_index=[2, 8120],\n",
       "    edge_label=[8120],\n",
       "  },\n",
       "  (visit, rev_has, patient)={ edge_index=[2, 353] },\n",
       "  (symptom, rev_presents, visit)={ edge_index=[2, 353] },\n",
       "  (disease, rev_has, visit)={ edge_index=[2, 226] },\n",
       "  (procedure, rev_has_treat, visit)={ edge_index=[2, 102] },\n",
       "  (drug, rev_has_received, visit)={ edge_index=[2, 594] }\n",
       ")"
      ]
     },
     "execution_count": 127,
     "metadata": {},
     "output_type": "execute_result"
    }
   ],
   "source": [
    "graph_sample = model.subgraph\n",
    "graph_sample"
   ]
  },
  {
   "cell_type": "code",
   "execution_count": 126,
   "metadata": {},
   "outputs": [
    {
     "data": {
      "text/plain": [
       "HeteroData(\n",
       "  patient={ node_id=[1] },\n",
       "  visit={ node_id=[2012] },\n",
       "  symptom={ node_id=[714] },\n",
       "  procedure={ node_id=[733] },\n",
       "  disease={ node_id=[2099] },\n",
       "  drug={ node_id=[406] },\n",
       "  (patient, has, visit)={ edge_index=[2, 51] },\n",
       "  (visit, presents, symptom)={ edge_index=[2, 32116] },\n",
       "  (visit, has, disease)={ edge_index=[2, 22069] },\n",
       "  (visit, has_treat, procedure)={ edge_index=[2, 8538] },\n",
       "  (visit, has_received, drug)={ edge_index=[2, 60817] },\n",
       "  (visit, rev_has, patient)={ edge_index=[2, 51] },\n",
       "  (symptom, rev_presents, visit)={ edge_index=[2, 32116] },\n",
       "  (disease, rev_has, visit)={ edge_index=[2, 22069] },\n",
       "  (procedure, rev_has_treat, visit)={ edge_index=[2, 8538] },\n",
       "  (drug, rev_has_received, visit)={ edge_index=[2, 60817] }\n",
       ")"
      ]
     },
     "execution_count": 126,
     "metadata": {},
     "output_type": "execute_result"
    }
   ],
   "source": [
    "import torch\n",
    "prova = model.graph.subgraph({\"patient\": torch.tensor([0])})\n",
    "prova"
   ]
  },
  {
   "cell_type": "code",
   "execution_count": 110,
   "metadata": {},
   "outputs": [
    {
     "name": "stderr",
     "output_type": "stream",
     "text": [
      "c:\\Users\\giuse\\Desktop\\MSc-Thesis-Project\\proj_venv\\lib\\site-packages\\torch_geometric\\explain\\algorithm\\captum_explainer.py:76: UserWarning: Overriding 'internal_batch_size' to 1\n",
      "  warnings.warn(\"Overriding 'internal_batch_size' to 1\")\n"
     ]
    }
   ],
   "source": [
    "from torch_geometric.explain import CaptumExplainer, Explainer\n",
    "\n",
    "explainer = Explainer(\n",
    "    model=model.layer,\n",
    "    algorithm=CaptumExplainer('IntegratedGradients', n_steps=300, method='riemann_trapezoid',\n",
    "                              internal_batch_size=graph_sample['visit', 'drug'].edge_index.shape[1]), # HYPERPARAMETERS\n",
    "    explanation_type='model',\n",
    "    model_config=dict(\n",
    "        mode='binary_classification',\n",
    "        task_level='edge',\n",
    "        return_type='probs',\n",
    "    ),\n",
    "    node_mask_type='attributes',\n",
    "    edge_mask_type='object',\n",
    "    threshold_config=dict(\n",
    "        threshold_type='topk',\n",
    "        value=3,\n",
    "    ),\n",
    ")"
   ]
  },
  {
   "cell_type": "code",
   "execution_count": 111,
   "metadata": {},
   "outputs": [
    {
     "data": {
      "text/plain": [
       "{'patient': tensor([[-0.6113, -0.4214, -0.0727,  ..., -1.3359,  0.6983, -0.0109],\n",
       "         [-1.7874, -0.0459,  0.4363,  ...,  0.2400,  0.1373,  0.4260],\n",
       "         [-0.4017,  1.6071,  0.9288,  ..., -0.8085,  0.2327,  1.4571],\n",
       "         ...,\n",
       "         [-1.8010, -1.4584,  1.4391,  ..., -0.6845,  0.2327, -0.7507],\n",
       "         [ 1.3441,  1.3908,  0.2974,  ..., -1.6685,  1.4718,  2.1661],\n",
       "         [-1.2096, -0.0709, -1.1637,  ..., -0.3300,  0.6238, -1.5448]],\n",
       "        grad_fn=<EmbeddingBackward0>),\n",
       " 'visit': tensor([[-0.2072,  0.3945,  1.0926,  ..., -0.2089, -1.2793,  0.5645],\n",
       "         [-0.6903, -0.1657,  1.3358,  ...,  2.7119, -0.3937, -0.2164],\n",
       "         [-1.2739, -0.5921,  0.8335,  ..., -2.6610, -1.2454,  0.9941],\n",
       "         ...,\n",
       "         [ 0.2888, -0.3154,  0.8112,  ..., -1.3841, -0.0815,  0.8904],\n",
       "         [-0.9240,  0.2436, -1.3110,  ...,  1.2069, -0.8590,  0.3524],\n",
       "         [-0.9552, -0.6061, -0.0325,  ...,  0.6607, -0.5021,  0.8140]],\n",
       "        grad_fn=<EmbeddingBackward0>),\n",
       " 'symptom': tensor([[ 0.4480, -1.1645,  0.5880,  ..., -1.3610,  0.5114, -1.9735],\n",
       "         [ 0.8591, -0.3475,  2.1575,  ...,  0.2147, -1.5863,  0.3255],\n",
       "         [ 0.2193,  1.5312,  1.0929,  ...,  1.1065, -0.7982,  0.1121],\n",
       "         ...,\n",
       "         [ 0.1979, -0.0291, -0.4559,  ...,  0.1324,  0.7727,  0.2370],\n",
       "         [-0.4631, -0.0609,  1.0834,  ..., -0.0234,  0.8562,  0.3679],\n",
       "         [-0.4276, -1.2686,  1.0062,  ...,  0.2090,  0.8145,  0.0601]],\n",
       "        grad_fn=<EmbeddingBackward0>),\n",
       " 'procedure': tensor([[-0.6309, -0.0379, -0.0757,  ...,  0.0906, -0.5271,  1.3980],\n",
       "         [-1.0323, -0.0752, -0.3431,  ..., -0.3490,  0.3868, -1.2065],\n",
       "         [ 1.1669,  1.8937, -0.3846,  ...,  0.1496, -0.4094, -0.9439],\n",
       "         ...,\n",
       "         [-0.3416,  0.1113, -1.5005,  ..., -1.1513, -0.5772, -1.1207],\n",
       "         [-0.7802, -0.4110, -0.6598,  ..., -0.7301,  0.5276, -0.0713],\n",
       "         [ 0.4383, -1.3304, -0.1989,  ..., -0.3328, -1.7278, -0.3744]],\n",
       "        grad_fn=<EmbeddingBackward0>),\n",
       " 'disease': tensor([[ 0.9074, -0.0602,  0.2001,  ...,  0.0316, -1.0142, -0.1239],\n",
       "         [-0.4971, -0.3267, -0.5589,  ..., -0.1233,  0.0455,  0.7010],\n",
       "         [-0.0866, -0.3593, -0.5568,  ..., -0.9448,  0.4864, -1.4149],\n",
       "         ...,\n",
       "         [ 0.0365,  1.2870, -0.8530,  ..., -0.5122,  0.1509, -0.7838],\n",
       "         [-0.6797, -0.1534, -0.2973,  ..., -1.3974, -0.1752,  0.8598],\n",
       "         [ 0.6363,  0.0790, -0.5500,  ...,  0.0528,  0.4988,  0.9202]],\n",
       "        grad_fn=<EmbeddingBackward0>),\n",
       " 'drug': tensor([[ 0.8523, -0.4523, -0.9056,  ..., -0.2807,  0.7684,  0.4442],\n",
       "         [ 0.2716,  1.3918, -0.9000,  ..., -1.0214,  0.1816,  1.5036],\n",
       "         [ 0.7885,  0.7750, -0.8022,  ..., -1.5794,  1.6268,  0.1387],\n",
       "         ...,\n",
       "         [ 2.2153,  0.1566,  0.4196,  ...,  1.0503,  1.3723,  0.1047],\n",
       "         [-1.4227, -1.8293,  0.5581,  ..., -1.1246,  0.4689,  1.6376],\n",
       "         [ 0.4151,  1.0500,  0.5758,  ..., -0.1772,  1.2597, -0.0803]],\n",
       "        grad_fn=<EmbeddingBackward0>)}"
      ]
     },
     "execution_count": 111,
     "metadata": {},
     "output_type": "execute_result"
    }
   ],
   "source": [
    "node_features = model.x_dict(graph_sample)\n",
    "node_features"
   ]
  },
  {
   "cell_type": "code",
   "execution_count": 324,
   "metadata": {},
   "outputs": [
    {
     "data": {
      "text/plain": [
       "torch.Size([2, 8120])"
      ]
     },
     "execution_count": 324,
     "metadata": {},
     "output_type": "execute_result"
    }
   ],
   "source": [
    "graph_sample['visit', 'drug'].edge_label_index.shape"
   ]
  },
  {
   "cell_type": "code",
   "execution_count": 325,
   "metadata": {},
   "outputs": [
    {
     "name": "stdout",
     "output_type": "stream",
     "text": [
      "Generated explanations in ['edge_mask', 'node_mask']\n",
      "Feature importance plot has been saved to 'feature_importance1.png'\n"
     ]
    }
   ],
   "source": [
    "n = 100\n",
    "explanation = explainer(\n",
    "    x = node_features,\n",
    "    edge_index = graph_sample.edge_index_dict,\n",
    "    # target = test_data['patient', 'disease'].edge_label[n].unsqueeze(dim=0).long(),\n",
    "    edge_label_index = graph_sample['visit', 'drug'].edge_label_index[:, n],\n",
    "    edge_label = graph_sample['visit', 'drug'].edge_label[n],\n",
    "    mask = model.mask\n",
    ")\n",
    "print(f'Generated explanations in {explanation.available_explanations}')\n",
    "\n",
    "path = 'feature_importance1.png'\n",
    "explanation.detach()\n",
    "explanation.visualize_feature_importance(path, top_k=10)\n",
    "print(f\"Feature importance plot has been saved to '{path}'\")"
   ]
  },
  {
   "cell_type": "code",
   "execution_count": 311,
   "metadata": {},
   "outputs": [
    {
     "name": "stdout",
     "output_type": "stream",
     "text": [
      "Edge to predict: tensor([ 4, 39])\n",
      "Label to predict: 1\n",
      "Label predicted: 0 because [0.44753382]\n"
     ]
    }
   ],
   "source": [
    "print('Edge to predict: ' + str(graph_sample['visit', 'drug'].edge_label_index[:, n]))\n",
    "print('Label to predict: ' + str(graph_sample['visit', 'drug'].edge_label[n].numpy().astype(int)))\n",
    "print('Label predicted: ' + str(1 if explanation['prediction'].numpy() > 0.5 else 0) + \" because \" + str(explanation['prediction'].numpy()))"
   ]
  },
  {
   "cell_type": "code",
   "execution_count": 312,
   "metadata": {},
   "outputs": [
    {
     "name": "stdout",
     "output_type": "stream",
     "text": [
      "Predicted Score Model: [0.44753382]\n"
     ]
    }
   ],
   "source": [
    "check_pred = model.layer(node_features, graph_sample.edge_index_dict, \n",
    "                         graph_sample['visit', 'drug'].edge_label_index[:, n],\n",
    "                         graph_sample['visit', 'drug'].edge_label[n],\n",
    "                         model.mask)\n",
    "print('Predicted Score Model: ' + str(check_pred.detach().numpy()))"
   ]
  },
  {
   "cell_type": "code",
   "execution_count": 313,
   "metadata": {},
   "outputs": [
    {
     "name": "stdout",
     "output_type": "stream",
     "text": [
      "nx.html\n"
     ]
    },
    {
     "data": {
      "image/png": "[encoded data removed]",
      "text/plain": [
       "<Figure size 700x700 with 1 Axes>"
      ]
     },
     "metadata": {},
     "output_type": "display_data"
    }
   ],
   "source": [
    "import networkx as nx\n",
    "import matplotlib.pyplot as plt\n",
    "from pyvis.network import Network\n",
    "from pylab import rcParams\n",
    "\n",
    "rcParams['figure.figsize'] = 7, 7\n",
    "\n",
    "# Creazione del grafo\n",
    "G = nx.DiGraph()\n",
    "\n",
    "# Definizione dei colori per i diversi tipi di nodi\n",
    "node_colors = {'patient': 'lightblue', 'visit': 'red', 'symptom': 'lightgreen', \n",
    "               'procedure': 'lightsalmon', 'disease': 'lightcoral', 'drug': 'yellow'}\n",
    "\n",
    "edge_type_colors = {\n",
    "    'presents': 'blue',\n",
    "    'has': 'red',\n",
    "    'has_received': 'green',\n",
    "    'has_treat': 'purple',\n",
    "    'rev_presents': 'blue',\n",
    "    'rev_has': 'red',\n",
    "    'rev_has_treat': 'purple',\n",
    "    'rev_has_received': 'green',\n",
    "}\n",
    "\n",
    "# Assumi che `explanation` sia un oggetto definito precedentemente con i dati necessari\n",
    "# Aggiungi nodi per le diverse entità con mask maggiore di zero\n",
    "entities = [('patient', explanation['patient']), ('visit', explanation['visit']), \n",
    "            ('symptom', explanation['symptom']), ('procedure', explanation['procedure']), \n",
    "            ('disease', explanation['disease']), ('drug', explanation['drug'])]\n",
    "\n",
    "nodess = []\n",
    "for edge_type, edge_data in [(edge[0], edge[1]) for edge in explanation.edge_items()]:\n",
    "    for i in range(edge_data['edge_index'].shape[1]):\n",
    "        source_id = f\"{edge_type[0]}_{edge_data['edge_index'][0, i]}\"\n",
    "        target_id = f\"{edge_type[2]}_{edge_data['edge_index'][1, i]}\"\n",
    "\n",
    "        edge_mask = explanation[edge_type]['edge_mask'][i]\n",
    "        source_node_mask = explanation[edge_type[0]]['node_mask'][edge_data['edge_index'][0, i]]\n",
    "        target_node_mask = explanation[edge_type[2]]['node_mask'][edge_data['edge_index'][1, i]]\n",
    "\n",
    "        if edge_mask > 0:\n",
    "            if source_id not in nodess:\n",
    "                nodess.append(source_id)\n",
    "            if target_id not in nodess:\n",
    "                nodess.append(target_id)\n",
    "            # Aggiungi l'arco con il peso (usato per l'opacità)\n",
    "            G.add_edge(source_id, target_id, type=edge_type[1], weight=20000*edge_mask.numpy())\n",
    "\n",
    "for entity_type, entity_data in entities:\n",
    "    for i in range(entity_data['x'].shape[0]):\n",
    "        node_id = f\"{entity_type}_{i}\"\n",
    "        if node_id in nodess:\n",
    "            G.add_node(node_id, type=entity_type)\n",
    "\n",
    "# Usa un layout diverso per una migliore distribuzione dei nodi\n",
    "pos = nx.spring_layout(G)  # o nx.circular_layout(G)\n",
    "\n",
    "# Regola le dimensioni dei nodi per evitare sovrapposizioni\n",
    "node_colors_list = [node_colors[G.nodes[node]['type']] for node in G.nodes]\n",
    "node_sizes = [300 for node in G.nodes]\n",
    "\n",
    "# Calcola l'opacità normalizzata degli archi in base a edge_mask\n",
    "edge_alphas = [G.edges[edge]['weight'] for edge in G.edges]\n",
    "max_alpha = max(edge_alphas)\n",
    "min_alpha = min(edge_alphas)\n",
    "normalized_alphas = [(alpha - min_alpha) / (max_alpha - min_alpha) for alpha in edge_alphas]\n",
    "\n",
    "# Disegna il grafo con opacità degli archi basata su edge_mask\n",
    "nx.draw_networkx_nodes(G, pos, node_size=node_sizes, node_color=node_colors_list)\n",
    "nx.draw_networkx_labels(G, pos, font_size=8, font_weight='bold')\n",
    "\n",
    "for edge, alpha in zip(G.edges, normalized_alphas):\n",
    "    nx.draw_networkx_edges(G, pos, edgelist=[edge], edge_color=edge_type_colors[G.edges[edge]['type']], alpha=alpha)\n",
    "\n",
    "# Crea la leggenda\n",
    "legend_labels = {node_type: plt.Line2D([0], [0], marker='o', color='w', label=node_type, \n",
    "                    markerfacecolor=color, markersize=10) for node_type, color in node_colors.items()}\n",
    "plt.legend(handles=legend_labels.values(), title='Node Types', loc='upper left')\n",
    "\n",
    "edge_labels = nx.get_edge_attributes(G, 'type')\n",
    "nx.draw_networkx_edge_labels(G, pos, edge_labels=edge_labels)\n",
    "\n",
    "net = Network(notebook=True, cdn_resources=\"remote\")\n",
    "net.from_nx(G)\n",
    "net.show('nx.html')\n",
    "\n",
    "plt.show()"
   ]
  },
  {
   "cell_type": "code",
   "execution_count": 314,
   "metadata": {},
   "outputs": [
    {
     "name": "stdout",
     "output_type": "stream",
     "text": [
      "patient_2\n",
      "visit_4\n",
      "visit_3\n",
      "symptom_51: Hydronephrosis\n",
      "symptom_57: Rash and other nonspecific skin eruption\n",
      "symptom_60: Other respiratory abnormalities\n",
      "visit_14\n",
      "disease_2: Cardiac complications, not elsewhere classified\n",
      "visit_9\n",
      "disease_101: Surgical operation with anastomosis, bypass, or graft, with natural or artificial tissues used as implant causing abnormal patient reaction, or later complication, without mention of misadventure at time of operation\n",
      "disease_106: Other premature beats\n",
      "visit_7\n",
      "procedure_4: Other electric countershock of heart\n",
      "procedure_33: Open heart valvuloplasty of tricuspid valve without replacement\n",
      "procedure_36: Other and unspecified repair of atrial septal defect\n",
      "drug_39: Beta blocking agents, selective\n",
      "visit_0\n",
      "drug_234: Hypnotics and sedatives in combination, excl. barbiturates\n",
      "symptom_12: Conduction disorder, unspecified\n",
      "symptom_58: Pneumonia, organism unspecified\n",
      "visit_13\n",
      "symptom_96: Constipation, unspecified\n",
      "disease_12: Heart valve replaced by transplant\n",
      "procedure_8: Closed [endoscopic] biopsy of large intestine\n",
      "procedure_22: Injection or infusion of other therapeutic or prophylactic substance\n",
      "procedure_11: Coronary arteriography using two catheters\n",
      "drug_81: Anesthetics for topical use\n",
      "visit_1\n"
     ]
    }
   ],
   "source": [
    "from pyhealth.medcode import InnerMap\n",
    "\n",
    "icd = InnerMap.load(\"ICD9CM\")\n",
    "icdpr = InnerMap.load(\"ICD9PROC\")\n",
    "atc = InnerMap.load(\"ATC\")\n",
    "\n",
    "for node in G.nodes:\n",
    "  node_type, id = str(node).split('_')\n",
    "  if node_type == \"patient\":\n",
    "    print(node)\n",
    "  if node_type == \"visit\":\n",
    "    print(node)\n",
    "  if node_type == \"disease\":\n",
    "    print(str(node) + \": \" + str(icd.lookup(list(model.icd9_diag_dict.keys())[int(id)])))\n",
    "  if node_type == \"symptom\":\n",
    "    print(str(node) + \": \" + str(icd.lookup(list(model.icd9_symp_dict.keys())[int(id)])))\n",
    "  if node_type == \"procedure\":\n",
    "    print(str(node) + \": \" + str(icdpr.lookup(list(model.icd9_proc_dict.keys())[int(id)])))\n",
    "  if node_type == \"drug\":\n",
    "    print(str(node) + \": \" + str(atc.lookup(list(model.atc_pre_dict.keys())[int(id)])))"
   ]
  },
  {
   "cell_type": "code",
   "execution_count": 315,
   "metadata": {},
   "outputs": [
    {
     "data": {
      "text/plain": [
       "HeteroExplanation(\n",
       "  prediction=[1],\n",
       "  target=[1],\n",
       "  edge_label_index=[2],\n",
       "  edge_label=1.0,\n",
       "  mask=[8120],\n",
       "  patient={\n",
       "    node_mask=[9, 128],\n",
       "    x=[9, 128],\n",
       "  },\n",
       "  visit={\n",
       "    node_mask=[20, 128],\n",
       "    x=[20, 128],\n",
       "  },\n",
       "  symptom={\n",
       "    node_mask=[120, 128],\n",
       "    x=[120, 128],\n",
       "  },\n",
       "  procedure={\n",
       "    node_mask=[58, 128],\n",
       "    x=[58, 128],\n",
       "  },\n",
       "  disease={\n",
       "    node_mask=[157, 128],\n",
       "    x=[157, 128],\n",
       "  },\n",
       "  drug={\n",
       "    node_mask=[406, 128],\n",
       "    x=[406, 128],\n",
       "  },\n",
       "  (patient, has, visit)={\n",
       "    edge_mask=[353],\n",
       "    edge_index=[2, 353],\n",
       "  },\n",
       "  (visit, presents, symptom)={\n",
       "    edge_mask=[353],\n",
       "    edge_index=[2, 353],\n",
       "  },\n",
       "  (visit, has, disease)={\n",
       "    edge_mask=[226],\n",
       "    edge_index=[2, 226],\n",
       "  },\n",
       "  (visit, has_treat, procedure)={\n",
       "    edge_mask=[102],\n",
       "    edge_index=[2, 102],\n",
       "  },\n",
       "  (visit, has_received, drug)={\n",
       "    edge_mask=[594],\n",
       "    edge_index=[2, 594],\n",
       "  },\n",
       "  (visit, rev_has, patient)={\n",
       "    edge_mask=[353],\n",
       "    edge_index=[2, 353],\n",
       "  },\n",
       "  (symptom, rev_presents, visit)={\n",
       "    edge_mask=[353],\n",
       "    edge_index=[2, 353],\n",
       "  },\n",
       "  (disease, rev_has, visit)={\n",
       "    edge_mask=[226],\n",
       "    edge_index=[2, 226],\n",
       "  },\n",
       "  (procedure, rev_has_treat, visit)={\n",
       "    edge_mask=[102],\n",
       "    edge_index=[2, 102],\n",
       "  },\n",
       "  (drug, rev_has_received, visit)={\n",
       "    edge_mask=[594],\n",
       "    edge_index=[2, 594],\n",
       "  }\n",
       ")"
      ]
     },
     "execution_count": 315,
     "metadata": {},
     "output_type": "execute_result"
    }
   ],
   "source": [
    "explanation"
   ]
  },
  {
   "cell_type": "code",
   "execution_count": 344,
   "metadata": {},
   "outputs": [],
   "source": [
    "from typing import Dict, Tuple\n",
    "import torch\n",
    "from torch import Tensor\n",
    "from torch_geometric.explain import Explainer, HeteroExplanation, Explanation\n",
    "from torch_geometric.explain.config import ExplanationType, ModelMode\n",
    "\n",
    "def fidelity(\n",
    "    explainer: Explainer,\n",
    "    explanation: HeteroExplanation,\n",
    ") -> Tuple[float, float]:\n",
    "    # Verifica se il modello è di tipo regression\n",
    "    if explainer.model_config.mode == ModelMode.regression:\n",
    "        raise ValueError(\"Fidelity not defined for 'regression' models\")\n",
    "\n",
    "    # Estrai node_mask e edge_mask da HeteroExplanation\n",
    "    node_mask_dict = {k: explanation[k].node_mask for k in explanation.node_types if k != 'edge_mask'}\n",
    "    edge_mask_dict = {k: explanation[k].edge_mask for k in explanation.edge_types}\n",
    "\n",
    "    kwargs = {}\n",
    "    if isinstance(explanation, Explanation):\n",
    "        kwargs = {key: explanation[key] for key in explanation._model_args}\n",
    "    else:\n",
    "        kwargs = {\n",
    "            'edge_label_index': graph_sample['visit', 'drug'].edge_label_index,\n",
    "            'edge_label': graph_sample['visit', 'drug'].edge_label,\n",
    "            'mask': model.mask,\n",
    "        }\n",
    "\n",
    "    y = explanation.target\n",
    "    if explainer.explanation_type == ExplanationType.phenomenon:\n",
    "        y_hat = explainer.get_prediction(\n",
    "            node_features,\n",
    "            graph_sample.edge_index_dict,\n",
    "            **kwargs,\n",
    "        )\n",
    "        y_hat = explainer.get_target(y_hat)\n",
    "\n",
    "    explain_y_hat = explainer.get_masked_prediction(\n",
    "        node_features,\n",
    "        graph_sample.edge_index_dict,\n",
    "        node_mask_dict,\n",
    "        edge_mask_dict,\n",
    "        **kwargs,\n",
    "    )\n",
    "    # print('explain_y_hat: ' + str(explain_y_hat))\n",
    "    explain_y_hat = explainer.get_target(explain_y_hat)\n",
    "\n",
    "    print('explain_y_hat: ' + str(explain_y_hat.shape))\n",
    "\n",
    "    # print('Before node mask: ' + str(node_mask_dict))\n",
    "    # print('Before edge mask: ' + str(edge_mask_dict))\n",
    "\n",
    "    for key in node_mask_dict.keys():\n",
    "        node_mask_dict[key] = 1. - node_mask_dict[key]\n",
    "\n",
    "    for key in edge_mask_dict.keys():\n",
    "        edge_mask_dict[key] = 1. - edge_mask_dict[key]\n",
    "\n",
    "    # print('After node mask: ' + str(node_mask_dict))\n",
    "    # print('After edge mask: ' + str(edge_mask_dict))\n",
    "\n",
    "    complement_y_hat = explainer.get_masked_prediction(\n",
    "        node_features,\n",
    "        graph_sample.edge_index_dict,\n",
    "        node_mask_dict,\n",
    "        edge_mask_dict,\n",
    "        **kwargs,\n",
    "    )\n",
    "    # print('complement_y_hat: ' + str(complement_y_hat))\n",
    "    complement_y_hat = explainer.get_target(complement_y_hat)\n",
    "\n",
    "    print('complement_y_hat: ' + str(complement_y_hat.shape))\n",
    "    \n",
    "    y = graph_sample['visit', 'drug'].edge_label\n",
    "        \n",
    "    if explanation.get('index') is not None:\n",
    "        if explainer.explanation_type == ExplanationType.phenomenon:\n",
    "            y_hat = y_hat[explanation.index]\n",
    "        explain_y_hat = explain_y_hat[explanation.index]\n",
    "        complement_y_hat = complement_y_hat[explanation.index]\n",
    "\n",
    "    print('complement_y_hat: ' + str(complement_y_hat))\n",
    "    print('explain_y_hat: ' + str(explain_y_hat))\n",
    "    print('y: ' + str(y))\n",
    "    \n",
    "    if explainer.explanation_type == ExplanationType.model:\n",
    "        pos_fidelity = 1. - (complement_y_hat == y).float().mean()\n",
    "        neg_fidelity = 1. - (explain_y_hat == y).float().mean()\n",
    "    else:\n",
    "        pos_fidelity = ((y_hat == y).float() -\n",
    "                        (complement_y_hat == y).float()).abs().mean()\n",
    "        neg_fidelity = ((y_hat == y).float() -\n",
    "                        (explain_y_hat == y).float()).abs().mean()\n",
    "\n",
    "    return float(pos_fidelity), float(neg_fidelity)"
   ]
  },
  {
   "cell_type": "code",
   "execution_count": 345,
   "metadata": {},
   "outputs": [
    {
     "data": {
      "text/plain": [
       "HeteroExplanation(\n",
       "  prediction=[1],\n",
       "  target=[1],\n",
       "  edge_label_index=[2],\n",
       "  edge_label=1.0,\n",
       "  mask=[8120],\n",
       "  patient={\n",
       "    node_mask=[9, 128],\n",
       "    x=[9, 128],\n",
       "  },\n",
       "  visit={\n",
       "    node_mask=[20, 128],\n",
       "    x=[20, 128],\n",
       "  },\n",
       "  symptom={\n",
       "    node_mask=[120, 128],\n",
       "    x=[120, 128],\n",
       "  },\n",
       "  procedure={\n",
       "    node_mask=[58, 128],\n",
       "    x=[58, 128],\n",
       "  },\n",
       "  disease={\n",
       "    node_mask=[157, 128],\n",
       "    x=[157, 128],\n",
       "  },\n",
       "  drug={\n",
       "    node_mask=[406, 128],\n",
       "    x=[406, 128],\n",
       "  },\n",
       "  (patient, has, visit)={\n",
       "    edge_mask=[353],\n",
       "    edge_index=[2, 353],\n",
       "  },\n",
       "  (visit, presents, symptom)={\n",
       "    edge_mask=[353],\n",
       "    edge_index=[2, 353],\n",
       "  },\n",
       "  (visit, has, disease)={\n",
       "    edge_mask=[226],\n",
       "    edge_index=[2, 226],\n",
       "  },\n",
       "  (visit, has_treat, procedure)={\n",
       "    edge_mask=[102],\n",
       "    edge_index=[2, 102],\n",
       "  },\n",
       "  (visit, has_received, drug)={\n",
       "    edge_mask=[594],\n",
       "    edge_index=[2, 594],\n",
       "  },\n",
       "  (visit, rev_has, patient)={\n",
       "    edge_mask=[353],\n",
       "    edge_index=[2, 353],\n",
       "  },\n",
       "  (symptom, rev_presents, visit)={\n",
       "    edge_mask=[353],\n",
       "    edge_index=[2, 353],\n",
       "  },\n",
       "  (disease, rev_has, visit)={\n",
       "    edge_mask=[226],\n",
       "    edge_index=[2, 226],\n",
       "  },\n",
       "  (procedure, rev_has_treat, visit)={\n",
       "    edge_mask=[102],\n",
       "    edge_index=[2, 102],\n",
       "  },\n",
       "  (drug, rev_has_received, visit)={\n",
       "    edge_mask=[594],\n",
       "    edge_index=[2, 594],\n",
       "  }\n",
       ")"
      ]
     },
     "execution_count": 345,
     "metadata": {},
     "output_type": "execute_result"
    }
   ],
   "source": [
    "explanation"
   ]
  },
  {
   "cell_type": "code",
   "execution_count": 346,
   "metadata": {},
   "outputs": [
    {
     "name": "stdout",
     "output_type": "stream",
     "text": [
      "explain_y_hat: torch.Size([8120])\n",
      "complement_y_hat: torch.Size([8120])\n",
      "complement_y_hat: tensor([0, 1, 1,  ..., 0, 0, 0])\n",
      "explain_y_hat: tensor([0, 0, 0,  ..., 0, 0, 0])\n",
      "y: tensor([1., 1., 1.,  ..., 0., 0., 0.])\n"
     ]
    }
   ],
   "source": [
    "fid_pos, fid_neg = fidelity(explainer, explanation)"
   ]
  },
  {
   "cell_type": "code",
   "execution_count": 347,
   "metadata": {},
   "outputs": [
    {
     "data": {
      "text/plain": [
       "0.07315272092819214"
      ]
     },
     "execution_count": 347,
     "metadata": {},
     "output_type": "execute_result"
    }
   ],
   "source": [
    "fid_neg"
   ]
  },
  {
   "cell_type": "code",
   "execution_count": 348,
   "metadata": {},
   "outputs": [
    {
     "data": {
      "text/plain": [
       "0.06576353311538696"
      ]
     },
     "execution_count": 348,
     "metadata": {},
     "output_type": "execute_result"
    }
   ],
   "source": [
    "fid_pos"
   ]
  },
  {
   "cell_type": "code",
   "execution_count": 342,
   "metadata": {},
   "outputs": [
    {
     "data": {
      "text/plain": [
       "0.12281299172197645"
      ]
     },
     "execution_count": 342,
     "metadata": {},
     "output_type": "execute_result"
    }
   ],
   "source": [
    "from torch_geometric.explain.metric import characterization_score\n",
    "\n",
    "score = characterization_score(fid_pos, fid_neg)\n",
    "score"
   ]
  },
  {
   "cell_type": "markdown",
   "metadata": {},
   "source": [
    "## Baseline Models\n",
    "\n",
    "Here we can use the models having the same input built in the previous cells. We tried GRASP, SafeDrug, Transformer, and so on. And evaluate them performance with several metrics."
   ]
  },
  {
   "cell_type": "markdown",
   "metadata": {},
   "source": [
    "### Transformer"
   ]
  },
  {
   "cell_type": "markdown",
   "metadata": {},
   "source": [
    "**- Transformer without symptoms**"
   ]
  },
  {
   "cell_type": "code",
   "execution_count": 219,
   "metadata": {},
   "outputs": [],
   "source": [
    "from pyhealth.models import Transformer\n",
    "\n",
    "model_tr = Transformer(\n",
    "    dataset=mimic3sample,\n",
    "    feature_keys=[\"conditions\", \"procedures\"],\n",
    "    label_key=\"drugs\",\n",
    "    mode=\"multilabel\",\n",
    ")"
   ]
  },
  {
   "cell_type": "markdown",
   "metadata": {},
   "source": [
    "**- Transformer with symptoms**"
   ]
  },
  {
   "cell_type": "code",
   "execution_count": 17,
   "metadata": {},
   "outputs": [],
   "source": [
    "from pyhealth.models import Transformer\n",
    "\n",
    "model_tr_symptoms = Transformer(\n",
    "    dataset=mimic3sample,\n",
    "    feature_keys=[\"conditions\", \"procedures\", \"symptoms\"],\n",
    "    label_key=\"drugs\",\n",
    "    mode=\"multilabel\",\n",
    ")"
   ]
  },
  {
   "cell_type": "markdown",
   "metadata": {},
   "source": [
    "**- Training without symptoms**"
   ]
  },
  {
   "cell_type": "code",
   "execution_count": null,
   "metadata": {},
   "outputs": [],
   "source": [
    "from pyhealth.trainer import Trainer\n",
    "\n",
    "trainer_tr = Trainer(model=model_tr)\n",
    "trainer_tr.train(\n",
    "    model_name=\"transformer\",\n",
    "    train_dataloader=train_loader,\n",
    "    val_dataloader=val_loader,\n",
    "    epochs=10,\n",
    "    optimizer_params = {\"lr\": 2 * 1e-4},\n",
    "    monitor=\"pr_auc_samples\",\n",
    ")"
   ]
  },
  {
   "attachments": {
    "image.png": {
     "image/png": "[encoded data removed]"
    }
   },
   "cell_type": "markdown",
   "metadata": {},
   "source": [
    "loss: 0.2737\n",
    "New best pr_auc_samples score (0.6465) at epoch-9, step-510\n",
    "\n",
    "![image.png](attachment:image.png)"
   ]
  },
  {
   "cell_type": "markdown",
   "metadata": {},
   "source": [
    "**- Training with symptoms**"
   ]
  },
  {
   "cell_type": "code",
   "execution_count": null,
   "metadata": {},
   "outputs": [],
   "source": [
    "from pyhealth.trainer import Trainer\n",
    "\n",
    "trainer_tr_symptoms = Trainer(model=model_tr_symptoms)\n",
    "trainer_tr_symptoms.train(\n",
    "    model_name=\"transformer\",\n",
    "    train_dataloader=train_loader,\n",
    "    val_dataloader=val_loader,\n",
    "    epochs=50,\n",
    "    optimizer_params = {\"lr\": 2 * 1e-4},\n",
    "    monitor=\"pr_auc_samples\",\n",
    "    monitor_criterion=\"max\",\n",
    ")"
   ]
  },
  {
   "cell_type": "markdown",
   "metadata": {},
   "source": [
    "### Results"
   ]
  },
  {
   "attachments": {
    "image-2.png": {
     "image/png": "[encoded data removed]"
    }
   },
   "cell_type": "markdown",
   "metadata": {},
   "source": [
    "loss: 0.1799\n",
    "New best pr_auc_samples score (0.5844) at epoch-40, step-2091\n",
    "\n",
    "![image-2.png](attachment:image-2.png)"
   ]
  },
  {
   "cell_type": "markdown",
   "metadata": {},
   "source": [
    "**- Transformer Evaluation**"
   ]
  },
  {
   "cell_type": "code",
   "execution_count": 223,
   "metadata": {},
   "outputs": [
    {
     "name": "stderr",
     "output_type": "stream",
     "text": [
      "Evaluation: 100%|██████████| 7/7 [00:00<00:00, 64.07it/s]\n"
     ]
    },
    {
     "data": {
      "text/plain": [
       "{'accuracy': 0.8929554968054637,\n",
       " 'f1_samples': 0.5066958446595764,\n",
       " 'pr_auc_samples': 0.6258955924552839,\n",
       " 'jaccard_samples': 0.34884642635231966}"
      ]
     },
     "execution_count": 223,
     "metadata": {},
     "output_type": "execute_result"
    }
   ],
   "source": [
    "### Without Symptoms - loss 0.3239 - time: 0m 6s\n",
    "from pyhealth.metrics import multilabel_metrics_fn\n",
    "\n",
    "y_true_tr, y_prob_tr, loss_tr = trainer_tr.inference(test_loader)\n",
    "metrics = [\"accuracy\", \"f1_samples\", \"pr_auc_samples\", \"jaccard_samples\"]\n",
    "multilabel_metrics_fn(y_true_tr, y_prob_tr, metrics=metrics)"
   ]
  },
  {
   "cell_type": "code",
   "execution_count": 19,
   "metadata": {},
   "outputs": [
    {
     "name": "stderr",
     "output_type": "stream",
     "text": [
      "Evaluation: 100%|██████████| 7/7 [00:00<00:00, 76.44it/s]\n"
     ]
    },
    {
     "data": {
      "text/plain": [
       "{'accuracy': 0.9381360806181391,\n",
       " 'f1_samples': 0.48055933544795987,\n",
       " 'pr_auc_samples': 0.6114930832175687,\n",
       " 'jaccard_samples': 0.3284850321801622}"
      ]
     },
     "execution_count": 19,
     "metadata": {},
     "output_type": "execute_result"
    }
   ],
   "source": [
    "### With Symptoms - loss 0.3192 - time: 0m 9s\n",
    "from pyhealth.metrics import multilabel_metrics_fn\n",
    "\n",
    "y_true_tr_s, y_prob_tr_s, loss_tr_s = trainer_tr_symptoms.inference(test_loader)\n",
    "metrics = [\"accuracy\", \"f1_samples\", \"pr_auc_samples\", \"jaccard_samples\"]\n",
    "multilabel_metrics_fn(y_true_tr_s, y_prob_tr_s, metrics=metrics)"
   ]
  },
  {
   "cell_type": "markdown",
   "metadata": {},
   "source": [
    "### SafeDrug"
   ]
  },
  {
   "cell_type": "markdown",
   "metadata": {},
   "source": [
    "**- SafeDrug without symptoms**"
   ]
  },
  {
   "cell_type": "code",
   "execution_count": 225,
   "metadata": {},
   "outputs": [],
   "source": [
    "from pyhealth.models import SafeDrug\n",
    "\n",
    "model_safe = SafeDrug(\n",
    "    dataset=mimic3sample\n",
    ")"
   ]
  },
  {
   "cell_type": "markdown",
   "metadata": {},
   "source": [
    "**- SafeDrug with symptoms**"
   ]
  },
  {
   "cell_type": "code",
   "execution_count": 226,
   "metadata": {},
   "outputs": [],
   "source": [
    "from pyhealth.models import SafeDrug_Mod\n",
    "\n",
    "model_safe_symptoms = SafeDrug_Mod(\n",
    "    dataset=mimic3sample\n",
    ")"
   ]
  },
  {
   "cell_type": "markdown",
   "metadata": {},
   "source": [
    "**- Training without symptoms**"
   ]
  },
  {
   "cell_type": "code",
   "execution_count": null,
   "metadata": {},
   "outputs": [],
   "source": [
    "from pyhealth.trainer import Trainer\n",
    "\n",
    "trainer_safe = Trainer(model=model_safe)\n",
    "trainer_safe.train(\n",
    "    model_name=\"safedrug\",\n",
    "    train_dataloader=train_loader,\n",
    "    val_dataloader=val_loader,\n",
    "    epochs=10,\n",
    "    optimizer_params = {\"lr\": 2 * 1e-4},\n",
    "    monitor=\"pr_auc_samples\",\n",
    ")"
   ]
  },
  {
   "attachments": {
    "image.png": {
     "image/png": "[encoded data removed]"
    }
   },
   "cell_type": "markdown",
   "metadata": {},
   "source": [
    "loss: 0.2503\n",
    "New best pr_auc_samples score (0.6564) at epoch-8, step-459\n",
    "\n",
    "![image.png](attachment:image.png)"
   ]
  },
  {
   "cell_type": "markdown",
   "metadata": {},
   "source": [
    "**- Training with symptoms**"
   ]
  },
  {
   "cell_type": "code",
   "execution_count": null,
   "metadata": {},
   "outputs": [],
   "source": [
    "from pyhealth.trainer import Trainer\n",
    "\n",
    "trainer_safe_symptoms = Trainer(model=model_safe_symptoms)\n",
    "trainer_safe_symptoms.train(\n",
    "    model_name=\"safedrug\",\n",
    "    train_dataloader=train_loader,\n",
    "    val_dataloader=val_loader,\n",
    "    epochs=10,\n",
    "    optimizer_params = {\"lr\": 2 * 1e-4},\n",
    "    monitor=\"pr_auc_samples\",\n",
    ")"
   ]
  },
  {
   "attachments": {
    "image.png": {
     "image/png": "[encoded data removed]"
    }
   },
   "cell_type": "markdown",
   "metadata": {},
   "source": [
    "loss: 0.2523\n",
    "New best pr_auc_samples score (0.6550) at epoch-6, step-357\n",
    "\n",
    "![image.png](attachment:image.png)"
   ]
  },
  {
   "cell_type": "markdown",
   "metadata": {},
   "source": [
    "**- SafeDrug Evaluation**"
   ]
  },
  {
   "cell_type": "code",
   "execution_count": 229,
   "metadata": {},
   "outputs": [
    {
     "name": "stderr",
     "output_type": "stream",
     "text": [
      "Evaluation: 100%|██████████| 7/7 [00:02<00:00,  2.46it/s]\n"
     ]
    },
    {
     "data": {
      "text/plain": [
       "{'accuracy': 0.8926801057501652,\n",
       " 'f1_samples': 0.46661275056800083,\n",
       " 'pr_auc_samples': 0.6270758763872015,\n",
       " 'jaccard_samples': 0.31076166173689124}"
      ]
     },
     "execution_count": 229,
     "metadata": {},
     "output_type": "execute_result"
    }
   ],
   "source": [
    "### Without Symptoms - loss 0.2672 - time: 2m 6s\n",
    "from pyhealth.metrics import multilabel_metrics_fn\n",
    "\n",
    "y_true_safe, y_prob_safe, loss_safe = trainer_safe.inference(test_loader)\n",
    "metrics = [\"accuracy\", \"f1_samples\", \"pr_auc_samples\", \"jaccard_samples\"]\n",
    "multilabel_metrics_fn(y_true_safe, y_prob_safe, metrics=metrics)"
   ]
  },
  {
   "cell_type": "code",
   "execution_count": 230,
   "metadata": {},
   "outputs": [
    {
     "name": "stderr",
     "output_type": "stream",
     "text": [
      "Evaluation: 100%|██████████| 7/7 [00:02<00:00,  2.93it/s]\n"
     ]
    },
    {
     "data": {
      "text/plain": [
       "{'accuracy': 0.8925148711169861,\n",
       " 'f1_samples': 0.47263706593544114,\n",
       " 'pr_auc_samples': 0.6248807689518094,\n",
       " 'jaccard_samples': 0.3164571303390051}"
      ]
     },
     "execution_count": 230,
     "metadata": {},
     "output_type": "execute_result"
    }
   ],
   "source": [
    "### With Symptoms - loss 0.2666 - time: 2m 0s\n",
    "from pyhealth.metrics import multilabel_metrics_fn\n",
    "\n",
    "y_true_safe_s, y_prob_safe_s, loss_safe_s = trainer_safe_symptoms.inference(test_loader)\n",
    "metrics = [\"accuracy\", \"f1_samples\", \"pr_auc_samples\", \"jaccard_samples\"]\n",
    "multilabel_metrics_fn(y_true_safe_s, y_prob_safe_s, metrics=metrics)"
   ]
  },
  {
   "cell_type": "markdown",
   "metadata": {},
   "source": [
    "### GAMENet"
   ]
  },
  {
   "cell_type": "markdown",
   "metadata": {},
   "source": [
    "### GRASP"
   ]
  },
  {
   "cell_type": "markdown",
   "metadata": {},
   "source": [
    "### RETAIN"
   ]
  },
  {
   "cell_type": "markdown",
   "metadata": {},
   "source": [
    "### GRAM"
   ]
  },
  {
   "cell_type": "markdown",
   "metadata": {},
   "source": [
    "### KAME"
   ]
  },
  {
   "cell_type": "markdown",
   "metadata": {},
   "source": [
    "### MoleRec"
   ]
  },
  {
   "cell_type": "markdown",
   "metadata": {},
   "source": [
    "### RNN"
   ]
  },
  {
   "cell_type": "markdown",
   "metadata": {},
   "source": [
    "**- RNN without symptoms**"
   ]
  },
  {
   "cell_type": "code",
   "execution_count": 241,
   "metadata": {},
   "outputs": [],
   "source": [
    "from pyhealth.models import RNN\n",
    "\n",
    "model_rnn = RNN(\n",
    "    dataset=mimic3sample,\n",
    "    feature_keys=[\"conditions\", \"procedures\"],\n",
    "    label_key=\"drugs\",\n",
    "    mode=\"multilabel\",\n",
    ")"
   ]
  },
  {
   "cell_type": "markdown",
   "metadata": {},
   "source": [
    "**- Training without symptoms**"
   ]
  },
  {
   "cell_type": "code",
   "execution_count": null,
   "metadata": {},
   "outputs": [],
   "source": [
    "from pyhealth.trainer import Trainer\n",
    "\n",
    "trainer_rnn = Trainer(model=model_rnn)\n",
    "trainer_rnn.train(\n",
    "    model_name=\"rnn\",\n",
    "    train_dataloader=train_loader,\n",
    "    val_dataloader=val_loader,\n",
    "    epochs=10,\n",
    "    optimizer_params = {\"lr\": 2 * 1e-4},\n",
    "    monitor=\"pr_auc_samples\",\n",
    ")"
   ]
  },
  {
   "attachments": {
    "image.png": {
     "image/png": "[encoded data removed]"
    }
   },
   "cell_type": "markdown",
   "metadata": {},
   "source": [
    "loss: 0.2564\n",
    "New best pr_auc_samples score (0.6729) at epoch-9, step-510\n",
    "\n",
    "![image.png](attachment:image.png)"
   ]
  },
  {
   "cell_type": "markdown",
   "metadata": {},
   "source": [
    "**- RNN Evaluation**"
   ]
  },
  {
   "cell_type": "code",
   "execution_count": 243,
   "metadata": {},
   "outputs": [
    {
     "name": "stderr",
     "output_type": "stream",
     "text": [
      "Evaluation: 100%|██████████| 7/7 [00:00<00:00, 136.85it/s]\n"
     ]
    },
    {
     "data": {
      "text/plain": [
       "{'accuracy': 0.8959572593082177,\n",
       " 'f1_samples': 0.5208913438646415,\n",
       " 'pr_auc_samples': 0.6492154854289413,\n",
       " 'jaccard_samples': 0.361292772853502}"
      ]
     },
     "execution_count": 243,
     "metadata": {},
     "output_type": "execute_result"
    }
   ],
   "source": [
    "### Without Symptoms - loss 0.3239 - time: 0m 6s\n",
    "from pyhealth.metrics import multilabel_metrics_fn\n",
    "\n",
    "y_true_rnn, y_prob_rnn, loss_rnn = trainer_rnn.inference(test_loader)\n",
    "metrics = [\"accuracy\", \"f1_samples\", \"pr_auc_samples\", \"jaccard_samples\"]\n",
    "multilabel_metrics_fn(y_true_rnn, y_prob_rnn, metrics=metrics)"
   ]
  },
  {
   "cell_type": "markdown",
   "metadata": {},
   "source": [
    "## Let'see some recommendation..."
   ]
  },
  {
   "cell_type": "code",
   "execution_count": null,
   "metadata": {},
   "outputs": [],
   "source": [
    "import numpy as np\n",
    "import pandas as pd\n",
    "from pyhealth.medcode import InnerMap\n",
    "\n",
    "# initialize an InnerMap\n",
    "atc = InnerMap.load(\"ATC\")\n",
    "\n",
    "sorted_indices = []\n",
    "for i in range(len(y_prob)):\n",
    "    top_indices = np.argsort(y_prob[i, :])[::-1][:10]\n",
    "    sorted_values = y_prob[i, top_indices]\n",
    "    sorted_indices.append(top_indices)\n",
    "\n",
    "patient_ids = []\n",
    "visit_ids = []\n",
    "rec_drug = []\n",
    "\n",
    "# get the list of all drugs in the dataset\n",
    "list_drugs = mimic3sample.get_all_tokens('drugs')\n",
    "\n",
    "# iterate over the top indexes for each sample in test_ds\n",
    "for sample, top in zip(test_ds, sorted_indices):\n",
    "   \n",
    "    # append the patient id and visit id to their respective lists\n",
    "    patient_ids.append(sample['patient_id'])\n",
    "    visit_ids.append(sample['visit_id'])\n",
    "   \n",
    "    # create an empty list to store the recommended drugs for this sample\n",
    "    sample_rec_drug = []\n",
    "   \n",
    "    # iterate over the top indexes for this sample\n",
    "    for i in top:\n",
    "       \n",
    "        # append the drug at the i-th index to the recommended drugs list for this sample\n",
    "        sample_rec_drug.append(list_drugs[i])\n",
    "   \n",
    "    # append the recommended drugs for this sample to the recommended drugs list\n",
    "    rec_drug.append(sample_rec_drug)\n",
    "\n",
    "# create a dataframe with the patient ids, visit ids, and recommended drugs\n",
    "df_rec_drug = pd.DataFrame({'patient_id': patient_ids, 'visit_id': visit_ids, 'rec_drug': rec_drug})\n",
    "df_rec_drug"
   ]
  },
  {
   "cell_type": "code",
   "execution_count": 125,
   "metadata": {},
   "outputs": [
    {
     "name": "stdout",
     "output_type": "stream",
     "text": [
      "B05XA: Electrolyte solutions\n",
      "N03AX: Other antiepileptics in ATC\n",
      "M04AC: Preparations with no effect on uric acid metabolism\n",
      "M03BA: Carbamic acid esters, centrally acting muscle relaxants\n",
      "G04CA: Alpha-adrenoreceptor antagonists, benign prostatic hypertrophy\n",
      "J01EE: Combinations of sulfonamides and trimethoprim, incl. derivatives\n",
      "N02BE: Anilide analgesics and antipyretics\n",
      "B01AB: Heparin group antithrombotic drugs\n",
      "N05CF: Benzodiazepine related hypnotics and sedatives\n",
      "A02BC: Proton pump inhibitors for peptic ulcer and GORD\n"
     ]
    }
   ],
   "source": [
    "from pyhealth.medcode import InnerMap\n",
    "\n",
    "# initialize an InnerMap\n",
    "atc = InnerMap.load(\"ATC\")\n",
    "\n",
    "# select a patient from df_rec_drug\n",
    "patient_id = 10884\n",
    "visit_id = 150905\n",
    "patient_df = df_rec_drug[df_rec_drug['patient_id'].astype(int)==patient_id]\n",
    "patient_df = patient_df[patient_df['visit_id'].astype(int)==visit_id]\n",
    "\n",
    "# iterate over the recommended drugs for the selected patient\n",
    "for drugs in patient_df['rec_drug']:\n",
    "    # lookup the ATC code for each drug and print it\n",
    "    for drug in drugs:\n",
    "        print(f\"{drug}: {atc.lookup(drug)}\")"
   ]
  },
  {
   "cell_type": "code",
   "execution_count": 124,
   "metadata": {},
   "outputs": [
    {
     "name": "stdout",
     "output_type": "stream",
     "text": [
      "Condition 0: Acute and subacute necrosis of liver\n",
      "Condition 1: Alcoholic cirrhosis of liver\n",
      "Condition 2: Hepatorenal syndrome\n",
      "Condition 3: Acute kidney failure with lesion of tubular necrosis\n",
      "Condition 4: Congestive heart failure, unspecified\n",
      "Condition 5: Hyposmolality and/or hyponatremia\n",
      "Condition 6: Chronic kidney disease, unspecified\n",
      "Condition 7: Toxic encephalopathy\n",
      "Condition 8: Hepatic encephalopathy\n",
      "Condition 9: Calculus of gallbladder with other cholecystitis, without mention of obstruction\n",
      "Condition 10: Ascites\n",
      "Condition 11: Acquired coagulation factor deficiency\n",
      "Condition 12: Thrombocytopenia, unspecified\n",
      "Condition 13: Unspecified essential hypertension\n",
      "Condition 14: Other specified disorders of pancreatic internal secretion\n",
      "Condition 15: Adrenal cortical steroids causing adverse effects in therapeutic use\n",
      "Condition 16: Acute alcoholic intoxication in alcoholism, in remission\n",
      "Condition 17: Esophageal reflux\n",
      "Condition 18: Personal history of urinary calculi\n",
      "Condition 19: Aphasia\n",
      "Condition 20: Spinal stenosis, lumbar region, with neurogenic claudication\n",
      "Condition 21: Liver replaced by transplant\n",
      "Condition 22: Body Mass Index 40.0-44.9, adult\n",
      "Condition 23: Acquired spondylolisthesis\n",
      "Condition 24: Secondary diabetes mellitus without mention of complication, not stated as uncontrolled, or unspecified\n",
      "Condition 25: Adrenal cortical steroids causing adverse effects in therapeutic use\n",
      "Condition 26: Hypertensive chronic kidney disease, unspecified, with chronic kidney disease stage I through stage IV, or unspecified\n",
      "Condition 27: Chronic kidney disease, unspecified\n",
      "Condition 28: Gout, unspecified\n",
      "Condition 29: Obstructive sleep apnea (adult)(pediatric)\n",
      "Condition 30: Depressive disorder, not elsewhere classified\n",
      "Condition 31: Overweight\n",
      "Condition 32: Anemia in chronic kidney disease\n",
      "Condition 33: Postprocedural fever\n",
      "Procedure 0: Other transplant of liver\n",
      "Procedure 1: Cholecystectomy\n",
      "Procedure 2: Transplant from cadaver\n",
      "Procedure 3: Closed (percutaneous) [needle] biopsy of liver\n",
      "Procedure 4: Hemodialysis\n",
      "Procedure 5: Venous catheterization for renal dialysis\n",
      "Procedure 6: Pulmonary artery wedge monitoring\n",
      "Procedure 7: Percutaneous abdominal drainage\n",
      "Procedure 8: Parenteral infusion of concentrated nutritional substances\n",
      "Procedure 9: Enteral infusion of concentrated nutritional substances\n",
      "Procedure 10: Transfusion of packed cells\n",
      "Procedure 11: Transfusion of platelets\n",
      "Procedure 12: Venous catheterization, not elsewhere classified\n",
      "Procedure 13: Lumbar and lumbosacral fusion of the posterior column, posterior technique\n",
      "Procedure 14: Fusion or refusion of 2-3 vertebrae\n",
      "Procedure 15: Insertion of interbody spinal fusion device\n",
      "Symptom 0: Hepatorenal syndrome\n",
      "Symptom 1: Unspecified problem with special functions\n",
      "Symptom 2: Renal failure, unspecified\n",
      "Symptom 3: Jaundice, unspecified, not of newborn\n",
      "Symptom 4: Edema\n",
      "Symptom 5: Cirrhosis of liver without mention of alcohol\n",
      "Symptom 6: Esophageal reflux\n",
      "Symptom 7: Unspecified essential hypertension\n",
      "Symptom 8: Unspecified disorder of metabolism\n",
      "Symptom 9: Obstructive hydrocephalus\n",
      "Symptom 10: Dysphagia, unspecified\n",
      "Symptom 11: Other abnormal glucose\n",
      "Symptom 12: Chronic kidney disease, unspecified\n",
      "Symptom 13: Pain in limb\n",
      "Symptom 14: Unspecified problem with special functions\n",
      "Symptom 15: Gout, unspecified\n",
      "Symptom 16: Unspecified essential hypertension\n",
      "Symptom 17: Anemia, unspecified\n",
      "Symptom 18: Chronic kidney disease, unspecified\n",
      "Symptom 19: Generalized pain\n",
      "Symptom 20: Fever, unspecified\n",
      "Symptom 21: Constipation, unspecified\n",
      "Symptom 22: Acquired spondylolisthesis\n"
     ]
    }
   ],
   "source": [
    "from pyhealth.medcode import InnerMap\n",
    "\n",
    "# select a patient from df_rec_drug\n",
    "patient_id = 10884\n",
    "visit_id = 150905\n",
    "\n",
    "for sample in test_ds:\n",
    "    if (sample['patient_id'] == str(patient_id)) and (sample['visit_id'] == str(visit_id)):\n",
    "        conditions = sample['conditions']\n",
    "        procedures = sample['procedures']\n",
    "        symptoms = sample['symptoms']\n",
    "\n",
    "# initialize an InnerMap\n",
    "icd9cm = InnerMap.load(\"ICD9CM\")\n",
    "i=0\n",
    "for condition in conditions:\n",
    "    for code in condition:\n",
    "        print(f\"Condition {i}: {icd9cm.lookup(code)}\")\n",
    "        i+=1\n",
    "\n",
    "# initialize an InnerMap\n",
    "icd9pr = InnerMap.load(\"ICD9PROC\")\n",
    "i=0\n",
    "for procedure in procedures:\n",
    "    for code in procedure:\n",
    "        print(f\"Procedure {i}: {icd9pr.lookup(code)}\")\n",
    "        i+=1\n",
    "\n",
    "i=0\n",
    "for symptom in symptoms:\n",
    "    for code in symptom:\n",
    "        print(f\"Symptom {i}: {icd9cm.lookup(code)}\")\n",
    "        i+=1"
   ]
  }
 ],
 "metadata": {
  "kernelspec": {
   "display_name": "proj_venv",
   "language": "python",
   "name": "python3"
  },
  "language_info": {
   "codemirror_mode": {
    "name": "ipython",
    "version": 3
   },
   "file_extension": ".py",
   "mimetype": "text/x-python",
   "name": "python",
   "nbconvert_exporter": "python",
   "pygments_lexer": "ipython3",
   "version": "3.9.10"
  }
 },
 "nbformat": 4,
 "nbformat_minor": 2
}
