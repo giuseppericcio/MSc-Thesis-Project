{
 "cells": [
  {
   "cell_type": "markdown",
   "metadata": {},
   "source": [
    "# Modelling with PyHealth (using NOTEEVENTS_ICD)"
   ]
  },
  {
   "cell_type": "markdown",
   "metadata": {},
   "source": [
    "## Libraries"
   ]
  },
  {
   "cell_type": "code",
   "execution_count": 1,
   "metadata": {},
   "outputs": [],
   "source": [
    "import pandas as pd\n",
    "import numpy as np"
   ]
  },
  {
   "cell_type": "code",
   "execution_count": null,
   "metadata": {},
   "outputs": [],
   "source": [
    "%pip install torch==2.1.0"
   ]
  },
  {
   "cell_type": "code",
   "execution_count": 1,
   "metadata": {},
   "outputs": [
    {
     "name": "stdout",
     "output_type": "stream",
     "text": [
      "2.1.0+cpu\n"
     ]
    }
   ],
   "source": [
    "import torch\n",
    "print(torch.__version__)\n",
    "\n",
    "# Install required packages.\n",
    "import os\n",
    "os.environ['TORCH'] = torch.__version__"
   ]
  },
  {
   "cell_type": "code",
   "execution_count": 13,
   "metadata": {},
   "outputs": [
    {
     "name": "stdout",
     "output_type": "stream",
     "text": [
      "Looking in links: https://data.pyg.org/whl/torch-${TORCH}.html\n",
      "Requirement already satisfied: torch-scatter in c:\\users\\giuse\\desktop\\msc-thesis-project\\proj_venv\\lib\\site-packages (2.1.2+pt21cpu)\n",
      "Note: you may need to restart the kernel to use updated packages.\n",
      "Looking in links: https://data.pyg.org/whl/torch-${TORCH}.html\n",
      "Requirement already satisfied: torch-sparse in c:\\users\\giuse\\desktop\\msc-thesis-project\\proj_venv\\lib\\site-packages (0.6.18+pt21cpu)\n",
      "Requirement already satisfied: scipy in c:\\users\\giuse\\desktop\\msc-thesis-project\\proj_venv\\lib\\site-packages (from torch-sparse) (1.9.3)\n",
      "Requirement already satisfied: numpy<1.26.0,>=1.18.5 in c:\\users\\giuse\\desktop\\msc-thesis-project\\proj_venv\\lib\\site-packages (from scipy->torch-sparse) (1.25.2)\n",
      "Note: you may need to restart the kernel to use updated packages.\n"
     ]
    }
   ],
   "source": [
    "%pip install torch-scatter -f https://data.pyg.org/whl/torch-${TORCH}.html\n",
    "%pip install torch-sparse -f https://data.pyg.org/whl/torch-${TORCH}.html"
   ]
  },
  {
   "cell_type": "code",
   "execution_count": null,
   "metadata": {},
   "outputs": [],
   "source": [
    "%pip install torch-geometric"
   ]
  },
  {
   "cell_type": "code",
   "execution_count": 2,
   "metadata": {},
   "outputs": [],
   "source": [
    "# carica i dati dai file csv\n",
    "noteevents = pd.read_csv('data/NOTEEVENTS_ICD.csv')\n",
    "patients = pd.read_csv('data/PATIENTS.csv')\n",
    "\n",
    "# seleziona i pazienti presenti in NOTEEVENTS_ICD\n",
    "selected_patients = patients[patients['SUBJECT_ID'].isin(noteevents['SUBJECT_ID'].unique())]\n",
    "\n",
    "# salva il risultato in un file csv\n",
    "selected_patients.to_csv('data/PATIENTS_SEL.csv', index=False)\n"
   ]
  },
  {
   "cell_type": "markdown",
   "metadata": {},
   "source": [
    "## Loading MIMIC-III into PyHealth"
   ]
  },
  {
   "cell_type": "code",
   "execution_count": 1,
   "metadata": {},
   "outputs": [],
   "source": [
    "from pyhealth.datasets import MIMIC3Dataset\n",
    "\n",
    "dataset = MIMIC3Dataset(\n",
    "    root='data/',\n",
    "    tables=[\"DIAGNOSES_ICD\",\"PROCEDURES_ICD\",\"PRESCRIPTIONS\",\"NOTEEVENTS_ICD\"],\n",
    "    code_mapping={\"NDC\": (\"ATC\", {\"target_kwargs\": {\"level\": 4}})},\n",
    "    # refresh_cache=True,\n",
    "    # dev=True\n",
    ")"
   ]
  },
  {
   "cell_type": "code",
   "execution_count": 2,
   "metadata": {},
   "outputs": [
    {
     "name": "stdout",
     "output_type": "stream",
     "text": [
      "\n",
      "Statistics of base dataset (dev=False):\n",
      "\t- Dataset: MIMIC3Dataset\n",
      "\t- Number of patients: 1560\n",
      "\t- Number of visits: 5014\n",
      "\t- Number of visits per patient: 3.2141\n",
      "\t- Number of events per visit in DIAGNOSES_ICD: 11.5987\n",
      "\t- Number of events per visit in PROCEDURES_ICD: 3.8771\n",
      "\t- Number of events per visit in PRESCRIPTIONS: 44.3879\n",
      "\t- Number of events per visit in NOTEEVENTS_ICD: 11.0782\n",
      "\n"
     ]
    },
    {
     "data": {
      "text/plain": [
       "'\\nStatistics of base dataset (dev=False):\\n\\t- Dataset: MIMIC3Dataset\\n\\t- Number of patients: 1560\\n\\t- Number of visits: 5014\\n\\t- Number of visits per patient: 3.2141\\n\\t- Number of events per visit in DIAGNOSES_ICD: 11.5987\\n\\t- Number of events per visit in PROCEDURES_ICD: 3.8771\\n\\t- Number of events per visit in PRESCRIPTIONS: 44.3879\\n\\t- Number of events per visit in NOTEEVENTS_ICD: 11.0782\\n'"
      ]
     },
     "execution_count": 2,
     "metadata": {},
     "output_type": "execute_result"
    }
   ],
   "source": [
    "dataset.stat()"
   ]
  },
  {
   "cell_type": "markdown",
   "metadata": {},
   "source": [
    "## Reading retrieved dataset"
   ]
  },
  {
   "cell_type": "code",
   "execution_count": 4,
   "metadata": {},
   "outputs": [
    {
     "name": "stdout",
     "output_type": "stream",
     "text": [
      "['10055', '10071', '10077', '10144', '10160', '10174', '10197', '10207', '10254', '10285', '1029', '10302', '10304', '10310', '10328', '10342', '10369', '10414', '10434', '10442', '10478', '10487', '10488', '1050', '10594', '10612', '10618', '10634', '10635', '10637', '10660', '10679', '10687', '1069', '10742', '10774', '10820', '10832', '10859', '10884', '109', '10906', '10932', '10939', '10973', '10976', '10977', '11043', '11102', '11108', '11135', '11165', '11171', '112', '11205', '1122', '11234', '11236', '11242', '11255', '11318', '11342', '11346', '11421', '11442', '11464', '11479', '11588', '11590', '11604', '11623', '11634', '11716', '11763', '11764', '11778', '11818', '11825', '11830', '11838', '11861', '1187', '11876', '11885', '11892', '11897', '11932', '1197', '11970', '12039', '12076', '12110', '12113', '12125', '12149', '12198', '12203', '12217', '1223', '12281', '12344', '124', '12411', '12446', '12467', '12501', '12515', '12521', '12566', '12567', '12690', '12706', '12712', '12720', '12769', '12788', '12798', '12799', '12819', '12829', '12833', '12834', '12849', '12856', '12902', '12945', '12954', '12982', '1301', '13033', '13055', '13074', '13192', '13212', '13223', '13259', '13293', '13305', '13308', '1332', '13329', '13355', '13384', '1339', '13403', '13476', '13508', '13552', '13599', '13627', '13641', '13653', '13686', '13705', '13733', '13739', '13740', '13744', '13767', '138', '13816', '13837', '1386', '13864', '13868', '13882', '13902', '13920', '13936', '13948', '13960', '13965', '14002', '1401', '14031', '14061', '14079', '14085', '14094', '14154', '1419', '1422', '14241', '14310', '14330', '14363', '1441', '14412', '14427', '14507', '14532', '14566', '14669', '14701', '14716', '1474', '14757', '14761', '1478', '14806', '14828', '14836', '14841', '1488', '14885', '1493', '14957', '15006', '15017', '15037', '15041', '15057', '15128', '1516', '1517', '15208', '15209', '15226', '15232', '15262', '1531', '15355', '15370', '15374', '15380', '15387', '15432', '1544', '15450', '15453', '15472', '15482', '15508', '15547', '15573', '15628', '15636', '15645', '15654', '15672', '1569', '15749', '15752', '15754', '1578', '15783', '15784', '15850', '15852', '15881', '1590', '15916', '15919', '15936', '1594', '15996', '16013', '16025', '16053', '1610', '16108', '1611', '16122', '16146', '16147', '16178', '16186', '16194', '16200', '16210', '16236', '16256', '16275', '16279', '16286', '16336', '1636', '16375', '16382', '16412', '16455', '16490', '16531', '16549', '16551', '16592', '16618', '16621', '16655', '16666', '16674', '16696', '16698', '16709', '16727', '16740', '16745', '16774', '16776', '16802', '16803', '16832', '16839', '16860', '16881', '16884', '16917', '16988', '16989', '16992', '16994', '16997', '17021', '17072', '17083', '17094', '17098', '17108', '17125', '17139', '17143', '17153', '17206', '17212', '17236', '17245', '17367', '17384', '17421', '17472', '17488', '17505', '17513', '17530', '17546', '17548', '17581', '17589', '17617', '17655', '17659', '17680', '17702', '17712', '17722', '17735', '17767', '1778', '17780', '17782', '17789', '17820', '17837', '17843', '17858', '1787', '17879', '17886', '17891', '17894', '17899', '17904', '17906', '17949', '17997', '18', '18055', '18094', '18105', '18126', '18144', '18200', '18353', '18376', '18400', '18408', '18418', '18430', '18459', '18490', '18497', '18572', '18633', '18648', '18657', '18681', '18689', '18704', '18739', '18771', '188', '18846', '18908', '18910', '18924', '18928', '18942', '18946', '18971', '18982', '18983', '1900', '19029', '19039', '19053', '19059', '19060', '19069', '19079', '19087', '19102', '19117', '19142', '19155', '19191', '19213', '19246', '19270', '1931', '19310', '19344', '1935', '19354', '19356', '1936', '19370', '19371', '19418', '1944', '19469', '19475', '19493', '19512', '19547', '19568', '19583', '19620', '19627', '19746', '19754', '19771', '19793', '19798', '19805', '19817', '19823', '1985', '19855', '19859', '1991', '1995', '19960', '19981', '1999', '20007', '20011', '20036', '20061', '20064', '20066', '20075', '20086', '20124', '20144', '20162', '2018', '20190', '20204', '20217', '20226', '20248', '20296', '20312', '20324', '20339', '2034', '20368', '20383', '20389', '20410', '20423', '20473', '20479', '2049', '20546', '20577', '20624', '20643', '20644', '20678', '20745', '2075', '20796', '2081', '2085', '2093', '20931', '20940', '20944', '20947', '20957', '20979', '20988', '21015', '21025', '21072', '21090', '21099', '21108', '21144', '21195', '21220', '21223', '21280', '21293', '21318', '21321', '2136', '21362', '21401', '21413', '21431', '21447', '21448', '21452', '21453', '21454', '21458', '21460', '21483', '21510', '21513', '21514', '21518', '21574', '2159', '21645', '21651', '21666', '21673', '21693', '21700', '21706', '21734', '21845', '2185', '21860', '21864', '2187', '21881', '21901', '21910', '21951', '21965', '21975', '21990', '22010', '22017', '22083', '22119', '22126', '2215', '22180', '22200', '22225', '2223', '2224', '22277', '22285', '22291', '22426', '22478', '22490', '22505', '22525', '22579', '22587', '22624', '2264', '22644', '2265', '22656', '22712', '22732', '22754', '22763', '22766', '22780', '22782', '22792', '22795', '22800', '22804', '22806', '22835', '22851', '22856', '22910', '22914', '22921', '22938', '22946', '22963', '22987', '23014', '23036', '23039', '23049', '23097', '23100', '23108', '23140', '23150', '23161', '23197', '23209', '23219', '2323', '23298', '23306', '23318', '23339', '23364', '23365', '23380', '23397', '23475', '23477', '23478', '23483', '2349', '23517', '23518', '23568', '23577', '23637', '23641', '2365', '23657', '23680', '23687', '23694', '23706', '23707', '23711', '23725', '23734', '23735', '23761', '23872', '23882', '23933', '23943', '23946', '23990', '24029', '24094', '24099', '24111', '24127', '24134', '24141', '24198', '24276', '24344', '24444', '24465', '24486', '2452', '24562', '24571', '24573', '24580', '2460', '24631', '24672', '24674', '24682', '24683', '24685', '24712', '24714', '24743', '24794', '24806', '24807', '24824', '24850', '24858', '24889', '24902', '24958', '24975', '24977', '24995', '25001', '25009', '25049', '25060', '25069', '25072', '25073', '25111', '25115', '25117', '2512', '25135', '25225', '25229', '25235', '25251', '25295', '25302', '25318', '25321', '25323', '25332', '25338', '25354', '25384', '25396', '25400', '25403', '25452', '2549', '2550', '25512', '25515', '25579', '25640', '25655', '25699', '25708', '25722', '25764', '25768', '25780', '25790', '25814', '25876', '25882', '25889', '2589', '25891', '2590', '25963', '25975', '26027', '26036', '26043', '26067', '26094', '26105', '26118', '26124', '26134', '26139', '26161', '26168', '26200', '26208', '26212', '26214', '2622', '26224', '26234', '26261', '26274', '26277', '26313', '26317', '26324', '26370', '26372', '26384', '26398', '26405', '26421', '26453', '26455', '26474', '26479', '26515', '26519', '26579', '2658', '26604', '26673', '26709', '26724', '26845', '26868', '26889', '26928', '26935', '26948', '26956', '2710', '27102', '27106', '27195', '27210', '27242', '27247', '2731', '27355', '27362', '27398', '27449', '27462', '27486', '27517', '27547', '27603', '27643', '27657', '27667', '27690', '27710', '27714', '27723', '27745', '2775', '27750', '27793', '27799', '27800', '27808', '2784', '27872', '2791', '27910', '27931', '27960', '2799', '28043', '28050', '28055', '28057', '28104', '28180', '28190', '28240', '28264', '28281', '283', '28365', '28394', '28423', '28424', '28531', '28561', '28577', '28601', '28651', '28657', '28671', '28716', '2872', '28735', '28805', '2890', '28944', '28982', '28999', '29035', '29055', '29092', '29137', '29334', '29350', '29352', '29360', '29372', '2939', '29398', '29426', '29478', '29483', '29576', '29633', '29660', '29666', '2973', '2975', '29859', '29862', '29872', '29946', '29965', '29967', '2997', '29972', '30183', '30217', '30221', '30239', '30243', '30277', '30296', '30322', '3036', '30412', '30457', '30507', '30508', '3052', '30530', '30533', '30548', '30551', '30552', '30564', '30590', '30616', '30638', '30660', '30671', '30678', '30682', '30696', '3070', '30737', '3078', '30786', '30855', '30887', '30917', '3100', '3115', '31170', '31185', '31205', '31312', '3133', '31332', '31340', '31376', '31385', '3154', '31640', '31719', '3181', '31966', '31996', '32052', '32082', '32161', '3225', '323', '32348', '32453', '32466', '32605', '3266', '32664', '32678', '32707', '32743', '32790', '32791', '3280', '3306', '3322', '3362', '3365', '339', '3393', '3417', '3436', '3437', '3460', '3490', '3496', '3506', '353', '3543', '3566', '3600', '3632', '3637', '3674', '3683', '3734', '3860', '3876', '3889', '3917', '3929', '394', '3974', '3977', '4004', '40464', '4059', '4063', '40697', '4096', '41034', '4113', '4126', '4138', '41603', '4166', '41702', '41768', '4187', '41966', '42180', '423', '42351', '4240', '4245', '4267', '4317', '4329', '43367', '434', '4367', '43673', '43991', '4410', '4448', '44521', '4454', '4458', '44602', '44751', '4495', '45180', '452', '4520', '4521', '45232', '4527', '45321', '45437', '45542', '4555', '45655', '4566', '4571', '4587', '46028', '4604', '46057', '4609', '46105', '46127', '46189', '46228', '4631', '46487', '4655', '46566', '46569', '46586', '4688', '47035', '47045', '47137', '4714', '4765', '4766', '47758', '47827', '4784', '4787', '47941', '4796', '48025', '48123', '4816', '4825', '4827', '48372', '48414', '48580', '48697', '4893', '4929', '4954', '49683', '5015', '5031', '5032', '5042', '5047', '5048', '5049', '5050', '50532', '5060', '50623', '5074', '5077', '50817', '50969', '51337', '51349', '5142', '5146', '51493', '515', '5158', '5171', '518', '5183', '52068', '522', '52263', '5242', '52482', '525', '52592', '52593', '5278', '52985', '53098', '53283', '53404', '5343', '53437', '5347', '5370', '5382', '5389', '5397', '5424', '54502', '5456', '54610', '5466', '5476', '54826', '54935', '5494', '5525', '55529', '5598', '55992', '5604', '5611', '5617', '56174', '5619', '56287', '5645', '56552', '5662', '5665', '5672', '56861', '5689', '57001', '5709', '57105', '5712', '5727', '57299', '5766', '5783', '5794', '5806', '5816', '58163', '5830', '58308', '58377', '5865', '5879', '58825', '58965', '5901', '59049', '59158', '5954', '5970', '5978', '59797', '59845', '59848', '59864', '59875', '59924', '59948', '60020', '6008', '60142', '60181', '60668', '6069', '60842', '6085', '60893', '61', '61198', '6124', '61259', '61630', '61659', '61809', '6195', '6212', '62186', '62261', '6272', '62813', '629', '6300', '63048', '6321', '63292', '634', '6349', '6358', '63637', '6365', '63660', '638', '63938', '6428', '6437', '6440', '6449', '6466', '64906', '64919', '64988', '65082', '65190', '65284', '6534', '65364', '65431', '65454', '65481', '6571', '65779', '65954', '65982', '65994', '6603', '6604', '66158', '6621', '6636', '6638', '665', '66637', '6685', '67017', '67070', '6710', '6711', '6718', '67426', '6749', '67683', '679', '67910', '68184', '68218', '6824', '6828', '68301', '6843', '68453', '6871', '6894', '6917', '69251', '69359', '69398', '6953', '6954', '6973', '69855', '70004', '7009', '7029', '703', '70386', '70494', '7066', '70807', '71192', '7138', '7142', '7169', '7170', '71878', '7188', '7192', '71921', '72083', '72147', '7223', '7232', '7234', '72447', '725', '72707', '7275', '72847', '72940', '73206', '7327', '73370', '7344', '73454', '73509', '7357', '7359', '73770', '7391', '74046', '7413', '74319', '74444', '747', '7477', '7482', '7504', '7514', '75249', '7529', '7552', '7562', '75668', '7589', '7614', '76203', '7621', '7629', '76459', '76646', '7666', '7668', '7681', '7702', '77037', '77067', '7718', '77220', '7726', '773', '77341', '77413', '7752', '7784', '77850', '7798', '7799', '78007', '7809', '7815', '78342', '78419', '78536', '7859', '78641', '787', '78814', '7908', '79100', '7955', '7958', '79673', '79977', '80144', '80163', '80369', '8060', '80791', '808', '8081', '80956', '8109', '81114', '8120', '81209', '81464', '81529', '81543', '8163', '81662', '81778', '82104', '8222', '8231', '8238', '8251', '8258', '8273', '82960', '8309', '83151', '8321', '83210', '8369', '8432', '84350', '8445', '84465', '8447', '8450', '8452', '84595', '8466', '84669', '8467', '8471', '8472', '84745', '849', '8493', '8501', '8505', '8507', '85079', '852', '85350', '8543', '8556', '8564', '8565', '85723', '85740', '85870', '8597', '85999', '86018', '86146', '862', '863', '8665', '86717', '87160', '8734', '8789', '87926', '87978', '8799', '8801', '88206', '8851', '8869', '88711', '88782', '88857', '88882', '8896', '8917', '89180', '89290', '89446', '8947', '89840', '8989', '8992', '9012', '90369', '904', '9061', '90889', '9090', '90902', '9102', '91103', '91295', '9177', '91827', '92066', '9216', '9233', '9248', '9253', '9256', '92895', '9304', '93229', '9324', '93277', '93336', '9362', '9363', '93632', '9395', '9397', '93996', '9402', '94049', '9412', '94264', '94312', '9453', '948', '9484', '9486', '949', '94962', '9505', '95122', '9517', '9518', '952', '95238', '9540', '9544', '95447', '9555', '95637', '9571', '95725', '959', '96010', '96212', '96442', '9656', '96759', '96791', '96950', '9714', '9725', '97307', '97353', '9736', '97443', '97488', '97529', '9753', '97543', '97917', '9795', '97984', '98024', '9818', '98518', '9862', '98744', '98813', '9882', '9887', '9889', '9900', '99031', '9923', '99299', '9930', '99322', '9933', '99384', '99408', '99503', '9962', '9970', '9973', '9976', '9982']\n",
      "1560\n"
     ]
    }
   ],
   "source": [
    "# get patient dictionary\n",
    "patient_dict = dataset.patients\n",
    "print(list(patient_dict.keys()))\n",
    "print(len(patient_dict))"
   ]
  },
  {
   "cell_type": "code",
   "execution_count": 5,
   "metadata": {},
   "outputs": [
    {
     "name": "stdout",
     "output_type": "stream",
     "text": [
      "OrderedDict([('124383', Visit 124383 from patient 4096 with 86 events from tables ['DIAGNOSES_ICD', 'PROCEDURES_ICD', 'PRESCRIPTIONS', 'NOTEEVENTS_ICD']), ('161677', Visit 161677 from patient 4096 with 109 events from tables ['DIAGNOSES_ICD', 'PROCEDURES_ICD', 'PRESCRIPTIONS', 'NOTEEVENTS_ICD'])])\n"
     ]
    }
   ],
   "source": [
    "# get the \"10\" patient\n",
    "patient = patient_dict[\"4096\"]\n",
    "patient.gender, patient.birth_datetime, patient.ethnicity, patient.death_datetime, patient.visits\n",
    "print(patient.visits)"
   ]
  },
  {
   "cell_type": "code",
   "execution_count": 27,
   "metadata": {},
   "outputs": [
    {
     "name": "stdout",
     "output_type": "stream",
     "text": [
      "['124383', '161677']\n"
     ]
    }
   ],
   "source": [
    "# get the visit list of this patient\n",
    "visit_dict = patient.visits\n",
    "print (list(visit_dict.keys()))"
   ]
  },
  {
   "cell_type": "code",
   "execution_count": 28,
   "metadata": {},
   "outputs": [
    {
     "data": {
      "text/plain": [
       "(datetime.datetime(2170, 7, 20, 18, 9),\n",
       " ['DIAGNOSES_ICD', 'PROCEDURES_ICD', 'PRESCRIPTIONS', 'NOTEEVENTS_ICD'],\n",
       " 86,\n",
       " {'DIAGNOSES_ICD': [Event with ICD9CM code 0389 from table DIAGNOSES_ICD,\n",
       "   Event with ICD9CM code 5849 from table DIAGNOSES_ICD,\n",
       "   Event with ICD9CM code 496 from table DIAGNOSES_ICD,\n",
       "   Event with ICD9CM code 4280 from table DIAGNOSES_ICD,\n",
       "   Event with ICD9CM code 42731 from table DIAGNOSES_ICD,\n",
       "   Event with ICD9CM code 566 from table DIAGNOSES_ICD,\n",
       "   Event with ICD9CM code 99592 from table DIAGNOSES_ICD,\n",
       "   Event with ICD9CM code 4589 from table DIAGNOSES_ICD,\n",
       "   Event with ICD9CM code 25080 from table DIAGNOSES_ICD,\n",
       "   Event with ICD9CM code 4019 from table DIAGNOSES_ICD,\n",
       "   Event with ICD9CM code 2859 from table DIAGNOSES_ICD,\n",
       "   Event with ICD9CM code 78009 from table DIAGNOSES_ICD,\n",
       "   Event with ICD9CM code 4439 from table DIAGNOSES_ICD,\n",
       "   Event with ICD9CM code 5939 from table DIAGNOSES_ICD,\n",
       "   Event with ICD9CM code 71590 from table DIAGNOSES_ICD,\n",
       "   Event with ICD9CM code V1259 from table DIAGNOSES_ICD,\n",
       "   Event with ICD9CM code V1251 from table DIAGNOSES_ICD],\n",
       "  'PROCEDURES_ICD': [Event with ICD9PROC code 3893 from table PROCEDURES_ICD,\n",
       "   Event with ICD9PROC code 9609 from table PROCEDURES_ICD,\n",
       "   Event with ICD9PROC code 9904 from table PROCEDURES_ICD,\n",
       "   Event with ICD9PROC code 9390 from table PROCEDURES_ICD,\n",
       "   Event with ICD9PROC code 3893 from table PROCEDURES_ICD],\n",
       "  'PRESCRIPTIONS': [Event with ATC code N03A from table PRESCRIPTIONS,\n",
       "   Event with ATC code A02B from table PRESCRIPTIONS,\n",
       "   Event with ATC code C09A from table PRESCRIPTIONS,\n",
       "   Event with ATC code H01A from table PRESCRIPTIONS,\n",
       "   Event with ATC code J01M from table PRESCRIPTIONS,\n",
       "   Event with ATC code N02B from table PRESCRIPTIONS,\n",
       "   Event with ATC code R03A from table PRESCRIPTIONS,\n",
       "   Event with ATC code C10A from table PRESCRIPTIONS,\n",
       "   Event with ATC code B05X from table PRESCRIPTIONS,\n",
       "   Event with ATC code N03A from table PRESCRIPTIONS,\n",
       "   Event with ATC code A12A from table PRESCRIPTIONS,\n",
       "   Event with ATC code C01C from table PRESCRIPTIONS,\n",
       "   Event with ATC code V06D from table PRESCRIPTIONS,\n",
       "   Event with ATC code J01X from table PRESCRIPTIONS,\n",
       "   Event with ATC code N02A from table PRESCRIPTIONS,\n",
       "   Event with ATC code N02B from table PRESCRIPTIONS,\n",
       "   Event with ATC code B01A from table PRESCRIPTIONS,\n",
       "   Event with ATC code R03B from table PRESCRIPTIONS,\n",
       "   Event with ATC code J01X from table PRESCRIPTIONS,\n",
       "   Event with ATC code C05A from table PRESCRIPTIONS,\n",
       "   Event with ATC code D04A from table PRESCRIPTIONS,\n",
       "   Event with ATC code B05X from table PRESCRIPTIONS,\n",
       "   Event with ATC code N06A from table PRESCRIPTIONS,\n",
       "   Event with ATC code N05A from table PRESCRIPTIONS,\n",
       "   Event with ATC code N05A from table PRESCRIPTIONS,\n",
       "   Event with ATC code C07A from table PRESCRIPTIONS,\n",
       "   Event with ATC code N02B from table PRESCRIPTIONS,\n",
       "   Event with ATC code B01A from table PRESCRIPTIONS,\n",
       "   Event with ATC code C03C from table PRESCRIPTIONS,\n",
       "   Event with ATC code J01X from table PRESCRIPTIONS,\n",
       "   Event with ATC code P01A from table PRESCRIPTIONS,\n",
       "   Event with ATC code C01D from table PRESCRIPTIONS,\n",
       "   Event with ATC code C09A from table PRESCRIPTIONS,\n",
       "   Event with ATC code J01M from table PRESCRIPTIONS,\n",
       "   Event with ATC code N05A from table PRESCRIPTIONS,\n",
       "   Event with ATC code A10A from table PRESCRIPTIONS,\n",
       "   Event with ATC code N02A from table PRESCRIPTIONS,\n",
       "   Event with ATC code A02A from table PRESCRIPTIONS,\n",
       "   Event with ATC code A06A from table PRESCRIPTIONS,\n",
       "   Event with ATC code A12C from table PRESCRIPTIONS,\n",
       "   Event with ATC code A12B from table PRESCRIPTIONS],\n",
       "  'NOTEEVENTS_ICD': [Event with ICD9CM code V419 from table NOTEEVENTS_ICD,\n",
       "   Event with ICD9CM code 4019 from table NOTEEVENTS_ICD,\n",
       "   Event with ICD9CM code 4439 from table NOTEEVENTS_ICD,\n",
       "   Event with ICD9CM code 43491 from table NOTEEVENTS_ICD,\n",
       "   Event with ICD9CM code 78060 from table NOTEEVENTS_ICD,\n",
       "   Event with ICD9CM code 51189 from table NOTEEVENTS_ICD,\n",
       "   Event with ICD9CM code 7840 from table NOTEEVENTS_ICD,\n",
       "   Event with ICD9CM code 78650 from table NOTEEVENTS_ICD,\n",
       "   Event with ICD9CM code 78609 from table NOTEEVENTS_ICD,\n",
       "   Event with ICD9CM code 78605 from table NOTEEVENTS_ICD,\n",
       "   Event with ICD9CM code 78096 from table NOTEEVENTS_ICD,\n",
       "   Event with ICD9CM code 2724 from table NOTEEVENTS_ICD,\n",
       "   Event with ICD9CM code 53081 from table NOTEEVENTS_ICD,\n",
       "   Event with ICD9CM code 71590 from table NOTEEVENTS_ICD,\n",
       "   Event with ICD9CM code 5770 from table NOTEEVENTS_ICD,\n",
       "   Event with ICD9CM code 496 from table NOTEEVENTS_ICD,\n",
       "   Event with ICD9CM code 27800 from table NOTEEVENTS_ICD,\n",
       "   Event with ICD9CM code 7823 from table NOTEEVENTS_ICD,\n",
       "   Event with ICD9CM code 42761 from table NOTEEVENTS_ICD,\n",
       "   Event with ICD9CM code 2512 from table NOTEEVENTS_ICD,\n",
       "   Event with ICD9CM code 5849 from table NOTEEVENTS_ICD,\n",
       "   Event with ICD9CM code 78791 from table NOTEEVENTS_ICD,\n",
       "   Event with ICD9CM code 3301 from table NOTEEVENTS_ICD]})"
      ]
     },
     "execution_count": 28,
     "metadata": {},
     "output_type": "execute_result"
    }
   ],
   "source": [
    "# get the first visit\n",
    "visit = visit_dict['124383']\n",
    "visit.encounter_time, visit.available_tables, visit.num_events, visit.event_list_dict"
   ]
  },
  {
   "cell_type": "code",
   "execution_count": 29,
   "metadata": {},
   "outputs": [
    {
     "data": {
      "text/plain": [
       "['V419',\n",
       " '4019',\n",
       " '4439',\n",
       " '43491',\n",
       " '78060',\n",
       " '51189',\n",
       " '7840',\n",
       " '78650',\n",
       " '78609',\n",
       " '78605',\n",
       " '78096',\n",
       " '2724',\n",
       " '53081',\n",
       " '71590',\n",
       " '5770',\n",
       " '496',\n",
       " '27800',\n",
       " '7823',\n",
       " '42761',\n",
       " '2512',\n",
       " '5849',\n",
       " '78791',\n",
       " '3301']"
      ]
     },
     "execution_count": 29,
     "metadata": {},
     "output_type": "execute_result"
    }
   ],
   "source": [
    "visit.get_code_list(table='NOTEEVENTS_ICD')"
   ]
  },
  {
   "cell_type": "markdown",
   "metadata": {},
   "source": [
    "## Modelling data for task of Drug Recommendation"
   ]
  },
  {
   "cell_type": "code",
   "execution_count": 3,
   "metadata": {},
   "outputs": [
    {
     "name": "stderr",
     "output_type": "stream",
     "text": [
      "Generating samples for drug_recommendation_mimic3_fn: 100%|██████████| 1560/1560 [00:00<00:00, 12334.26it/s]\n"
     ]
    }
   ],
   "source": [
    "from pyhealth.tasks import drug_recommendation_mimic3_fn\n",
    "from pyhealth.datasets import split_by_patient, get_dataloader\n",
    "\n",
    "mimic3sample = dataset.set_task(task_fn=drug_recommendation_mimic3_fn) # use default task\n",
    "train_ds, val_ds, test_ds = split_by_patient(mimic3sample, [0.8, 0.1, 0.1])"
   ]
  },
  {
   "cell_type": "code",
   "execution_count": 4,
   "metadata": {},
   "outputs": [
    {
     "name": "stdout",
     "output_type": "stream",
     "text": [
      "Statistics of sample dataset:\n",
      "\t- Dataset: MIMIC3Dataset\n",
      "\t- Task: drug_recommendation_mimic3_fn\n",
      "\t- Number of samples: 2012\n",
      "\t- Number of patients: 906\n",
      "\t- Number of visits: 2012\n",
      "\t- Number of visits per patient: 2.2208\n",
      "\t- conditions:\n",
      "\t\t- Number of conditions per sample: 18.8827\n",
      "\t\t- Number of unique conditions: 2099\n",
      "\t\t- Distribution of conditions (Top-10): [('4019', 1225), ('4280', 1021), ('42731', 783), ('41401', 767), ('5849', 594), ('25000', 537), ('53081', 458), ('5990', 393), ('40391', 389), ('2724', 386)]\n",
      "\t- procedures:\n",
      "\t\t- Number of procedures per sample: 7.0055\n",
      "\t\t- Number of unique procedures: 733\n",
      "\t\t- Distribution of procedures (Top-10): [('3893', 1047), ('9904', 776), ('9604', 529), ('3995', 505), ('966', 484), ('9671', 477), ('3891', 295), ('9672', 292), ('3961', 267), ('9915', 257)]\n",
      "\t- drugs:\n",
      "\t\t- Number of drugs per sample: 30.2271\n",
      "\t\t- Number of unique drugs: 406\n",
      "\t\t- Distribution of drugs (Top-10): [('B05XA', 1792), ('B01AB', 1561), ('A02BC', 1494), ('N02BE', 1465), ('V06DC', 1383), ('N02AA', 1327), ('A06AA', 1243), ('A06AD', 1182), ('A12CC', 1179), ('C07AB', 1156)]\n",
      "\t- drugs_hist:\n",
      "\t\t- Number of drugs_hist per sample: 21.2758\n",
      "\t\t- Number of unique drugs_hist: 384\n",
      "\t\t- Distribution of drugs_hist (Top-10): [('B05XA', 1287), ('B01AB', 1132), ('A02BC', 1132), ('N02BE', 1006), ('V06DC', 999), ('N02AA', 945), ('A06AA', 831), ('A12CC', 829), ('C07AB', 819), ('A06AD', 802)]\n",
      "\t- symptoms:\n",
      "\t\t- Number of symptoms per sample: 27.8588\n",
      "\t\t- Number of unique symptoms: 714\n",
      "\t\t- Distribution of symptoms (Top-10): [('V419', 3386), ('4019', 2372), ('7823', 2242), ('78060', 2124), ('78096', 2113), ('78650', 1390), ('78609', 1027), ('78605', 1020), ('4289', 1005), ('78900', 901)]\n"
     ]
    },
    {
     "data": {
      "text/plain": [
       "\"Statistics of sample dataset:\\n\\t- Dataset: MIMIC3Dataset\\n\\t- Task: drug_recommendation_mimic3_fn\\n\\t- Number of samples: 2012\\n\\t- Number of patients: 906\\n\\t- Number of visits: 2012\\n\\t- Number of visits per patient: 2.2208\\n\\t- conditions:\\n\\t\\t- Number of conditions per sample: 18.8827\\n\\t\\t- Number of unique conditions: 2099\\n\\t\\t- Distribution of conditions (Top-10): [('4019', 1225), ('4280', 1021), ('42731', 783), ('41401', 767), ('5849', 594), ('25000', 537), ('53081', 458), ('5990', 393), ('40391', 389), ('2724', 386)]\\n\\t- procedures:\\n\\t\\t- Number of procedures per sample: 7.0055\\n\\t\\t- Number of unique procedures: 733\\n\\t\\t- Distribution of procedures (Top-10): [('3893', 1047), ('9904', 776), ('9604', 529), ('3995', 505), ('966', 484), ('9671', 477), ('3891', 295), ('9672', 292), ('3961', 267), ('9915', 257)]\\n\\t- drugs:\\n\\t\\t- Number of drugs per sample: 30.2271\\n\\t\\t- Number of unique drugs: 406\\n\\t\\t- Distribution of drugs (Top-10): [('B05XA', 1792), ('B01AB', 1561), ('A02BC', 1494), ('N02BE', 1465), ('V06DC', 1383), ('N02AA', 1327), ('A06AA', 1243), ('A06AD', 1182), ('A12CC', 1179), ('C07AB', 1156)]\\n\\t- drugs_hist:\\n\\t\\t- Number of drugs_hist per sample: 21.2758\\n\\t\\t- Number of unique drugs_hist: 384\\n\\t\\t- Distribution of drugs_hist (Top-10): [('B05XA', 1287), ('B01AB', 1132), ('A02BC', 1132), ('N02BE', 1006), ('V06DC', 999), ('N02AA', 945), ('A06AA', 831), ('A12CC', 829), ('C07AB', 819), ('A06AD', 802)]\\n\\t- symptoms:\\n\\t\\t- Number of symptoms per sample: 27.8588\\n\\t\\t- Number of unique symptoms: 714\\n\\t\\t- Distribution of symptoms (Top-10): [('V419', 3386), ('4019', 2372), ('7823', 2242), ('78060', 2124), ('78096', 2113), ('78650', 1390), ('78609', 1027), ('78605', 1020), ('4289', 1005), ('78900', 901)]\""
      ]
     },
     "execution_count": 4,
     "metadata": {},
     "output_type": "execute_result"
    }
   ],
   "source": [
    "mimic3sample.stat()"
   ]
  },
  {
   "cell_type": "code",
   "execution_count": 5,
   "metadata": {},
   "outputs": [],
   "source": [
    "# create dataloaders (torch.data.DataLoader)\n",
    "train_loader = get_dataloader(train_ds, batch_size=32, shuffle=True)\n",
    "val_loader = get_dataloader(val_ds, batch_size=32, shuffle=False)\n",
    "test_loader = get_dataloader(test_ds, batch_size=32, shuffle=False)"
   ]
  },
  {
   "cell_type": "code",
   "execution_count": 6,
   "metadata": {},
   "outputs": [
    {
     "data": {
      "text/plain": [
       "(1600, 213, 199)"
      ]
     },
     "execution_count": 6,
     "metadata": {},
     "output_type": "execute_result"
    }
   ],
   "source": [
    "len(train_ds), len(val_ds), len(test_ds)"
   ]
  },
  {
   "cell_type": "markdown",
   "metadata": {},
   "source": [
    "## Our Model"
   ]
  },
  {
   "cell_type": "code",
   "execution_count": 7,
   "metadata": {},
   "outputs": [
    {
     "data": {
      "text/plain": [
       "<module 'pyhealth.models' from 'c:\\\\users\\\\giuse\\\\desktop\\\\msc-thesis-project\\\\proj_venv\\\\src\\\\pyhealth\\\\pyhealth\\\\models\\\\__init__.py'>"
      ]
     },
     "execution_count": 7,
     "metadata": {},
     "output_type": "execute_result"
    }
   ],
   "source": [
    "%load_ext autoreload\n",
    "%autoreload 2\n",
    "\n",
    "import importlib\n",
    "import pyhealth.models\n",
    "\n",
    "importlib.reload(pyhealth.models)"
   ]
  },
  {
   "cell_type": "code",
   "execution_count": 8,
   "metadata": {},
   "outputs": [
    {
     "name": "stderr",
     "output_type": "stream",
     "text": [
      "c:\\Users\\giuse\\Desktop\\MSc-Thesis-Project\\proj_venv\\lib\\site-packages\\torch\\overrides.py:110: UserWarning: 'has_cuda' is deprecated, please use 'torch.backends.cuda.is_built()'\n",
      "  torch.has_cuda,\n",
      "c:\\Users\\giuse\\Desktop\\MSc-Thesis-Project\\proj_venv\\lib\\site-packages\\torch\\overrides.py:111: UserWarning: 'has_cudnn' is deprecated, please use 'torch.backends.cudnn.is_available()'\n",
      "  torch.has_cudnn,\n",
      "c:\\Users\\giuse\\Desktop\\MSc-Thesis-Project\\proj_venv\\lib\\site-packages\\torch\\overrides.py:117: UserWarning: 'has_mps' is deprecated, please use 'torch.backends.mps.is_built()'\n",
      "  torch.has_mps,\n",
      "c:\\Users\\giuse\\Desktop\\MSc-Thesis-Project\\proj_venv\\lib\\site-packages\\torch\\overrides.py:118: UserWarning: 'has_mkldnn' is deprecated, please use 'torch.backends.mkldnn.is_available()'\n",
      "  torch.has_mkldnn,\n"
     ]
    }
   ],
   "source": [
    "from pyhealth.models import GNN\n",
    "\n",
    "model = GNN(\n",
    "    dataset=mimic3sample,\n",
    "    feature_keys=[\"procedures\", \"symptoms\", \"conditions\"],\n",
    "    label_key=\"drugs\",\n",
    "    k=0\n",
    ")"
   ]
  },
  {
   "cell_type": "code",
   "execution_count": 54,
   "metadata": {},
   "outputs": [
    {
     "name": "stdout",
     "output_type": "stream",
     "text": [
      "GNN(\n",
      "  (x_dict): X_Dict(\n",
      "    (pat_emb): Embedding(906, 128)\n",
      "    (vis_emb): Embedding(2012, 128)\n",
      "    (symp_emb): Embedding(714, 128)\n",
      "    (proc_emb): Embedding(733, 128)\n",
      "    (dis_emb): Embedding(2099, 128)\n",
      "    (drug_emb): Embedding(406, 128)\n",
      "  )\n",
      "  (layer): GNNLayer(\n",
      "    (gnn): GraphModule(\n",
      "      (conv1): ModuleDict(\n",
      "        (patient__has__visit): SAGEConv((-1, -1), 128, aggr=mean)\n",
      "        (visit__presents__symptom): SAGEConv((-1, -1), 128, aggr=mean)\n",
      "        (visit__has__disease): SAGEConv((-1, -1), 128, aggr=mean)\n",
      "        (visit__has_treat__procedure): SAGEConv((-1, -1), 128, aggr=mean)\n",
      "        (visit__has_received__drug): SAGEConv((-1, -1), 128, aggr=mean)\n",
      "        (visit__rev_has__patient): SAGEConv((-1, -1), 128, aggr=mean)\n",
      "        (symptom__rev_presents__visit): SAGEConv((-1, -1), 128, aggr=mean)\n",
      "        (disease__rev_has__visit): SAGEConv((-1, -1), 128, aggr=mean)\n",
      "        (procedure__rev_has_treat__visit): SAGEConv((-1, -1), 128, aggr=mean)\n",
      "        (drug__rev_has_received__visit): SAGEConv((-1, -1), 128, aggr=mean)\n",
      "      )\n",
      "      (bn1): ModuleDict(\n",
      "        (patient): BatchNorm1d(128, eps=1e-05, momentum=0.1, affine=True, track_running_stats=True)\n",
      "        (visit): BatchNorm1d(128, eps=1e-05, momentum=0.1, affine=True, track_running_stats=True)\n",
      "        (symptom): BatchNorm1d(128, eps=1e-05, momentum=0.1, affine=True, track_running_stats=True)\n",
      "        (procedure): BatchNorm1d(128, eps=1e-05, momentum=0.1, affine=True, track_running_stats=True)\n",
      "        (disease): BatchNorm1d(128, eps=1e-05, momentum=0.1, affine=True, track_running_stats=True)\n",
      "        (drug): BatchNorm1d(128, eps=1e-05, momentum=0.1, affine=True, track_running_stats=True)\n",
      "      )\n",
      "      (conv2): ModuleDict(\n",
      "        (patient__has__visit): SAGEConv((-1, -1), 128, aggr=mean)\n",
      "        (visit__presents__symptom): SAGEConv((-1, -1), 128, aggr=mean)\n",
      "        (visit__has__disease): SAGEConv((-1, -1), 128, aggr=mean)\n",
      "        (visit__has_treat__procedure): SAGEConv((-1, -1), 128, aggr=mean)\n",
      "        (visit__has_received__drug): SAGEConv((-1, -1), 128, aggr=mean)\n",
      "        (visit__rev_has__patient): SAGEConv((-1, -1), 128, aggr=mean)\n",
      "        (symptom__rev_presents__visit): SAGEConv((-1, -1), 128, aggr=mean)\n",
      "        (disease__rev_has__visit): SAGEConv((-1, -1), 128, aggr=mean)\n",
      "        (procedure__rev_has_treat__visit): SAGEConv((-1, -1), 128, aggr=mean)\n",
      "        (drug__rev_has_received__visit): SAGEConv((-1, -1), 128, aggr=mean)\n",
      "      )\n",
      "      (bn2): ModuleDict(\n",
      "        (patient): BatchNorm1d(128, eps=1e-05, momentum=0.1, affine=True, track_running_stats=True)\n",
      "        (visit): BatchNorm1d(128, eps=1e-05, momentum=0.1, affine=True, track_running_stats=True)\n",
      "        (symptom): BatchNorm1d(128, eps=1e-05, momentum=0.1, affine=True, track_running_stats=True)\n",
      "        (procedure): BatchNorm1d(128, eps=1e-05, momentum=0.1, affine=True, track_running_stats=True)\n",
      "        (disease): BatchNorm1d(128, eps=1e-05, momentum=0.1, affine=True, track_running_stats=True)\n",
      "        (drug): BatchNorm1d(128, eps=1e-05, momentum=0.1, affine=True, track_running_stats=True)\n",
      "      )\n",
      "      (conv3): ModuleDict(\n",
      "        (patient__has__visit): SAGEConv((-1, -1), 128, aggr=mean)\n",
      "        (visit__presents__symptom): SAGEConv((-1, -1), 128, aggr=mean)\n",
      "        (visit__has__disease): SAGEConv((-1, -1), 128, aggr=mean)\n",
      "        (visit__has_treat__procedure): SAGEConv((-1, -1), 128, aggr=mean)\n",
      "        (visit__has_received__drug): SAGEConv((-1, -1), 128, aggr=mean)\n",
      "        (visit__rev_has__patient): SAGEConv((-1, -1), 128, aggr=mean)\n",
      "        (symptom__rev_presents__visit): SAGEConv((-1, -1), 128, aggr=mean)\n",
      "        (disease__rev_has__visit): SAGEConv((-1, -1), 128, aggr=mean)\n",
      "        (procedure__rev_has_treat__visit): SAGEConv((-1, -1), 128, aggr=mean)\n",
      "        (drug__rev_has_received__visit): SAGEConv((-1, -1), 128, aggr=mean)\n",
      "      )\n",
      "      (bn3): ModuleDict(\n",
      "        (patient): BatchNorm1d(128, eps=1e-05, momentum=0.1, affine=True, track_running_stats=True)\n",
      "        (visit): BatchNorm1d(128, eps=1e-05, momentum=0.1, affine=True, track_running_stats=True)\n",
      "        (symptom): BatchNorm1d(128, eps=1e-05, momentum=0.1, affine=True, track_running_stats=True)\n",
      "        (procedure): BatchNorm1d(128, eps=1e-05, momentum=0.1, affine=True, track_running_stats=True)\n",
      "        (disease): BatchNorm1d(128, eps=1e-05, momentum=0.1, affine=True, track_running_stats=True)\n",
      "        (drug): BatchNorm1d(128, eps=1e-05, momentum=0.1, affine=True, track_running_stats=True)\n",
      "      )\n",
      "      (conv4): ModuleDict(\n",
      "        (patient__has__visit): SAGEConv((-1, -1), 128, aggr=mean)\n",
      "        (visit__presents__symptom): SAGEConv((-1, -1), 128, aggr=mean)\n",
      "        (visit__has__disease): SAGEConv((-1, -1), 128, aggr=mean)\n",
      "        (visit__has_treat__procedure): SAGEConv((-1, -1), 128, aggr=mean)\n",
      "        (visit__has_received__drug): SAGEConv((-1, -1), 128, aggr=mean)\n",
      "        (visit__rev_has__patient): SAGEConv((-1, -1), 128, aggr=mean)\n",
      "        (symptom__rev_presents__visit): SAGEConv((-1, -1), 128, aggr=mean)\n",
      "        (disease__rev_has__visit): SAGEConv((-1, -1), 128, aggr=mean)\n",
      "        (procedure__rev_has_treat__visit): SAGEConv((-1, -1), 128, aggr=mean)\n",
      "        (drug__rev_has_received__visit): SAGEConv((-1, -1), 128, aggr=mean)\n",
      "      )\n",
      "      (bn4): ModuleDict(\n",
      "        (patient): BatchNorm1d(128, eps=1e-05, momentum=0.1, affine=True, track_running_stats=True)\n",
      "        (visit): BatchNorm1d(128, eps=1e-05, momentum=0.1, affine=True, track_running_stats=True)\n",
      "        (symptom): BatchNorm1d(128, eps=1e-05, momentum=0.1, affine=True, track_running_stats=True)\n",
      "        (procedure): BatchNorm1d(128, eps=1e-05, momentum=0.1, affine=True, track_running_stats=True)\n",
      "        (disease): BatchNorm1d(128, eps=1e-05, momentum=0.1, affine=True, track_running_stats=True)\n",
      "        (drug): BatchNorm1d(128, eps=1e-05, momentum=0.1, affine=True, track_running_stats=True)\n",
      "      )\n",
      "      (dropout): ModuleDict(\n",
      "        (patient): Dropout(p=0.4, inplace=False)\n",
      "        (visit): Dropout(p=0.4, inplace=False)\n",
      "        (symptom): Dropout(p=0.4, inplace=False)\n",
      "        (procedure): Dropout(p=0.4, inplace=False)\n",
      "        (disease): Dropout(p=0.4, inplace=False)\n",
      "        (drug): Dropout(p=0.4, inplace=False)\n",
      "      )\n",
      "    )\n",
      "    (classifier): Classifier(\n",
      "      (lin1): Linear(in_features=256, out_features=128, bias=True)\n",
      "      (lin2): Linear(in_features=128, out_features=1, bias=True)\n",
      "    )\n",
      "  )\n",
      ")\n",
      "Metrics: None\n",
      "Device: cpu\n",
      "\n",
      "Training:\n",
      "Batch size: 32\n",
      "Optimizer: <class 'torch.optim.adam.Adam'>\n",
      "Optimizer params: {'lr': 0.0002}\n",
      "Weight decay: 0.0\n",
      "Max grad norm: None\n",
      "Val dataloader: <torch.utils.data.dataloader.DataLoader object at 0x00000247FC0C2A00>\n",
      "Monitor: pr_auc_samples\n",
      "Monitor criterion: max\n",
      "Epochs: 40\n",
      "\n"
     ]
    },
    {
     "data": {
      "application/vnd.jupyter.widget-view+json": {
       "model_id": "7c982757a9594989a688ecf6824511d9",
       "version_major": 2,
       "version_minor": 0
      },
      "text/plain": [
       "Epoch 0 / 40:   0%|          | 0/50 [00:00<?, ?it/s]"
      ]
     },
     "metadata": {},
     "output_type": "display_data"
    },
    {
     "name": "stdout",
     "output_type": "stream",
     "text": [
      "--- Train epoch-0, step-50 ---\n",
      "loss: 0.1094\n"
     ]
    },
    {
     "name": "stderr",
     "output_type": "stream",
     "text": [
      "Evaluation: 100%|██████████| 7/7 [00:00<00:00,  9.07it/s]"
     ]
    },
    {
     "name": "stdout",
     "output_type": "stream",
     "text": [
      "--- Eval epoch-0, step-50 ---\n"
     ]
    },
    {
     "name": "stderr",
     "output_type": "stream",
     "text": [
      "\n"
     ]
    },
    {
     "name": "stdout",
     "output_type": "stream",
     "text": [
      "pr_auc_samples: 0.5967\n",
      "loss: 0.1091\n",
      "New best pr_auc_samples score (0.5967) at epoch-0, step-50\n",
      "\n"
     ]
    },
    {
     "data": {
      "application/vnd.jupyter.widget-view+json": {
       "model_id": "1050d4b5929943e6bf09fbfb74e86072",
       "version_major": 2,
       "version_minor": 0
      },
      "text/plain": [
       "Epoch 1 / 40:   0%|          | 0/50 [00:00<?, ?it/s]"
      ]
     },
     "metadata": {},
     "output_type": "display_data"
    },
    {
     "name": "stdout",
     "output_type": "stream",
     "text": [
      "--- Train epoch-1, step-100 ---\n",
      "loss: 0.1048\n"
     ]
    },
    {
     "name": "stderr",
     "output_type": "stream",
     "text": [
      "Evaluation: 100%|██████████| 7/7 [00:00<00:00,  7.74it/s]\n"
     ]
    },
    {
     "name": "stdout",
     "output_type": "stream",
     "text": [
      "--- Eval epoch-1, step-100 ---\n",
      "pr_auc_samples: 0.6120\n",
      "loss: 0.1063\n",
      "New best pr_auc_samples score (0.6120) at epoch-1, step-100\n",
      "\n"
     ]
    },
    {
     "data": {
      "application/vnd.jupyter.widget-view+json": {
       "model_id": "62b8a2a7be09454686025e8bb7fecaca",
       "version_major": 2,
       "version_minor": 0
      },
      "text/plain": [
       "Epoch 2 / 40:   0%|          | 0/50 [00:00<?, ?it/s]"
      ]
     },
     "metadata": {},
     "output_type": "display_data"
    },
    {
     "name": "stdout",
     "output_type": "stream",
     "text": [
      "--- Train epoch-2, step-150 ---\n",
      "loss: 0.1003\n"
     ]
    },
    {
     "name": "stderr",
     "output_type": "stream",
     "text": [
      "Evaluation: 100%|██████████| 7/7 [00:01<00:00,  5.36it/s]\n"
     ]
    },
    {
     "name": "stdout",
     "output_type": "stream",
     "text": [
      "--- Eval epoch-2, step-150 ---\n",
      "pr_auc_samples: 0.6331\n",
      "loss: 0.1008\n",
      "New best pr_auc_samples score (0.6331) at epoch-2, step-150\n",
      "\n"
     ]
    },
    {
     "data": {
      "application/vnd.jupyter.widget-view+json": {
       "model_id": "5ea2c10a8e0b4b44afa04fb2f666ad57",
       "version_major": 2,
       "version_minor": 0
      },
      "text/plain": [
       "Epoch 3 / 40:   0%|          | 0/50 [00:00<?, ?it/s]"
      ]
     },
     "metadata": {},
     "output_type": "display_data"
    },
    {
     "name": "stdout",
     "output_type": "stream",
     "text": [
      "--- Train epoch-3, step-200 ---\n",
      "loss: 0.0965\n"
     ]
    },
    {
     "name": "stderr",
     "output_type": "stream",
     "text": [
      "Evaluation: 100%|██████████| 7/7 [00:00<00:00, 11.96it/s]"
     ]
    },
    {
     "name": "stdout",
     "output_type": "stream",
     "text": [
      "--- Eval epoch-3, step-200 ---\n",
      "pr_auc_samples: 0.6454\n",
      "loss: 0.0992\n",
      "New best pr_auc_samples score (0.6454) at epoch-3, step-200\n"
     ]
    },
    {
     "name": "stderr",
     "output_type": "stream",
     "text": [
      "\n"
     ]
    },
    {
     "name": "stdout",
     "output_type": "stream",
     "text": [
      "\n"
     ]
    },
    {
     "data": {
      "application/vnd.jupyter.widget-view+json": {
       "model_id": "21ebccaf7d104f67b42d1a981d93a95c",
       "version_major": 2,
       "version_minor": 0
      },
      "text/plain": [
       "Epoch 4 / 40:   0%|          | 0/50 [00:00<?, ?it/s]"
      ]
     },
     "metadata": {},
     "output_type": "display_data"
    },
    {
     "name": "stdout",
     "output_type": "stream",
     "text": [
      "--- Train epoch-4, step-250 ---\n",
      "loss: 0.0925\n"
     ]
    },
    {
     "name": "stderr",
     "output_type": "stream",
     "text": [
      "Evaluation: 100%|██████████| 7/7 [00:00<00:00,  9.61it/s]"
     ]
    },
    {
     "name": "stdout",
     "output_type": "stream",
     "text": [
      "--- Eval epoch-4, step-250 ---\n",
      "pr_auc_samples: 0.6547\n",
      "loss: 0.0994\n",
      "New best pr_auc_samples score (0.6547) at epoch-4, step-250\n",
      "\n"
     ]
    },
    {
     "name": "stderr",
     "output_type": "stream",
     "text": [
      "\n"
     ]
    },
    {
     "data": {
      "application/vnd.jupyter.widget-view+json": {
       "model_id": "37457e5734174fae9ac81c54141e64c6",
       "version_major": 2,
       "version_minor": 0
      },
      "text/plain": [
       "Epoch 5 / 40:   0%|          | 0/50 [00:00<?, ?it/s]"
      ]
     },
     "metadata": {},
     "output_type": "display_data"
    },
    {
     "name": "stdout",
     "output_type": "stream",
     "text": [
      "--- Train epoch-5, step-300 ---\n",
      "loss: 0.0893\n"
     ]
    },
    {
     "name": "stderr",
     "output_type": "stream",
     "text": [
      "Evaluation: 100%|██████████| 7/7 [00:00<00:00, 10.45it/s]"
     ]
    },
    {
     "name": "stdout",
     "output_type": "stream",
     "text": [
      "--- Eval epoch-5, step-300 ---\n",
      "pr_auc_samples: 0.6664\n",
      "loss: 0.0966\n",
      "New best pr_auc_samples score (0.6664) at epoch-5, step-300\n",
      "\n"
     ]
    },
    {
     "name": "stderr",
     "output_type": "stream",
     "text": [
      "\n"
     ]
    },
    {
     "data": {
      "application/vnd.jupyter.widget-view+json": {
       "model_id": "67faec5e94174a1f8fea21ad113dedeb",
       "version_major": 2,
       "version_minor": 0
      },
      "text/plain": [
       "Epoch 6 / 40:   0%|          | 0/50 [00:00<?, ?it/s]"
      ]
     },
     "metadata": {},
     "output_type": "display_data"
    },
    {
     "name": "stdout",
     "output_type": "stream",
     "text": [
      "--- Train epoch-6, step-350 ---\n",
      "loss: 0.0865\n"
     ]
    },
    {
     "name": "stderr",
     "output_type": "stream",
     "text": [
      "Evaluation: 100%|██████████| 7/7 [00:00<00:00, 12.09it/s]\n"
     ]
    },
    {
     "name": "stdout",
     "output_type": "stream",
     "text": [
      "--- Eval epoch-6, step-350 ---\n",
      "pr_auc_samples: 0.6802\n",
      "loss: 0.0967\n",
      "New best pr_auc_samples score (0.6802) at epoch-6, step-350\n",
      "\n"
     ]
    },
    {
     "data": {
      "application/vnd.jupyter.widget-view+json": {
       "model_id": "c93f046ff269452b86b832ca6219cee7",
       "version_major": 2,
       "version_minor": 0
      },
      "text/plain": [
       "Epoch 7 / 40:   0%|          | 0/50 [00:00<?, ?it/s]"
      ]
     },
     "metadata": {},
     "output_type": "display_data"
    },
    {
     "name": "stdout",
     "output_type": "stream",
     "text": [
      "--- Train epoch-7, step-400 ---\n",
      "loss: 0.0851\n"
     ]
    },
    {
     "name": "stderr",
     "output_type": "stream",
     "text": [
      "Evaluation: 100%|██████████| 7/7 [00:01<00:00,  5.36it/s]\n"
     ]
    },
    {
     "name": "stdout",
     "output_type": "stream",
     "text": [
      "--- Eval epoch-7, step-400 ---\n",
      "pr_auc_samples: 0.6880\n",
      "loss: 0.0962\n",
      "New best pr_auc_samples score (0.6880) at epoch-7, step-400\n",
      "\n"
     ]
    },
    {
     "data": {
      "application/vnd.jupyter.widget-view+json": {
       "model_id": "dad8da71a657431cbfe63819a0cfa0b2",
       "version_major": 2,
       "version_minor": 0
      },
      "text/plain": [
       "Epoch 8 / 40:   0%|          | 0/50 [00:00<?, ?it/s]"
      ]
     },
     "metadata": {},
     "output_type": "display_data"
    },
    {
     "name": "stdout",
     "output_type": "stream",
     "text": [
      "--- Train epoch-8, step-450 ---\n",
      "loss: 0.0837\n"
     ]
    },
    {
     "name": "stderr",
     "output_type": "stream",
     "text": [
      "Evaluation: 100%|██████████| 7/7 [00:00<00:00,  9.26it/s]"
     ]
    },
    {
     "name": "stdout",
     "output_type": "stream",
     "text": [
      "--- Eval epoch-8, step-450 ---\n",
      "pr_auc_samples: 0.6951\n",
      "loss: 0.0948\n",
      "New best pr_auc_samples score (0.6951) at epoch-8, step-450\n",
      "\n"
     ]
    },
    {
     "name": "stderr",
     "output_type": "stream",
     "text": [
      "\n"
     ]
    },
    {
     "data": {
      "application/vnd.jupyter.widget-view+json": {
       "model_id": "fe9b46b236c24a15bab10a1ec095df96",
       "version_major": 2,
       "version_minor": 0
      },
      "text/plain": [
       "Epoch 9 / 40:   0%|          | 0/50 [00:00<?, ?it/s]"
      ]
     },
     "metadata": {},
     "output_type": "display_data"
    },
    {
     "name": "stdout",
     "output_type": "stream",
     "text": [
      "--- Train epoch-9, step-500 ---\n",
      "loss: 0.0820\n"
     ]
    },
    {
     "name": "stderr",
     "output_type": "stream",
     "text": [
      "Evaluation: 100%|██████████| 7/7 [00:00<00:00,  9.67it/s]"
     ]
    },
    {
     "name": "stdout",
     "output_type": "stream",
     "text": [
      "--- Eval epoch-9, step-500 ---\n"
     ]
    },
    {
     "name": "stderr",
     "output_type": "stream",
     "text": [
      "\n"
     ]
    },
    {
     "name": "stdout",
     "output_type": "stream",
     "text": [
      "pr_auc_samples: 0.7055\n",
      "loss: 0.0948\n",
      "New best pr_auc_samples score (0.7055) at epoch-9, step-500\n",
      "\n"
     ]
    },
    {
     "data": {
      "application/vnd.jupyter.widget-view+json": {
       "model_id": "489e26b72b784a078acb3bd3ac333186",
       "version_major": 2,
       "version_minor": 0
      },
      "text/plain": [
       "Epoch 10 / 40:   0%|          | 0/50 [00:00<?, ?it/s]"
      ]
     },
     "metadata": {},
     "output_type": "display_data"
    },
    {
     "name": "stdout",
     "output_type": "stream",
     "text": [
      "--- Train epoch-10, step-550 ---\n",
      "loss: 0.0804\n"
     ]
    },
    {
     "name": "stderr",
     "output_type": "stream",
     "text": [
      "Evaluation: 100%|██████████| 7/7 [00:00<00:00,  8.23it/s]\n"
     ]
    },
    {
     "name": "stdout",
     "output_type": "stream",
     "text": [
      "--- Eval epoch-10, step-550 ---\n",
      "pr_auc_samples: 0.7143\n",
      "loss: 0.0931\n",
      "New best pr_auc_samples score (0.7143) at epoch-10, step-550\n",
      "\n"
     ]
    },
    {
     "data": {
      "application/vnd.jupyter.widget-view+json": {
       "model_id": "b717f59b82e0454f80399b1141467661",
       "version_major": 2,
       "version_minor": 0
      },
      "text/plain": [
       "Epoch 11 / 40:   0%|          | 0/50 [00:00<?, ?it/s]"
      ]
     },
     "metadata": {},
     "output_type": "display_data"
    },
    {
     "name": "stdout",
     "output_type": "stream",
     "text": [
      "--- Train epoch-11, step-600 ---\n",
      "loss: 0.0783\n"
     ]
    },
    {
     "name": "stderr",
     "output_type": "stream",
     "text": [
      "Evaluation: 100%|██████████| 7/7 [00:00<00:00,  8.51it/s]\n"
     ]
    },
    {
     "name": "stdout",
     "output_type": "stream",
     "text": [
      "--- Eval epoch-11, step-600 ---\n",
      "pr_auc_samples: 0.7179\n",
      "loss: 0.0938\n",
      "New best pr_auc_samples score (0.7179) at epoch-11, step-600\n",
      "\n"
     ]
    },
    {
     "data": {
      "application/vnd.jupyter.widget-view+json": {
       "model_id": "87e649e890a14780b090646fbc7b7e3f",
       "version_major": 2,
       "version_minor": 0
      },
      "text/plain": [
       "Epoch 12 / 40:   0%|          | 0/50 [00:00<?, ?it/s]"
      ]
     },
     "metadata": {},
     "output_type": "display_data"
    },
    {
     "name": "stdout",
     "output_type": "stream",
     "text": [
      "--- Train epoch-12, step-650 ---\n",
      "loss: 0.0766\n"
     ]
    },
    {
     "name": "stderr",
     "output_type": "stream",
     "text": [
      "Evaluation: 100%|██████████| 7/7 [00:00<00:00,  7.59it/s]"
     ]
    },
    {
     "name": "stdout",
     "output_type": "stream",
     "text": [
      "--- Eval epoch-12, step-650 ---\n",
      "pr_auc_samples: 0.7287\n",
      "loss: 0.0916\n",
      "New best pr_auc_samples score (0.7287) at epoch-12, step-650\n",
      "\n"
     ]
    },
    {
     "name": "stderr",
     "output_type": "stream",
     "text": [
      "\n"
     ]
    },
    {
     "data": {
      "application/vnd.jupyter.widget-view+json": {
       "model_id": "0ce30068a9944005a51819a137e82937",
       "version_major": 2,
       "version_minor": 0
      },
      "text/plain": [
       "Epoch 13 / 40:   0%|          | 0/50 [00:00<?, ?it/s]"
      ]
     },
     "metadata": {},
     "output_type": "display_data"
    },
    {
     "name": "stdout",
     "output_type": "stream",
     "text": [
      "--- Train epoch-13, step-700 ---\n",
      "loss: 0.0749\n"
     ]
    },
    {
     "name": "stderr",
     "output_type": "stream",
     "text": [
      "Evaluation: 100%|██████████| 7/7 [00:00<00:00,  9.35it/s]"
     ]
    },
    {
     "name": "stdout",
     "output_type": "stream",
     "text": [
      "--- Eval epoch-13, step-700 ---\n",
      "pr_auc_samples: 0.7329\n",
      "loss: 0.0907\n",
      "New best pr_auc_samples score (0.7329) at epoch-13, step-700\n"
     ]
    },
    {
     "name": "stderr",
     "output_type": "stream",
     "text": [
      "\n"
     ]
    },
    {
     "name": "stdout",
     "output_type": "stream",
     "text": [
      "\n"
     ]
    },
    {
     "data": {
      "application/vnd.jupyter.widget-view+json": {
       "model_id": "fe5fba4d715943a59cf44ac88068542e",
       "version_major": 2,
       "version_minor": 0
      },
      "text/plain": [
       "Epoch 14 / 40:   0%|          | 0/50 [00:00<?, ?it/s]"
      ]
     },
     "metadata": {},
     "output_type": "display_data"
    },
    {
     "name": "stdout",
     "output_type": "stream",
     "text": [
      "--- Train epoch-14, step-750 ---\n",
      "loss: 0.0737\n"
     ]
    },
    {
     "name": "stderr",
     "output_type": "stream",
     "text": [
      "Evaluation: 100%|██████████| 7/7 [00:00<00:00,  9.51it/s]"
     ]
    },
    {
     "name": "stdout",
     "output_type": "stream",
     "text": [
      "--- Eval epoch-14, step-750 ---\n",
      "pr_auc_samples: 0.7402\n",
      "loss: 0.0904\n",
      "New best pr_auc_samples score (0.7402) at epoch-14, step-750\n"
     ]
    },
    {
     "name": "stderr",
     "output_type": "stream",
     "text": [
      "\n"
     ]
    },
    {
     "name": "stdout",
     "output_type": "stream",
     "text": [
      "\n"
     ]
    },
    {
     "data": {
      "application/vnd.jupyter.widget-view+json": {
       "model_id": "3ff04d4ea9e5435185b6311720345b55",
       "version_major": 2,
       "version_minor": 0
      },
      "text/plain": [
       "Epoch 15 / 40:   0%|          | 0/50 [00:00<?, ?it/s]"
      ]
     },
     "metadata": {},
     "output_type": "display_data"
    },
    {
     "name": "stdout",
     "output_type": "stream",
     "text": [
      "--- Train epoch-15, step-800 ---\n",
      "loss: 0.0732\n"
     ]
    },
    {
     "name": "stderr",
     "output_type": "stream",
     "text": [
      "Evaluation: 100%|██████████| 7/7 [00:00<00:00,  9.60it/s]"
     ]
    },
    {
     "name": "stdout",
     "output_type": "stream",
     "text": [
      "--- Eval epoch-15, step-800 ---\n",
      "pr_auc_samples: 0.7433\n",
      "loss: 0.0904\n",
      "New best pr_auc_samples score (0.7433) at epoch-15, step-800\n",
      "\n"
     ]
    },
    {
     "name": "stderr",
     "output_type": "stream",
     "text": [
      "\n"
     ]
    },
    {
     "data": {
      "application/vnd.jupyter.widget-view+json": {
       "model_id": "eb357008b5b24846865758771fd06234",
       "version_major": 2,
       "version_minor": 0
      },
      "text/plain": [
       "Epoch 16 / 40:   0%|          | 0/50 [00:00<?, ?it/s]"
      ]
     },
     "metadata": {},
     "output_type": "display_data"
    },
    {
     "name": "stdout",
     "output_type": "stream",
     "text": [
      "--- Train epoch-16, step-850 ---\n",
      "loss: 0.0713\n"
     ]
    },
    {
     "name": "stderr",
     "output_type": "stream",
     "text": [
      "Evaluation: 100%|██████████| 7/7 [00:00<00:00,  7.27it/s]\n"
     ]
    },
    {
     "name": "stdout",
     "output_type": "stream",
     "text": [
      "--- Eval epoch-16, step-850 ---\n",
      "pr_auc_samples: 0.7491\n",
      "loss: 0.0905\n",
      "New best pr_auc_samples score (0.7491) at epoch-16, step-850\n",
      "\n"
     ]
    },
    {
     "data": {
      "application/vnd.jupyter.widget-view+json": {
       "model_id": "a5fb184a214244e8969d23df3688b281",
       "version_major": 2,
       "version_minor": 0
      },
      "text/plain": [
       "Epoch 17 / 40:   0%|          | 0/50 [00:00<?, ?it/s]"
      ]
     },
     "metadata": {},
     "output_type": "display_data"
    },
    {
     "name": "stdout",
     "output_type": "stream",
     "text": [
      "--- Train epoch-17, step-900 ---\n",
      "loss: 0.0708\n"
     ]
    },
    {
     "name": "stderr",
     "output_type": "stream",
     "text": [
      "Evaluation: 100%|██████████| 7/7 [00:00<00:00,  8.31it/s]\n"
     ]
    },
    {
     "name": "stdout",
     "output_type": "stream",
     "text": [
      "--- Eval epoch-17, step-900 ---\n",
      "pr_auc_samples: 0.7517\n",
      "loss: 0.0921\n",
      "New best pr_auc_samples score (0.7517) at epoch-17, step-900\n",
      "\n"
     ]
    },
    {
     "data": {
      "application/vnd.jupyter.widget-view+json": {
       "model_id": "f1ad1cbdb3914d9cbe234800e58d956e",
       "version_major": 2,
       "version_minor": 0
      },
      "text/plain": [
       "Epoch 18 / 40:   0%|          | 0/50 [00:00<?, ?it/s]"
      ]
     },
     "metadata": {},
     "output_type": "display_data"
    },
    {
     "name": "stdout",
     "output_type": "stream",
     "text": [
      "--- Train epoch-18, step-950 ---\n",
      "loss: 0.0701\n"
     ]
    },
    {
     "name": "stderr",
     "output_type": "stream",
     "text": [
      "Evaluation: 100%|██████████| 7/7 [00:00<00:00,  9.24it/s]"
     ]
    },
    {
     "name": "stdout",
     "output_type": "stream",
     "text": [
      "--- Eval epoch-18, step-950 ---\n",
      "pr_auc_samples: 0.7486\n",
      "loss: 0.0909\n",
      "\n"
     ]
    },
    {
     "name": "stderr",
     "output_type": "stream",
     "text": [
      "\n"
     ]
    },
    {
     "data": {
      "application/vnd.jupyter.widget-view+json": {
       "model_id": "150d7cb7c1a648aca251e6a27c19f2e6",
       "version_major": 2,
       "version_minor": 0
      },
      "text/plain": [
       "Epoch 19 / 40:   0%|          | 0/50 [00:00<?, ?it/s]"
      ]
     },
     "metadata": {},
     "output_type": "display_data"
    },
    {
     "name": "stdout",
     "output_type": "stream",
     "text": [
      "--- Train epoch-19, step-1000 ---\n",
      "loss: 0.0696\n"
     ]
    },
    {
     "name": "stderr",
     "output_type": "stream",
     "text": [
      "Evaluation: 100%|██████████| 7/7 [00:01<00:00,  3.88it/s]"
     ]
    },
    {
     "name": "stdout",
     "output_type": "stream",
     "text": [
      "--- Eval epoch-19, step-1000 ---\n"
     ]
    },
    {
     "name": "stderr",
     "output_type": "stream",
     "text": [
      "\n"
     ]
    },
    {
     "name": "stdout",
     "output_type": "stream",
     "text": [
      "pr_auc_samples: 0.7553\n",
      "loss: 0.0890\n",
      "New best pr_auc_samples score (0.7553) at epoch-19, step-1000\n",
      "\n"
     ]
    },
    {
     "data": {
      "application/vnd.jupyter.widget-view+json": {
       "model_id": "a4eb3d4f3e784b029ccc407bff3f8fe7",
       "version_major": 2,
       "version_minor": 0
      },
      "text/plain": [
       "Epoch 20 / 40:   0%|          | 0/50 [00:00<?, ?it/s]"
      ]
     },
     "metadata": {},
     "output_type": "display_data"
    },
    {
     "name": "stdout",
     "output_type": "stream",
     "text": [
      "--- Train epoch-20, step-1050 ---\n",
      "loss: 0.0689\n"
     ]
    },
    {
     "name": "stderr",
     "output_type": "stream",
     "text": [
      "Evaluation: 100%|██████████| 7/7 [00:00<00:00,  9.13it/s]"
     ]
    },
    {
     "name": "stdout",
     "output_type": "stream",
     "text": [
      "--- Eval epoch-20, step-1050 ---\n"
     ]
    },
    {
     "name": "stderr",
     "output_type": "stream",
     "text": [
      "\n"
     ]
    },
    {
     "name": "stdout",
     "output_type": "stream",
     "text": [
      "pr_auc_samples: 0.7559\n",
      "loss: 0.0898\n",
      "New best pr_auc_samples score (0.7559) at epoch-20, step-1050\n",
      "\n"
     ]
    },
    {
     "data": {
      "application/vnd.jupyter.widget-view+json": {
       "model_id": "50dcba10c39647cf8032ffee41df2b57",
       "version_major": 2,
       "version_minor": 0
      },
      "text/plain": [
       "Epoch 21 / 40:   0%|          | 0/50 [00:00<?, ?it/s]"
      ]
     },
     "metadata": {},
     "output_type": "display_data"
    },
    {
     "name": "stdout",
     "output_type": "stream",
     "text": [
      "--- Train epoch-21, step-1100 ---\n",
      "loss: 0.0688\n"
     ]
    },
    {
     "name": "stderr",
     "output_type": "stream",
     "text": [
      "Evaluation: 100%|██████████| 7/7 [00:00<00:00,  9.09it/s]"
     ]
    },
    {
     "name": "stdout",
     "output_type": "stream",
     "text": [
      "--- Eval epoch-21, step-1100 ---\n"
     ]
    },
    {
     "name": "stderr",
     "output_type": "stream",
     "text": [
      "\n"
     ]
    },
    {
     "name": "stdout",
     "output_type": "stream",
     "text": [
      "pr_auc_samples: 0.7631\n",
      "loss: 0.0885\n",
      "New best pr_auc_samples score (0.7631) at epoch-21, step-1100\n",
      "\n"
     ]
    },
    {
     "data": {
      "application/vnd.jupyter.widget-view+json": {
       "model_id": "e60032aae6c548aaae74f24162e2b622",
       "version_major": 2,
       "version_minor": 0
      },
      "text/plain": [
       "Epoch 22 / 40:   0%|          | 0/50 [00:00<?, ?it/s]"
      ]
     },
     "metadata": {},
     "output_type": "display_data"
    },
    {
     "name": "stdout",
     "output_type": "stream",
     "text": [
      "--- Train epoch-22, step-1150 ---\n",
      "loss: 0.0683\n"
     ]
    },
    {
     "name": "stderr",
     "output_type": "stream",
     "text": [
      "Evaluation: 100%|██████████| 7/7 [00:00<00:00,  8.98it/s]\n"
     ]
    },
    {
     "name": "stdout",
     "output_type": "stream",
     "text": [
      "--- Eval epoch-22, step-1150 ---\n",
      "pr_auc_samples: 0.7634\n",
      "loss: 0.0893\n",
      "New best pr_auc_samples score (0.7634) at epoch-22, step-1150\n",
      "\n"
     ]
    },
    {
     "data": {
      "application/vnd.jupyter.widget-view+json": {
       "model_id": "bb33c57ba6de412c943ae195fa9b9c90",
       "version_major": 2,
       "version_minor": 0
      },
      "text/plain": [
       "Epoch 23 / 40:   0%|          | 0/50 [00:00<?, ?it/s]"
      ]
     },
     "metadata": {},
     "output_type": "display_data"
    },
    {
     "name": "stdout",
     "output_type": "stream",
     "text": [
      "--- Train epoch-23, step-1200 ---\n",
      "loss: 0.0681\n"
     ]
    },
    {
     "name": "stderr",
     "output_type": "stream",
     "text": [
      "Evaluation: 100%|██████████| 7/7 [00:00<00:00,  9.67it/s]"
     ]
    },
    {
     "name": "stdout",
     "output_type": "stream",
     "text": [
      "--- Eval epoch-23, step-1200 ---\n",
      "pr_auc_samples: 0.7672\n",
      "loss: 0.0888\n",
      "New best pr_auc_samples score (0.7672) at epoch-23, step-1200\n",
      "\n"
     ]
    },
    {
     "name": "stderr",
     "output_type": "stream",
     "text": [
      "\n"
     ]
    },
    {
     "data": {
      "application/vnd.jupyter.widget-view+json": {
       "model_id": "752b440335f6450d915439a6655c2a27",
       "version_major": 2,
       "version_minor": 0
      },
      "text/plain": [
       "Epoch 24 / 40:   0%|          | 0/50 [00:00<?, ?it/s]"
      ]
     },
     "metadata": {},
     "output_type": "display_data"
    },
    {
     "name": "stdout",
     "output_type": "stream",
     "text": [
      "--- Train epoch-24, step-1250 ---\n",
      "loss: 0.0673\n"
     ]
    },
    {
     "name": "stderr",
     "output_type": "stream",
     "text": [
      "Evaluation: 100%|██████████| 7/7 [00:01<00:00,  3.84it/s]\n"
     ]
    },
    {
     "name": "stdout",
     "output_type": "stream",
     "text": [
      "--- Eval epoch-24, step-1250 ---\n",
      "pr_auc_samples: 0.7669\n",
      "loss: 0.0888\n",
      "\n"
     ]
    },
    {
     "data": {
      "application/vnd.jupyter.widget-view+json": {
       "model_id": "45539bce7a9b421498efd5cae87a0cc8",
       "version_major": 2,
       "version_minor": 0
      },
      "text/plain": [
       "Epoch 25 / 40:   0%|          | 0/50 [00:00<?, ?it/s]"
      ]
     },
     "metadata": {},
     "output_type": "display_data"
    },
    {
     "name": "stdout",
     "output_type": "stream",
     "text": [
      "--- Train epoch-25, step-1300 ---\n",
      "loss: 0.0667\n"
     ]
    },
    {
     "name": "stderr",
     "output_type": "stream",
     "text": [
      "Evaluation: 100%|██████████| 7/7 [00:00<00:00,  9.41it/s]"
     ]
    },
    {
     "name": "stdout",
     "output_type": "stream",
     "text": [
      "--- Eval epoch-25, step-1300 ---\n"
     ]
    },
    {
     "name": "stderr",
     "output_type": "stream",
     "text": [
      "\n"
     ]
    },
    {
     "name": "stdout",
     "output_type": "stream",
     "text": [
      "pr_auc_samples: 0.7700\n",
      "loss: 0.0886\n",
      "New best pr_auc_samples score (0.7700) at epoch-25, step-1300\n",
      "\n"
     ]
    },
    {
     "data": {
      "application/vnd.jupyter.widget-view+json": {
       "model_id": "bfb10bb0142b48e4a0148509796cbf73",
       "version_major": 2,
       "version_minor": 0
      },
      "text/plain": [
       "Epoch 26 / 40:   0%|          | 0/50 [00:00<?, ?it/s]"
      ]
     },
     "metadata": {},
     "output_type": "display_data"
    },
    {
     "name": "stdout",
     "output_type": "stream",
     "text": [
      "--- Train epoch-26, step-1350 ---\n",
      "loss: 0.0668\n"
     ]
    },
    {
     "name": "stderr",
     "output_type": "stream",
     "text": [
      "Evaluation: 100%|██████████| 7/7 [00:00<00:00,  8.15it/s]\n"
     ]
    },
    {
     "name": "stdout",
     "output_type": "stream",
     "text": [
      "--- Eval epoch-26, step-1350 ---\n",
      "pr_auc_samples: 0.7692\n",
      "loss: 0.0883\n",
      "\n"
     ]
    },
    {
     "data": {
      "application/vnd.jupyter.widget-view+json": {
       "model_id": "4d68db2e8aa9470e850f33b7df1af100",
       "version_major": 2,
       "version_minor": 0
      },
      "text/plain": [
       "Epoch 27 / 40:   0%|          | 0/50 [00:00<?, ?it/s]"
      ]
     },
     "metadata": {},
     "output_type": "display_data"
    },
    {
     "name": "stdout",
     "output_type": "stream",
     "text": [
      "--- Train epoch-27, step-1400 ---\n",
      "loss: 0.0659\n"
     ]
    },
    {
     "name": "stderr",
     "output_type": "stream",
     "text": [
      "Evaluation: 100%|██████████| 7/7 [00:00<00:00,  9.30it/s]\n"
     ]
    },
    {
     "name": "stdout",
     "output_type": "stream",
     "text": [
      "--- Eval epoch-27, step-1400 ---\n",
      "pr_auc_samples: 0.7689\n",
      "loss: 0.0891\n",
      "\n"
     ]
    },
    {
     "data": {
      "application/vnd.jupyter.widget-view+json": {
       "model_id": "a52e03b7293f4156b1ad7f60149d0e5a",
       "version_major": 2,
       "version_minor": 0
      },
      "text/plain": [
       "Epoch 28 / 40:   0%|          | 0/50 [00:00<?, ?it/s]"
      ]
     },
     "metadata": {},
     "output_type": "display_data"
    },
    {
     "name": "stdout",
     "output_type": "stream",
     "text": [
      "--- Train epoch-28, step-1450 ---\n",
      "loss: 0.0657\n"
     ]
    },
    {
     "name": "stderr",
     "output_type": "stream",
     "text": [
      "Evaluation: 100%|██████████| 7/7 [00:00<00:00,  8.41it/s]\n"
     ]
    },
    {
     "name": "stdout",
     "output_type": "stream",
     "text": [
      "--- Eval epoch-28, step-1450 ---\n",
      "pr_auc_samples: 0.7725\n",
      "loss: 0.0898\n",
      "New best pr_auc_samples score (0.7725) at epoch-28, step-1450\n",
      "\n"
     ]
    },
    {
     "data": {
      "application/vnd.jupyter.widget-view+json": {
       "model_id": "29b9e2a6cfcb4d419ab94300d0c8c704",
       "version_major": 2,
       "version_minor": 0
      },
      "text/plain": [
       "Epoch 29 / 40:   0%|          | 0/50 [00:00<?, ?it/s]"
      ]
     },
     "metadata": {},
     "output_type": "display_data"
    },
    {
     "name": "stdout",
     "output_type": "stream",
     "text": [
      "--- Train epoch-29, step-1500 ---\n",
      "loss: 0.0657\n"
     ]
    },
    {
     "name": "stderr",
     "output_type": "stream",
     "text": [
      "Evaluation: 100%|██████████| 7/7 [00:01<00:00,  4.53it/s]\n"
     ]
    },
    {
     "name": "stdout",
     "output_type": "stream",
     "text": [
      "--- Eval epoch-29, step-1500 ---\n",
      "pr_auc_samples: 0.7696\n",
      "loss: 0.0892\n",
      "\n"
     ]
    },
    {
     "data": {
      "application/vnd.jupyter.widget-view+json": {
       "model_id": "ffd8df78bbbe492b86c3267bee098ce4",
       "version_major": 2,
       "version_minor": 0
      },
      "text/plain": [
       "Epoch 30 / 40:   0%|          | 0/50 [00:00<?, ?it/s]"
      ]
     },
     "metadata": {},
     "output_type": "display_data"
    },
    {
     "name": "stdout",
     "output_type": "stream",
     "text": [
      "--- Train epoch-30, step-1550 ---\n",
      "loss: 0.0652\n"
     ]
    },
    {
     "name": "stderr",
     "output_type": "stream",
     "text": [
      "Evaluation: 100%|██████████| 7/7 [00:00<00:00, 11.91it/s]\n"
     ]
    },
    {
     "name": "stdout",
     "output_type": "stream",
     "text": [
      "--- Eval epoch-30, step-1550 ---\n",
      "pr_auc_samples: 0.7698\n",
      "loss: 0.0904\n",
      "\n"
     ]
    },
    {
     "data": {
      "application/vnd.jupyter.widget-view+json": {
       "model_id": "9beffc7557f94723b21f0efba4c34ce1",
       "version_major": 2,
       "version_minor": 0
      },
      "text/plain": [
       "Epoch 31 / 40:   0%|          | 0/50 [00:00<?, ?it/s]"
      ]
     },
     "metadata": {},
     "output_type": "display_data"
    },
    {
     "name": "stdout",
     "output_type": "stream",
     "text": [
      "--- Train epoch-31, step-1600 ---\n",
      "loss: 0.0647\n"
     ]
    },
    {
     "name": "stderr",
     "output_type": "stream",
     "text": [
      "Evaluation: 100%|██████████| 7/7 [00:00<00:00,  8.86it/s]"
     ]
    },
    {
     "name": "stdout",
     "output_type": "stream",
     "text": [
      "--- Eval epoch-31, step-1600 ---\n"
     ]
    },
    {
     "name": "stderr",
     "output_type": "stream",
     "text": [
      "\n"
     ]
    },
    {
     "name": "stdout",
     "output_type": "stream",
     "text": [
      "pr_auc_samples: 0.7743\n",
      "loss: 0.0906\n",
      "New best pr_auc_samples score (0.7743) at epoch-31, step-1600\n",
      "\n"
     ]
    },
    {
     "data": {
      "application/vnd.jupyter.widget-view+json": {
       "model_id": "b21e878e389745b8a35076ec843301bd",
       "version_major": 2,
       "version_minor": 0
      },
      "text/plain": [
       "Epoch 32 / 40:   0%|          | 0/50 [00:00<?, ?it/s]"
      ]
     },
     "metadata": {},
     "output_type": "display_data"
    },
    {
     "name": "stdout",
     "output_type": "stream",
     "text": [
      "--- Train epoch-32, step-1650 ---\n",
      "loss: 0.0643\n"
     ]
    },
    {
     "name": "stderr",
     "output_type": "stream",
     "text": [
      "Evaluation: 100%|██████████| 7/7 [00:00<00:00,  9.34it/s]"
     ]
    },
    {
     "name": "stdout",
     "output_type": "stream",
     "text": [
      "--- Eval epoch-32, step-1650 ---\n",
      "pr_auc_samples: 0.7730\n",
      "loss: 0.0910\n",
      "\n"
     ]
    },
    {
     "name": "stderr",
     "output_type": "stream",
     "text": [
      "\n"
     ]
    },
    {
     "data": {
      "application/vnd.jupyter.widget-view+json": {
       "model_id": "4a1878dbf1454845b128a85e968a7ce4",
       "version_major": 2,
       "version_minor": 0
      },
      "text/plain": [
       "Epoch 33 / 40:   0%|          | 0/50 [00:00<?, ?it/s]"
      ]
     },
     "metadata": {},
     "output_type": "display_data"
    },
    {
     "name": "stdout",
     "output_type": "stream",
     "text": [
      "--- Train epoch-33, step-1700 ---\n",
      "loss: 0.0638\n"
     ]
    },
    {
     "name": "stderr",
     "output_type": "stream",
     "text": [
      "Evaluation: 100%|██████████| 7/7 [00:00<00:00, 10.74it/s]\n"
     ]
    },
    {
     "name": "stdout",
     "output_type": "stream",
     "text": [
      "--- Eval epoch-33, step-1700 ---\n",
      "pr_auc_samples: 0.7716\n",
      "loss: 0.0918\n",
      "\n"
     ]
    },
    {
     "data": {
      "application/vnd.jupyter.widget-view+json": {
       "model_id": "f47a60dab9904b889e1b49d6893a0c20",
       "version_major": 2,
       "version_minor": 0
      },
      "text/plain": [
       "Epoch 34 / 40:   0%|          | 0/50 [00:00<?, ?it/s]"
      ]
     },
     "metadata": {},
     "output_type": "display_data"
    },
    {
     "name": "stdout",
     "output_type": "stream",
     "text": [
      "--- Train epoch-34, step-1750 ---\n",
      "loss: 0.0642\n"
     ]
    },
    {
     "name": "stderr",
     "output_type": "stream",
     "text": [
      "Evaluation: 100%|██████████| 7/7 [00:01<00:00,  4.52it/s]\n"
     ]
    },
    {
     "name": "stdout",
     "output_type": "stream",
     "text": [
      "--- Eval epoch-34, step-1750 ---\n",
      "pr_auc_samples: 0.7748\n",
      "loss: 0.0913\n",
      "New best pr_auc_samples score (0.7748) at epoch-34, step-1750\n",
      "\n"
     ]
    },
    {
     "data": {
      "application/vnd.jupyter.widget-view+json": {
       "model_id": "41653ea1698d4d239de337635650ce84",
       "version_major": 2,
       "version_minor": 0
      },
      "text/plain": [
       "Epoch 35 / 40:   0%|          | 0/50 [00:00<?, ?it/s]"
      ]
     },
     "metadata": {},
     "output_type": "display_data"
    },
    {
     "name": "stdout",
     "output_type": "stream",
     "text": [
      "--- Train epoch-35, step-1800 ---\n",
      "loss: 0.0631\n"
     ]
    },
    {
     "name": "stderr",
     "output_type": "stream",
     "text": [
      "Evaluation: 100%|██████████| 7/7 [00:00<00:00,  9.61it/s]\n"
     ]
    },
    {
     "name": "stdout",
     "output_type": "stream",
     "text": [
      "--- Eval epoch-35, step-1800 ---\n",
      "pr_auc_samples: 0.7798\n",
      "loss: 0.0914\n",
      "New best pr_auc_samples score (0.7798) at epoch-35, step-1800\n",
      "\n"
     ]
    },
    {
     "data": {
      "application/vnd.jupyter.widget-view+json": {
       "model_id": "8efe73ad2b924b72bfa880221609719b",
       "version_major": 2,
       "version_minor": 0
      },
      "text/plain": [
       "Epoch 36 / 40:   0%|          | 0/50 [00:00<?, ?it/s]"
      ]
     },
     "metadata": {},
     "output_type": "display_data"
    },
    {
     "name": "stdout",
     "output_type": "stream",
     "text": [
      "--- Train epoch-36, step-1850 ---\n",
      "loss: 0.0632\n"
     ]
    },
    {
     "name": "stderr",
     "output_type": "stream",
     "text": [
      "Evaluation: 100%|██████████| 7/7 [00:00<00:00,  9.73it/s]\n"
     ]
    },
    {
     "name": "stdout",
     "output_type": "stream",
     "text": [
      "--- Eval epoch-36, step-1850 ---\n",
      "pr_auc_samples: 0.7747\n",
      "loss: 0.0950\n",
      "\n"
     ]
    },
    {
     "data": {
      "application/vnd.jupyter.widget-view+json": {
       "model_id": "9df64765f55e4f798b1f23448a82d9c8",
       "version_major": 2,
       "version_minor": 0
      },
      "text/plain": [
       "Epoch 37 / 40:   0%|          | 0/50 [00:00<?, ?it/s]"
      ]
     },
     "metadata": {},
     "output_type": "display_data"
    },
    {
     "name": "stdout",
     "output_type": "stream",
     "text": [
      "--- Train epoch-37, step-1900 ---\n",
      "loss: 0.0626\n"
     ]
    },
    {
     "name": "stderr",
     "output_type": "stream",
     "text": [
      "Evaluation: 100%|██████████| 7/7 [00:00<00:00, 10.80it/s]\n"
     ]
    },
    {
     "name": "stdout",
     "output_type": "stream",
     "text": [
      "--- Eval epoch-37, step-1900 ---\n",
      "pr_auc_samples: 0.7793\n",
      "loss: 0.0910\n",
      "\n"
     ]
    },
    {
     "data": {
      "application/vnd.jupyter.widget-view+json": {
       "model_id": "c1d8797f53024cc9b9cfde5062e288db",
       "version_major": 2,
       "version_minor": 0
      },
      "text/plain": [
       "Epoch 38 / 40:   0%|          | 0/50 [00:00<?, ?it/s]"
      ]
     },
     "metadata": {},
     "output_type": "display_data"
    },
    {
     "name": "stdout",
     "output_type": "stream",
     "text": [
      "--- Train epoch-38, step-1950 ---\n",
      "loss: 0.0625\n"
     ]
    },
    {
     "name": "stderr",
     "output_type": "stream",
     "text": [
      "Evaluation: 100%|██████████| 7/7 [00:00<00:00,  9.62it/s]\n"
     ]
    },
    {
     "name": "stdout",
     "output_type": "stream",
     "text": [
      "--- Eval epoch-38, step-1950 ---\n",
      "pr_auc_samples: 0.7787\n",
      "loss: 0.0934\n",
      "\n"
     ]
    },
    {
     "data": {
      "application/vnd.jupyter.widget-view+json": {
       "model_id": "649954d8df354050bb9ab52d6fc07de6",
       "version_major": 2,
       "version_minor": 0
      },
      "text/plain": [
       "Epoch 39 / 40:   0%|          | 0/50 [00:00<?, ?it/s]"
      ]
     },
     "metadata": {},
     "output_type": "display_data"
    },
    {
     "name": "stdout",
     "output_type": "stream",
     "text": [
      "--- Train epoch-39, step-2000 ---\n",
      "loss: 0.0628\n"
     ]
    },
    {
     "name": "stderr",
     "output_type": "stream",
     "text": [
      "Evaluation: 100%|██████████| 7/7 [00:01<00:00,  4.86it/s]"
     ]
    },
    {
     "name": "stdout",
     "output_type": "stream",
     "text": [
      "--- Eval epoch-39, step-2000 ---\n",
      "pr_auc_samples: 0.7801\n",
      "loss: 0.0912\n",
      "New best pr_auc_samples score (0.7801) at epoch-39, step-2000\n"
     ]
    },
    {
     "name": "stderr",
     "output_type": "stream",
     "text": [
      "\n"
     ]
    },
    {
     "name": "stdout",
     "output_type": "stream",
     "text": [
      "Loaded best model\n"
     ]
    },
    {
     "data": {
      "image/png": "[encoded data removed]",
      "text/plain": [
       "<Figure size 1400x1000 with 1 Axes>"
      ]
     },
     "metadata": {},
     "output_type": "display_data"
    }
   ],
   "source": [
    "from pyhealth.trainer import Trainer\n",
    "\n",
    "trainer = Trainer(model=model)\n",
    "trainer.train(\n",
    "    model_name=\"gnn\",\n",
    "    train_dataloader=train_loader,\n",
    "    val_dataloader=val_loader,\n",
    "    epochs=40,\n",
    "    optimizer_params = {\"lr\": 2 * 1e-4},\n",
    "    monitor=\"pr_auc_samples\",\n",
    "    monitor_criterion=\"max\",\n",
    ")"
   ]
  },
  {
   "cell_type": "markdown",
   "metadata": {},
   "source": [
    "### Results"
   ]
  },
  {
   "attachments": {
    "image-2.png": {
     "image/png": "[encoded data removed]"
    }
   },
   "cell_type": "markdown",
   "metadata": {},
   "source": [
    "loss: 0.0714\n",
    "New best pr_auc_samples score (0.7785) at epoch-49, step-2550\n",
    "\n",
    "![image-2.png](attachment:image-2.png)"
   ]
  },
  {
   "cell_type": "markdown",
   "metadata": {},
   "source": [
    "### Inference"
   ]
  },
  {
   "cell_type": "code",
   "execution_count": 55,
   "metadata": {},
   "outputs": [
    {
     "name": "stderr",
     "output_type": "stream",
     "text": [
      "Evaluation: 100%|██████████| 7/7 [00:00<00:00, 12.30it/s]"
     ]
    },
    {
     "name": "stdout",
     "output_type": "stream",
     "text": [
      "0.0775440473641668\n"
     ]
    },
    {
     "name": "stderr",
     "output_type": "stream",
     "text": [
      "\n"
     ]
    }
   ],
   "source": [
    "from pyhealth.metrics import multilabel_metrics_fn\n",
    "\n",
    "y_true, y_prob, loss = trainer.inference(test_loader)\n",
    "print(loss)"
   ]
  },
  {
   "cell_type": "code",
   "execution_count": 56,
   "metadata": {},
   "outputs": [
    {
     "name": "stdout",
     "output_type": "stream",
     "text": [
      "(199, 406)\n",
      "(74920,)\n",
      "(5874,)\n"
     ]
    }
   ],
   "source": [
    "print(y_true.shape)\n",
    "\n",
    "print(y_true[y_true == 0].shape)\n",
    "print(y_true[y_true == 1].shape)"
   ]
  },
  {
   "cell_type": "code",
   "execution_count": 57,
   "metadata": {},
   "outputs": [
    {
     "name": "stdout",
     "output_type": "stream",
     "text": [
      "(199, 406)\n",
      "0.99837816\n",
      "1.1807133e-11\n"
     ]
    }
   ],
   "source": [
    "print(y_prob.shape)\n",
    "print(y_prob.max())\n",
    "print(y_prob.min())"
   ]
  },
  {
   "cell_type": "code",
   "execution_count": 58,
   "metadata": {},
   "outputs": [
    {
     "name": "stdout",
     "output_type": "stream",
     "text": [
      "[[0. 0. 0. ... 0. 1. 0.]\n",
      " [0. 0. 0. ... 0. 1. 0.]\n",
      " [0. 0. 0. ... 1. 1. 0.]\n",
      " ...\n",
      " [0. 0. 0. ... 0. 1. 0.]\n",
      " [1. 0. 0. ... 1. 1. 0.]\n",
      " [0. 0. 0. ... 1. 1. 0.]]\n",
      "------------------\n",
      "[[0. 0. 0. ... 1. 1. 0.]\n",
      " [0. 0. 0. ... 0. 1. 0.]\n",
      " [0. 1. 0. ... 1. 1. 0.]\n",
      " ...\n",
      " [0. 0. 0. ... 0. 1. 0.]\n",
      " [1. 0. 0. ... 1. 1. 0.]\n",
      " [0. 0. 0. ... 1. 1. 0.]]\n",
      "(71669,)\n",
      "(9125,)\n"
     ]
    }
   ],
   "source": [
    "print(y_true)\n",
    "print(\"------------------\")\n",
    "threshold = 0.5\n",
    "y_prob_threshold = (y_prob >= threshold).astype(float)\n",
    "print(y_prob_threshold)\n",
    "print(y_prob_threshold[y_prob_threshold == 0].shape)\n",
    "print(y_prob_threshold[y_prob_threshold == 1].shape)"
   ]
  },
  {
   "cell_type": "code",
   "execution_count": 59,
   "metadata": {},
   "outputs": [
    {
     "data": {
      "text/plain": [
       "{'accuracy': 0.9436963140827289,\n",
       " 'f1_samples': 0.6618739596762372,\n",
       " 'pr_auc_samples': 0.7759329028023326,\n",
       " 'jaccard_samples': 0.5134767624572804,\n",
       " 'precision_samples': 0.5567423575523833,\n",
       " 'recall_samples': 0.8844735859106491}"
      ]
     },
     "execution_count": 59,
     "metadata": {},
     "output_type": "execute_result"
    }
   ],
   "source": [
    "# risultati\n",
    "metrics = [\"accuracy\", \"f1_samples\", \"pr_auc_samples\", \"jaccard_samples\", \"precision_samples\", \"recall_samples\"]\n",
    "multilabel_metrics_fn(y_true, y_prob, metrics=metrics, threshold=0.5)"
   ]
  },
  {
   "cell_type": "code",
   "execution_count": 60,
   "metadata": {},
   "outputs": [
    {
     "data": {
      "image/png": "[encoded data removed]",
      "text/plain": [
       "<Figure size 1400x1000 with 2 Axes>"
      ]
     },
     "metadata": {},
     "output_type": "display_data"
    }
   ],
   "source": [
    "from sklearn.metrics import confusion_matrix\n",
    "import matplotlib.pyplot as plt\n",
    "import seaborn as sns\n",
    "\n",
    "conf_matrix = confusion_matrix(y_true.flatten(), y_prob_threshold.flatten())\n",
    "\n",
    "sns.heatmap(conf_matrix, annot=True, cmap=\"Blues\", fmt=\".0f\")\n",
    "plt.xlabel(\"Predicted Labels\")\n",
    "plt.ylabel(\"True Labels\")\n",
    "plt.title(\"Confusion Matrix\")\n",
    "plt.show()"
   ]
  },
  {
   "cell_type": "markdown",
   "metadata": {},
   "source": [
    "### Interpret with HeteroExplainer"
   ]
  },
  {
   "cell_type": "code",
   "execution_count": null,
   "metadata": {},
   "outputs": [],
   "source": [
    "%load_ext autoreload\n",
    "%autoreload 2\n",
    "\n",
    "import importlib\n",
    "import pyhealth.explainer\n",
    "\n",
    "importlib.reload(pyhealth.explainer)"
   ]
  },
  {
   "cell_type": "code",
   "execution_count": 150,
   "metadata": {},
   "outputs": [],
   "source": [
    "from pyhealth.explainer import HeteroGraphExplainer\n",
    "\n",
    "explainer = HeteroGraphExplainer(\n",
    "    dataset=test_loader.dataset, \n",
    "    model=model, \n",
    "    label_key=\"drugs\",\n",
    "    k=0\n",
    ")"
   ]
  },
  {
   "cell_type": "code",
   "execution_count": 151,
   "metadata": {},
   "outputs": [
    {
     "name": "stdout",
     "output_type": "stream",
     "text": [
      "Generated explanations in ['node_mask', 'edge_mask']\n",
      "Feature importance plot has been saved to './explainability_results/feature_importance_20231215_183935.png'\n",
      "Edge to predict: tensor([81, 98])\n",
      "Label to predict: 1\n",
      "Label predicted: 1 because [0.76517266]\n"
     ]
    }
   ],
   "source": [
    "explainer.explain(\n",
    "    n=32\n",
    ")"
   ]
  },
  {
   "cell_type": "code",
   "execution_count": 152,
   "metadata": {},
   "outputs": [
    {
     "name": "stdout",
     "output_type": "stream",
     "text": [
      "./explainability_results/explain_graph20231215_183935.html\n"
     ]
    }
   ],
   "source": [
    "explainer.explain_graph()"
   ]
  },
  {
   "cell_type": "code",
   "execution_count": 155,
   "metadata": {},
   "outputs": [
    {
     "name": "stdout",
     "output_type": "stream",
     "text": [
      "Fidelity Positive: 0.09362083673477173\n",
      "Fidelity Negative: 0.07270342111587524\n",
      "Fidelity AUC: 0.0\n",
      "Characterization Score: 0.17007111503489203\n",
      "Unfaithfulness Score: 6.943941116333008e-05\n"
     ]
    }
   ],
   "source": [
    "explainer.explain_metrics(metrics=[\"Fidelity\", \"Fidelity_AUC\", \"Characterization_Score\", \"Unfaithfulness\"])"
   ]
  },
  {
   "cell_type": "code",
   "execution_count": 154,
   "metadata": {},
   "outputs": [
    {
     "name": "stdout",
     "output_type": "stream",
     "text": [
      "patient_38\n",
      "visit_81\n",
      "visit_139\n",
      "symptom_179: Other encephalopathy\n",
      "visit_45\n",
      "symptom_180: Unspecified iridocyclitis\n",
      "symptom_181: Unspecified disorder of globe\n",
      "symptom_69: Splenomegaly\n",
      "visit_130\n",
      "symptom_118: Headache\n",
      "visit_186\n",
      "visit_87\n",
      "symptom_240: Intermediate coronary syndrome\n",
      "visit_34\n",
      "symptom_157: Epilepsy, unspecified, without mention of intractable epilepsy\n",
      "visit_35\n",
      "symptom_156: Infectious colitis, enteritis, and gastroenteritis\n",
      "visit_114\n",
      "symptom_2: Unspecified essential hypertension\n",
      "visit_80\n",
      "disease_366: Infection with microorganisms resistant to penicillins\n",
      "visit_127\n",
      "disease_290: Bipolar disorder, unspecified\n",
      "visit_47\n",
      "disease_255: Other chronic pain\n",
      "visit_134\n",
      "disease_518: Incisional hernia without mention of obstruction or gangrene\n",
      "visit_79\n",
      "disease_353: Primary pulmonary hypertension\n",
      "visit_166\n",
      "disease_583: Secondary malignant neoplasm of brain and spinal cord\n",
      "visit_151\n",
      "disease_557: Other specified forms of pleural effusion, except tuberculous\n",
      "disease_214: Proteus (mirabilis) (morganii) infection in conditions classified elsewhere and of unspecified site\n",
      "visit_4\n",
      "disease_52: Depressive disorder, not elsewhere classified\n",
      "procedure_213: Suture of laceration of large intestine\n",
      "procedure_214: Closed reduction of fracture with internal fixation, phalanges of hand\n",
      "visit_85\n",
      "procedure_3: Transfusion of other serum\n",
      "visit_86\n",
      "procedure_69: Partial hepatectomy\n",
      "visit_179\n",
      "procedure_205: Other phototherapy\n",
      "procedure_66: Other lysis of peritoneal adhesions\n",
      "procedure_67: Open biopsy of liver\n",
      "visit_0\n",
      "drug_98: Enzymes, antithrombotic\n",
      "visit_58\n",
      "visit_110\n",
      "visit_78\n",
      "patient_17\n",
      "symptom_0: Unspecified problem with special functions\n",
      "symptom_1: Systemic lupus erythematosus\n",
      "symptom_9: Atresia and stenosis of aorta\n",
      "symptom_10: Coarctation of aorta (preductal) (postductal)\n",
      "symptom_85: Bundle branch block, unspecified\n",
      "symptom_52: Calculus of ureter\n",
      "symptom_87: Acute nasopharyngitis [common cold]\n",
      "symptom_21: Chest pain, unspecified\n",
      "disease_3: Atrioventricular block, complete\n",
      "disease_251: End stage renal disease\n",
      "disease_1: Rheumatic heart failure (congestive)\n",
      "disease_110: Myasthenia gravis with (acute) exacerbation\n",
      "disease_378: Urinary catheterization as the cause of abnormal reaction of patient, or of later complication, without mention of misadventure at time of procedure\n",
      "disease_365: Carrier or suspected carrier of other specified bacterial diseases\n",
      "disease_151: Family history of ischemic heart disease\n",
      "disease_61: Other respiratory abnormalities\n",
      "disease_4: Acute posthemorrhagic anemia\n",
      "procedure_30: Insertion of temporary transvenous pacemaker system\n",
      "procedure_217: Radical pancreaticoduodenectomy\n",
      "procedure_5: Other endoscopy of small intestine\n",
      "procedure_62: Excisional debridement of wound, infection, or burn\n",
      "procedure_17: Insertion of endotracheal tube\n",
      "drug_126: Phenothiazines with piperazine structure, antipsychotics\n",
      "drug_52: Phenylpiperidine derivatives, opioid analgesics\n",
      "drug_325: Indole derivatives, antipsychotic\n",
      "drug_60: Propionic acid derivatives, antiinflammatory and antirheumatic products\n",
      "drug_8: Anticholinesterase parasympathomimetics\n",
      "drug_298: Solutions producing osmotic diuresis\n",
      "drug_294: Antibiotic throat preparations\n",
      "drug_21: Insulins and analogues for injection used in Diabetes, intermediate- or long-acting combined with fast-acting\n",
      "drug_307: Choline derivative muscle relaxants, peripherally acting\n",
      "drug_59: Other throat preparations in ATC\n"
     ]
    }
   ],
   "source": [
    "explainer.explain_results()"
   ]
  },
  {
   "cell_type": "markdown",
   "metadata": {},
   "source": [
    "## Baseline Models\n",
    "\n",
    "Here we can use the models having the same input built in the previous cells. We tried GRASP, SafeDrug, Transformer, and so on. And evaluate them performance with several metrics."
   ]
  },
  {
   "cell_type": "markdown",
   "metadata": {},
   "source": [
    "### Transformer"
   ]
  },
  {
   "cell_type": "markdown",
   "metadata": {},
   "source": [
    "**- Transformer without symptoms**"
   ]
  },
  {
   "cell_type": "code",
   "execution_count": 219,
   "metadata": {},
   "outputs": [],
   "source": [
    "from pyhealth.models import Transformer\n",
    "\n",
    "model_tr = Transformer(\n",
    "    dataset=mimic3sample,\n",
    "    feature_keys=[\"conditions\", \"procedures\"],\n",
    "    label_key=\"drugs\",\n",
    "    mode=\"multilabel\",\n",
    ")"
   ]
  },
  {
   "cell_type": "markdown",
   "metadata": {},
   "source": [
    "**- Transformer with symptoms**"
   ]
  },
  {
   "cell_type": "code",
   "execution_count": 17,
   "metadata": {},
   "outputs": [],
   "source": [
    "from pyhealth.models import Transformer\n",
    "\n",
    "model_tr_symptoms = Transformer(\n",
    "    dataset=mimic3sample,\n",
    "    feature_keys=[\"conditions\", \"procedures\", \"symptoms\"],\n",
    "    label_key=\"drugs\",\n",
    "    mode=\"multilabel\",\n",
    ")"
   ]
  },
  {
   "cell_type": "markdown",
   "metadata": {},
   "source": [
    "**- Training without symptoms**"
   ]
  },
  {
   "cell_type": "code",
   "execution_count": null,
   "metadata": {},
   "outputs": [],
   "source": [
    "from pyhealth.trainer import Trainer\n",
    "\n",
    "trainer_tr = Trainer(model=model_tr)\n",
    "trainer_tr.train(\n",
    "    model_name=\"transformer\",\n",
    "    train_dataloader=train_loader,\n",
    "    val_dataloader=val_loader,\n",
    "    epochs=10,\n",
    "    optimizer_params = {\"lr\": 2 * 1e-4},\n",
    "    monitor=\"pr_auc_samples\",\n",
    ")"
   ]
  },
  {
   "attachments": {
    "image.png": {
     "image/png": "[encoded data removed]"
    }
   },
   "cell_type": "markdown",
   "metadata": {},
   "source": [
    "loss: 0.2737\n",
    "New best pr_auc_samples score (0.6465) at epoch-9, step-510\n",
    "\n",
    "![image.png](attachment:image.png)"
   ]
  },
  {
   "cell_type": "markdown",
   "metadata": {},
   "source": [
    "**- Training with symptoms**"
   ]
  },
  {
   "cell_type": "code",
   "execution_count": null,
   "metadata": {},
   "outputs": [],
   "source": [
    "from pyhealth.trainer import Trainer\n",
    "\n",
    "trainer_tr_symptoms = Trainer(model=model_tr_symptoms)\n",
    "trainer_tr_symptoms.train(\n",
    "    model_name=\"transformer\",\n",
    "    train_dataloader=train_loader,\n",
    "    val_dataloader=val_loader,\n",
    "    epochs=50,\n",
    "    optimizer_params = {\"lr\": 2 * 1e-4},\n",
    "    monitor=\"pr_auc_samples\",\n",
    "    monitor_criterion=\"max\",\n",
    ")"
   ]
  },
  {
   "cell_type": "markdown",
   "metadata": {},
   "source": [
    "### Results"
   ]
  },
  {
   "attachments": {
    "image-2.png": {
     "image/png": "[encoded data removed]"
    }
   },
   "cell_type": "markdown",
   "metadata": {},
   "source": [
    "loss: 0.1799\n",
    "New best pr_auc_samples score (0.5844) at epoch-40, step-2091\n",
    "\n",
    "![image-2.png](attachment:image-2.png)"
   ]
  },
  {
   "cell_type": "markdown",
   "metadata": {},
   "source": [
    "**- Transformer Evaluation**"
   ]
  },
  {
   "cell_type": "code",
   "execution_count": 223,
   "metadata": {},
   "outputs": [
    {
     "name": "stderr",
     "output_type": "stream",
     "text": [
      "Evaluation: 100%|██████████| 7/7 [00:00<00:00, 64.07it/s]\n"
     ]
    },
    {
     "data": {
      "text/plain": [
       "{'accuracy': 0.8929554968054637,\n",
       " 'f1_samples': 0.5066958446595764,\n",
       " 'pr_auc_samples': 0.6258955924552839,\n",
       " 'jaccard_samples': 0.34884642635231966}"
      ]
     },
     "execution_count": 223,
     "metadata": {},
     "output_type": "execute_result"
    }
   ],
   "source": [
    "### Without Symptoms - loss 0.3239 - time: 0m 6s\n",
    "from pyhealth.metrics import multilabel_metrics_fn\n",
    "\n",
    "y_true_tr, y_prob_tr, loss_tr = trainer_tr.inference(test_loader)\n",
    "metrics = [\"accuracy\", \"f1_samples\", \"pr_auc_samples\", \"jaccard_samples\"]\n",
    "multilabel_metrics_fn(y_true_tr, y_prob_tr, metrics=metrics)"
   ]
  },
  {
   "cell_type": "code",
   "execution_count": 19,
   "metadata": {},
   "outputs": [
    {
     "name": "stderr",
     "output_type": "stream",
     "text": [
      "Evaluation: 100%|██████████| 7/7 [00:00<00:00, 76.44it/s]\n"
     ]
    },
    {
     "data": {
      "text/plain": [
       "{'accuracy': 0.9381360806181391,\n",
       " 'f1_samples': 0.48055933544795987,\n",
       " 'pr_auc_samples': 0.6114930832175687,\n",
       " 'jaccard_samples': 0.3284850321801622}"
      ]
     },
     "execution_count": 19,
     "metadata": {},
     "output_type": "execute_result"
    }
   ],
   "source": [
    "### With Symptoms - loss 0.3192 - time: 0m 9s\n",
    "from pyhealth.metrics import multilabel_metrics_fn\n",
    "\n",
    "y_true_tr_s, y_prob_tr_s, loss_tr_s = trainer_tr_symptoms.inference(test_loader)\n",
    "metrics = [\"accuracy\", \"f1_samples\", \"pr_auc_samples\", \"jaccard_samples\"]\n",
    "multilabel_metrics_fn(y_true_tr_s, y_prob_tr_s, metrics=metrics)"
   ]
  },
  {
   "cell_type": "markdown",
   "metadata": {},
   "source": [
    "### SafeDrug"
   ]
  },
  {
   "cell_type": "markdown",
   "metadata": {},
   "source": [
    "**- SafeDrug without symptoms**"
   ]
  },
  {
   "cell_type": "code",
   "execution_count": 225,
   "metadata": {},
   "outputs": [],
   "source": [
    "from pyhealth.models import SafeDrug\n",
    "\n",
    "model_safe = SafeDrug(\n",
    "    dataset=mimic3sample\n",
    ")"
   ]
  },
  {
   "cell_type": "markdown",
   "metadata": {},
   "source": [
    "**- SafeDrug with symptoms**"
   ]
  },
  {
   "cell_type": "code",
   "execution_count": 226,
   "metadata": {},
   "outputs": [],
   "source": [
    "from pyhealth.models import SafeDrug_Mod\n",
    "\n",
    "model_safe_symptoms = SafeDrug_Mod(\n",
    "    dataset=mimic3sample\n",
    ")"
   ]
  },
  {
   "cell_type": "markdown",
   "metadata": {},
   "source": [
    "**- Training without symptoms**"
   ]
  },
  {
   "cell_type": "code",
   "execution_count": null,
   "metadata": {},
   "outputs": [],
   "source": [
    "from pyhealth.trainer import Trainer\n",
    "\n",
    "trainer_safe = Trainer(model=model_safe)\n",
    "trainer_safe.train(\n",
    "    model_name=\"safedrug\",\n",
    "    train_dataloader=train_loader,\n",
    "    val_dataloader=val_loader,\n",
    "    epochs=10,\n",
    "    optimizer_params = {\"lr\": 2 * 1e-4},\n",
    "    monitor=\"pr_auc_samples\",\n",
    ")"
   ]
  },
  {
   "attachments": {
    "image.png": {
     "image/png": "[encoded data removed]"
    }
   },
   "cell_type": "markdown",
   "metadata": {},
   "source": [
    "loss: 0.2503\n",
    "New best pr_auc_samples score (0.6564) at epoch-8, step-459\n",
    "\n",
    "![image.png](attachment:image.png)"
   ]
  },
  {
   "cell_type": "markdown",
   "metadata": {},
   "source": [
    "**- Training with symptoms**"
   ]
  },
  {
   "cell_type": "code",
   "execution_count": null,
   "metadata": {},
   "outputs": [],
   "source": [
    "from pyhealth.trainer import Trainer\n",
    "\n",
    "trainer_safe_symptoms = Trainer(model=model_safe_symptoms)\n",
    "trainer_safe_symptoms.train(\n",
    "    model_name=\"safedrug\",\n",
    "    train_dataloader=train_loader,\n",
    "    val_dataloader=val_loader,\n",
    "    epochs=10,\n",
    "    optimizer_params = {\"lr\": 2 * 1e-4},\n",
    "    monitor=\"pr_auc_samples\",\n",
    ")"
   ]
  },
  {
   "attachments": {
    "image.png": {
     "image/png": "[encoded data removed]"
    }
   },
   "cell_type": "markdown",
   "metadata": {},
   "source": [
    "loss: 0.2523\n",
    "New best pr_auc_samples score (0.6550) at epoch-6, step-357\n",
    "\n",
    "![image.png](attachment:image.png)"
   ]
  },
  {
   "cell_type": "markdown",
   "metadata": {},
   "source": [
    "**- SafeDrug Evaluation**"
   ]
  },
  {
   "cell_type": "code",
   "execution_count": 229,
   "metadata": {},
   "outputs": [
    {
     "name": "stderr",
     "output_type": "stream",
     "text": [
      "Evaluation: 100%|██████████| 7/7 [00:02<00:00,  2.46it/s]\n"
     ]
    },
    {
     "data": {
      "text/plain": [
       "{'accuracy': 0.8926801057501652,\n",
       " 'f1_samples': 0.46661275056800083,\n",
       " 'pr_auc_samples': 0.6270758763872015,\n",
       " 'jaccard_samples': 0.31076166173689124}"
      ]
     },
     "execution_count": 229,
     "metadata": {},
     "output_type": "execute_result"
    }
   ],
   "source": [
    "### Without Symptoms - loss 0.2672 - time: 2m 6s\n",
    "from pyhealth.metrics import multilabel_metrics_fn\n",
    "\n",
    "y_true_safe, y_prob_safe, loss_safe = trainer_safe.inference(test_loader)\n",
    "metrics = [\"accuracy\", \"f1_samples\", \"pr_auc_samples\", \"jaccard_samples\"]\n",
    "multilabel_metrics_fn(y_true_safe, y_prob_safe, metrics=metrics)"
   ]
  },
  {
   "cell_type": "code",
   "execution_count": 230,
   "metadata": {},
   "outputs": [
    {
     "name": "stderr",
     "output_type": "stream",
     "text": [
      "Evaluation: 100%|██████████| 7/7 [00:02<00:00,  2.93it/s]\n"
     ]
    },
    {
     "data": {
      "text/plain": [
       "{'accuracy': 0.8925148711169861,\n",
       " 'f1_samples': 0.47263706593544114,\n",
       " 'pr_auc_samples': 0.6248807689518094,\n",
       " 'jaccard_samples': 0.3164571303390051}"
      ]
     },
     "execution_count": 230,
     "metadata": {},
     "output_type": "execute_result"
    }
   ],
   "source": [
    "### With Symptoms - loss 0.2666 - time: 2m 0s\n",
    "from pyhealth.metrics import multilabel_metrics_fn\n",
    "\n",
    "y_true_safe_s, y_prob_safe_s, loss_safe_s = trainer_safe_symptoms.inference(test_loader)\n",
    "metrics = [\"accuracy\", \"f1_samples\", \"pr_auc_samples\", \"jaccard_samples\"]\n",
    "multilabel_metrics_fn(y_true_safe_s, y_prob_safe_s, metrics=metrics)"
   ]
  },
  {
   "cell_type": "markdown",
   "metadata": {},
   "source": [
    "### GAMENet"
   ]
  },
  {
   "cell_type": "markdown",
   "metadata": {},
   "source": [
    "### GRASP"
   ]
  },
  {
   "cell_type": "markdown",
   "metadata": {},
   "source": [
    "### RETAIN"
   ]
  },
  {
   "cell_type": "markdown",
   "metadata": {},
   "source": [
    "### GRAM"
   ]
  },
  {
   "cell_type": "markdown",
   "metadata": {},
   "source": [
    "### KAME"
   ]
  },
  {
   "cell_type": "markdown",
   "metadata": {},
   "source": [
    "### MoleRec"
   ]
  },
  {
   "cell_type": "markdown",
   "metadata": {},
   "source": [
    "### RNN"
   ]
  },
  {
   "cell_type": "markdown",
   "metadata": {},
   "source": [
    "**- RNN without symptoms**"
   ]
  },
  {
   "cell_type": "code",
   "execution_count": 241,
   "metadata": {},
   "outputs": [],
   "source": [
    "from pyhealth.models import RNN\n",
    "\n",
    "model_rnn = RNN(\n",
    "    dataset=mimic3sample,\n",
    "    feature_keys=[\"conditions\", \"procedures\"],\n",
    "    label_key=\"drugs\",\n",
    "    mode=\"multilabel\",\n",
    ")"
   ]
  },
  {
   "cell_type": "markdown",
   "metadata": {},
   "source": [
    "**- Training without symptoms**"
   ]
  },
  {
   "cell_type": "code",
   "execution_count": null,
   "metadata": {},
   "outputs": [],
   "source": [
    "from pyhealth.trainer import Trainer\n",
    "\n",
    "trainer_rnn = Trainer(model=model_rnn)\n",
    "trainer_rnn.train(\n",
    "    model_name=\"rnn\",\n",
    "    train_dataloader=train_loader,\n",
    "    val_dataloader=val_loader,\n",
    "    epochs=10,\n",
    "    optimizer_params = {\"lr\": 2 * 1e-4},\n",
    "    monitor=\"pr_auc_samples\",\n",
    ")"
   ]
  },
  {
   "attachments": {
    "image.png": {
     "image/png": "[encoded data removed]"
    }
   },
   "cell_type": "markdown",
   "metadata": {},
   "source": [
    "loss: 0.2564\n",
    "New best pr_auc_samples score (0.6729) at epoch-9, step-510\n",
    "\n",
    "![image.png](attachment:image.png)"
   ]
  },
  {
   "cell_type": "markdown",
   "metadata": {},
   "source": [
    "**- RNN Evaluation**"
   ]
  },
  {
   "cell_type": "code",
   "execution_count": 243,
   "metadata": {},
   "outputs": [
    {
     "name": "stderr",
     "output_type": "stream",
     "text": [
      "Evaluation: 100%|██████████| 7/7 [00:00<00:00, 136.85it/s]\n"
     ]
    },
    {
     "data": {
      "text/plain": [
       "{'accuracy': 0.8959572593082177,\n",
       " 'f1_samples': 0.5208913438646415,\n",
       " 'pr_auc_samples': 0.6492154854289413,\n",
       " 'jaccard_samples': 0.361292772853502}"
      ]
     },
     "execution_count": 243,
     "metadata": {},
     "output_type": "execute_result"
    }
   ],
   "source": [
    "### Without Symptoms - loss 0.3239 - time: 0m 6s\n",
    "from pyhealth.metrics import multilabel_metrics_fn\n",
    "\n",
    "y_true_rnn, y_prob_rnn, loss_rnn = trainer_rnn.inference(test_loader)\n",
    "metrics = [\"accuracy\", \"f1_samples\", \"pr_auc_samples\", \"jaccard_samples\"]\n",
    "multilabel_metrics_fn(y_true_rnn, y_prob_rnn, metrics=metrics)"
   ]
  },
  {
   "cell_type": "markdown",
   "metadata": {},
   "source": [
    "## Let'see some recommendation..."
   ]
  },
  {
   "cell_type": "code",
   "execution_count": null,
   "metadata": {},
   "outputs": [],
   "source": [
    "import numpy as np\n",
    "import pandas as pd\n",
    "from pyhealth.medcode import InnerMap\n",
    "\n",
    "# initialize an InnerMap\n",
    "atc = InnerMap.load(\"ATC\")\n",
    "\n",
    "sorted_indices = []\n",
    "for i in range(len(y_prob)):\n",
    "    top_indices = np.argsort(y_prob[i, :])[::-1][:10]\n",
    "    sorted_values = y_prob[i, top_indices]\n",
    "    sorted_indices.append(top_indices)\n",
    "\n",
    "patient_ids = []\n",
    "visit_ids = []\n",
    "rec_drug = []\n",
    "\n",
    "# get the list of all drugs in the dataset\n",
    "list_drugs = mimic3sample.get_all_tokens('drugs')\n",
    "\n",
    "# iterate over the top indexes for each sample in test_ds\n",
    "for sample, top in zip(test_ds, sorted_indices):\n",
    "   \n",
    "    # append the patient id and visit id to their respective lists\n",
    "    patient_ids.append(sample['patient_id'])\n",
    "    visit_ids.append(sample['visit_id'])\n",
    "   \n",
    "    # create an empty list to store the recommended drugs for this sample\n",
    "    sample_rec_drug = []\n",
    "   \n",
    "    # iterate over the top indexes for this sample\n",
    "    for i in top:\n",
    "       \n",
    "        # append the drug at the i-th index to the recommended drugs list for this sample\n",
    "        sample_rec_drug.append(list_drugs[i])\n",
    "   \n",
    "    # append the recommended drugs for this sample to the recommended drugs list\n",
    "    rec_drug.append(sample_rec_drug)\n",
    "\n",
    "# create a dataframe with the patient ids, visit ids, and recommended drugs\n",
    "df_rec_drug = pd.DataFrame({'patient_id': patient_ids, 'visit_id': visit_ids, 'rec_drug': rec_drug})\n",
    "df_rec_drug"
   ]
  },
  {
   "cell_type": "code",
   "execution_count": 125,
   "metadata": {},
   "outputs": [
    {
     "name": "stdout",
     "output_type": "stream",
     "text": [
      "B05XA: Electrolyte solutions\n",
      "N03AX: Other antiepileptics in ATC\n",
      "M04AC: Preparations with no effect on uric acid metabolism\n",
      "M03BA: Carbamic acid esters, centrally acting muscle relaxants\n",
      "G04CA: Alpha-adrenoreceptor antagonists, benign prostatic hypertrophy\n",
      "J01EE: Combinations of sulfonamides and trimethoprim, incl. derivatives\n",
      "N02BE: Anilide analgesics and antipyretics\n",
      "B01AB: Heparin group antithrombotic drugs\n",
      "N05CF: Benzodiazepine related hypnotics and sedatives\n",
      "A02BC: Proton pump inhibitors for peptic ulcer and GORD\n"
     ]
    }
   ],
   "source": [
    "from pyhealth.medcode import InnerMap\n",
    "\n",
    "# initialize an InnerMap\n",
    "atc = InnerMap.load(\"ATC\")\n",
    "\n",
    "# select a patient from df_rec_drug\n",
    "patient_id = 10884\n",
    "visit_id = 150905\n",
    "patient_df = df_rec_drug[df_rec_drug['patient_id'].astype(int)==patient_id]\n",
    "patient_df = patient_df[patient_df['visit_id'].astype(int)==visit_id]\n",
    "\n",
    "# iterate over the recommended drugs for the selected patient\n",
    "for drugs in patient_df['rec_drug']:\n",
    "    # lookup the ATC code for each drug and print it\n",
    "    for drug in drugs:\n",
    "        print(f\"{drug}: {atc.lookup(drug)}\")"
   ]
  },
  {
   "cell_type": "code",
   "execution_count": 124,
   "metadata": {},
   "outputs": [
    {
     "name": "stdout",
     "output_type": "stream",
     "text": [
      "Condition 0: Acute and subacute necrosis of liver\n",
      "Condition 1: Alcoholic cirrhosis of liver\n",
      "Condition 2: Hepatorenal syndrome\n",
      "Condition 3: Acute kidney failure with lesion of tubular necrosis\n",
      "Condition 4: Congestive heart failure, unspecified\n",
      "Condition 5: Hyposmolality and/or hyponatremia\n",
      "Condition 6: Chronic kidney disease, unspecified\n",
      "Condition 7: Toxic encephalopathy\n",
      "Condition 8: Hepatic encephalopathy\n",
      "Condition 9: Calculus of gallbladder with other cholecystitis, without mention of obstruction\n",
      "Condition 10: Ascites\n",
      "Condition 11: Acquired coagulation factor deficiency\n",
      "Condition 12: Thrombocytopenia, unspecified\n",
      "Condition 13: Unspecified essential hypertension\n",
      "Condition 14: Other specified disorders of pancreatic internal secretion\n",
      "Condition 15: Adrenal cortical steroids causing adverse effects in therapeutic use\n",
      "Condition 16: Acute alcoholic intoxication in alcoholism, in remission\n",
      "Condition 17: Esophageal reflux\n",
      "Condition 18: Personal history of urinary calculi\n",
      "Condition 19: Aphasia\n",
      "Condition 20: Spinal stenosis, lumbar region, with neurogenic claudication\n",
      "Condition 21: Liver replaced by transplant\n",
      "Condition 22: Body Mass Index 40.0-44.9, adult\n",
      "Condition 23: Acquired spondylolisthesis\n",
      "Condition 24: Secondary diabetes mellitus without mention of complication, not stated as uncontrolled, or unspecified\n",
      "Condition 25: Adrenal cortical steroids causing adverse effects in therapeutic use\n",
      "Condition 26: Hypertensive chronic kidney disease, unspecified, with chronic kidney disease stage I through stage IV, or unspecified\n",
      "Condition 27: Chronic kidney disease, unspecified\n",
      "Condition 28: Gout, unspecified\n",
      "Condition 29: Obstructive sleep apnea (adult)(pediatric)\n",
      "Condition 30: Depressive disorder, not elsewhere classified\n",
      "Condition 31: Overweight\n",
      "Condition 32: Anemia in chronic kidney disease\n",
      "Condition 33: Postprocedural fever\n",
      "Procedure 0: Other transplant of liver\n",
      "Procedure 1: Cholecystectomy\n",
      "Procedure 2: Transplant from cadaver\n",
      "Procedure 3: Closed (percutaneous) [needle] biopsy of liver\n",
      "Procedure 4: Hemodialysis\n",
      "Procedure 5: Venous catheterization for renal dialysis\n",
      "Procedure 6: Pulmonary artery wedge monitoring\n",
      "Procedure 7: Percutaneous abdominal drainage\n",
      "Procedure 8: Parenteral infusion of concentrated nutritional substances\n",
      "Procedure 9: Enteral infusion of concentrated nutritional substances\n",
      "Procedure 10: Transfusion of packed cells\n",
      "Procedure 11: Transfusion of platelets\n",
      "Procedure 12: Venous catheterization, not elsewhere classified\n",
      "Procedure 13: Lumbar and lumbosacral fusion of the posterior column, posterior technique\n",
      "Procedure 14: Fusion or refusion of 2-3 vertebrae\n",
      "Procedure 15: Insertion of interbody spinal fusion device\n",
      "Symptom 0: Hepatorenal syndrome\n",
      "Symptom 1: Unspecified problem with special functions\n",
      "Symptom 2: Renal failure, unspecified\n",
      "Symptom 3: Jaundice, unspecified, not of newborn\n",
      "Symptom 4: Edema\n",
      "Symptom 5: Cirrhosis of liver without mention of alcohol\n",
      "Symptom 6: Esophageal reflux\n",
      "Symptom 7: Unspecified essential hypertension\n",
      "Symptom 8: Unspecified disorder of metabolism\n",
      "Symptom 9: Obstructive hydrocephalus\n",
      "Symptom 10: Dysphagia, unspecified\n",
      "Symptom 11: Other abnormal glucose\n",
      "Symptom 12: Chronic kidney disease, unspecified\n",
      "Symptom 13: Pain in limb\n",
      "Symptom 14: Unspecified problem with special functions\n",
      "Symptom 15: Gout, unspecified\n",
      "Symptom 16: Unspecified essential hypertension\n",
      "Symptom 17: Anemia, unspecified\n",
      "Symptom 18: Chronic kidney disease, unspecified\n",
      "Symptom 19: Generalized pain\n",
      "Symptom 20: Fever, unspecified\n",
      "Symptom 21: Constipation, unspecified\n",
      "Symptom 22: Acquired spondylolisthesis\n"
     ]
    }
   ],
   "source": [
    "from pyhealth.medcode import InnerMap\n",
    "\n",
    "# select a patient from df_rec_drug\n",
    "patient_id = 10884\n",
    "visit_id = 150905\n",
    "\n",
    "for sample in test_ds:\n",
    "    if (sample['patient_id'] == str(patient_id)) and (sample['visit_id'] == str(visit_id)):\n",
    "        conditions = sample['conditions']\n",
    "        procedures = sample['procedures']\n",
    "        symptoms = sample['symptoms']\n",
    "\n",
    "# initialize an InnerMap\n",
    "icd9cm = InnerMap.load(\"ICD9CM\")\n",
    "i=0\n",
    "for condition in conditions:\n",
    "    for code in condition:\n",
    "        print(f\"Condition {i}: {icd9cm.lookup(code)}\")\n",
    "        i+=1\n",
    "\n",
    "# initialize an InnerMap\n",
    "icd9pr = InnerMap.load(\"ICD9PROC\")\n",
    "i=0\n",
    "for procedure in procedures:\n",
    "    for code in procedure:\n",
    "        print(f\"Procedure {i}: {icd9pr.lookup(code)}\")\n",
    "        i+=1\n",
    "\n",
    "i=0\n",
    "for symptom in symptoms:\n",
    "    for code in symptom:\n",
    "        print(f\"Symptom {i}: {icd9cm.lookup(code)}\")\n",
    "        i+=1"
   ]
  }
 ],
 "metadata": {
  "kernelspec": {
   "display_name": "proj_venv",
   "language": "python",
   "name": "python3"
  },
  "language_info": {
   "codemirror_mode": {
    "name": "ipython",
    "version": 3
   },
   "file_extension": ".py",
   "mimetype": "text/x-python",
   "name": "python",
   "nbconvert_exporter": "python",
   "pygments_lexer": "ipython3",
   "version": "3.9.10"
  }
 },
 "nbformat": 4,
 "nbformat_minor": 2
}
