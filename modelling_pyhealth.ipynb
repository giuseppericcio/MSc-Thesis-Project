{
 "cells": [
  {
   "cell_type": "markdown",
   "metadata": {},
   "source": [
    "# Modelling with PyHealth"
   ]
  },
  {
   "cell_type": "markdown",
   "metadata": {},
   "source": [
    "## Using PyHealth and Try NOTEEVENTS_ICD"
   ]
  },
  {
   "cell_type": "code",
   "execution_count": 1,
   "metadata": {},
   "outputs": [],
   "source": [
    "import pandas as pd\n",
    "import numpy as np"
   ]
  },
  {
   "cell_type": "code",
   "execution_count": 2,
   "metadata": {},
   "outputs": [],
   "source": [
    "# carica i dati dai file csv\n",
    "noteevents = pd.read_csv('data/NOTEEVENTS_ICD.csv')\n",
    "patients = pd.read_csv('data/PATIENTS.csv')\n",
    "\n",
    "# seleziona i pazienti presenti in NOTEEVENTS_ICD\n",
    "selected_patients = patients[patients['SUBJECT_ID'].isin(noteevents['SUBJECT_ID'].unique())]\n",
    "\n",
    "# salva il risultato in un file csv\n",
    "selected_patients.to_csv('data/PATIENTS_SEL.csv', index=False)\n"
   ]
  },
  {
   "cell_type": "code",
   "execution_count": 3,
   "metadata": {},
   "outputs": [],
   "source": [
    "from pyhealth.datasets import MIMIC3Dataset\n",
    "\n",
    "dataset = MIMIC3Dataset(\n",
    "    root='data/',\n",
    "    tables=[\"DIAGNOSES_ICD\",\"PROCEDURES_ICD\",\"PRESCRIPTIONS\",\"NOTEEVENTS_ICD\"],\n",
    "    code_mapping={\"NDC\": (\"ATC\", {\"target_kwargs\": {\"level\": 3}})},\n",
    "    #refresh_cache=True\n",
    ")"
   ]
  },
  {
   "cell_type": "code",
   "execution_count": 4,
   "metadata": {},
   "outputs": [
    {
     "name": "stdout",
     "output_type": "stream",
     "text": [
      "\n",
      "Statistics of base dataset (dev=False):\n",
      "\t- Dataset: MIMIC3Dataset\n",
      "\t- Number of patients: 1560\n",
      "\t- Number of visits: 5014\n",
      "\t- Number of visits per patient: 3.2141\n",
      "\t- Number of events per visit in DIAGNOSES_ICD: 11.5987\n",
      "\t- Number of events per visit in PROCEDURES_ICD: 3.8771\n",
      "\t- Number of events per visit in PRESCRIPTIONS: 44.3879\n",
      "\t- Number of events per visit in NOTEEVENTS_ICD: 11.0782\n",
      "\n"
     ]
    },
    {
     "data": {
      "text/plain": [
       "'\\nStatistics of base dataset (dev=False):\\n\\t- Dataset: MIMIC3Dataset\\n\\t- Number of patients: 1560\\n\\t- Number of visits: 5014\\n\\t- Number of visits per patient: 3.2141\\n\\t- Number of events per visit in DIAGNOSES_ICD: 11.5987\\n\\t- Number of events per visit in PROCEDURES_ICD: 3.8771\\n\\t- Number of events per visit in PRESCRIPTIONS: 44.3879\\n\\t- Number of events per visit in NOTEEVENTS_ICD: 11.0782\\n'"
      ]
     },
     "execution_count": 4,
     "metadata": {},
     "output_type": "execute_result"
    }
   ],
   "source": [
    "dataset.stat()"
   ]
  },
  {
   "cell_type": "code",
   "execution_count": null,
   "metadata": {},
   "outputs": [],
   "source": [
    "# get patient dictionary\n",
    "patient_dict = dataset.patients\n",
    "print(list(patient_dict.keys()))\n",
    "print(len(patient_dict))"
   ]
  },
  {
   "cell_type": "code",
   "execution_count": null,
   "metadata": {},
   "outputs": [],
   "source": [
    "# get the \"10\" patient\n",
    "patient = patient_dict[\"25780\"]\n",
    "patient.gender, patient.birth_datetime, patient.ethnicity, patient.death_datetime, patient.visits\n",
    "print(patient.visits)"
   ]
  },
  {
   "cell_type": "code",
   "execution_count": null,
   "metadata": {},
   "outputs": [],
   "source": [
    "# get the visit list of this patient\n",
    "visit_dict = patient.visits\n",
    "print (list(visit_dict.keys()))"
   ]
  },
  {
   "cell_type": "code",
   "execution_count": null,
   "metadata": {},
   "outputs": [],
   "source": [
    "# get the first visit\n",
    "visit = visit_dict['120990']\n",
    "visit.encounter_time, visit.available_tables, visit.num_events, visit.event_list_dict"
   ]
  },
  {
   "cell_type": "code",
   "execution_count": null,
   "metadata": {},
   "outputs": [],
   "source": [
    "visit.get_code_list(table='NOTEEVENTS_ICD')"
   ]
  },
  {
   "cell_type": "code",
   "execution_count": 10,
   "metadata": {},
   "outputs": [
    {
     "name": "stderr",
     "output_type": "stream",
     "text": [
      "Generating samples for drug_recommendation_mimic3_fn: 100%|██████████| 1560/1560 [00:00<00:00, 13335.79it/s]\n"
     ]
    }
   ],
   "source": [
    "from pyhealth.tasks import drug_recommendation_mimic3_fn\n",
    "from pyhealth.datasets import split_by_patient, get_dataloader\n",
    "\n",
    "mimic3sample = dataset.set_task(task_fn=drug_recommendation_mimic3_fn) # use default task\n",
    "train_ds, val_ds, test_ds = split_by_patient(mimic3sample, [0.6, 0.2, 0.2])\n"
   ]
  },
  {
   "cell_type": "code",
   "execution_count": 11,
   "metadata": {},
   "outputs": [
    {
     "name": "stdout",
     "output_type": "stream",
     "text": [
      "Statistics of sample dataset:\n",
      "\t- Dataset: MIMIC3Dataset\n",
      "\t- Task: drug_recommendation_mimic3_fn\n",
      "\t- Number of samples: 2012\n",
      "\t- Number of patients: 906\n",
      "\t- Number of visits: 2012\n",
      "\t- Number of visits per patient: 2.2208\n",
      "\t- conditions:\n",
      "\t\t- Number of conditions per sample: 18.8827\n",
      "\t\t- Number of unique conditions: 2099\n",
      "\t\t- Distribution of conditions (Top-10): [('4019', 1225), ('4280', 1021), ('42731', 783), ('41401', 767), ('5849', 594), ('25000', 537), ('53081', 458), ('5990', 393), ('40391', 389), ('2724', 386)]\n",
      "\t- procedures:\n",
      "\t\t- Number of procedures per sample: 7.0055\n",
      "\t\t- Number of unique procedures: 733\n",
      "\t\t- Distribution of procedures (Top-10): [('3893', 1047), ('9904', 776), ('9604', 529), ('3995', 505), ('966', 484), ('9671', 477), ('3891', 295), ('9672', 292), ('3961', 267), ('9915', 257)]\n",
      "\t- drugs:\n",
      "\t\t- Number of drugs per sample: 24.4841\n",
      "\t\t- Number of unique drugs: 178\n",
      "\t\t- Distribution of drugs (Top-10): [('A02B', 1797), ('B05X', 1792), ('B01A', 1686), ('N02B', 1681), ('A06A', 1564), ('N02A', 1453), ('V06D', 1383), ('C07A', 1334), ('V04C', 1199), ('A12C', 1190)]\n",
      "\t- drugs_hist:\n",
      "\t\t- Number of drugs_hist per sample: 17.2957\n",
      "\t\t- Number of unique drugs_hist: 174\n",
      "\t\t- Distribution of drugs_hist (Top-10): [('A02B', 1320), ('B05X', 1287), ('B01A', 1236), ('N02B', 1189), ('A06A', 1094), ('N02A', 1024), ('V06D', 999), ('C07A', 976), ('V04C', 840), ('A12C', 834)]\n",
      "\t- symptoms:\n",
      "\t\t- Number of symptoms per sample: 27.8588\n",
      "\t\t- Number of unique symptoms: 714\n",
      "\t\t- Distribution of symptoms (Top-10): [('V419', 3386), ('4019', 2372), ('7823', 2242), ('78060', 2124), ('78096', 2113), ('78650', 1390), ('78609', 1027), ('78605', 1020), ('4289', 1005), ('78900', 901)]\n"
     ]
    },
    {
     "data": {
      "text/plain": [
       "\"Statistics of sample dataset:\\n\\t- Dataset: MIMIC3Dataset\\n\\t- Task: drug_recommendation_mimic3_fn\\n\\t- Number of samples: 2012\\n\\t- Number of patients: 906\\n\\t- Number of visits: 2012\\n\\t- Number of visits per patient: 2.2208\\n\\t- conditions:\\n\\t\\t- Number of conditions per sample: 18.8827\\n\\t\\t- Number of unique conditions: 2099\\n\\t\\t- Distribution of conditions (Top-10): [('4019', 1225), ('4280', 1021), ('42731', 783), ('41401', 767), ('5849', 594), ('25000', 537), ('53081', 458), ('5990', 393), ('40391', 389), ('2724', 386)]\\n\\t- procedures:\\n\\t\\t- Number of procedures per sample: 7.0055\\n\\t\\t- Number of unique procedures: 733\\n\\t\\t- Distribution of procedures (Top-10): [('3893', 1047), ('9904', 776), ('9604', 529), ('3995', 505), ('966', 484), ('9671', 477), ('3891', 295), ('9672', 292), ('3961', 267), ('9915', 257)]\\n\\t- drugs:\\n\\t\\t- Number of drugs per sample: 24.4841\\n\\t\\t- Number of unique drugs: 178\\n\\t\\t- Distribution of drugs (Top-10): [('A02B', 1797), ('B05X', 1792), ('B01A', 1686), ('N02B', 1681), ('A06A', 1564), ('N02A', 1453), ('V06D', 1383), ('C07A', 1334), ('V04C', 1199), ('A12C', 1190)]\\n\\t- drugs_hist:\\n\\t\\t- Number of drugs_hist per sample: 17.2957\\n\\t\\t- Number of unique drugs_hist: 174\\n\\t\\t- Distribution of drugs_hist (Top-10): [('A02B', 1320), ('B05X', 1287), ('B01A', 1236), ('N02B', 1189), ('A06A', 1094), ('N02A', 1024), ('V06D', 999), ('C07A', 976), ('V04C', 840), ('A12C', 834)]\\n\\t- symptoms:\\n\\t\\t- Number of symptoms per sample: 27.8588\\n\\t\\t- Number of unique symptoms: 714\\n\\t\\t- Distribution of symptoms (Top-10): [('V419', 3386), ('4019', 2372), ('7823', 2242), ('78060', 2124), ('78096', 2113), ('78650', 1390), ('78609', 1027), ('78605', 1020), ('4289', 1005), ('78900', 901)]\""
      ]
     },
     "execution_count": 11,
     "metadata": {},
     "output_type": "execute_result"
    }
   ],
   "source": [
    "mimic3sample.stat()"
   ]
  },
  {
   "cell_type": "code",
   "execution_count": 12,
   "metadata": {},
   "outputs": [],
   "source": [
    "# create dataloaders (torch.data.DataLoader)\n",
    "train_loader = get_dataloader(train_ds, batch_size=32, shuffle=True)\n",
    "val_loader = get_dataloader(val_ds, batch_size=32, shuffle=False)\n",
    "test_loader = get_dataloader(test_ds, batch_size=32, shuffle=False)"
   ]
  },
  {
   "cell_type": "code",
   "execution_count": 13,
   "metadata": {},
   "outputs": [
    {
     "data": {
      "text/plain": [
       "(1228, 393, 391)"
      ]
     },
     "execution_count": 13,
     "metadata": {},
     "output_type": "execute_result"
    }
   ],
   "source": [
    "len(train_ds), len(val_ds), len(test_ds)"
   ]
  },
  {
   "cell_type": "markdown",
   "metadata": {},
   "source": [
    "## Baseline Models\n",
    "\n",
    "Here we can use the models having the same input built in the previous cells. We tried GRASP, SafeDrug, Transformer, and so on. And evaluate them performance with several metrics."
   ]
  },
  {
   "cell_type": "markdown",
   "metadata": {},
   "source": [
    "### Transformer"
   ]
  },
  {
   "cell_type": "markdown",
   "metadata": {},
   "source": [
    "**- Transformer without symptoms**"
   ]
  },
  {
   "cell_type": "code",
   "execution_count": 17,
   "metadata": {},
   "outputs": [],
   "source": [
    "from pyhealth.models import Transformer\n",
    "\n",
    "model = Transformer(\n",
    "    dataset=mimic3sample,\n",
    "    feature_keys=[\"conditions\", \"procedures\"],\n",
    "    label_key=\"drugs\",\n",
    "    mode=\"multilabel\",\n",
    ")"
   ]
  },
  {
   "cell_type": "markdown",
   "metadata": {},
   "source": [
    "**- Transformer with symptoms**"
   ]
  },
  {
   "cell_type": "code",
   "execution_count": 14,
   "metadata": {},
   "outputs": [],
   "source": [
    "from pyhealth.models import Transformer\n",
    "\n",
    "model_symptoms = Transformer(\n",
    "    dataset=mimic3sample,\n",
    "    feature_keys=[\"conditions\", \"procedures\", \"symptoms\"],\n",
    "    label_key=\"drugs\",\n",
    "    mode=\"multilabel\",\n",
    ")"
   ]
  },
  {
   "cell_type": "markdown",
   "metadata": {},
   "source": [
    "**- Training without symptoms**"
   ]
  },
  {
   "cell_type": "code",
   "execution_count": null,
   "metadata": {},
   "outputs": [],
   "source": [
    "from pyhealth.trainer import Trainer\n",
    "\n",
    "trainer = Trainer(model=model)\n",
    "trainer.train(\n",
    "    model_name=\"transformer\",\n",
    "    train_dataloader=train_loader,\n",
    "    val_dataloader=val_loader,\n",
    "    epochs=5,\n",
    "    optimizer_params = {\"lr\": 2 * 1e-4},\n",
    "    monitor=\"pr_auc_samples\",\n",
    ")"
   ]
  },
  {
   "cell_type": "markdown",
   "metadata": {},
   "source": [
    "**- Training with symptoms**"
   ]
  },
  {
   "cell_type": "code",
   "execution_count": null,
   "metadata": {},
   "outputs": [],
   "source": [
    "from pyhealth.trainer import Trainer\n",
    "\n",
    "trainer_symptoms = Trainer(model=model_symptoms)\n",
    "trainer_symptoms.train(\n",
    "    model_name=\"transformer\",\n",
    "    train_dataloader=train_loader,\n",
    "    val_dataloader=val_loader,\n",
    "    epochs=5,\n",
    "    optimizer_params = {\"lr\": 2 * 1e-4},\n",
    "    monitor=\"pr_auc_samples\",\n",
    ")"
   ]
  },
  {
   "cell_type": "markdown",
   "metadata": {},
   "source": [
    "**- Transformer Evaluation**"
   ]
  },
  {
   "cell_type": "code",
   "execution_count": 19,
   "metadata": {},
   "outputs": [
    {
     "name": "stderr",
     "output_type": "stream",
     "text": [
      "Evaluation: 100%|██████████| 13/13 [00:00<00:00, 127.07it/s]\n"
     ]
    },
    {
     "data": {
      "text/plain": [
       "{'accuracy': 0.8857151067559412,\n",
       " 'f1_samples': 0.5075168739925975,\n",
       " 'pr_auc_samples': 0.5948336401366011,\n",
       " 'jaccard_samples': 0.3466500940330525}"
      ]
     },
     "execution_count": 19,
     "metadata": {},
     "output_type": "execute_result"
    }
   ],
   "source": [
    "### Without Symptoms - loss 0.3239 - time: 0m 6s\n",
    "from pyhealth.metrics import multilabel_metrics_fn\n",
    "\n",
    "y_true, y_prob, loss = trainer.inference(test_loader)\n",
    "metrics = [\"accuracy\", \"f1_samples\", \"pr_auc_samples\", \"jaccard_samples\"]\n",
    "multilabel_metrics_fn(y_true, y_prob, metrics=metrics)"
   ]
  },
  {
   "cell_type": "code",
   "execution_count": 16,
   "metadata": {},
   "outputs": [
    {
     "name": "stderr",
     "output_type": "stream",
     "text": [
      "Evaluation: 100%|██████████| 13/13 [00:00<00:00, 99.65it/s]\n"
     ]
    },
    {
     "data": {
      "text/plain": [
       "{'accuracy': 0.8900255754475703,\n",
       " 'f1_samples': 0.5218895587506972,\n",
       " 'pr_auc_samples': 0.6142927508787751,\n",
       " 'jaccard_samples': 0.36047014930167576}"
      ]
     },
     "execution_count": 16,
     "metadata": {},
     "output_type": "execute_result"
    }
   ],
   "source": [
    "### With Symptoms - loss 0.3192 - time: 0m 9s\n",
    "from pyhealth.metrics import multilabel_metrics_fn\n",
    "\n",
    "y_true, y_prob, loss = trainer_symptoms.inference(test_loader)\n",
    "metrics = [\"accuracy\", \"f1_samples\", \"pr_auc_samples\", \"jaccard_samples\"]\n",
    "multilabel_metrics_fn(y_true, y_prob, metrics=metrics)"
   ]
  },
  {
   "cell_type": "markdown",
   "metadata": {},
   "source": [
    "### SafeDrug"
   ]
  },
  {
   "cell_type": "markdown",
   "metadata": {},
   "source": [
    "**- SafeDrug without symptoms**"
   ]
  },
  {
   "cell_type": "code",
   "execution_count": 20,
   "metadata": {},
   "outputs": [],
   "source": [
    "from pyhealth.models import SafeDrug\n",
    "\n",
    "model = SafeDrug(\n",
    "    dataset=mimic3sample\n",
    ")"
   ]
  },
  {
   "cell_type": "markdown",
   "metadata": {},
   "source": [
    "**- SafeDrug with symptoms**"
   ]
  },
  {
   "cell_type": "code",
   "execution_count": 23,
   "metadata": {},
   "outputs": [],
   "source": [
    "from pyhealth.models import SafeDrug_Mod\n",
    "\n",
    "model_symptoms = SafeDrug_Mod(\n",
    "    dataset=mimic3sample\n",
    ")"
   ]
  },
  {
   "cell_type": "markdown",
   "metadata": {},
   "source": [
    "**- Training without symptoms**"
   ]
  },
  {
   "cell_type": "code",
   "execution_count": null,
   "metadata": {},
   "outputs": [],
   "source": [
    "from pyhealth.trainer import Trainer\n",
    "\n",
    "trainer = Trainer(model=model)\n",
    "trainer.train(\n",
    "    model_name=\"safedrug\",\n",
    "    train_dataloader=train_loader,\n",
    "    val_dataloader=val_loader,\n",
    "    epochs=5,\n",
    "    optimizer_params = {\"lr\": 2 * 1e-4},\n",
    "    monitor=\"pr_auc_samples\",\n",
    ")"
   ]
  },
  {
   "cell_type": "markdown",
   "metadata": {},
   "source": [
    "**- Training with symptoms**"
   ]
  },
  {
   "cell_type": "code",
   "execution_count": null,
   "metadata": {},
   "outputs": [],
   "source": [
    "from pyhealth.trainer import Trainer\n",
    "\n",
    "trainer_symptoms = Trainer(model=model_symptoms)\n",
    "trainer_symptoms.train(\n",
    "    model_name=\"safedrug\",\n",
    "    train_dataloader=train_loader,\n",
    "    val_dataloader=val_loader,\n",
    "    epochs=5,\n",
    "    optimizer_params = {\"lr\": 2 * 1e-4},\n",
    "    monitor=\"pr_auc_samples\",\n",
    ")"
   ]
  },
  {
   "cell_type": "markdown",
   "metadata": {},
   "source": [
    "**- SafeDrug Evaluation**"
   ]
  },
  {
   "cell_type": "code",
   "execution_count": 22,
   "metadata": {},
   "outputs": [
    {
     "name": "stderr",
     "output_type": "stream",
     "text": [
      "Evaluation: 100%|██████████| 13/13 [00:03<00:00,  4.21it/s]\n"
     ]
    },
    {
     "data": {
      "text/plain": [
       "{'accuracy': 0.8965200149429581,\n",
       " 'f1_samples': 0.4938840836868886,\n",
       " 'pr_auc_samples': 0.6566142176252147,\n",
       " 'jaccard_samples': 0.33422480694425677}"
      ]
     },
     "execution_count": 22,
     "metadata": {},
     "output_type": "execute_result"
    }
   ],
   "source": [
    "### Without Symptoms - loss 0.2672 - time: 2m 6s\n",
    "from pyhealth.metrics import multilabel_metrics_fn\n",
    "\n",
    "y_true, y_prob, loss = trainer.inference(test_loader)\n",
    "metrics = [\"accuracy\", \"f1_samples\", \"pr_auc_samples\", \"jaccard_samples\"]\n",
    "multilabel_metrics_fn(y_true, y_prob, metrics=metrics)"
   ]
  },
  {
   "cell_type": "code",
   "execution_count": 25,
   "metadata": {},
   "outputs": [
    {
     "name": "stderr",
     "output_type": "stream",
     "text": [
      "Evaluation: 100%|██████████| 13/13 [00:03<00:00,  4.25it/s]\n"
     ]
    },
    {
     "data": {
      "text/plain": [
       "{'accuracy': 0.8965487514009023,\n",
       " 'f1_samples': 0.4940201459077551,\n",
       " 'pr_auc_samples': 0.6575319724664682,\n",
       " 'jaccard_samples': 0.3343368918438221}"
      ]
     },
     "execution_count": 25,
     "metadata": {},
     "output_type": "execute_result"
    }
   ],
   "source": [
    "### With Symptoms - loss 0.2666 - time: 2m 0s\n",
    "from pyhealth.metrics import multilabel_metrics_fn\n",
    "\n",
    "y_true, y_prob, loss = trainer_symptoms.inference(test_loader)\n",
    "metrics = [\"accuracy\", \"f1_samples\", \"pr_auc_samples\", \"jaccard_samples\"]\n",
    "multilabel_metrics_fn(y_true, y_prob, metrics=metrics)"
   ]
  },
  {
   "cell_type": "markdown",
   "metadata": {},
   "source": [
    "### GAMENet"
   ]
  },
  {
   "cell_type": "markdown",
   "metadata": {},
   "source": [
    "### GRASP"
   ]
  },
  {
   "cell_type": "markdown",
   "metadata": {},
   "source": [
    "### RETAIN"
   ]
  },
  {
   "cell_type": "markdown",
   "metadata": {},
   "source": [
    "### GRAM"
   ]
  },
  {
   "cell_type": "markdown",
   "metadata": {},
   "source": [
    "### KAME"
   ]
  },
  {
   "cell_type": "markdown",
   "metadata": {},
   "source": [
    "### MoleRec"
   ]
  },
  {
   "cell_type": "markdown",
   "metadata": {},
   "source": [
    "## Visualizzazione Drug Recommended"
   ]
  },
  {
   "cell_type": "code",
   "execution_count": 26,
   "metadata": {},
   "outputs": [],
   "source": [
    "y_prob_round = np.round(y_prob, 0)\n",
    "\n",
    "# Find the indices of the columns with values equal to 1 for each row\n",
    "column_indices = [np.where(row == 1)[0] for row in y_prob_round]\n",
    "\n",
    "indexes_prob=[]\n",
    "# Print the column indices for each row\n",
    "for i, indices in enumerate(column_indices):\n",
    "    indexes_prob.append(indices)"
   ]
  },
  {
   "cell_type": "code",
   "execution_count": 27,
   "metadata": {},
   "outputs": [],
   "source": [
    "# create empty lists to store the recommended drugs, patient ids, and visit ids\n",
    "rec_drug = []\n",
    "patient_ids = []\n",
    "visit_ids = []\n",
    "\n",
    "# get the list of all drugs in the dataset\n",
    "list_drugs = mimic3sample.get_all_tokens('drugs')\n",
    "\n",
    "# iterate over the top indexes for each sample in test_ds\n",
    "for sample, top in zip(test_ds, indexes_prob):\n",
    "    \n",
    "    # append the patient id and visit id to their respective lists\n",
    "    patient_ids.append(sample['patient_id'])\n",
    "    visit_ids.append(sample['visit_id'])\n",
    "    \n",
    "    # create an empty list to store the recommended drugs for this sample\n",
    "    sample_rec_drug = []\n",
    "    \n",
    "    # iterate over the top indexes for this sample\n",
    "    for i in top:\n",
    "        \n",
    "        # append the drug at the i-th index to the recommended drugs list for this sample\n",
    "        sample_rec_drug.append(list_drugs[i])\n",
    "    \n",
    "    # append the recommended drugs for this sample to the recommended drugs list\n",
    "    rec_drug.append(sample_rec_drug)\n",
    "\n",
    "# create a dataframe with the patient ids, visit ids, and recommended drugs\n",
    "df_rec_drug = pd.DataFrame({'patient_id': patient_ids, 'visit_id': visit_ids, 'rec_drug': rec_drug})\n",
    "df_rec_drug.to_csv('data/rec_drug.csv', index=False)"
   ]
  },
  {
   "cell_type": "code",
   "execution_count": 28,
   "metadata": {},
   "outputs": [],
   "source": [
    "# Find the indices of the columns with values equal to 1 for each row\n",
    "column_indices = [np.where(row == 1)[0] for row in y_true]\n",
    "\n",
    "indexes=[]\n",
    "# Print the column indices for each row\n",
    "for i, indices in enumerate(column_indices):\n",
    "    indexes.append(indices)"
   ]
  },
  {
   "cell_type": "code",
   "execution_count": 29,
   "metadata": {},
   "outputs": [],
   "source": [
    "# create empty lists to store the recommended drugs, patient ids, and visit ids\n",
    "true_drug = []\n",
    "patient_ids = []\n",
    "visit_ids = []\n",
    "\n",
    "\n",
    "# get the list of all drugs in the dataset\n",
    "list_drugs = mimic3sample.get_all_tokens('drugs')\n",
    "\n",
    "# iterate over the top indexes for each sample in test_ds\n",
    "for sample, top in zip(test_ds, indexes):\n",
    "    \n",
    "    # append the patient id and visit id to their respective lists\n",
    "    patient_ids.append(sample['patient_id'])\n",
    "    visit_ids.append(sample['visit_id'])\n",
    "    \n",
    "    # create an empty list to store the recommended drugs for this sample\n",
    "    sample_true_drug = []\n",
    "    \n",
    "    # iterate over the top indexes for this sample\n",
    "    for i in top:\n",
    "        \n",
    "        # append the drug at the i-th index to the recommended drugs list for this sample\n",
    "        sample_true_drug.append(list_drugs[i])\n",
    "    \n",
    "    # append the recommended drugs for this sample to the recommended drugs list\n",
    "    true_drug.append(sample_true_drug)\n",
    "\n",
    "# create a dataframe with the patient ids, visit ids, and recommended drugs\n",
    "df_true_drug = pd.DataFrame({'patient_id': patient_ids, 'visit_id': visit_ids, 'true_drug': true_drug})\n",
    "df_true_drug.to_csv('data/true_drug.csv', index=False)"
   ]
  },
  {
   "cell_type": "code",
   "execution_count": 36,
   "metadata": {},
   "outputs": [
    {
     "name": "stdout",
     "output_type": "stream",
     "text": [
      "A02B: DRUGS FOR PEPTIC ULCER AND GASTRO-OESOPHAGEAL REFLUX DISEASE (GORD)\n",
      "A06A: DRUGS FOR CONSTIPATION\n",
      "A12B: POTASSIUM SUPPLEMENTS\n",
      "A12C: OTHER MINERAL SUPPLEMENTS in ATC\n",
      "B01A: ANTITHROMBOTIC AGENTS\n",
      "B05X: I.V. SOLUTION ADDITIVES\n",
      "C03C: HIGH-CEILING DIURETICS\n",
      "C07A: BETA BLOCKING AGENTS\n",
      "N02A: OPIOID ANALGESICS\n",
      "N02B: OTHER ANALGESICS AND ANTIPYRETICS in ATC\n",
      "V04C: OTHER DIAGNOSTIC AGENTS in ATC\n",
      "V06D: OTHER NUTRIENTS in ATC\n"
     ]
    }
   ],
   "source": [
    "from pyhealth.medcode import InnerMap\n",
    "\n",
    "# initialize an InnerMap\n",
    "atc = InnerMap.load(\"ATC\")\n",
    "\n",
    "# select a patient from df_rec_drug\n",
    "patient_id = 25111\n",
    "visit_id = 147012\n",
    "patient_df = df_rec_drug[df_rec_drug['patient_id'].astype(int)==patient_id]\n",
    "patient_df = patient_df[patient_df['visit_id'].astype(int)==visit_id]\n",
    "\n",
    "# iterate over the recommended drugs for the selected patient\n",
    "for drugs in patient_df['rec_drug']:\n",
    "    # lookup the ATC code for each drug and print it\n",
    "    for drug in drugs:\n",
    "        print(f\"{drug}: {atc.lookup(drug)}\")"
   ]
  }
 ],
 "metadata": {
  "kernelspec": {
   "display_name": "proj_venv",
   "language": "python",
   "name": "python3"
  },
  "language_info": {
   "codemirror_mode": {
    "name": "ipython",
    "version": 3
   },
   "file_extension": ".py",
   "mimetype": "text/x-python",
   "name": "python",
   "nbconvert_exporter": "python",
   "pygments_lexer": "ipython3",
   "version": "3.9.10"
  }
 },
 "nbformat": 4,
 "nbformat_minor": 2
}
