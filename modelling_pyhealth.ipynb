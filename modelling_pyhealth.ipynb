{
 "cells": [
  {
   "cell_type": "markdown",
   "metadata": {},
   "source": [
    "# Modelling with PyHealth (using NOTEEVENTS_ICD)"
   ]
  },
  {
   "cell_type": "markdown",
   "metadata": {},
   "source": [
    "## Libraries"
   ]
  },
  {
   "cell_type": "code",
   "execution_count": 1,
   "metadata": {},
   "outputs": [],
   "source": [
    "import pandas as pd\n",
    "import numpy as np"
   ]
  },
  {
   "cell_type": "code",
   "execution_count": null,
   "metadata": {},
   "outputs": [],
   "source": [
    "%pip install torch==2.1.0"
   ]
  },
  {
   "cell_type": "code",
   "execution_count": 1,
   "metadata": {},
   "outputs": [
    {
     "name": "stdout",
     "output_type": "stream",
     "text": [
      "2.1.0+cpu\n"
     ]
    }
   ],
   "source": [
    "import torch\n",
    "print(torch.__version__)\n",
    "\n",
    "# Install required packages.\n",
    "import os\n",
    "os.environ['TORCH'] = torch.__version__"
   ]
  },
  {
   "cell_type": "code",
   "execution_count": 13,
   "metadata": {},
   "outputs": [
    {
     "name": "stdout",
     "output_type": "stream",
     "text": [
      "Looking in links: https://data.pyg.org/whl/torch-${TORCH}.html\n",
      "Requirement already satisfied: torch-scatter in c:\\users\\giuse\\desktop\\msc-thesis-project\\proj_venv\\lib\\site-packages (2.1.2+pt21cpu)\n",
      "Note: you may need to restart the kernel to use updated packages.\n",
      "Looking in links: https://data.pyg.org/whl/torch-${TORCH}.html\n",
      "Requirement already satisfied: torch-sparse in c:\\users\\giuse\\desktop\\msc-thesis-project\\proj_venv\\lib\\site-packages (0.6.18+pt21cpu)\n",
      "Requirement already satisfied: scipy in c:\\users\\giuse\\desktop\\msc-thesis-project\\proj_venv\\lib\\site-packages (from torch-sparse) (1.9.3)\n",
      "Requirement already satisfied: numpy<1.26.0,>=1.18.5 in c:\\users\\giuse\\desktop\\msc-thesis-project\\proj_venv\\lib\\site-packages (from scipy->torch-sparse) (1.25.2)\n",
      "Note: you may need to restart the kernel to use updated packages.\n"
     ]
    }
   ],
   "source": [
    "%pip install torch-scatter -f https://data.pyg.org/whl/torch-${TORCH}.html\n",
    "%pip install torch-sparse -f https://data.pyg.org/whl/torch-${TORCH}.html"
   ]
  },
  {
   "cell_type": "code",
   "execution_count": null,
   "metadata": {},
   "outputs": [],
   "source": [
    "%pip install torch-geometric"
   ]
  },
  {
   "cell_type": "code",
   "execution_count": 2,
   "metadata": {},
   "outputs": [],
   "source": [
    "# carica i dati dai file csv\n",
    "noteevents = pd.read_csv('data/NOTEEVENTS_ICD.csv')\n",
    "patients = pd.read_csv('data/PATIENTS.csv')\n",
    "\n",
    "# seleziona i pazienti presenti in NOTEEVENTS_ICD\n",
    "selected_patients = patients[patients['SUBJECT_ID'].isin(noteevents['SUBJECT_ID'].unique())]\n",
    "\n",
    "# salva il risultato in un file csv\n",
    "selected_patients.to_csv('data/PATIENTS_SEL.csv', index=False)\n"
   ]
  },
  {
   "cell_type": "markdown",
   "metadata": {},
   "source": [
    "## Loading MIMIC-III into PyHealth"
   ]
  },
  {
   "cell_type": "code",
   "execution_count": 1,
   "metadata": {},
   "outputs": [],
   "source": [
    "from pyhealth.datasets import MIMIC3Dataset\n",
    "\n",
    "dataset = MIMIC3Dataset(\n",
    "    root='data/',\n",
    "    tables=[\"DIAGNOSES_ICD\",\"PROCEDURES_ICD\",\"PRESCRIPTIONS\",\"NOTEEVENTS_ICD\"],\n",
    "    code_mapping={\"NDC\": (\"ATC\", {\"target_kwargs\": {\"level\": 4}})},\n",
    "    # refresh_cache=True,\n",
    "    # dev=True\n",
    ")"
   ]
  },
  {
   "cell_type": "code",
   "execution_count": 2,
   "metadata": {},
   "outputs": [
    {
     "name": "stdout",
     "output_type": "stream",
     "text": [
      "\n",
      "Statistics of base dataset (dev=False):\n",
      "\t- Dataset: MIMIC3Dataset\n",
      "\t- Number of patients: 1560\n",
      "\t- Number of visits: 5014\n",
      "\t- Number of visits per patient: 3.2141\n",
      "\t- Number of events per visit in DIAGNOSES_ICD: 11.5987\n",
      "\t- Number of events per visit in PROCEDURES_ICD: 3.8771\n",
      "\t- Number of events per visit in PRESCRIPTIONS: 44.3879\n",
      "\t- Number of events per visit in NOTEEVENTS_ICD: 11.0782\n",
      "\n"
     ]
    },
    {
     "data": {
      "text/plain": [
       "'\\nStatistics of base dataset (dev=False):\\n\\t- Dataset: MIMIC3Dataset\\n\\t- Number of patients: 1560\\n\\t- Number of visits: 5014\\n\\t- Number of visits per patient: 3.2141\\n\\t- Number of events per visit in DIAGNOSES_ICD: 11.5987\\n\\t- Number of events per visit in PROCEDURES_ICD: 3.8771\\n\\t- Number of events per visit in PRESCRIPTIONS: 44.3879\\n\\t- Number of events per visit in NOTEEVENTS_ICD: 11.0782\\n'"
      ]
     },
     "execution_count": 2,
     "metadata": {},
     "output_type": "execute_result"
    }
   ],
   "source": [
    "dataset.stat()"
   ]
  },
  {
   "cell_type": "markdown",
   "metadata": {},
   "source": [
    "## Reading retrieved dataset"
   ]
  },
  {
   "cell_type": "code",
   "execution_count": 3,
   "metadata": {},
   "outputs": [
    {
     "name": "stdout",
     "output_type": "stream",
     "text": [
      "['10055', '10071', '10077', '10144', '10160', '10174', '10197', '10207', '10254', '10285', '1029', '10302', '10304', '10310', '10328', '10342', '10369', '10414', '10434', '10442', '10478', '10487', '10488', '1050', '10594', '10612', '10618', '10634', '10635', '10637', '10660', '10679', '10687', '1069', '10742', '10774', '10820', '10832', '10859', '10884', '109', '10906', '10932', '10939', '10973', '10976', '10977', '11043', '11102', '11108', '11135', '11165', '11171', '112', '11205', '1122', '11234', '11236', '11242', '11255', '11318', '11342', '11346', '11421', '11442', '11464', '11479', '11588', '11590', '11604', '11623', '11634', '11716', '11763', '11764', '11778', '11818', '11825', '11830', '11838', '11861', '1187', '11876', '11885', '11892', '11897', '11932', '1197', '11970', '12039', '12076', '12110', '12113', '12125', '12149', '12198', '12203', '12217', '1223', '12281', '12344', '124', '12411', '12446', '12467', '12501', '12515', '12521', '12566', '12567', '12690', '12706', '12712', '12720', '12769', '12788', '12798', '12799', '12819', '12829', '12833', '12834', '12849', '12856', '12902', '12945', '12954', '12982', '1301', '13033', '13055', '13074', '13192', '13212', '13223', '13259', '13293', '13305', '13308', '1332', '13329', '13355', '13384', '1339', '13403', '13476', '13508', '13552', '13599', '13627', '13641', '13653', '13686', '13705', '13733', '13739', '13740', '13744', '13767', '138', '13816', '13837', '1386', '13864', '13868', '13882', '13902', '13920', '13936', '13948', '13960', '13965', '14002', '1401', '14031', '14061', '14079', '14085', '14094', '14154', '1419', '1422', '14241', '14310', '14330', '14363', '1441', '14412', '14427', '14507', '14532', '14566', '14669', '14701', '14716', '1474', '14757', '14761', '1478', '14806', '14828', '14836', '14841', '1488', '14885', '1493', '14957', '15006', '15017', '15037', '15041', '15057', '15128', '1516', '1517', '15208', '15209', '15226', '15232', '15262', '1531', '15355', '15370', '15374', '15380', '15387', '15432', '1544', '15450', '15453', '15472', '15482', '15508', '15547', '15573', '15628', '15636', '15645', '15654', '15672', '1569', '15749', '15752', '15754', '1578', '15783', '15784', '15850', '15852', '15881', '1590', '15916', '15919', '15936', '1594', '15996', '16013', '16025', '16053', '1610', '16108', '1611', '16122', '16146', '16147', '16178', '16186', '16194', '16200', '16210', '16236', '16256', '16275', '16279', '16286', '16336', '1636', '16375', '16382', '16412', '16455', '16490', '16531', '16549', '16551', '16592', '16618', '16621', '16655', '16666', '16674', '16696', '16698', '16709', '16727', '16740', '16745', '16774', '16776', '16802', '16803', '16832', '16839', '16860', '16881', '16884', '16917', '16988', '16989', '16992', '16994', '16997', '17021', '17072', '17083', '17094', '17098', '17108', '17125', '17139', '17143', '17153', '17206', '17212', '17236', '17245', '17367', '17384', '17421', '17472', '17488', '17505', '17513', '17530', '17546', '17548', '17581', '17589', '17617', '17655', '17659', '17680', '17702', '17712', '17722', '17735', '17767', '1778', '17780', '17782', '17789', '17820', '17837', '17843', '17858', '1787', '17879', '17886', '17891', '17894', '17899', '17904', '17906', '17949', '17997', '18', '18055', '18094', '18105', '18126', '18144', '18200', '18353', '18376', '18400', '18408', '18418', '18430', '18459', '18490', '18497', '18572', '18633', '18648', '18657', '18681', '18689', '18704', '18739', '18771', '188', '18846', '18908', '18910', '18924', '18928', '18942', '18946', '18971', '18982', '18983', '1900', '19029', '19039', '19053', '19059', '19060', '19069', '19079', '19087', '19102', '19117', '19142', '19155', '19191', '19213', '19246', '19270', '1931', '19310', '19344', '1935', '19354', '19356', '1936', '19370', '19371', '19418', '1944', '19469', '19475', '19493', '19512', '19547', '19568', '19583', '19620', '19627', '19746', '19754', '19771', '19793', '19798', '19805', '19817', '19823', '1985', '19855', '19859', '1991', '1995', '19960', '19981', '1999', '20007', '20011', '20036', '20061', '20064', '20066', '20075', '20086', '20124', '20144', '20162', '2018', '20190', '20204', '20217', '20226', '20248', '20296', '20312', '20324', '20339', '2034', '20368', '20383', '20389', '20410', '20423', '20473', '20479', '2049', '20546', '20577', '20624', '20643', '20644', '20678', '20745', '2075', '20796', '2081', '2085', '2093', '20931', '20940', '20944', '20947', '20957', '20979', '20988', '21015', '21025', '21072', '21090', '21099', '21108', '21144', '21195', '21220', '21223', '21280', '21293', '21318', '21321', '2136', '21362', '21401', '21413', '21431', '21447', '21448', '21452', '21453', '21454', '21458', '21460', '21483', '21510', '21513', '21514', '21518', '21574', '2159', '21645', '21651', '21666', '21673', '21693', '21700', '21706', '21734', '21845', '2185', '21860', '21864', '2187', '21881', '21901', '21910', '21951', '21965', '21975', '21990', '22010', '22017', '22083', '22119', '22126', '2215', '22180', '22200', '22225', '2223', '2224', '22277', '22285', '22291', '22426', '22478', '22490', '22505', '22525', '22579', '22587', '22624', '2264', '22644', '2265', '22656', '22712', '22732', '22754', '22763', '22766', '22780', '22782', '22792', '22795', '22800', '22804', '22806', '22835', '22851', '22856', '22910', '22914', '22921', '22938', '22946', '22963', '22987', '23014', '23036', '23039', '23049', '23097', '23100', '23108', '23140', '23150', '23161', '23197', '23209', '23219', '2323', '23298', '23306', '23318', '23339', '23364', '23365', '23380', '23397', '23475', '23477', '23478', '23483', '2349', '23517', '23518', '23568', '23577', '23637', '23641', '2365', '23657', '23680', '23687', '23694', '23706', '23707', '23711', '23725', '23734', '23735', '23761', '23872', '23882', '23933', '23943', '23946', '23990', '24029', '24094', '24099', '24111', '24127', '24134', '24141', '24198', '24276', '24344', '24444', '24465', '24486', '2452', '24562', '24571', '24573', '24580', '2460', '24631', '24672', '24674', '24682', '24683', '24685', '24712', '24714', '24743', '24794', '24806', '24807', '24824', '24850', '24858', '24889', '24902', '24958', '24975', '24977', '24995', '25001', '25009', '25049', '25060', '25069', '25072', '25073', '25111', '25115', '25117', '2512', '25135', '25225', '25229', '25235', '25251', '25295', '25302', '25318', '25321', '25323', '25332', '25338', '25354', '25384', '25396', '25400', '25403', '25452', '2549', '2550', '25512', '25515', '25579', '25640', '25655', '25699', '25708', '25722', '25764', '25768', '25780', '25790', '25814', '25876', '25882', '25889', '2589', '25891', '2590', '25963', '25975', '26027', '26036', '26043', '26067', '26094', '26105', '26118', '26124', '26134', '26139', '26161', '26168', '26200', '26208', '26212', '26214', '2622', '26224', '26234', '26261', '26274', '26277', '26313', '26317', '26324', '26370', '26372', '26384', '26398', '26405', '26421', '26453', '26455', '26474', '26479', '26515', '26519', '26579', '2658', '26604', '26673', '26709', '26724', '26845', '26868', '26889', '26928', '26935', '26948', '26956', '2710', '27102', '27106', '27195', '27210', '27242', '27247', '2731', '27355', '27362', '27398', '27449', '27462', '27486', '27517', '27547', '27603', '27643', '27657', '27667', '27690', '27710', '27714', '27723', '27745', '2775', '27750', '27793', '27799', '27800', '27808', '2784', '27872', '2791', '27910', '27931', '27960', '2799', '28043', '28050', '28055', '28057', '28104', '28180', '28190', '28240', '28264', '28281', '283', '28365', '28394', '28423', '28424', '28531', '28561', '28577', '28601', '28651', '28657', '28671', '28716', '2872', '28735', '28805', '2890', '28944', '28982', '28999', '29035', '29055', '29092', '29137', '29334', '29350', '29352', '29360', '29372', '2939', '29398', '29426', '29478', '29483', '29576', '29633', '29660', '29666', '2973', '2975', '29859', '29862', '29872', '29946', '29965', '29967', '2997', '29972', '30183', '30217', '30221', '30239', '30243', '30277', '30296', '30322', '3036', '30412', '30457', '30507', '30508', '3052', '30530', '30533', '30548', '30551', '30552', '30564', '30590', '30616', '30638', '30660', '30671', '30678', '30682', '30696', '3070', '30737', '3078', '30786', '30855', '30887', '30917', '3100', '3115', '31170', '31185', '31205', '31312', '3133', '31332', '31340', '31376', '31385', '3154', '31640', '31719', '3181', '31966', '31996', '32052', '32082', '32161', '3225', '323', '32348', '32453', '32466', '32605', '3266', '32664', '32678', '32707', '32743', '32790', '32791', '3280', '3306', '3322', '3362', '3365', '339', '3393', '3417', '3436', '3437', '3460', '3490', '3496', '3506', '353', '3543', '3566', '3600', '3632', '3637', '3674', '3683', '3734', '3860', '3876', '3889', '3917', '3929', '394', '3974', '3977', '4004', '40464', '4059', '4063', '40697', '4096', '41034', '4113', '4126', '4138', '41603', '4166', '41702', '41768', '4187', '41966', '42180', '423', '42351', '4240', '4245', '4267', '4317', '4329', '43367', '434', '4367', '43673', '43991', '4410', '4448', '44521', '4454', '4458', '44602', '44751', '4495', '45180', '452', '4520', '4521', '45232', '4527', '45321', '45437', '45542', '4555', '45655', '4566', '4571', '4587', '46028', '4604', '46057', '4609', '46105', '46127', '46189', '46228', '4631', '46487', '4655', '46566', '46569', '46586', '4688', '47035', '47045', '47137', '4714', '4765', '4766', '47758', '47827', '4784', '4787', '47941', '4796', '48025', '48123', '4816', '4825', '4827', '48372', '48414', '48580', '48697', '4893', '4929', '4954', '49683', '5015', '5031', '5032', '5042', '5047', '5048', '5049', '5050', '50532', '5060', '50623', '5074', '5077', '50817', '50969', '51337', '51349', '5142', '5146', '51493', '515', '5158', '5171', '518', '5183', '52068', '522', '52263', '5242', '52482', '525', '52592', '52593', '5278', '52985', '53098', '53283', '53404', '5343', '53437', '5347', '5370', '5382', '5389', '5397', '5424', '54502', '5456', '54610', '5466', '5476', '54826', '54935', '5494', '5525', '55529', '5598', '55992', '5604', '5611', '5617', '56174', '5619', '56287', '5645', '56552', '5662', '5665', '5672', '56861', '5689', '57001', '5709', '57105', '5712', '5727', '57299', '5766', '5783', '5794', '5806', '5816', '58163', '5830', '58308', '58377', '5865', '5879', '58825', '58965', '5901', '59049', '59158', '5954', '5970', '5978', '59797', '59845', '59848', '59864', '59875', '59924', '59948', '60020', '6008', '60142', '60181', '60668', '6069', '60842', '6085', '60893', '61', '61198', '6124', '61259', '61630', '61659', '61809', '6195', '6212', '62186', '62261', '6272', '62813', '629', '6300', '63048', '6321', '63292', '634', '6349', '6358', '63637', '6365', '63660', '638', '63938', '6428', '6437', '6440', '6449', '6466', '64906', '64919', '64988', '65082', '65190', '65284', '6534', '65364', '65431', '65454', '65481', '6571', '65779', '65954', '65982', '65994', '6603', '6604', '66158', '6621', '6636', '6638', '665', '66637', '6685', '67017', '67070', '6710', '6711', '6718', '67426', '6749', '67683', '679', '67910', '68184', '68218', '6824', '6828', '68301', '6843', '68453', '6871', '6894', '6917', '69251', '69359', '69398', '6953', '6954', '6973', '69855', '70004', '7009', '7029', '703', '70386', '70494', '7066', '70807', '71192', '7138', '7142', '7169', '7170', '71878', '7188', '7192', '71921', '72083', '72147', '7223', '7232', '7234', '72447', '725', '72707', '7275', '72847', '72940', '73206', '7327', '73370', '7344', '73454', '73509', '7357', '7359', '73770', '7391', '74046', '7413', '74319', '74444', '747', '7477', '7482', '7504', '7514', '75249', '7529', '7552', '7562', '75668', '7589', '7614', '76203', '7621', '7629', '76459', '76646', '7666', '7668', '7681', '7702', '77037', '77067', '7718', '77220', '7726', '773', '77341', '77413', '7752', '7784', '77850', '7798', '7799', '78007', '7809', '7815', '78342', '78419', '78536', '7859', '78641', '787', '78814', '7908', '79100', '7955', '7958', '79673', '79977', '80144', '80163', '80369', '8060', '80791', '808', '8081', '80956', '8109', '81114', '8120', '81209', '81464', '81529', '81543', '8163', '81662', '81778', '82104', '8222', '8231', '8238', '8251', '8258', '8273', '82960', '8309', '83151', '8321', '83210', '8369', '8432', '84350', '8445', '84465', '8447', '8450', '8452', '84595', '8466', '84669', '8467', '8471', '8472', '84745', '849', '8493', '8501', '8505', '8507', '85079', '852', '85350', '8543', '8556', '8564', '8565', '85723', '85740', '85870', '8597', '85999', '86018', '86146', '862', '863', '8665', '86717', '87160', '8734', '8789', '87926', '87978', '8799', '8801', '88206', '8851', '8869', '88711', '88782', '88857', '88882', '8896', '8917', '89180', '89290', '89446', '8947', '89840', '8989', '8992', '9012', '90369', '904', '9061', '90889', '9090', '90902', '9102', '91103', '91295', '9177', '91827', '92066', '9216', '9233', '9248', '9253', '9256', '92895', '9304', '93229', '9324', '93277', '93336', '9362', '9363', '93632', '9395', '9397', '93996', '9402', '94049', '9412', '94264', '94312', '9453', '948', '9484', '9486', '949', '94962', '9505', '95122', '9517', '9518', '952', '95238', '9540', '9544', '95447', '9555', '95637', '9571', '95725', '959', '96010', '96212', '96442', '9656', '96759', '96791', '96950', '9714', '9725', '97307', '97353', '9736', '97443', '97488', '97529', '9753', '97543', '97917', '9795', '97984', '98024', '9818', '98518', '9862', '98744', '98813', '9882', '9887', '9889', '9900', '99031', '9923', '99299', '9930', '99322', '9933', '99384', '99408', '99503', '9962', '9970', '9973', '9976', '9982']\n",
      "1560\n"
     ]
    }
   ],
   "source": [
    "# get patient dictionary\n",
    "patient_dict = dataset.patients\n",
    "print(list(patient_dict.keys()))\n",
    "print(len(patient_dict))"
   ]
  },
  {
   "cell_type": "code",
   "execution_count": 4,
   "metadata": {},
   "outputs": [
    {
     "name": "stdout",
     "output_type": "stream",
     "text": [
      "OrderedDict([('124383', Visit 124383 from patient 4096 with 86 events from tables ['DIAGNOSES_ICD', 'PROCEDURES_ICD', 'PRESCRIPTIONS', 'NOTEEVENTS_ICD']), ('161677', Visit 161677 from patient 4096 with 109 events from tables ['DIAGNOSES_ICD', 'PROCEDURES_ICD', 'PRESCRIPTIONS', 'NOTEEVENTS_ICD'])])\n"
     ]
    }
   ],
   "source": [
    "# get the \"10\" patient\n",
    "patient = patient_dict[\"4096\"]\n",
    "patient.gender, patient.birth_datetime, patient.ethnicity, patient.death_datetime, patient.visits\n",
    "print(patient.visits)"
   ]
  },
  {
   "cell_type": "code",
   "execution_count": 5,
   "metadata": {},
   "outputs": [
    {
     "name": "stdout",
     "output_type": "stream",
     "text": [
      "['124383', '161677']\n"
     ]
    }
   ],
   "source": [
    "# get the visit list of this patient\n",
    "visit_dict = patient.visits\n",
    "print (list(visit_dict.keys()))"
   ]
  },
  {
   "cell_type": "code",
   "execution_count": 6,
   "metadata": {},
   "outputs": [
    {
     "data": {
      "text/plain": [
       "(datetime.datetime(2170, 7, 20, 18, 9),\n",
       " ['DIAGNOSES_ICD', 'PROCEDURES_ICD', 'PRESCRIPTIONS', 'NOTEEVENTS_ICD'],\n",
       " 86,\n",
       " {'DIAGNOSES_ICD': [Event with ICD9CM code 0389 from table DIAGNOSES_ICD,\n",
       "   Event with ICD9CM code 5849 from table DIAGNOSES_ICD,\n",
       "   Event with ICD9CM code 496 from table DIAGNOSES_ICD,\n",
       "   Event with ICD9CM code 4280 from table DIAGNOSES_ICD,\n",
       "   Event with ICD9CM code 42731 from table DIAGNOSES_ICD,\n",
       "   Event with ICD9CM code 566 from table DIAGNOSES_ICD,\n",
       "   Event with ICD9CM code 99592 from table DIAGNOSES_ICD,\n",
       "   Event with ICD9CM code 4589 from table DIAGNOSES_ICD,\n",
       "   Event with ICD9CM code 25080 from table DIAGNOSES_ICD,\n",
       "   Event with ICD9CM code 4019 from table DIAGNOSES_ICD,\n",
       "   Event with ICD9CM code 2859 from table DIAGNOSES_ICD,\n",
       "   Event with ICD9CM code 78009 from table DIAGNOSES_ICD,\n",
       "   Event with ICD9CM code 4439 from table DIAGNOSES_ICD,\n",
       "   Event with ICD9CM code 5939 from table DIAGNOSES_ICD,\n",
       "   Event with ICD9CM code 71590 from table DIAGNOSES_ICD,\n",
       "   Event with ICD9CM code V1259 from table DIAGNOSES_ICD,\n",
       "   Event with ICD9CM code V1251 from table DIAGNOSES_ICD],\n",
       "  'PROCEDURES_ICD': [Event with ICD9PROC code 3893 from table PROCEDURES_ICD,\n",
       "   Event with ICD9PROC code 9609 from table PROCEDURES_ICD,\n",
       "   Event with ICD9PROC code 9904 from table PROCEDURES_ICD,\n",
       "   Event with ICD9PROC code 9390 from table PROCEDURES_ICD,\n",
       "   Event with ICD9PROC code 3893 from table PROCEDURES_ICD],\n",
       "  'PRESCRIPTIONS': [Event with ATC code N03AX from table PRESCRIPTIONS,\n",
       "   Event with ATC code A02BC from table PRESCRIPTIONS,\n",
       "   Event with ATC code C09AA from table PRESCRIPTIONS,\n",
       "   Event with ATC code H01AA from table PRESCRIPTIONS,\n",
       "   Event with ATC code J01MA from table PRESCRIPTIONS,\n",
       "   Event with ATC code N02BA from table PRESCRIPTIONS,\n",
       "   Event with ATC code R03AC from table PRESCRIPTIONS,\n",
       "   Event with ATC code C10AA from table PRESCRIPTIONS,\n",
       "   Event with ATC code B05XA from table PRESCRIPTIONS,\n",
       "   Event with ATC code N03AX from table PRESCRIPTIONS,\n",
       "   Event with ATC code A12AA from table PRESCRIPTIONS,\n",
       "   Event with ATC code C01CA from table PRESCRIPTIONS,\n",
       "   Event with ATC code V06DC from table PRESCRIPTIONS,\n",
       "   Event with ATC code J01XD from table PRESCRIPTIONS,\n",
       "   Event with ATC code N02AA from table PRESCRIPTIONS,\n",
       "   Event with ATC code N02BA from table PRESCRIPTIONS,\n",
       "   Event with ATC code B01AB from table PRESCRIPTIONS,\n",
       "   Event with ATC code R03BB from table PRESCRIPTIONS,\n",
       "   Event with ATC code J01XA from table PRESCRIPTIONS,\n",
       "   Event with ATC code C05AD from table PRESCRIPTIONS,\n",
       "   Event with ATC code D04AB from table PRESCRIPTIONS,\n",
       "   Event with ATC code B05XA from table PRESCRIPTIONS,\n",
       "   Event with ATC code N06AX from table PRESCRIPTIONS,\n",
       "   Event with ATC code N05AH from table PRESCRIPTIONS,\n",
       "   Event with ATC code N05AH from table PRESCRIPTIONS,\n",
       "   Event with ATC code C07AB from table PRESCRIPTIONS,\n",
       "   Event with ATC code N02BE from table PRESCRIPTIONS,\n",
       "   Event with ATC code B01AB from table PRESCRIPTIONS,\n",
       "   Event with ATC code C03CA from table PRESCRIPTIONS,\n",
       "   Event with ATC code J01XA from table PRESCRIPTIONS,\n",
       "   Event with ATC code P01AB from table PRESCRIPTIONS,\n",
       "   Event with ATC code C01DA from table PRESCRIPTIONS,\n",
       "   Event with ATC code C09AA from table PRESCRIPTIONS,\n",
       "   Event with ATC code J01MA from table PRESCRIPTIONS,\n",
       "   Event with ATC code N05AD from table PRESCRIPTIONS,\n",
       "   Event with ATC code A10AD from table PRESCRIPTIONS,\n",
       "   Event with ATC code N02AJ from table PRESCRIPTIONS,\n",
       "   Event with ATC code A02AA from table PRESCRIPTIONS,\n",
       "   Event with ATC code A06AD from table PRESCRIPTIONS,\n",
       "   Event with ATC code A12CC from table PRESCRIPTIONS,\n",
       "   Event with ATC code A12BA from table PRESCRIPTIONS],\n",
       "  'NOTEEVENTS_ICD': [Event with ICD9CM code V419 from table NOTEEVENTS_ICD,\n",
       "   Event with ICD9CM code 4019 from table NOTEEVENTS_ICD,\n",
       "   Event with ICD9CM code 4439 from table NOTEEVENTS_ICD,\n",
       "   Event with ICD9CM code 43491 from table NOTEEVENTS_ICD,\n",
       "   Event with ICD9CM code 78060 from table NOTEEVENTS_ICD,\n",
       "   Event with ICD9CM code 51189 from table NOTEEVENTS_ICD,\n",
       "   Event with ICD9CM code 7840 from table NOTEEVENTS_ICD,\n",
       "   Event with ICD9CM code 78650 from table NOTEEVENTS_ICD,\n",
       "   Event with ICD9CM code 78609 from table NOTEEVENTS_ICD,\n",
       "   Event with ICD9CM code 78605 from table NOTEEVENTS_ICD,\n",
       "   Event with ICD9CM code 78096 from table NOTEEVENTS_ICD,\n",
       "   Event with ICD9CM code 2724 from table NOTEEVENTS_ICD,\n",
       "   Event with ICD9CM code 53081 from table NOTEEVENTS_ICD,\n",
       "   Event with ICD9CM code 71590 from table NOTEEVENTS_ICD,\n",
       "   Event with ICD9CM code 5770 from table NOTEEVENTS_ICD,\n",
       "   Event with ICD9CM code 496 from table NOTEEVENTS_ICD,\n",
       "   Event with ICD9CM code 27800 from table NOTEEVENTS_ICD,\n",
       "   Event with ICD9CM code 7823 from table NOTEEVENTS_ICD,\n",
       "   Event with ICD9CM code 42761 from table NOTEEVENTS_ICD,\n",
       "   Event with ICD9CM code 2512 from table NOTEEVENTS_ICD,\n",
       "   Event with ICD9CM code 5849 from table NOTEEVENTS_ICD,\n",
       "   Event with ICD9CM code 78791 from table NOTEEVENTS_ICD,\n",
       "   Event with ICD9CM code 3301 from table NOTEEVENTS_ICD]})"
      ]
     },
     "execution_count": 6,
     "metadata": {},
     "output_type": "execute_result"
    }
   ],
   "source": [
    "# get the first visit\n",
    "visit = visit_dict['124383']\n",
    "visit.encounter_time, visit.available_tables, visit.num_events, visit.event_list_dict"
   ]
  },
  {
   "cell_type": "code",
   "execution_count": 7,
   "metadata": {},
   "outputs": [
    {
     "data": {
      "text/plain": [
       "['V419',\n",
       " '4019',\n",
       " '4439',\n",
       " '43491',\n",
       " '78060',\n",
       " '51189',\n",
       " '7840',\n",
       " '78650',\n",
       " '78609',\n",
       " '78605',\n",
       " '78096',\n",
       " '2724',\n",
       " '53081',\n",
       " '71590',\n",
       " '5770',\n",
       " '496',\n",
       " '27800',\n",
       " '7823',\n",
       " '42761',\n",
       " '2512',\n",
       " '5849',\n",
       " '78791',\n",
       " '3301']"
      ]
     },
     "execution_count": 7,
     "metadata": {},
     "output_type": "execute_result"
    }
   ],
   "source": [
    "visit.get_code_list(table='NOTEEVENTS_ICD')"
   ]
  },
  {
   "cell_type": "markdown",
   "metadata": {},
   "source": [
    "## Modelling data for task of Drug Recommendation"
   ]
  },
  {
   "cell_type": "code",
   "execution_count": 3,
   "metadata": {},
   "outputs": [
    {
     "name": "stderr",
     "output_type": "stream",
     "text": [
      "Generating samples for medication_recommendation_mimic3_fn: 100%|██████████| 1560/1560 [00:00<00:00, 12067.25it/s]\n"
     ]
    }
   ],
   "source": [
    "from pyhealth.tasks import medication_recommendation_mimic3_fn\n",
    "from pyhealth.datasets import split_by_patient, get_dataloader\n",
    "\n",
    "mimic3sample = dataset.set_task(task_fn=medication_recommendation_mimic3_fn) # diagnosis prediction or \n",
    "                                                                                # medication recommendation\n",
    "train_ds, val_ds, test_ds = split_by_patient(mimic3sample, [0.8, 0.1, 0.1])"
   ]
  },
  {
   "cell_type": "code",
   "execution_count": 4,
   "metadata": {},
   "outputs": [
    {
     "name": "stdout",
     "output_type": "stream",
     "text": [
      "Statistics of sample dataset:\n",
      "\t- Dataset: MIMIC3Dataset\n",
      "\t- Task: medication_recommendation_mimic3_fn\n",
      "\t- Number of samples: 2012\n",
      "\t- Number of patients: 906\n",
      "\t- Number of visits: 2012\n",
      "\t- Number of visits per patient: 2.2208\n",
      "\t- diagnosis:\n",
      "\t\t- Number of diagnosis per sample: 18.8827\n",
      "\t\t- Number of unique diagnosis: 2099\n",
      "\t\t- Distribution of diagnosis (Top-10): [('4019', 1225), ('4280', 1021), ('42731', 783), ('41401', 767), ('5849', 594), ('25000', 537), ('53081', 458), ('5990', 393), ('40391', 389), ('2724', 386)]\n",
      "\t- procedures:\n",
      "\t\t- Number of procedures per sample: 7.0055\n",
      "\t\t- Number of unique procedures: 733\n",
      "\t\t- Distribution of procedures (Top-10): [('3893', 1047), ('9904', 776), ('9604', 529), ('3995', 505), ('966', 484), ('9671', 477), ('3891', 295), ('9672', 292), ('3961', 267), ('9915', 257)]\n",
      "\t- medications:\n",
      "\t\t- Number of medications per sample: 30.2271\n",
      "\t\t- Number of unique medications: 406\n",
      "\t\t- Distribution of medications (Top-10): [('B05XA', 1792), ('B01AB', 1561), ('A02BC', 1494), ('N02BE', 1465), ('V06DC', 1383), ('N02AA', 1327), ('A06AA', 1243), ('A06AD', 1182), ('A12CC', 1179), ('C07AB', 1156)]\n",
      "\t- drugs_hist:\n",
      "\t\t- Number of drugs_hist per sample: 21.2758\n",
      "\t\t- Number of unique drugs_hist: 384\n",
      "\t\t- Distribution of drugs_hist (Top-10): [('B05XA', 1287), ('B01AB', 1132), ('A02BC', 1132), ('N02BE', 1006), ('V06DC', 999), ('N02AA', 945), ('A06AA', 831), ('A12CC', 829), ('C07AB', 819), ('A06AD', 802)]\n",
      "\t- symptoms:\n",
      "\t\t- Number of symptoms per sample: 27.8588\n",
      "\t\t- Number of unique symptoms: 714\n",
      "\t\t- Distribution of symptoms (Top-10): [('V419', 3386), ('4019', 2372), ('7823', 2242), ('78060', 2124), ('78096', 2113), ('78650', 1390), ('78609', 1027), ('78605', 1020), ('4289', 1005), ('78900', 901)]\n"
     ]
    },
    {
     "data": {
      "text/plain": [
       "\"Statistics of sample dataset:\\n\\t- Dataset: MIMIC3Dataset\\n\\t- Task: medication_recommendation_mimic3_fn\\n\\t- Number of samples: 2012\\n\\t- Number of patients: 906\\n\\t- Number of visits: 2012\\n\\t- Number of visits per patient: 2.2208\\n\\t- diagnosis:\\n\\t\\t- Number of diagnosis per sample: 18.8827\\n\\t\\t- Number of unique diagnosis: 2099\\n\\t\\t- Distribution of diagnosis (Top-10): [('4019', 1225), ('4280', 1021), ('42731', 783), ('41401', 767), ('5849', 594), ('25000', 537), ('53081', 458), ('5990', 393), ('40391', 389), ('2724', 386)]\\n\\t- procedures:\\n\\t\\t- Number of procedures per sample: 7.0055\\n\\t\\t- Number of unique procedures: 733\\n\\t\\t- Distribution of procedures (Top-10): [('3893', 1047), ('9904', 776), ('9604', 529), ('3995', 505), ('966', 484), ('9671', 477), ('3891', 295), ('9672', 292), ('3961', 267), ('9915', 257)]\\n\\t- medications:\\n\\t\\t- Number of medications per sample: 30.2271\\n\\t\\t- Number of unique medications: 406\\n\\t\\t- Distribution of medications (Top-10): [('B05XA', 1792), ('B01AB', 1561), ('A02BC', 1494), ('N02BE', 1465), ('V06DC', 1383), ('N02AA', 1327), ('A06AA', 1243), ('A06AD', 1182), ('A12CC', 1179), ('C07AB', 1156)]\\n\\t- drugs_hist:\\n\\t\\t- Number of drugs_hist per sample: 21.2758\\n\\t\\t- Number of unique drugs_hist: 384\\n\\t\\t- Distribution of drugs_hist (Top-10): [('B05XA', 1287), ('B01AB', 1132), ('A02BC', 1132), ('N02BE', 1006), ('V06DC', 999), ('N02AA', 945), ('A06AA', 831), ('A12CC', 829), ('C07AB', 819), ('A06AD', 802)]\\n\\t- symptoms:\\n\\t\\t- Number of symptoms per sample: 27.8588\\n\\t\\t- Number of unique symptoms: 714\\n\\t\\t- Distribution of symptoms (Top-10): [('V419', 3386), ('4019', 2372), ('7823', 2242), ('78060', 2124), ('78096', 2113), ('78650', 1390), ('78609', 1027), ('78605', 1020), ('4289', 1005), ('78900', 901)]\""
      ]
     },
     "execution_count": 4,
     "metadata": {},
     "output_type": "execute_result"
    }
   ],
   "source": [
    "mimic3sample.stat()"
   ]
  },
  {
   "cell_type": "code",
   "execution_count": 5,
   "metadata": {},
   "outputs": [],
   "source": [
    "# create dataloaders (torch.data.DataLoader)\n",
    "train_loader = get_dataloader(train_ds, batch_size=32, shuffle=True)\n",
    "val_loader = get_dataloader(val_ds, batch_size=32, shuffle=False)\n",
    "test_loader = get_dataloader(test_ds, batch_size=32, shuffle=False)"
   ]
  },
  {
   "cell_type": "code",
   "execution_count": 6,
   "metadata": {},
   "outputs": [
    {
     "data": {
      "text/plain": [
       "(1588, 224, 200)"
      ]
     },
     "execution_count": 6,
     "metadata": {},
     "output_type": "execute_result"
    }
   ],
   "source": [
    "len(train_ds), len(val_ds), len(test_ds)"
   ]
  },
  {
   "cell_type": "markdown",
   "metadata": {},
   "source": [
    "## Our Model"
   ]
  },
  {
   "cell_type": "code",
   "execution_count": 7,
   "metadata": {},
   "outputs": [
    {
     "data": {
      "text/plain": [
       "<module 'pyhealth.models' from 'c:\\\\users\\\\giuse\\\\desktop\\\\msc-thesis-project\\\\proj_venv\\\\src\\\\pyhealth\\\\pyhealth\\\\models\\\\__init__.py'>"
      ]
     },
     "execution_count": 7,
     "metadata": {},
     "output_type": "execute_result"
    }
   ],
   "source": [
    "%load_ext autoreload\n",
    "%autoreload 2\n",
    "\n",
    "import importlib\n",
    "import pyhealth.models\n",
    "\n",
    "importlib.reload(pyhealth.models)"
   ]
  },
  {
   "cell_type": "code",
   "execution_count": 9,
   "metadata": {},
   "outputs": [
    {
     "name": "stderr",
     "output_type": "stream",
     "text": [
      "c:\\Users\\giuse\\Desktop\\MSc-Thesis-Project\\proj_venv\\lib\\site-packages\\torch\\overrides.py:110: UserWarning: 'has_cuda' is deprecated, please use 'torch.backends.cuda.is_built()'\n",
      "  torch.has_cuda,\n",
      "c:\\Users\\giuse\\Desktop\\MSc-Thesis-Project\\proj_venv\\lib\\site-packages\\torch\\overrides.py:111: UserWarning: 'has_cudnn' is deprecated, please use 'torch.backends.cudnn.is_available()'\n",
      "  torch.has_cudnn,\n",
      "c:\\Users\\giuse\\Desktop\\MSc-Thesis-Project\\proj_venv\\lib\\site-packages\\torch\\overrides.py:117: UserWarning: 'has_mps' is deprecated, please use 'torch.backends.mps.is_built()'\n",
      "  torch.has_mps,\n",
      "c:\\Users\\giuse\\Desktop\\MSc-Thesis-Project\\proj_venv\\lib\\site-packages\\torch\\overrides.py:118: UserWarning: 'has_mkldnn' is deprecated, please use 'torch.backends.mkldnn.is_available()'\n",
      "  torch.has_mkldnn,\n"
     ]
    }
   ],
   "source": [
    "from pyhealth.models import GNN\n",
    "\n",
    "model = GNN(\n",
    "    dataset=mimic3sample,\n",
    "    feature_keys=[\"procedures\", \"symptoms\", \"diagnosis\"],\n",
    "    label_key=\"medications\",\n",
    "    k=0,\n",
    "    embedding_dim=128,\n",
    "    hidden_channels=128\n",
    ")"
   ]
  },
  {
   "cell_type": "code",
   "execution_count": 10,
   "metadata": {},
   "outputs": [
    {
     "name": "stdout",
     "output_type": "stream",
     "text": [
      "GNN(\n",
      "  (x_dict): X_Dict(\n",
      "    (pat_emb): Embedding(906, 128)\n",
      "    (vis_emb): Embedding(2012, 128)\n",
      "    (symp_emb): Embedding(714, 128)\n",
      "    (proc_emb): Embedding(733, 128)\n",
      "    (dis_emb): Embedding(2099, 128)\n",
      "    (medication_emb): Embedding(406, 128)\n",
      "  )\n",
      "  (layer): GNNLayer(\n",
      "    (gnn): GraphModule(\n",
      "      (conv1): ModuleDict(\n",
      "        (patient__has__visit): GraphConv(128, 128)\n",
      "        (visit__presents__symptom): GraphConv(128, 128)\n",
      "        (visit__has__diagnosis): GraphConv(128, 128)\n",
      "        (visit__has_treat__procedure): GraphConv(128, 128)\n",
      "        (visit__has_received__medication): GraphConv(128, 128)\n",
      "        (visit__rev_has__patient): GraphConv(128, 128)\n",
      "        (symptom__rev_presents__visit): GraphConv(128, 128)\n",
      "        (diagnosis__rev_has__visit): GraphConv(128, 128)\n",
      "        (procedure__rev_has_treat__visit): GraphConv(128, 128)\n",
      "        (medication__rev_has_received__visit): GraphConv(128, 128)\n",
      "      )\n",
      "      (bn1): ModuleDict(\n",
      "        (patient): BatchNorm1d(128, eps=1e-05, momentum=0.1, affine=True, track_running_stats=True)\n",
      "        (visit): BatchNorm1d(128, eps=1e-05, momentum=0.1, affine=True, track_running_stats=True)\n",
      "        (symptom): BatchNorm1d(128, eps=1e-05, momentum=0.1, affine=True, track_running_stats=True)\n",
      "        (procedure): BatchNorm1d(128, eps=1e-05, momentum=0.1, affine=True, track_running_stats=True)\n",
      "        (diagnosis): BatchNorm1d(128, eps=1e-05, momentum=0.1, affine=True, track_running_stats=True)\n",
      "        (medication): BatchNorm1d(128, eps=1e-05, momentum=0.1, affine=True, track_running_stats=True)\n",
      "      )\n",
      "      (conv2): ModuleDict(\n",
      "        (patient__has__visit): GraphConv(128, 128)\n",
      "        (visit__presents__symptom): GraphConv(128, 128)\n",
      "        (visit__has__diagnosis): GraphConv(128, 128)\n",
      "        (visit__has_treat__procedure): GraphConv(128, 128)\n",
      "        (visit__has_received__medication): GraphConv(128, 128)\n",
      "        (visit__rev_has__patient): GraphConv(128, 128)\n",
      "        (symptom__rev_presents__visit): GraphConv(128, 128)\n",
      "        (diagnosis__rev_has__visit): GraphConv(128, 128)\n",
      "        (procedure__rev_has_treat__visit): GraphConv(128, 128)\n",
      "        (medication__rev_has_received__visit): GraphConv(128, 128)\n",
      "      )\n",
      "      (bn2): ModuleDict(\n",
      "        (patient): BatchNorm1d(128, eps=1e-05, momentum=0.1, affine=True, track_running_stats=True)\n",
      "        (visit): BatchNorm1d(128, eps=1e-05, momentum=0.1, affine=True, track_running_stats=True)\n",
      "        (symptom): BatchNorm1d(128, eps=1e-05, momentum=0.1, affine=True, track_running_stats=True)\n",
      "        (procedure): BatchNorm1d(128, eps=1e-05, momentum=0.1, affine=True, track_running_stats=True)\n",
      "        (diagnosis): BatchNorm1d(128, eps=1e-05, momentum=0.1, affine=True, track_running_stats=True)\n",
      "        (medication): BatchNorm1d(128, eps=1e-05, momentum=0.1, affine=True, track_running_stats=True)\n",
      "      )\n",
      "      (conv3): ModuleDict(\n",
      "        (patient__has__visit): GraphConv(128, 128)\n",
      "        (visit__presents__symptom): GraphConv(128, 128)\n",
      "        (visit__has__diagnosis): GraphConv(128, 128)\n",
      "        (visit__has_treat__procedure): GraphConv(128, 128)\n",
      "        (visit__has_received__medication): GraphConv(128, 128)\n",
      "        (visit__rev_has__patient): GraphConv(128, 128)\n",
      "        (symptom__rev_presents__visit): GraphConv(128, 128)\n",
      "        (diagnosis__rev_has__visit): GraphConv(128, 128)\n",
      "        (procedure__rev_has_treat__visit): GraphConv(128, 128)\n",
      "        (medication__rev_has_received__visit): GraphConv(128, 128)\n",
      "      )\n",
      "      (dropout): ModuleDict(\n",
      "        (patient): Dropout(p=0.3, inplace=False)\n",
      "        (visit): Dropout(p=0.3, inplace=False)\n",
      "        (symptom): Dropout(p=0.3, inplace=False)\n",
      "        (procedure): Dropout(p=0.3, inplace=False)\n",
      "        (diagnosis): Dropout(p=0.3, inplace=False)\n",
      "        (medication): Dropout(p=0.3, inplace=False)\n",
      "      )\n",
      "    )\n",
      "    (classifier): Classifier(\n",
      "      (lin1): Linear(in_features=256, out_features=128, bias=True)\n",
      "      (lin2): Linear(in_features=128, out_features=1, bias=True)\n",
      "    )\n",
      "  )\n",
      ")\n",
      "Metrics: None\n",
      "Device: cpu\n",
      "\n",
      "Training:\n",
      "Batch size: 32\n",
      "Optimizer: <class 'torch.optim.adam.Adam'>\n",
      "Optimizer params: {'lr': 0.0002}\n",
      "Weight decay: 0.0\n",
      "Max grad norm: None\n",
      "Val dataloader: <torch.utils.data.dataloader.DataLoader object at 0x0000029F98E6A730>\n",
      "Monitor: pr_auc_samples\n",
      "Monitor criterion: max\n",
      "Epochs: 50\n",
      "\n"
     ]
    },
    {
     "data": {
      "application/vnd.jupyter.widget-view+json": {
       "model_id": "fdd92a5ad7574103b7b2700c751d6386",
       "version_major": 2,
       "version_minor": 0
      },
      "text/plain": [
       "Epoch 0 / 50:   0%|          | 0/50 [00:00<?, ?it/s]"
      ]
     },
     "metadata": {},
     "output_type": "display_data"
    },
    {
     "name": "stdout",
     "output_type": "stream",
     "text": [
      "--- Train epoch-0, step-50 ---\n",
      "loss: 0.5176\n"
     ]
    },
    {
     "name": "stderr",
     "output_type": "stream",
     "text": [
      "Evaluation: 100%|██████████| 7/7 [00:00<00:00, 13.37it/s]"
     ]
    },
    {
     "name": "stdout",
     "output_type": "stream",
     "text": [
      "--- Eval epoch-0, step-50 ---\n",
      "pr_auc_samples: 0.4496\n",
      "loss: 0.3673\n",
      "New best pr_auc_samples score (0.4496) at epoch-0, step-50\n"
     ]
    },
    {
     "name": "stderr",
     "output_type": "stream",
     "text": [
      "\n"
     ]
    },
    {
     "name": "stdout",
     "output_type": "stream",
     "text": [
      "\n"
     ]
    },
    {
     "data": {
      "application/vnd.jupyter.widget-view+json": {
       "model_id": "b87892205516475eacf05a517061606d",
       "version_major": 2,
       "version_minor": 0
      },
      "text/plain": [
       "Epoch 1 / 50:   0%|          | 0/50 [00:00<?, ?it/s]"
      ]
     },
     "metadata": {},
     "output_type": "display_data"
    },
    {
     "name": "stdout",
     "output_type": "stream",
     "text": [
      "--- Train epoch-1, step-100 ---\n",
      "loss: 0.3657\n"
     ]
    },
    {
     "name": "stderr",
     "output_type": "stream",
     "text": [
      "Evaluation: 100%|██████████| 7/7 [00:00<00:00, 13.06it/s]"
     ]
    },
    {
     "name": "stdout",
     "output_type": "stream",
     "text": [
      "--- Eval epoch-1, step-100 ---\n",
      "pr_auc_samples: 0.5309\n",
      "loss: 0.3379\n",
      "New best pr_auc_samples score (0.5309) at epoch-1, step-100\n",
      "\n"
     ]
    },
    {
     "name": "stderr",
     "output_type": "stream",
     "text": [
      "\n"
     ]
    },
    {
     "data": {
      "application/vnd.jupyter.widget-view+json": {
       "model_id": "9273ccf7e66c4e4aa358d9e8d971490f",
       "version_major": 2,
       "version_minor": 0
      },
      "text/plain": [
       "Epoch 2 / 50:   0%|          | 0/50 [00:00<?, ?it/s]"
      ]
     },
     "metadata": {},
     "output_type": "display_data"
    },
    {
     "name": "stdout",
     "output_type": "stream",
     "text": [
      "--- Train epoch-2, step-150 ---\n",
      "loss: 0.3422\n"
     ]
    },
    {
     "name": "stderr",
     "output_type": "stream",
     "text": [
      "Evaluation: 100%|██████████| 7/7 [00:00<00:00, 13.08it/s]"
     ]
    },
    {
     "name": "stdout",
     "output_type": "stream",
     "text": [
      "--- Eval epoch-2, step-150 ---\n",
      "pr_auc_samples: 0.5331\n",
      "loss: 0.3298\n",
      "New best pr_auc_samples score (0.5331) at epoch-2, step-150\n",
      "\n"
     ]
    },
    {
     "name": "stderr",
     "output_type": "stream",
     "text": [
      "\n"
     ]
    },
    {
     "data": {
      "application/vnd.jupyter.widget-view+json": {
       "model_id": "23e94ec1e1a941278bc4cfc940735a38",
       "version_major": 2,
       "version_minor": 0
      },
      "text/plain": [
       "Epoch 3 / 50:   0%|          | 0/50 [00:00<?, ?it/s]"
      ]
     },
     "metadata": {},
     "output_type": "display_data"
    },
    {
     "name": "stdout",
     "output_type": "stream",
     "text": [
      "--- Train epoch-3, step-200 ---\n",
      "loss: 0.3290\n"
     ]
    },
    {
     "name": "stderr",
     "output_type": "stream",
     "text": [
      "Evaluation: 100%|██████████| 7/7 [00:00<00:00, 13.77it/s]"
     ]
    },
    {
     "name": "stdout",
     "output_type": "stream",
     "text": [
      "--- Eval epoch-3, step-200 ---\n",
      "pr_auc_samples: 0.5366\n",
      "loss: 0.3232\n",
      "New best pr_auc_samples score (0.5366) at epoch-3, step-200\n"
     ]
    },
    {
     "name": "stderr",
     "output_type": "stream",
     "text": [
      "\n"
     ]
    },
    {
     "name": "stdout",
     "output_type": "stream",
     "text": [
      "\n"
     ]
    },
    {
     "data": {
      "application/vnd.jupyter.widget-view+json": {
       "model_id": "81a6a96744a644a7b07f058e82dd9d1b",
       "version_major": 2,
       "version_minor": 0
      },
      "text/plain": [
       "Epoch 4 / 50:   0%|          | 0/50 [00:00<?, ?it/s]"
      ]
     },
     "metadata": {},
     "output_type": "display_data"
    },
    {
     "name": "stdout",
     "output_type": "stream",
     "text": [
      "--- Train epoch-4, step-250 ---\n",
      "loss: 0.3204\n"
     ]
    },
    {
     "name": "stderr",
     "output_type": "stream",
     "text": [
      "Evaluation: 100%|██████████| 7/7 [00:00<00:00, 12.45it/s]\n"
     ]
    },
    {
     "name": "stdout",
     "output_type": "stream",
     "text": [
      "--- Eval epoch-4, step-250 ---\n",
      "pr_auc_samples: 0.5379\n",
      "loss: 0.3180\n",
      "New best pr_auc_samples score (0.5379) at epoch-4, step-250\n",
      "\n"
     ]
    },
    {
     "data": {
      "application/vnd.jupyter.widget-view+json": {
       "model_id": "984478f8ec29412d9c3ed911381edffc",
       "version_major": 2,
       "version_minor": 0
      },
      "text/plain": [
       "Epoch 5 / 50:   0%|          | 0/50 [00:00<?, ?it/s]"
      ]
     },
     "metadata": {},
     "output_type": "display_data"
    },
    {
     "name": "stdout",
     "output_type": "stream",
     "text": [
      "--- Train epoch-5, step-300 ---\n",
      "loss: 0.3131\n"
     ]
    },
    {
     "name": "stderr",
     "output_type": "stream",
     "text": [
      "Evaluation: 100%|██████████| 7/7 [00:00<00:00, 12.42it/s]"
     ]
    },
    {
     "name": "stdout",
     "output_type": "stream",
     "text": [
      "--- Eval epoch-5, step-300 ---\n",
      "pr_auc_samples: 0.5392\n",
      "loss: 0.3145\n",
      "New best pr_auc_samples score (0.5392) at epoch-5, step-300\n"
     ]
    },
    {
     "name": "stderr",
     "output_type": "stream",
     "text": [
      "\n"
     ]
    },
    {
     "name": "stdout",
     "output_type": "stream",
     "text": [
      "\n"
     ]
    },
    {
     "data": {
      "application/vnd.jupyter.widget-view+json": {
       "model_id": "dc4bd67273c24ed794884f9f59b4e62f",
       "version_major": 2,
       "version_minor": 0
      },
      "text/plain": [
       "Epoch 6 / 50:   0%|          | 0/50 [00:00<?, ?it/s]"
      ]
     },
     "metadata": {},
     "output_type": "display_data"
    },
    {
     "name": "stdout",
     "output_type": "stream",
     "text": [
      "--- Train epoch-6, step-350 ---\n",
      "loss: 0.3069\n"
     ]
    },
    {
     "name": "stderr",
     "output_type": "stream",
     "text": [
      "Evaluation: 100%|██████████| 7/7 [00:00<00:00, 13.10it/s]"
     ]
    },
    {
     "name": "stdout",
     "output_type": "stream",
     "text": [
      "--- Eval epoch-6, step-350 ---\n",
      "pr_auc_samples: 0.5408\n",
      "loss: 0.3108\n",
      "New best pr_auc_samples score (0.5408) at epoch-6, step-350\n",
      "\n"
     ]
    },
    {
     "name": "stderr",
     "output_type": "stream",
     "text": [
      "\n"
     ]
    },
    {
     "data": {
      "application/vnd.jupyter.widget-view+json": {
       "model_id": "5280604d19cd41bbaf2686d38c950635",
       "version_major": 2,
       "version_minor": 0
      },
      "text/plain": [
       "Epoch 7 / 50:   0%|          | 0/50 [00:00<?, ?it/s]"
      ]
     },
     "metadata": {},
     "output_type": "display_data"
    },
    {
     "name": "stdout",
     "output_type": "stream",
     "text": [
      "--- Train epoch-7, step-400 ---\n",
      "loss: 0.2989\n"
     ]
    },
    {
     "name": "stderr",
     "output_type": "stream",
     "text": [
      "Evaluation: 100%|██████████| 7/7 [00:01<00:00,  6.61it/s]"
     ]
    },
    {
     "name": "stdout",
     "output_type": "stream",
     "text": [
      "--- Eval epoch-7, step-400 ---\n",
      "pr_auc_samples: 0.5447\n",
      "loss: 0.3041\n",
      "New best pr_auc_samples score (0.5447) at epoch-7, step-400\n"
     ]
    },
    {
     "name": "stderr",
     "output_type": "stream",
     "text": [
      "\n"
     ]
    },
    {
     "name": "stdout",
     "output_type": "stream",
     "text": [
      "\n"
     ]
    },
    {
     "data": {
      "application/vnd.jupyter.widget-view+json": {
       "model_id": "f08701d936ed47b2b84dda015185f99d",
       "version_major": 2,
       "version_minor": 0
      },
      "text/plain": [
       "Epoch 8 / 50:   0%|          | 0/50 [00:00<?, ?it/s]"
      ]
     },
     "metadata": {},
     "output_type": "display_data"
    },
    {
     "name": "stdout",
     "output_type": "stream",
     "text": [
      "--- Train epoch-8, step-450 ---\n",
      "loss: 0.2894\n"
     ]
    },
    {
     "name": "stderr",
     "output_type": "stream",
     "text": [
      "Evaluation: 100%|██████████| 7/7 [00:00<00:00, 12.95it/s]"
     ]
    },
    {
     "name": "stdout",
     "output_type": "stream",
     "text": [
      "--- Eval epoch-8, step-450 ---\n",
      "pr_auc_samples: 0.5507\n",
      "loss: 0.2975\n",
      "New best pr_auc_samples score (0.5507) at epoch-8, step-450\n",
      "\n"
     ]
    },
    {
     "name": "stderr",
     "output_type": "stream",
     "text": [
      "\n"
     ]
    },
    {
     "data": {
      "application/vnd.jupyter.widget-view+json": {
       "model_id": "a25ee056cfa7416e82df77fcbe8b85f2",
       "version_major": 2,
       "version_minor": 0
      },
      "text/plain": [
       "Epoch 9 / 50:   0%|          | 0/50 [00:00<?, ?it/s]"
      ]
     },
     "metadata": {},
     "output_type": "display_data"
    },
    {
     "name": "stdout",
     "output_type": "stream",
     "text": [
      "--- Train epoch-9, step-500 ---\n",
      "loss: 0.2787\n"
     ]
    },
    {
     "name": "stderr",
     "output_type": "stream",
     "text": [
      "Evaluation: 100%|██████████| 7/7 [00:01<00:00,  6.36it/s]"
     ]
    },
    {
     "name": "stdout",
     "output_type": "stream",
     "text": [
      "--- Eval epoch-9, step-500 ---\n",
      "pr_auc_samples: 0.5603\n",
      "loss: 0.2883\n",
      "New best pr_auc_samples score (0.5603) at epoch-9, step-500\n",
      "\n"
     ]
    },
    {
     "name": "stderr",
     "output_type": "stream",
     "text": [
      "\n"
     ]
    },
    {
     "data": {
      "application/vnd.jupyter.widget-view+json": {
       "model_id": "868d6b85ae93429c96fb696e2dadd709",
       "version_major": 2,
       "version_minor": 0
      },
      "text/plain": [
       "Epoch 10 / 50:   0%|          | 0/50 [00:00<?, ?it/s]"
      ]
     },
     "metadata": {},
     "output_type": "display_data"
    },
    {
     "name": "stdout",
     "output_type": "stream",
     "text": [
      "--- Train epoch-10, step-550 ---\n",
      "loss: 0.2713\n"
     ]
    },
    {
     "name": "stderr",
     "output_type": "stream",
     "text": [
      "Evaluation: 100%|██████████| 7/7 [00:00<00:00, 13.18it/s]"
     ]
    },
    {
     "name": "stdout",
     "output_type": "stream",
     "text": [
      "--- Eval epoch-10, step-550 ---\n",
      "pr_auc_samples: 0.5659\n",
      "loss: 0.2820\n",
      "New best pr_auc_samples score (0.5659) at epoch-10, step-550\n",
      "\n"
     ]
    },
    {
     "name": "stderr",
     "output_type": "stream",
     "text": [
      "\n"
     ]
    },
    {
     "data": {
      "application/vnd.jupyter.widget-view+json": {
       "model_id": "6ee1cb6b5dfa42dfa59f8d69db951ebf",
       "version_major": 2,
       "version_minor": 0
      },
      "text/plain": [
       "Epoch 11 / 50:   0%|          | 0/50 [00:00<?, ?it/s]"
      ]
     },
     "metadata": {},
     "output_type": "display_data"
    },
    {
     "name": "stdout",
     "output_type": "stream",
     "text": [
      "--- Train epoch-11, step-600 ---\n",
      "loss: 0.2635\n"
     ]
    },
    {
     "name": "stderr",
     "output_type": "stream",
     "text": [
      "Evaluation: 100%|██████████| 7/7 [00:00<00:00, 13.35it/s]"
     ]
    },
    {
     "name": "stdout",
     "output_type": "stream",
     "text": [
      "--- Eval epoch-11, step-600 ---\n",
      "pr_auc_samples: 0.5730\n",
      "loss: 0.2773\n",
      "New best pr_auc_samples score (0.5730) at epoch-11, step-600\n",
      "\n"
     ]
    },
    {
     "name": "stderr",
     "output_type": "stream",
     "text": [
      "\n"
     ]
    },
    {
     "data": {
      "application/vnd.jupyter.widget-view+json": {
       "model_id": "ad168415917f428abac39a1731af9801",
       "version_major": 2,
       "version_minor": 0
      },
      "text/plain": [
       "Epoch 12 / 50:   0%|          | 0/50 [00:00<?, ?it/s]"
      ]
     },
     "metadata": {},
     "output_type": "display_data"
    },
    {
     "name": "stdout",
     "output_type": "stream",
     "text": [
      "--- Train epoch-12, step-650 ---\n",
      "loss: 0.2586\n"
     ]
    },
    {
     "name": "stderr",
     "output_type": "stream",
     "text": [
      "Evaluation: 100%|██████████| 7/7 [00:00<00:00, 12.66it/s]\n"
     ]
    },
    {
     "name": "stdout",
     "output_type": "stream",
     "text": [
      "--- Eval epoch-12, step-650 ---\n",
      "pr_auc_samples: 0.5760\n",
      "loss: 0.2695\n",
      "New best pr_auc_samples score (0.5760) at epoch-12, step-650\n",
      "\n"
     ]
    },
    {
     "data": {
      "application/vnd.jupyter.widget-view+json": {
       "model_id": "d31acb2877074a219534dc73a22dc18d",
       "version_major": 2,
       "version_minor": 0
      },
      "text/plain": [
       "Epoch 13 / 50:   0%|          | 0/50 [00:00<?, ?it/s]"
      ]
     },
     "metadata": {},
     "output_type": "display_data"
    },
    {
     "name": "stdout",
     "output_type": "stream",
     "text": [
      "--- Train epoch-13, step-700 ---\n",
      "loss: 0.2528\n"
     ]
    },
    {
     "name": "stderr",
     "output_type": "stream",
     "text": [
      "Evaluation: 100%|██████████| 7/7 [00:00<00:00, 13.47it/s]"
     ]
    },
    {
     "name": "stdout",
     "output_type": "stream",
     "text": [
      "--- Eval epoch-13, step-700 ---\n",
      "pr_auc_samples: 0.5862\n",
      "loss: 0.2596\n",
      "New best pr_auc_samples score (0.5862) at epoch-13, step-700\n",
      "\n"
     ]
    },
    {
     "name": "stderr",
     "output_type": "stream",
     "text": [
      "\n"
     ]
    },
    {
     "data": {
      "application/vnd.jupyter.widget-view+json": {
       "model_id": "a91a330d03eb4a6093bdfebce3983388",
       "version_major": 2,
       "version_minor": 0
      },
      "text/plain": [
       "Epoch 14 / 50:   0%|          | 0/50 [00:00<?, ?it/s]"
      ]
     },
     "metadata": {},
     "output_type": "display_data"
    },
    {
     "name": "stdout",
     "output_type": "stream",
     "text": [
      "--- Train epoch-14, step-750 ---\n",
      "loss: 0.2426\n"
     ]
    },
    {
     "name": "stderr",
     "output_type": "stream",
     "text": [
      "Evaluation: 100%|██████████| 7/7 [00:00<00:00, 12.80it/s]"
     ]
    },
    {
     "name": "stdout",
     "output_type": "stream",
     "text": [
      "--- Eval epoch-14, step-750 ---\n",
      "pr_auc_samples: 0.5989\n",
      "loss: 0.2482\n",
      "New best pr_auc_samples score (0.5989) at epoch-14, step-750\n",
      "\n"
     ]
    },
    {
     "name": "stderr",
     "output_type": "stream",
     "text": [
      "\n"
     ]
    },
    {
     "data": {
      "application/vnd.jupyter.widget-view+json": {
       "model_id": "433e7d9bc3b84c67bd609381c8ade55a",
       "version_major": 2,
       "version_minor": 0
      },
      "text/plain": [
       "Epoch 15 / 50:   0%|          | 0/50 [00:00<?, ?it/s]"
      ]
     },
     "metadata": {},
     "output_type": "display_data"
    },
    {
     "name": "stdout",
     "output_type": "stream",
     "text": [
      "--- Train epoch-15, step-800 ---\n",
      "loss: 0.2328\n"
     ]
    },
    {
     "name": "stderr",
     "output_type": "stream",
     "text": [
      "Evaluation: 100%|██████████| 7/7 [00:00<00:00, 13.70it/s]"
     ]
    },
    {
     "name": "stdout",
     "output_type": "stream",
     "text": [
      "--- Eval epoch-15, step-800 ---\n",
      "pr_auc_samples: 0.6077\n",
      "loss: 0.2450\n",
      "New best pr_auc_samples score (0.6077) at epoch-15, step-800\n"
     ]
    },
    {
     "name": "stderr",
     "output_type": "stream",
     "text": [
      "\n"
     ]
    },
    {
     "name": "stdout",
     "output_type": "stream",
     "text": [
      "\n"
     ]
    },
    {
     "data": {
      "application/vnd.jupyter.widget-view+json": {
       "model_id": "57ed3db5b8bd4bfc8544dca66e122dc1",
       "version_major": 2,
       "version_minor": 0
      },
      "text/plain": [
       "Epoch 16 / 50:   0%|          | 0/50 [00:00<?, ?it/s]"
      ]
     },
     "metadata": {},
     "output_type": "display_data"
    },
    {
     "name": "stdout",
     "output_type": "stream",
     "text": [
      "--- Train epoch-16, step-850 ---\n",
      "loss: 0.2257\n"
     ]
    },
    {
     "name": "stderr",
     "output_type": "stream",
     "text": [
      "Evaluation: 100%|██████████| 7/7 [00:00<00:00, 13.09it/s]"
     ]
    },
    {
     "name": "stdout",
     "output_type": "stream",
     "text": [
      "--- Eval epoch-16, step-850 ---\n",
      "pr_auc_samples: 0.6233\n",
      "loss: 0.2350\n",
      "New best pr_auc_samples score (0.6233) at epoch-16, step-850\n",
      "\n"
     ]
    },
    {
     "name": "stderr",
     "output_type": "stream",
     "text": [
      "\n"
     ]
    },
    {
     "data": {
      "application/vnd.jupyter.widget-view+json": {
       "model_id": "e89d49790908473c81e6ed20df8d3535",
       "version_major": 2,
       "version_minor": 0
      },
      "text/plain": [
       "Epoch 17 / 50:   0%|          | 0/50 [00:00<?, ?it/s]"
      ]
     },
     "metadata": {},
     "output_type": "display_data"
    },
    {
     "name": "stdout",
     "output_type": "stream",
     "text": [
      "--- Train epoch-17, step-900 ---\n",
      "loss: 0.2180\n"
     ]
    },
    {
     "name": "stderr",
     "output_type": "stream",
     "text": [
      "Evaluation: 100%|██████████| 7/7 [00:00<00:00, 13.29it/s]"
     ]
    },
    {
     "name": "stdout",
     "output_type": "stream",
     "text": [
      "--- Eval epoch-17, step-900 ---\n",
      "pr_auc_samples: 0.6348\n",
      "loss: 0.2285\n",
      "New best pr_auc_samples score (0.6348) at epoch-17, step-900\n"
     ]
    },
    {
     "name": "stderr",
     "output_type": "stream",
     "text": [
      "\n"
     ]
    },
    {
     "name": "stdout",
     "output_type": "stream",
     "text": [
      "\n"
     ]
    },
    {
     "data": {
      "application/vnd.jupyter.widget-view+json": {
       "model_id": "ccb6e852f2664a8b906b20f0242b4b4b",
       "version_major": 2,
       "version_minor": 0
      },
      "text/plain": [
       "Epoch 18 / 50:   0%|          | 0/50 [00:00<?, ?it/s]"
      ]
     },
     "metadata": {},
     "output_type": "display_data"
    },
    {
     "name": "stdout",
     "output_type": "stream",
     "text": [
      "--- Train epoch-18, step-950 ---\n",
      "loss: 0.2118\n"
     ]
    },
    {
     "name": "stderr",
     "output_type": "stream",
     "text": [
      "Evaluation: 100%|██████████| 7/7 [00:01<00:00,  6.39it/s]"
     ]
    },
    {
     "name": "stdout",
     "output_type": "stream",
     "text": [
      "--- Eval epoch-18, step-950 ---\n",
      "pr_auc_samples: 0.6422\n",
      "loss: 0.2210\n",
      "New best pr_auc_samples score (0.6422) at epoch-18, step-950\n",
      "\n"
     ]
    },
    {
     "name": "stderr",
     "output_type": "stream",
     "text": [
      "\n"
     ]
    },
    {
     "data": {
      "application/vnd.jupyter.widget-view+json": {
       "model_id": "a1e08c0e4cb64b9d9d988bec488dbccb",
       "version_major": 2,
       "version_minor": 0
      },
      "text/plain": [
       "Epoch 19 / 50:   0%|          | 0/50 [00:00<?, ?it/s]"
      ]
     },
     "metadata": {},
     "output_type": "display_data"
    },
    {
     "name": "stdout",
     "output_type": "stream",
     "text": [
      "--- Train epoch-19, step-1000 ---\n",
      "loss: 0.2042\n"
     ]
    },
    {
     "name": "stderr",
     "output_type": "stream",
     "text": [
      "Evaluation: 100%|██████████| 7/7 [00:00<00:00, 12.53it/s]"
     ]
    },
    {
     "name": "stdout",
     "output_type": "stream",
     "text": [
      "--- Eval epoch-19, step-1000 ---\n",
      "pr_auc_samples: 0.6544\n",
      "loss: 0.2188\n",
      "New best pr_auc_samples score (0.6544) at epoch-19, step-1000\n"
     ]
    },
    {
     "name": "stderr",
     "output_type": "stream",
     "text": [
      "\n"
     ]
    },
    {
     "name": "stdout",
     "output_type": "stream",
     "text": [
      "\n"
     ]
    },
    {
     "data": {
      "application/vnd.jupyter.widget-view+json": {
       "model_id": "494c8293f02d40798ec5079e8a8f71c3",
       "version_major": 2,
       "version_minor": 0
      },
      "text/plain": [
       "Epoch 20 / 50:   0%|          | 0/50 [00:00<?, ?it/s]"
      ]
     },
     "metadata": {},
     "output_type": "display_data"
    },
    {
     "name": "stdout",
     "output_type": "stream",
     "text": [
      "--- Train epoch-20, step-1050 ---\n",
      "loss: 0.1986\n"
     ]
    },
    {
     "name": "stderr",
     "output_type": "stream",
     "text": [
      "Evaluation: 100%|██████████| 7/7 [00:01<00:00,  6.25it/s]\n"
     ]
    },
    {
     "name": "stdout",
     "output_type": "stream",
     "text": [
      "--- Eval epoch-20, step-1050 ---\n",
      "pr_auc_samples: 0.6648\n",
      "loss: 0.2141\n",
      "New best pr_auc_samples score (0.6648) at epoch-20, step-1050\n",
      "\n"
     ]
    },
    {
     "data": {
      "application/vnd.jupyter.widget-view+json": {
       "model_id": "c50ec1aee38a463d860f417e51c26ce8",
       "version_major": 2,
       "version_minor": 0
      },
      "text/plain": [
       "Epoch 21 / 50:   0%|          | 0/50 [00:00<?, ?it/s]"
      ]
     },
     "metadata": {},
     "output_type": "display_data"
    },
    {
     "name": "stdout",
     "output_type": "stream",
     "text": [
      "--- Train epoch-21, step-1100 ---\n",
      "loss: 0.1949\n"
     ]
    },
    {
     "name": "stderr",
     "output_type": "stream",
     "text": [
      "Evaluation: 100%|██████████| 7/7 [00:00<00:00, 12.98it/s]"
     ]
    },
    {
     "name": "stdout",
     "output_type": "stream",
     "text": [
      "--- Eval epoch-21, step-1100 ---\n",
      "pr_auc_samples: 0.6693\n",
      "loss: 0.2098\n",
      "New best pr_auc_samples score (0.6693) at epoch-21, step-1100\n",
      "\n"
     ]
    },
    {
     "name": "stderr",
     "output_type": "stream",
     "text": [
      "\n"
     ]
    },
    {
     "data": {
      "application/vnd.jupyter.widget-view+json": {
       "model_id": "0303e3a5dc104bb3addf285c242f35f4",
       "version_major": 2,
       "version_minor": 0
      },
      "text/plain": [
       "Epoch 22 / 50:   0%|          | 0/50 [00:00<?, ?it/s]"
      ]
     },
     "metadata": {},
     "output_type": "display_data"
    },
    {
     "name": "stdout",
     "output_type": "stream",
     "text": [
      "--- Train epoch-22, step-1150 ---\n",
      "loss: 0.1915\n"
     ]
    },
    {
     "name": "stderr",
     "output_type": "stream",
     "text": [
      "Evaluation: 100%|██████████| 7/7 [00:00<00:00, 12.95it/s]"
     ]
    },
    {
     "name": "stdout",
     "output_type": "stream",
     "text": [
      "--- Eval epoch-22, step-1150 ---\n",
      "pr_auc_samples: 0.6710\n",
      "loss: 0.2094\n",
      "New best pr_auc_samples score (0.6710) at epoch-22, step-1150\n"
     ]
    },
    {
     "name": "stderr",
     "output_type": "stream",
     "text": [
      "\n"
     ]
    },
    {
     "name": "stdout",
     "output_type": "stream",
     "text": [
      "\n"
     ]
    },
    {
     "data": {
      "application/vnd.jupyter.widget-view+json": {
       "model_id": "b37067c72916455bb8f1fe13e17a6e63",
       "version_major": 2,
       "version_minor": 0
      },
      "text/plain": [
       "Epoch 23 / 50:   0%|          | 0/50 [00:00<?, ?it/s]"
      ]
     },
     "metadata": {},
     "output_type": "display_data"
    },
    {
     "name": "stdout",
     "output_type": "stream",
     "text": [
      "--- Train epoch-23, step-1200 ---\n",
      "loss: 0.1873\n"
     ]
    },
    {
     "name": "stderr",
     "output_type": "stream",
     "text": [
      "Evaluation: 100%|██████████| 7/7 [00:00<00:00, 12.92it/s]"
     ]
    },
    {
     "name": "stdout",
     "output_type": "stream",
     "text": [
      "--- Eval epoch-23, step-1200 ---\n",
      "pr_auc_samples: 0.6883\n",
      "loss: 0.2022\n",
      "New best pr_auc_samples score (0.6883) at epoch-23, step-1200\n",
      "\n"
     ]
    },
    {
     "name": "stderr",
     "output_type": "stream",
     "text": [
      "\n"
     ]
    },
    {
     "data": {
      "application/vnd.jupyter.widget-view+json": {
       "model_id": "5fb5c1affd274e4cbc9c3f91256a2028",
       "version_major": 2,
       "version_minor": 0
      },
      "text/plain": [
       "Epoch 24 / 50:   0%|          | 0/50 [00:00<?, ?it/s]"
      ]
     },
     "metadata": {},
     "output_type": "display_data"
    },
    {
     "name": "stdout",
     "output_type": "stream",
     "text": [
      "--- Train epoch-24, step-1250 ---\n",
      "loss: 0.1842\n"
     ]
    },
    {
     "name": "stderr",
     "output_type": "stream",
     "text": [
      "Evaluation: 100%|██████████| 7/7 [00:00<00:00, 12.96it/s]"
     ]
    },
    {
     "name": "stdout",
     "output_type": "stream",
     "text": [
      "--- Eval epoch-24, step-1250 ---\n",
      "pr_auc_samples: 0.6966\n",
      "loss: 0.1989\n",
      "New best pr_auc_samples score (0.6966) at epoch-24, step-1250\n"
     ]
    },
    {
     "name": "stderr",
     "output_type": "stream",
     "text": [
      "\n"
     ]
    },
    {
     "name": "stdout",
     "output_type": "stream",
     "text": [
      "\n"
     ]
    },
    {
     "data": {
      "application/vnd.jupyter.widget-view+json": {
       "model_id": "19219b0db3fb46928cd6c1054b834019",
       "version_major": 2,
       "version_minor": 0
      },
      "text/plain": [
       "Epoch 25 / 50:   0%|          | 0/50 [00:00<?, ?it/s]"
      ]
     },
     "metadata": {},
     "output_type": "display_data"
    },
    {
     "name": "stdout",
     "output_type": "stream",
     "text": [
      "--- Train epoch-25, step-1300 ---\n",
      "loss: 0.1796\n"
     ]
    },
    {
     "name": "stderr",
     "output_type": "stream",
     "text": [
      "Evaluation: 100%|██████████| 7/7 [00:00<00:00, 12.71it/s]"
     ]
    },
    {
     "name": "stdout",
     "output_type": "stream",
     "text": [
      "--- Eval epoch-25, step-1300 ---\n",
      "pr_auc_samples: 0.7022\n",
      "loss: 0.2004\n",
      "New best pr_auc_samples score (0.7022) at epoch-25, step-1300\n"
     ]
    },
    {
     "name": "stderr",
     "output_type": "stream",
     "text": [
      "\n"
     ]
    },
    {
     "name": "stdout",
     "output_type": "stream",
     "text": [
      "\n"
     ]
    },
    {
     "data": {
      "application/vnd.jupyter.widget-view+json": {
       "model_id": "32f86561fa5b4e9db22ede8f4d9b370c",
       "version_major": 2,
       "version_minor": 0
      },
      "text/plain": [
       "Epoch 26 / 50:   0%|          | 0/50 [00:00<?, ?it/s]"
      ]
     },
     "metadata": {},
     "output_type": "display_data"
    },
    {
     "name": "stdout",
     "output_type": "stream",
     "text": [
      "--- Train epoch-26, step-1350 ---\n",
      "loss: 0.1760\n"
     ]
    },
    {
     "name": "stderr",
     "output_type": "stream",
     "text": [
      "Evaluation: 100%|██████████| 7/7 [00:00<00:00, 12.16it/s]\n"
     ]
    },
    {
     "name": "stdout",
     "output_type": "stream",
     "text": [
      "--- Eval epoch-26, step-1350 ---\n",
      "pr_auc_samples: 0.7131\n",
      "loss: 0.1948\n",
      "New best pr_auc_samples score (0.7131) at epoch-26, step-1350\n",
      "\n"
     ]
    },
    {
     "data": {
      "application/vnd.jupyter.widget-view+json": {
       "model_id": "4dccd714143b419090ec67195f008cc0",
       "version_major": 2,
       "version_minor": 0
      },
      "text/plain": [
       "Epoch 27 / 50:   0%|          | 0/50 [00:00<?, ?it/s]"
      ]
     },
     "metadata": {},
     "output_type": "display_data"
    },
    {
     "name": "stdout",
     "output_type": "stream",
     "text": [
      "--- Train epoch-27, step-1400 ---\n",
      "loss: 0.1731\n"
     ]
    },
    {
     "name": "stderr",
     "output_type": "stream",
     "text": [
      "Evaluation: 100%|██████████| 7/7 [00:00<00:00, 12.74it/s]\n"
     ]
    },
    {
     "name": "stdout",
     "output_type": "stream",
     "text": [
      "--- Eval epoch-27, step-1400 ---\n",
      "pr_auc_samples: 0.7166\n",
      "loss: 0.1938\n",
      "New best pr_auc_samples score (0.7166) at epoch-27, step-1400\n",
      "\n"
     ]
    },
    {
     "data": {
      "application/vnd.jupyter.widget-view+json": {
       "model_id": "d92908b819db4a02a1719663fbb050f1",
       "version_major": 2,
       "version_minor": 0
      },
      "text/plain": [
       "Epoch 28 / 50:   0%|          | 0/50 [00:00<?, ?it/s]"
      ]
     },
     "metadata": {},
     "output_type": "display_data"
    },
    {
     "name": "stdout",
     "output_type": "stream",
     "text": [
      "--- Train epoch-28, step-1450 ---\n",
      "loss: 0.1684\n"
     ]
    },
    {
     "name": "stderr",
     "output_type": "stream",
     "text": [
      "Evaluation: 100%|██████████| 7/7 [00:00<00:00, 12.72it/s]"
     ]
    },
    {
     "name": "stdout",
     "output_type": "stream",
     "text": [
      "--- Eval epoch-28, step-1450 ---\n",
      "pr_auc_samples: 0.7264\n",
      "loss: 0.1916\n",
      "New best pr_auc_samples score (0.7264) at epoch-28, step-1450\n"
     ]
    },
    {
     "name": "stderr",
     "output_type": "stream",
     "text": [
      "\n"
     ]
    },
    {
     "name": "stdout",
     "output_type": "stream",
     "text": [
      "\n"
     ]
    },
    {
     "data": {
      "application/vnd.jupyter.widget-view+json": {
       "model_id": "773186dbfb804748902beafed96fa0e1",
       "version_major": 2,
       "version_minor": 0
      },
      "text/plain": [
       "Epoch 29 / 50:   0%|          | 0/50 [00:00<?, ?it/s]"
      ]
     },
     "metadata": {},
     "output_type": "display_data"
    },
    {
     "name": "stdout",
     "output_type": "stream",
     "text": [
      "--- Train epoch-29, step-1500 ---\n",
      "loss: 0.1671\n"
     ]
    },
    {
     "name": "stderr",
     "output_type": "stream",
     "text": [
      "Evaluation: 100%|██████████| 7/7 [00:01<00:00,  5.88it/s]\n"
     ]
    },
    {
     "name": "stdout",
     "output_type": "stream",
     "text": [
      "--- Eval epoch-29, step-1500 ---\n",
      "pr_auc_samples: 0.7326\n",
      "loss: 0.1922\n",
      "New best pr_auc_samples score (0.7326) at epoch-29, step-1500\n",
      "\n"
     ]
    },
    {
     "data": {
      "application/vnd.jupyter.widget-view+json": {
       "model_id": "d624053147394ab29f3fce7d03316e65",
       "version_major": 2,
       "version_minor": 0
      },
      "text/plain": [
       "Epoch 30 / 50:   0%|          | 0/50 [00:00<?, ?it/s]"
      ]
     },
     "metadata": {},
     "output_type": "display_data"
    },
    {
     "name": "stdout",
     "output_type": "stream",
     "text": [
      "--- Train epoch-30, step-1550 ---\n",
      "loss: 0.1651\n"
     ]
    },
    {
     "name": "stderr",
     "output_type": "stream",
     "text": [
      "Evaluation: 100%|██████████| 7/7 [00:00<00:00, 13.12it/s]"
     ]
    },
    {
     "name": "stdout",
     "output_type": "stream",
     "text": [
      "--- Eval epoch-30, step-1550 ---\n",
      "pr_auc_samples: 0.7378\n",
      "loss: 0.1867\n",
      "New best pr_auc_samples score (0.7378) at epoch-30, step-1550\n"
     ]
    },
    {
     "name": "stderr",
     "output_type": "stream",
     "text": [
      "\n"
     ]
    },
    {
     "name": "stdout",
     "output_type": "stream",
     "text": [
      "\n"
     ]
    },
    {
     "data": {
      "application/vnd.jupyter.widget-view+json": {
       "model_id": "2df6a6006d51445caab7f8fb8622d5b2",
       "version_major": 2,
       "version_minor": 0
      },
      "text/plain": [
       "Epoch 31 / 50:   0%|          | 0/50 [00:00<?, ?it/s]"
      ]
     },
     "metadata": {},
     "output_type": "display_data"
    },
    {
     "name": "stdout",
     "output_type": "stream",
     "text": [
      "--- Train epoch-31, step-1600 ---\n",
      "loss: 0.1638\n"
     ]
    },
    {
     "name": "stderr",
     "output_type": "stream",
     "text": [
      "Evaluation: 100%|██████████| 7/7 [00:01<00:00,  6.19it/s]\n"
     ]
    },
    {
     "name": "stdout",
     "output_type": "stream",
     "text": [
      "--- Eval epoch-31, step-1600 ---\n",
      "pr_auc_samples: 0.7402\n",
      "loss: 0.1823\n",
      "New best pr_auc_samples score (0.7402) at epoch-31, step-1600\n",
      "\n"
     ]
    },
    {
     "data": {
      "application/vnd.jupyter.widget-view+json": {
       "model_id": "858cef511b8e476f939969fc967ef77b",
       "version_major": 2,
       "version_minor": 0
      },
      "text/plain": [
       "Epoch 32 / 50:   0%|          | 0/50 [00:00<?, ?it/s]"
      ]
     },
     "metadata": {},
     "output_type": "display_data"
    },
    {
     "name": "stdout",
     "output_type": "stream",
     "text": [
      "--- Train epoch-32, step-1650 ---\n",
      "loss: 0.1629\n"
     ]
    },
    {
     "name": "stderr",
     "output_type": "stream",
     "text": [
      "Evaluation: 100%|██████████| 7/7 [00:00<00:00, 12.00it/s]\n"
     ]
    },
    {
     "name": "stdout",
     "output_type": "stream",
     "text": [
      "--- Eval epoch-32, step-1650 ---\n",
      "pr_auc_samples: 0.7448\n",
      "loss: 0.1845\n",
      "New best pr_auc_samples score (0.7448) at epoch-32, step-1650\n",
      "\n"
     ]
    },
    {
     "data": {
      "application/vnd.jupyter.widget-view+json": {
       "model_id": "50d0b39c071f4affb5ff18a740568606",
       "version_major": 2,
       "version_minor": 0
      },
      "text/plain": [
       "Epoch 33 / 50:   0%|          | 0/50 [00:00<?, ?it/s]"
      ]
     },
     "metadata": {},
     "output_type": "display_data"
    },
    {
     "name": "stdout",
     "output_type": "stream",
     "text": [
      "--- Train epoch-33, step-1700 ---\n",
      "loss: 0.1605\n"
     ]
    },
    {
     "name": "stderr",
     "output_type": "stream",
     "text": [
      "Evaluation: 100%|██████████| 7/7 [00:00<00:00, 12.94it/s]"
     ]
    },
    {
     "name": "stdout",
     "output_type": "stream",
     "text": [
      "--- Eval epoch-33, step-1700 ---\n",
      "pr_auc_samples: 0.7456\n",
      "loss: 0.1813\n",
      "New best pr_auc_samples score (0.7456) at epoch-33, step-1700\n",
      "\n"
     ]
    },
    {
     "name": "stderr",
     "output_type": "stream",
     "text": [
      "\n"
     ]
    },
    {
     "data": {
      "application/vnd.jupyter.widget-view+json": {
       "model_id": "499b882b419f45b3a22131b25c08fb23",
       "version_major": 2,
       "version_minor": 0
      },
      "text/plain": [
       "Epoch 34 / 50:   0%|          | 0/50 [00:00<?, ?it/s]"
      ]
     },
     "metadata": {},
     "output_type": "display_data"
    },
    {
     "name": "stdout",
     "output_type": "stream",
     "text": [
      "--- Train epoch-34, step-1750 ---\n",
      "loss: 0.1595\n"
     ]
    },
    {
     "name": "stderr",
     "output_type": "stream",
     "text": [
      "Evaluation: 100%|██████████| 7/7 [00:00<00:00, 13.04it/s]"
     ]
    },
    {
     "name": "stdout",
     "output_type": "stream",
     "text": [
      "--- Eval epoch-34, step-1750 ---\n",
      "pr_auc_samples: 0.7447\n",
      "loss: 0.1860\n",
      "\n"
     ]
    },
    {
     "name": "stderr",
     "output_type": "stream",
     "text": [
      "\n"
     ]
    },
    {
     "data": {
      "application/vnd.jupyter.widget-view+json": {
       "model_id": "6f3df2c4441d4f21929600b99a9583f5",
       "version_major": 2,
       "version_minor": 0
      },
      "text/plain": [
       "Epoch 35 / 50:   0%|          | 0/50 [00:00<?, ?it/s]"
      ]
     },
     "metadata": {},
     "output_type": "display_data"
    },
    {
     "name": "stdout",
     "output_type": "stream",
     "text": [
      "--- Train epoch-35, step-1800 ---\n",
      "loss: 0.1593\n"
     ]
    },
    {
     "name": "stderr",
     "output_type": "stream",
     "text": [
      "Evaluation: 100%|██████████| 7/7 [00:00<00:00, 12.11it/s]"
     ]
    },
    {
     "name": "stdout",
     "output_type": "stream",
     "text": [
      "--- Eval epoch-35, step-1800 ---\n",
      "pr_auc_samples: 0.7510\n",
      "loss: 0.1776\n",
      "New best pr_auc_samples score (0.7510) at epoch-35, step-1800\n",
      "\n"
     ]
    },
    {
     "name": "stderr",
     "output_type": "stream",
     "text": [
      "\n"
     ]
    },
    {
     "data": {
      "application/vnd.jupyter.widget-view+json": {
       "model_id": "6b140947d61c4ebe86ab6fae0a00a6f9",
       "version_major": 2,
       "version_minor": 0
      },
      "text/plain": [
       "Epoch 36 / 50:   0%|          | 0/50 [00:00<?, ?it/s]"
      ]
     },
     "metadata": {},
     "output_type": "display_data"
    },
    {
     "name": "stdout",
     "output_type": "stream",
     "text": [
      "--- Train epoch-36, step-1850 ---\n",
      "loss: 0.1569\n"
     ]
    },
    {
     "name": "stderr",
     "output_type": "stream",
     "text": [
      "Evaluation: 100%|██████████| 7/7 [00:00<00:00, 11.15it/s]"
     ]
    },
    {
     "name": "stdout",
     "output_type": "stream",
     "text": [
      "--- Eval epoch-36, step-1850 ---\n",
      "pr_auc_samples: 0.7516\n",
      "loss: 0.1820\n",
      "New best pr_auc_samples score (0.7516) at epoch-36, step-1850\n",
      "\n"
     ]
    },
    {
     "name": "stderr",
     "output_type": "stream",
     "text": [
      "\n"
     ]
    },
    {
     "data": {
      "application/vnd.jupyter.widget-view+json": {
       "model_id": "09c3d2074ac0450b9435cf94495027cc",
       "version_major": 2,
       "version_minor": 0
      },
      "text/plain": [
       "Epoch 37 / 50:   0%|          | 0/50 [00:00<?, ?it/s]"
      ]
     },
     "metadata": {},
     "output_type": "display_data"
    },
    {
     "name": "stdout",
     "output_type": "stream",
     "text": [
      "--- Train epoch-37, step-1900 ---\n",
      "loss: 0.1563\n"
     ]
    },
    {
     "name": "stderr",
     "output_type": "stream",
     "text": [
      "Evaluation: 100%|██████████| 7/7 [00:00<00:00, 13.12it/s]"
     ]
    },
    {
     "name": "stdout",
     "output_type": "stream",
     "text": [
      "--- Eval epoch-37, step-1900 ---\n",
      "pr_auc_samples: 0.7574\n",
      "loss: 0.1808\n",
      "New best pr_auc_samples score (0.7574) at epoch-37, step-1900\n"
     ]
    },
    {
     "name": "stderr",
     "output_type": "stream",
     "text": [
      "\n"
     ]
    },
    {
     "name": "stdout",
     "output_type": "stream",
     "text": [
      "\n"
     ]
    },
    {
     "data": {
      "application/vnd.jupyter.widget-view+json": {
       "model_id": "da271172a39f45e0aeba0dea9fd01a79",
       "version_major": 2,
       "version_minor": 0
      },
      "text/plain": [
       "Epoch 38 / 50:   0%|          | 0/50 [00:00<?, ?it/s]"
      ]
     },
     "metadata": {},
     "output_type": "display_data"
    },
    {
     "name": "stdout",
     "output_type": "stream",
     "text": [
      "--- Train epoch-38, step-1950 ---\n",
      "loss: 0.1551\n"
     ]
    },
    {
     "name": "stderr",
     "output_type": "stream",
     "text": [
      "Evaluation: 100%|██████████| 7/7 [00:00<00:00, 11.69it/s]"
     ]
    },
    {
     "name": "stdout",
     "output_type": "stream",
     "text": [
      "--- Eval epoch-38, step-1950 ---\n",
      "pr_auc_samples: 0.7629\n",
      "loss: 0.1817\n",
      "New best pr_auc_samples score (0.7629) at epoch-38, step-1950\n"
     ]
    },
    {
     "name": "stderr",
     "output_type": "stream",
     "text": [
      "\n"
     ]
    },
    {
     "name": "stdout",
     "output_type": "stream",
     "text": [
      "\n"
     ]
    },
    {
     "data": {
      "application/vnd.jupyter.widget-view+json": {
       "model_id": "a9961c6e69894ebe9188370ea2cd72fe",
       "version_major": 2,
       "version_minor": 0
      },
      "text/plain": [
       "Epoch 39 / 50:   0%|          | 0/50 [00:00<?, ?it/s]"
      ]
     },
     "metadata": {},
     "output_type": "display_data"
    },
    {
     "name": "stdout",
     "output_type": "stream",
     "text": [
      "--- Train epoch-39, step-2000 ---\n",
      "loss: 0.1543\n"
     ]
    },
    {
     "name": "stderr",
     "output_type": "stream",
     "text": [
      "Evaluation: 100%|██████████| 7/7 [00:00<00:00,  8.78it/s]\n"
     ]
    },
    {
     "name": "stdout",
     "output_type": "stream",
     "text": [
      "--- Eval epoch-39, step-2000 ---\n",
      "pr_auc_samples: 0.7599\n",
      "loss: 0.1805\n",
      "\n"
     ]
    },
    {
     "data": {
      "application/vnd.jupyter.widget-view+json": {
       "model_id": "aeaf357c2941405891b2631a51c6ef34",
       "version_major": 2,
       "version_minor": 0
      },
      "text/plain": [
       "Epoch 40 / 50:   0%|          | 0/50 [00:00<?, ?it/s]"
      ]
     },
     "metadata": {},
     "output_type": "display_data"
    },
    {
     "name": "stdout",
     "output_type": "stream",
     "text": [
      "--- Train epoch-40, step-2050 ---\n",
      "loss: 0.1533\n"
     ]
    },
    {
     "name": "stderr",
     "output_type": "stream",
     "text": [
      "Evaluation: 100%|██████████| 7/7 [00:01<00:00,  5.25it/s]"
     ]
    },
    {
     "name": "stdout",
     "output_type": "stream",
     "text": [
      "--- Eval epoch-40, step-2050 ---\n",
      "pr_auc_samples: 0.7631\n",
      "loss: 0.1749\n",
      "New best pr_auc_samples score (0.7631) at epoch-40, step-2050\n",
      "\n"
     ]
    },
    {
     "name": "stderr",
     "output_type": "stream",
     "text": [
      "\n"
     ]
    },
    {
     "data": {
      "application/vnd.jupyter.widget-view+json": {
       "model_id": "12f06b845c2f47a8bbcc8a2b094a80ef",
       "version_major": 2,
       "version_minor": 0
      },
      "text/plain": [
       "Epoch 41 / 50:   0%|          | 0/50 [00:00<?, ?it/s]"
      ]
     },
     "metadata": {},
     "output_type": "display_data"
    },
    {
     "name": "stdout",
     "output_type": "stream",
     "text": [
      "--- Train epoch-41, step-2100 ---\n",
      "loss: 0.1535\n"
     ]
    },
    {
     "name": "stderr",
     "output_type": "stream",
     "text": [
      "Evaluation: 100%|██████████| 7/7 [00:00<00:00,  9.94it/s]\n"
     ]
    },
    {
     "name": "stdout",
     "output_type": "stream",
     "text": [
      "--- Eval epoch-41, step-2100 ---\n",
      "pr_auc_samples: 0.7683\n",
      "loss: 0.1754\n",
      "New best pr_auc_samples score (0.7683) at epoch-41, step-2100\n",
      "\n"
     ]
    },
    {
     "data": {
      "application/vnd.jupyter.widget-view+json": {
       "model_id": "ad13447b56df425c9a24fc0ea4e8eff8",
       "version_major": 2,
       "version_minor": 0
      },
      "text/plain": [
       "Epoch 42 / 50:   0%|          | 0/50 [00:00<?, ?it/s]"
      ]
     },
     "metadata": {},
     "output_type": "display_data"
    },
    {
     "name": "stdout",
     "output_type": "stream",
     "text": [
      "--- Train epoch-42, step-2150 ---\n",
      "loss: 0.1522\n"
     ]
    },
    {
     "name": "stderr",
     "output_type": "stream",
     "text": [
      "Evaluation: 100%|██████████| 7/7 [00:01<00:00,  4.76it/s]"
     ]
    },
    {
     "name": "stdout",
     "output_type": "stream",
     "text": [
      "--- Eval epoch-42, step-2150 ---\n",
      "pr_auc_samples: 0.7646\n",
      "loss: 0.1712\n",
      "\n"
     ]
    },
    {
     "name": "stderr",
     "output_type": "stream",
     "text": [
      "\n"
     ]
    },
    {
     "data": {
      "application/vnd.jupyter.widget-view+json": {
       "model_id": "3dc7a418bce74e99b834d790db94e2f0",
       "version_major": 2,
       "version_minor": 0
      },
      "text/plain": [
       "Epoch 43 / 50:   0%|          | 0/50 [00:00<?, ?it/s]"
      ]
     },
     "metadata": {},
     "output_type": "display_data"
    },
    {
     "name": "stdout",
     "output_type": "stream",
     "text": [
      "--- Train epoch-43, step-2200 ---\n",
      "loss: 0.1496\n"
     ]
    },
    {
     "name": "stderr",
     "output_type": "stream",
     "text": [
      "Evaluation: 100%|██████████| 7/7 [00:00<00:00,  9.79it/s]"
     ]
    },
    {
     "name": "stdout",
     "output_type": "stream",
     "text": [
      "--- Eval epoch-43, step-2200 ---\n",
      "pr_auc_samples: 0.7689\n",
      "loss: 0.1789\n",
      "New best pr_auc_samples score (0.7689) at epoch-43, step-2200\n"
     ]
    },
    {
     "name": "stderr",
     "output_type": "stream",
     "text": [
      "\n"
     ]
    },
    {
     "name": "stdout",
     "output_type": "stream",
     "text": [
      "\n"
     ]
    },
    {
     "data": {
      "application/vnd.jupyter.widget-view+json": {
       "model_id": "f250226de417446d933a8ef1348f364d",
       "version_major": 2,
       "version_minor": 0
      },
      "text/plain": [
       "Epoch 44 / 50:   0%|          | 0/50 [00:00<?, ?it/s]"
      ]
     },
     "metadata": {},
     "output_type": "display_data"
    },
    {
     "name": "stdout",
     "output_type": "stream",
     "text": [
      "--- Train epoch-44, step-2250 ---\n",
      "loss: 0.1506\n"
     ]
    },
    {
     "name": "stderr",
     "output_type": "stream",
     "text": [
      "Evaluation: 100%|██████████| 7/7 [00:01<00:00,  6.06it/s]\n"
     ]
    },
    {
     "name": "stdout",
     "output_type": "stream",
     "text": [
      "--- Eval epoch-44, step-2250 ---\n",
      "pr_auc_samples: 0.7692\n",
      "loss: 0.1712\n",
      "New best pr_auc_samples score (0.7692) at epoch-44, step-2250\n",
      "\n"
     ]
    },
    {
     "data": {
      "application/vnd.jupyter.widget-view+json": {
       "model_id": "8fc708ea9f9548559baac4157a204bd2",
       "version_major": 2,
       "version_minor": 0
      },
      "text/plain": [
       "Epoch 45 / 50:   0%|          | 0/50 [00:00<?, ?it/s]"
      ]
     },
     "metadata": {},
     "output_type": "display_data"
    },
    {
     "name": "stdout",
     "output_type": "stream",
     "text": [
      "--- Train epoch-45, step-2300 ---\n",
      "loss: 0.1501\n"
     ]
    },
    {
     "name": "stderr",
     "output_type": "stream",
     "text": [
      "Evaluation: 100%|██████████| 7/7 [00:00<00:00, 12.51it/s]\n"
     ]
    },
    {
     "name": "stdout",
     "output_type": "stream",
     "text": [
      "--- Eval epoch-45, step-2300 ---\n",
      "pr_auc_samples: 0.7678\n",
      "loss: 0.1724\n",
      "\n"
     ]
    },
    {
     "data": {
      "application/vnd.jupyter.widget-view+json": {
       "model_id": "4b8bee5cf184492cbe1c663c6473ca89",
       "version_major": 2,
       "version_minor": 0
      },
      "text/plain": [
       "Epoch 46 / 50:   0%|          | 0/50 [00:00<?, ?it/s]"
      ]
     },
     "metadata": {},
     "output_type": "display_data"
    },
    {
     "name": "stdout",
     "output_type": "stream",
     "text": [
      "--- Train epoch-46, step-2350 ---\n",
      "loss: 0.1485\n"
     ]
    },
    {
     "name": "stderr",
     "output_type": "stream",
     "text": [
      "Evaluation: 100%|██████████| 7/7 [00:00<00:00, 12.79it/s]"
     ]
    },
    {
     "name": "stdout",
     "output_type": "stream",
     "text": [
      "--- Eval epoch-46, step-2350 ---\n",
      "pr_auc_samples: 0.7696\n",
      "loss: 0.1707\n",
      "New best pr_auc_samples score (0.7696) at epoch-46, step-2350\n",
      "\n"
     ]
    },
    {
     "name": "stderr",
     "output_type": "stream",
     "text": [
      "\n"
     ]
    },
    {
     "data": {
      "application/vnd.jupyter.widget-view+json": {
       "model_id": "81bd858180b648ebbe86909872558c54",
       "version_major": 2,
       "version_minor": 0
      },
      "text/plain": [
       "Epoch 47 / 50:   0%|          | 0/50 [00:00<?, ?it/s]"
      ]
     },
     "metadata": {},
     "output_type": "display_data"
    },
    {
     "name": "stdout",
     "output_type": "stream",
     "text": [
      "--- Train epoch-47, step-2400 ---\n",
      "loss: 0.1479\n"
     ]
    },
    {
     "name": "stderr",
     "output_type": "stream",
     "text": [
      "Evaluation: 100%|██████████| 7/7 [00:00<00:00, 13.11it/s]"
     ]
    },
    {
     "name": "stdout",
     "output_type": "stream",
     "text": [
      "--- Eval epoch-47, step-2400 ---\n",
      "pr_auc_samples: 0.7751\n",
      "loss: 0.1757\n",
      "New best pr_auc_samples score (0.7751) at epoch-47, step-2400\n",
      "\n"
     ]
    },
    {
     "name": "stderr",
     "output_type": "stream",
     "text": [
      "\n"
     ]
    },
    {
     "data": {
      "application/vnd.jupyter.widget-view+json": {
       "model_id": "e8bcb89c85f44000bf12874f4d7b6bc2",
       "version_major": 2,
       "version_minor": 0
      },
      "text/plain": [
       "Epoch 48 / 50:   0%|          | 0/50 [00:00<?, ?it/s]"
      ]
     },
     "metadata": {},
     "output_type": "display_data"
    },
    {
     "name": "stdout",
     "output_type": "stream",
     "text": [
      "--- Train epoch-48, step-2450 ---\n",
      "loss: 0.1469\n"
     ]
    },
    {
     "name": "stderr",
     "output_type": "stream",
     "text": [
      "Evaluation: 100%|██████████| 7/7 [00:00<00:00, 12.95it/s]"
     ]
    },
    {
     "name": "stdout",
     "output_type": "stream",
     "text": [
      "--- Eval epoch-48, step-2450 ---\n",
      "pr_auc_samples: 0.7747\n",
      "loss: 0.1727\n",
      "\n"
     ]
    },
    {
     "name": "stderr",
     "output_type": "stream",
     "text": [
      "\n"
     ]
    },
    {
     "data": {
      "application/vnd.jupyter.widget-view+json": {
       "model_id": "05b13622d9404b5cbe2ab25de585fc1e",
       "version_major": 2,
       "version_minor": 0
      },
      "text/plain": [
       "Epoch 49 / 50:   0%|          | 0/50 [00:00<?, ?it/s]"
      ]
     },
     "metadata": {},
     "output_type": "display_data"
    },
    {
     "name": "stdout",
     "output_type": "stream",
     "text": [
      "--- Train epoch-49, step-2500 ---\n",
      "loss: 0.1464\n"
     ]
    },
    {
     "name": "stderr",
     "output_type": "stream",
     "text": [
      "Evaluation: 100%|██████████| 7/7 [00:00<00:00, 12.12it/s]\n"
     ]
    },
    {
     "name": "stdout",
     "output_type": "stream",
     "text": [
      "--- Eval epoch-49, step-2500 ---\n",
      "pr_auc_samples: 0.7829\n",
      "loss: 0.1693\n",
      "New best pr_auc_samples score (0.7829) at epoch-49, step-2500\n",
      "Loaded best model\n"
     ]
    },
    {
     "data": {
      "image/png": "[encoded data removed]",
      "text/plain": [
       "<Figure size 640x480 with 1 Axes>"
      ]
     },
     "metadata": {},
     "output_type": "display_data"
    }
   ],
   "source": [
    "from pyhealth.trainer import Trainer\n",
    "\n",
    "trainer = Trainer(model=model)\n",
    "trainer.train(\n",
    "    model_name=\"gnn\",\n",
    "    train_dataloader=train_loader,\n",
    "    val_dataloader=val_loader,\n",
    "    epochs=50,\n",
    "    optimizer_params = {\"lr\": 2 * 1e-4},\n",
    "    monitor=\"pr_auc_samples\",\n",
    "    monitor_criterion=\"max\",\n",
    ")"
   ]
  },
  {
   "cell_type": "markdown",
   "metadata": {},
   "source": [
    "### Results"
   ]
  },
  {
   "attachments": {
    "image-2.png": {
     "image/png": "[encoded data removed]"
    }
   },
   "cell_type": "markdown",
   "metadata": {},
   "source": [
    "loss: 0.0714\n",
    "New best pr_auc_samples score (0.7785) at epoch-49, step-2550\n",
    "\n",
    "![image-2.png](attachment:image-2.png)"
   ]
  },
  {
   "cell_type": "markdown",
   "metadata": {},
   "source": [
    "### Inference"
   ]
  },
  {
   "cell_type": "code",
   "execution_count": 11,
   "metadata": {},
   "outputs": [
    {
     "name": "stderr",
     "output_type": "stream",
     "text": [
      "Evaluation: 100%|██████████| 7/7 [00:01<00:00,  6.54it/s]"
     ]
    },
    {
     "name": "stdout",
     "output_type": "stream",
     "text": [
      "0.15457425639033318\n"
     ]
    },
    {
     "name": "stderr",
     "output_type": "stream",
     "text": [
      "\n"
     ]
    }
   ],
   "source": [
    "from pyhealth.metrics import multilabel_metrics_fn\n",
    "\n",
    "y_true, y_prob, loss = trainer.inference(test_loader)\n",
    "print(loss)"
   ]
  },
  {
   "cell_type": "code",
   "execution_count": 12,
   "metadata": {},
   "outputs": [
    {
     "name": "stdout",
     "output_type": "stream",
     "text": [
      "(200, 406)\n",
      "(75482,)\n",
      "(5718,)\n"
     ]
    }
   ],
   "source": [
    "print(y_true.shape)\n",
    "\n",
    "print(y_true[y_true == 0].shape)\n",
    "print(y_true[y_true == 1].shape)"
   ]
  },
  {
   "cell_type": "code",
   "execution_count": 13,
   "metadata": {},
   "outputs": [
    {
     "name": "stdout",
     "output_type": "stream",
     "text": [
      "(200, 406)\n",
      "0.9998907\n",
      "6.1621704e-13\n"
     ]
    }
   ],
   "source": [
    "print(y_prob.shape)\n",
    "print(y_prob.max())\n",
    "print(y_prob.min())"
   ]
  },
  {
   "cell_type": "code",
   "execution_count": 14,
   "metadata": {},
   "outputs": [
    {
     "name": "stdout",
     "output_type": "stream",
     "text": [
      "[[0. 0. 0. ... 0. 1. 0.]\n",
      " [0. 0. 0. ... 0. 0. 0.]\n",
      " [0. 0. 0. ... 0. 1. 0.]\n",
      " ...\n",
      " [0. 1. 0. ... 0. 1. 0.]\n",
      " [0. 0. 0. ... 0. 1. 0.]\n",
      " [0. 0. 0. ... 0. 1. 0.]]\n",
      "------------------\n",
      "[[0. 1. 0. ... 0. 1. 0.]\n",
      " [0. 1. 0. ... 1. 1. 0.]\n",
      " [0. 0. 0. ... 1. 1. 0.]\n",
      " ...\n",
      " [0. 1. 0. ... 0. 1. 0.]\n",
      " [0. 0. 0. ... 0. 1. 0.]\n",
      " [0. 0. 0. ... 0. 1. 0.]]\n",
      "(67465,)\n",
      "(13735,)\n"
     ]
    }
   ],
   "source": [
    "print(y_true)\n",
    "print(\"------------------\")\n",
    "threshold = 0.5\n",
    "y_prob_threshold = (y_prob >= threshold).astype(float)\n",
    "print(y_prob_threshold)\n",
    "print(y_prob_threshold[y_prob_threshold == 0].shape)\n",
    "print(y_prob_threshold[y_prob_threshold == 1].shape)"
   ]
  },
  {
   "cell_type": "code",
   "execution_count": 15,
   "metadata": {},
   "outputs": [
    {
     "data": {
      "text/plain": [
       "{'accuracy': 0.898435960591133,\n",
       " 'f1_samples': 0.568359469065968,\n",
       " 'pr_auc_samples': 0.7828398776050892,\n",
       " 'jaccard_samples': 0.4119778575685856,\n",
       " 'precision_samples': 0.4165912095307395,\n",
       " 'recall_samples': 0.9801776874335935}"
      ]
     },
     "execution_count": 15,
     "metadata": {},
     "output_type": "execute_result"
    }
   ],
   "source": [
    "# risultati\n",
    "metrics = [\"accuracy\", \"f1_samples\", \"pr_auc_samples\", \"jaccard_samples\", \"precision_samples\", \"recall_samples\"]\n",
    "multilabel_metrics_fn(y_true, y_prob, metrics=metrics, threshold=0.5)"
   ]
  },
  {
   "cell_type": "code",
   "execution_count": 16,
   "metadata": {},
   "outputs": [
    {
     "data": {
      "image/png": "[encoded data removed]",
      "text/plain": [
       "<Figure size 640x480 with 2 Axes>"
      ]
     },
     "metadata": {},
     "output_type": "display_data"
    }
   ],
   "source": [
    "from sklearn.metrics import confusion_matrix\n",
    "import matplotlib.pyplot as plt\n",
    "import seaborn as sns\n",
    "\n",
    "conf_matrix = confusion_matrix(y_true.flatten(), y_prob_threshold.flatten())\n",
    "\n",
    "sns.heatmap(conf_matrix, annot=True, cmap=\"Blues\", fmt=\".0f\")\n",
    "plt.xlabel(\"Predicted Labels\")\n",
    "plt.ylabel(\"True Labels\")\n",
    "plt.title(\"Confusion Matrix\")\n",
    "plt.show()"
   ]
  },
  {
   "cell_type": "markdown",
   "metadata": {},
   "source": [
    "### Interpret with HeteroExplainer"
   ]
  },
  {
   "cell_type": "code",
   "execution_count": 139,
   "metadata": {},
   "outputs": [],
   "source": [
    "from pyhealth.datasets import SampleEHRDataset\n",
    "\n",
    "# Dizionario per tenere traccia dell'ultima visita per ciascun paziente\n",
    "last_visit_per_patient = {}\n",
    "\n",
    "# Iterare attraverso le visite\n",
    "for visit in test_loader.dataset:\n",
    "    patient_id = visit['patient_id']\n",
    "    visit_id = visit['visit_id']\n",
    "\n",
    "    # Se il paziente è già nel dizionario e la visita corrente è più recente, aggiorna\n",
    "    if patient_id in last_visit_per_patient:\n",
    "        if visit_id > last_visit_per_patient[patient_id]['visit_id']:\n",
    "            last_visit_per_patient[patient_id] = visit\n",
    "    else:\n",
    "        # Altrimenti, aggiungi il paziente con la visita corrente\n",
    "        last_visit_per_patient[patient_id] = visit\n",
    "\n",
    "explain_dataset = SampleEHRDataset(list(last_visit_per_patient.values()), code_vocs=\"ATC\")"
   ]
  },
  {
   "cell_type": "code",
   "execution_count": 17,
   "metadata": {},
   "outputs": [
    {
     "name": "stdout",
     "output_type": "stream",
     "text": [
      "Test originale: 198; Test ridotto: 91; Riduzione del 45.95959595959596%\n"
     ]
    }
   ],
   "source": [
    "print(f\"Test originale: {len(test_ds)}; Test ridotto: {len(explain_dataset)}; Riduzione del {(100 * len(explain_dataset)) / len(test_ds)}%\")"
   ]
  },
  {
   "cell_type": "code",
   "execution_count": 18,
   "metadata": {},
   "outputs": [
    {
     "name": "stdout",
     "output_type": "stream",
     "text": [
      "The autoreload extension is already loaded. To reload it, use:\n",
      "  %reload_ext autoreload\n"
     ]
    },
    {
     "data": {
      "text/plain": [
       "<module 'pyhealth.explainer' from 'c:\\\\users\\\\giuse\\\\desktop\\\\msc-thesis-project\\\\proj_venv\\\\src\\\\pyhealth\\\\pyhealth\\\\explainer.py'>"
      ]
     },
     "execution_count": 18,
     "metadata": {},
     "output_type": "execute_result"
    }
   ],
   "source": [
    "%load_ext autoreload\n",
    "%autoreload 2\n",
    "\n",
    "import importlib\n",
    "import pyhealth.explainer\n",
    "\n",
    "importlib.reload(pyhealth.explainer)"
   ]
  },
  {
   "cell_type": "code",
   "execution_count": 38,
   "metadata": {},
   "outputs": [],
   "source": [
    "from pyhealth.explainer import HeteroGraphExplainer\n",
    "\n",
    "explainer = HeteroGraphExplainer(\n",
    "    algorithm=\"GNNExplainer\",\n",
    "    dataset=test_loader.dataset,\n",
    "    model=model,\n",
    "    label_key=\"medications\",\n",
    "    threshold_value=15,\n",
    "    top_k=15,\n",
    "    feat_size=128,\n",
    ")"
   ]
  },
  {
   "cell_type": "code",
   "execution_count": 20,
   "metadata": {},
   "outputs": [
    {
     "name": "stdout",
     "output_type": "stream",
     "text": [
      "Index range for patient: 66 - visit: 148 - n=[0 to 14]\n",
      "Index range for patient: 66 - visit: 149 - n=[15 to 28]\n",
      "Index range for patient: 65 - visit: 146 - n=[29 to 51]\n",
      "Index range for patient: 65 - visit: 147 - n=[52 to 78]\n",
      "Index range for patient: 85 - visit: 188 - n=[79 to 103]\n",
      "Index range for patient: 85 - visit: 189 - n=[104 to 138]\n",
      "Index range for patient: 80 - visit: 176 - n=[139 to 158]\n",
      "Index range for patient: 80 - visit: 177 - n=[159 to 195]\n",
      "Index range for patient: 64 - visit: 142 - n=[196 to 235]\n",
      "Index range for patient: 64 - visit: 143 - n=[236 to 251]\n",
      "Index range for patient: 64 - visit: 144 - n=[252 to 278]\n",
      "Index range for patient: 64 - visit: 145 - n=[279 to 316]\n",
      "Index range for patient: 77 - visit: 170 - n=[317 to 342]\n",
      "Index range for patient: 77 - visit: 171 - n=[343 to 365]\n",
      "Index range for patient: 22 - visit: 53 - n=[366 to 398]\n",
      "Index range for patient: 22 - visit: 54 - n=[399 to 420]\n",
      "Index range for patient: 48 - visit: 109 - n=[421 to 441]\n",
      "Index range for patient: 48 - visit: 110 - n=[442 to 466]\n",
      "Index range for patient: 48 - visit: 111 - n=[467 to 521]\n",
      "Index range for patient: 15 - visit: 37 - n=[522 to 533]\n",
      "Index range for patient: 15 - visit: 38 - n=[534 to 561]\n",
      "Index range for patient: 73 - visit: 162 - n=[562 to 588]\n",
      "Index range for patient: 73 - visit: 163 - n=[589 to 620]\n",
      "Index range for patient: 81 - visit: 178 - n=[621 to 663]\n",
      "Index range for patient: 81 - visit: 179 - n=[664 to 696]\n",
      "Index range for patient: 8 - visit: 19 - n=[697 to 721]\n",
      "Index range for patient: 8 - visit: 20 - n=[722 to 750]\n",
      "Index range for patient: 69 - visit: 154 - n=[751 to 781]\n",
      "Index range for patient: 69 - visit: 155 - n=[782 to 813]\n",
      "Index range for patient: 41 - visit: 94 - n=[814 to 858]\n",
      "Index range for patient: 41 - visit: 95 - n=[859 to 880]\n",
      "Index range for patient: 41 - visit: 96 - n=[881 to 907]\n",
      "Index range for patient: 79 - visit: 174 - n=[908 to 943]\n",
      "Index range for patient: 79 - visit: 175 - n=[944 to 972]\n",
      "Index range for patient: 67 - visit: 150 - n=[973 to 1013]\n",
      "Index range for patient: 67 - visit: 151 - n=[1014 to 1052]\n",
      "Index range for patient: 37 - visit: 83 - n=[1053 to 1084]\n",
      "Index range for patient: 37 - visit: 84 - n=[1085 to 1096]\n",
      "Index range for patient: 37 - visit: 85 - n=[1097 to 1111]\n",
      "Index range for patient: 40 - visit: 90 - n=[1112 to 1126]\n",
      "Index range for patient: 40 - visit: 91 - n=[1127 to 1141]\n",
      "Index range for patient: 40 - visit: 92 - n=[1142 to 1158]\n",
      "Index range for patient: 40 - visit: 93 - n=[1159 to 1182]\n",
      "Index range for patient: 61 - visit: 136 - n=[1183 to 1201]\n",
      "Index range for patient: 61 - visit: 137 - n=[1202 to 1260]\n",
      "Index range for patient: 14 - visit: 35 - n=[1261 to 1280]\n",
      "Index range for patient: 14 - visit: 36 - n=[1281 to 1325]\n",
      "Index range for patient: 68 - visit: 152 - n=[1326 to 1345]\n",
      "Index range for patient: 68 - visit: 153 - n=[1346 to 1388]\n",
      "Index range for patient: 31 - visit: 71 - n=[1389 to 1415]\n",
      "Index range for patient: 31 - visit: 72 - n=[1416 to 1464]\n",
      "Index range for patient: 23 - visit: 55 - n=[1465 to 1497]\n",
      "Index range for patient: 23 - visit: 56 - n=[1498 to 1526]\n",
      "Index range for patient: 46 - visit: 105 - n=[1527 to 1578]\n",
      "Index range for patient: 46 - visit: 106 - n=[1579 to 1602]\n",
      "Index range for patient: 55 - visit: 124 - n=[1603 to 1630]\n",
      "Index range for patient: 55 - visit: 125 - n=[1631 to 1659]\n",
      "Index range for patient: 84 - visit: 186 - n=[1660 to 1679]\n",
      "Index range for patient: 84 - visit: 187 - n=[1680 to 1687]\n",
      "Index range for patient: 49 - visit: 112 - n=[1688 to 1713]\n",
      "Index range for patient: 49 - visit: 113 - n=[1714 to 1756]\n",
      "Index range for patient: 11 - visit: 29 - n=[1757 to 1790]\n",
      "Index range for patient: 11 - visit: 30 - n=[1791 to 1813]\n",
      "Index range for patient: 16 - visit: 39 - n=[1814 to 1831]\n",
      "Index range for patient: 16 - visit: 40 - n=[1832 to 1855]\n",
      "Index range for patient: 10 - visit: 24 - n=[1856 to 1879]\n",
      "Index range for patient: 10 - visit: 25 - n=[1880 to 1902]\n",
      "Index range for patient: 10 - visit: 26 - n=[1903 to 1929]\n",
      "Index range for patient: 10 - visit: 27 - n=[1930 to 1958]\n",
      "Index range for patient: 10 - visit: 28 - n=[1959 to 1986]\n",
      "Index range for patient: 59 - visit: 132 - n=[1987 to 2003]\n",
      "Index range for patient: 59 - visit: 133 - n=[2004 to 2034]\n",
      "Index range for patient: 63 - visit: 140 - n=[2035 to 2049]\n",
      "Index range for patient: 63 - visit: 141 - n=[2050 to 2089]\n",
      "Index range for patient: 36 - visit: 81 - n=[2090 to 2101]\n",
      "Index range for patient: 36 - visit: 82 - n=[2102 to 2120]\n",
      "Index range for patient: 82 - visit: 180 - n=[2121 to 2153]\n",
      "Index range for patient: 82 - visit: 181 - n=[2154 to 2173]\n",
      "Index range for patient: 82 - visit: 182 - n=[2174 to 2259]\n",
      "Index range for patient: 82 - visit: 183 - n=[2260 to 2271]\n",
      "Index range for patient: 54 - visit: 122 - n=[2272 to 2282]\n",
      "Index range for patient: 54 - visit: 123 - n=[2283 to 2292]\n",
      "Index range for patient: 88 - visit: 194 - n=[2293 to 2308]\n",
      "Index range for patient: 88 - visit: 195 - n=[2309 to 2348]\n",
      "Index range for patient: 0 - visit: 0 - n=[2349 to 2370]\n",
      "Index range for patient: 0 - visit: 1 - n=[2371 to 2399]\n",
      "Index range for patient: 42 - visit: 97 - n=[2400 to 2412]\n",
      "Index range for patient: 42 - visit: 98 - n=[2413 to 2432]\n",
      "Index range for patient: 25 - visit: 59 - n=[2433 to 2517]\n",
      "Index range for patient: 25 - visit: 60 - n=[2518 to 2544]\n",
      "Index range for patient: 21 - visit: 50 - n=[2545 to 2622]\n",
      "Index range for patient: 21 - visit: 51 - n=[2623 to 2639]\n",
      "Index range for patient: 21 - visit: 52 - n=[2640 to 2662]\n",
      "Index range for patient: 90 - visit: 198 - n=[2663 to 2684]\n",
      "Index range for patient: 90 - visit: 199 - n=[2685 to 2711]\n",
      "Index range for patient: 38 - visit: 86 - n=[2712 to 2746]\n",
      "Index range for patient: 38 - visit: 87 - n=[2747 to 2767]\n",
      "Index range for patient: 28 - visit: 65 - n=[2768 to 2790]\n",
      "Index range for patient: 28 - visit: 66 - n=[2791 to 2822]\n",
      "Index range for patient: 7 - visit: 17 - n=[2823 to 2860]\n",
      "Index range for patient: 7 - visit: 18 - n=[2861 to 2885]\n",
      "Index range for patient: 72 - visit: 160 - n=[2886 to 2911]\n",
      "Index range for patient: 72 - visit: 161 - n=[2912 to 2926]\n",
      "Index range for patient: 87 - visit: 192 - n=[2927 to 2970]\n",
      "Index range for patient: 87 - visit: 193 - n=[2971 to 2988]\n",
      "Index range for patient: 39 - visit: 88 - n=[2989 to 3006]\n",
      "Index range for patient: 39 - visit: 89 - n=[3007 to 3037]\n",
      "Index range for patient: 2 - visit: 4 - n=[3038 to 3042]\n",
      "Index range for patient: 2 - visit: 5 - n=[3043 to 3044]\n",
      "Index range for patient: 86 - visit: 190 - n=[3045 to 3077]\n",
      "Index range for patient: 86 - visit: 191 - n=[3078 to 3122]\n",
      "Index range for patient: 5 - visit: 10 - n=[3123 to 3175]\n",
      "Index range for patient: 5 - visit: 11 - n=[3176 to 3203]\n",
      "Index range for patient: 5 - visit: 12 - n=[3204 to 3221]\n",
      "Index range for patient: 74 - visit: 164 - n=[3222 to 3240]\n",
      "Index range for patient: 74 - visit: 165 - n=[3241 to 3253]\n",
      "Index range for patient: 1 - visit: 2 - n=[3254 to 3282]\n",
      "Index range for patient: 1 - visit: 3 - n=[3283 to 3299]\n",
      "Index range for patient: 30 - visit: 69 - n=[3300 to 3323]\n",
      "Index range for patient: 30 - visit: 70 - n=[3324 to 3343]\n",
      "Index range for patient: 20 - visit: 48 - n=[3344 to 3384]\n",
      "Index range for patient: 20 - visit: 49 - n=[3385 to 3428]\n",
      "Index range for patient: 4 - visit: 8 - n=[3429 to 3448]\n",
      "Index range for patient: 4 - visit: 9 - n=[3449 to 3473]\n",
      "Index range for patient: 71 - visit: 158 - n=[3474 to 3492]\n",
      "Index range for patient: 71 - visit: 159 - n=[3493 to 3509]\n",
      "Index range for patient: 76 - visit: 168 - n=[3510 to 3527]\n",
      "Index range for patient: 76 - visit: 169 - n=[3528 to 3545]\n",
      "Index range for patient: 26 - visit: 61 - n=[3546 to 3560]\n",
      "Index range for patient: 26 - visit: 62 - n=[3561 to 3593]\n",
      "Index range for patient: 50 - visit: 114 - n=[3594 to 3618]\n",
      "Index range for patient: 50 - visit: 115 - n=[3619 to 3641]\n",
      "Index range for patient: 6 - visit: 13 - n=[3642 to 3676]\n",
      "Index range for patient: 6 - visit: 14 - n=[3677 to 3703]\n",
      "Index range for patient: 6 - visit: 15 - n=[3704 to 3727]\n",
      "Index range for patient: 6 - visit: 16 - n=[3728 to 3752]\n",
      "Index range for patient: 13 - visit: 33 - n=[3753 to 3766]\n",
      "Index range for patient: 13 - visit: 34 - n=[3767 to 3792]\n",
      "Index range for patient: 53 - visit: 120 - n=[3793 to 3839]\n",
      "Index range for patient: 53 - visit: 121 - n=[3840 to 3858]\n",
      "Index range for patient: 32 - visit: 73 - n=[3859 to 3893]\n",
      "Index range for patient: 32 - visit: 74 - n=[3894 to 3921]\n",
      "Index range for patient: 70 - visit: 156 - n=[3922 to 3942]\n",
      "Index range for patient: 70 - visit: 157 - n=[3943 to 3964]\n",
      "Index range for patient: 29 - visit: 67 - n=[3965 to 4010]\n",
      "Index range for patient: 29 - visit: 68 - n=[4011 to 4046]\n",
      "Index range for patient: 58 - visit: 130 - n=[4047 to 4081]\n",
      "Index range for patient: 58 - visit: 131 - n=[4082 to 4116]\n",
      "Index range for patient: 57 - visit: 128 - n=[4117 to 4132]\n",
      "Index range for patient: 57 - visit: 129 - n=[4133 to 4173]\n",
      "Index range for patient: 17 - visit: 41 - n=[4174 to 4203]\n",
      "Index range for patient: 17 - visit: 42 - n=[4204 to 4228]\n",
      "Index range for patient: 17 - visit: 43 - n=[4229 to 4252]\n",
      "Index range for patient: 3 - visit: 6 - n=[4253 to 4281]\n",
      "Index range for patient: 3 - visit: 7 - n=[4282 to 4367]\n",
      "Index range for patient: 35 - visit: 79 - n=[4368 to 4407]\n",
      "Index range for patient: 35 - visit: 80 - n=[4408 to 4450]\n",
      "Index range for patient: 62 - visit: 138 - n=[4451 to 4480]\n",
      "Index range for patient: 62 - visit: 139 - n=[4481 to 4523]\n",
      "Index range for patient: 45 - visit: 103 - n=[4524 to 4579]\n",
      "Index range for patient: 45 - visit: 104 - n=[4580 to 4600]\n",
      "Index range for patient: 60 - visit: 134 - n=[4601 to 4625]\n",
      "Index range for patient: 60 - visit: 135 - n=[4626 to 4648]\n",
      "Index range for patient: 83 - visit: 184 - n=[4649 to 4665]\n",
      "Index range for patient: 83 - visit: 185 - n=[4666 to 4692]\n",
      "Index range for patient: 75 - visit: 166 - n=[4693 to 4724]\n",
      "Index range for patient: 75 - visit: 167 - n=[4725 to 4766]\n",
      "Index range for patient: 24 - visit: 57 - n=[4767 to 4798]\n",
      "Index range for patient: 24 - visit: 58 - n=[4799 to 4816]\n",
      "Index range for patient: 18 - visit: 44 - n=[4817 to 4850]\n",
      "Index range for patient: 18 - visit: 45 - n=[4851 to 4871]\n",
      "Index range for patient: 9 - visit: 21 - n=[4872 to 4917]\n",
      "Index range for patient: 9 - visit: 22 - n=[4918 to 4937]\n",
      "Index range for patient: 9 - visit: 23 - n=[4938 to 4965]\n",
      "Index range for patient: 51 - visit: 116 - n=[4966 to 4984]\n",
      "Index range for patient: 51 - visit: 117 - n=[4985 to 5009]\n",
      "Index range for patient: 34 - visit: 77 - n=[5010 to 5036]\n",
      "Index range for patient: 34 - visit: 78 - n=[5037 to 5072]\n",
      "Index range for patient: 12 - visit: 31 - n=[5073 to 5100]\n",
      "Index range for patient: 12 - visit: 32 - n=[5101 to 5121]\n",
      "Index range for patient: 47 - visit: 107 - n=[5122 to 5143]\n",
      "Index range for patient: 47 - visit: 108 - n=[5144 to 5154]\n",
      "Index range for patient: 33 - visit: 75 - n=[5155 to 5169]\n",
      "Index range for patient: 33 - visit: 76 - n=[5170 to 5259]\n",
      "Index range for patient: 44 - visit: 101 - n=[5260 to 5277]\n",
      "Index range for patient: 44 - visit: 102 - n=[5278 to 5326]\n",
      "Index range for patient: 89 - visit: 196 - n=[5327 to 5364]\n",
      "Index range for patient: 89 - visit: 197 - n=[5365 to 5400]\n",
      "Index range for patient: 56 - visit: 126 - n=[5401 to 5426]\n",
      "Index range for patient: 56 - visit: 127 - n=[5427 to 5449]\n",
      "Index range for patient: 52 - visit: 118 - n=[5450 to 5459]\n",
      "Index range for patient: 52 - visit: 119 - n=[5460 to 5497]\n",
      "Index range for patient: 19 - visit: 46 - n=[5498 to 5531]\n",
      "Index range for patient: 19 - visit: 47 - n=[5532 to 5566]\n",
      "Index range for patient: 78 - visit: 172 - n=[5567 to 5600]\n",
      "Index range for patient: 78 - visit: 173 - n=[5601 to 5628]\n",
      "Index range for patient: 43 - visit: 99 - n=[5629 to 5651]\n",
      "Index range for patient: 43 - visit: 100 - n=[5652 to 5687]\n",
      "Index range for patient: 27 - visit: 63 - n=[5688 to 5692]\n",
      "Index range for patient: 27 - visit: 64 - n=[5693 to 5717]\n"
     ]
    }
   ],
   "source": [
    "patient_visit = explainer.subgraph['patient', 'visit'].edge_index\n",
    "visit_drug = explainer.subgraph['visit', 'medication'].edge_index\n",
    "\n",
    "patient_visit = patient_visit.T\n",
    "visit_drug = visit_drug.T\n",
    "\n",
    "# Creare un dizionario per tenere traccia del range di indici\n",
    "index_range_per_patient_visit = {}\n",
    "max_index = 0\n",
    "\n",
    "# Iterare attraverso i dati\n",
    "for pat_vis in patient_visit:\n",
    "    # print(pat_vis)\n",
    "    key = f\"patient: {pat_vis[0]} - visit: {pat_vis[1]}\"\n",
    "    for vis_drug in visit_drug:\n",
    "        # print(vis_drug)\n",
    "        if vis_drug[0] == pat_vis[1]:\n",
    "            if key in index_range_per_patient_visit:\n",
    "                # Aggiornare l'indice massimo\n",
    "                index_range_per_patient_visit[key][1] += 1\n",
    "            else:\n",
    "                # Aggiungere al dizionario con il range di indici\n",
    "                index_range_per_patient_visit[key] = [max_index, max_index]\n",
    "    max_index = index_range_per_patient_visit[key][1] + 1\n",
    "\n",
    "# Stampare il range di indici per ciascun paziente\n",
    "for key, index_range in index_range_per_patient_visit.items():\n",
    "    print(f\"Index range for {key} - n=[{index_range[0]} to {index_range[1]}]\")"
   ]
  },
  {
   "cell_type": "code",
   "execution_count": 54,
   "metadata": {},
   "outputs": [
    {
     "name": "stdout",
     "output_type": "stream",
     "text": [
      "Loss: 0.25614\n",
      "Generated explanations in ['node_mask', 'edge_mask']\n",
      "Feature importance plot has been saved to './explainability_results/feature_importance_20240122_192000.png'\n",
      "Edge to predict: tensor([109, 363])\n",
      "Label to predict: 0\n",
      "Label predicted: 0 because [0.03104696]\n"
     ]
    }
   ],
   "source": [
    "n=5801\n",
    "explainer.explain(\n",
    "    n=n\n",
    ")"
   ]
  },
  {
   "cell_type": "code",
   "execution_count": 55,
   "metadata": {},
   "outputs": [
    {
     "name": "stdout",
     "output_type": "stream",
     "text": [
      "patient 48 Importance: tensor(0.7255)\n",
      "visit 76 Importance: tensor(0.7852)\n",
      "visit 109 Importance: tensor(0.7936)\n",
      "symptom 1 Importance: tensor(0.2980)\n",
      "symptom 6 Importance: tensor(0.3057)\n",
      "symptom 19 Importance: tensor(0.3053)\n",
      "symptom 21 Importance: tensor(0.3836)\n",
      "symptom 34 Importance: tensor(0.5112)\n",
      "symptom 65 Importance: tensor(0.3584)\n",
      "symptom 66 Importance: tensor(0.3228)\n",
      "symptom 67 Importance: tensor(0.3871)\n",
      "symptom 86 Importance: tensor(0.5317)\n",
      "symptom 87 Importance: tensor(0.3037)\n",
      "symptom 88 Importance: tensor(0.5801)\n",
      "symptom 110 Importance: tensor(0.3059)\n",
      "symptom 143 Importance: tensor(0.3007)\n",
      "symptom 168 Importance: tensor(0.3993)\n",
      "procedure 13 Importance: tensor(0.6898)\n",
      "procedure 21 Importance: tensor(0.6230)\n",
      "procedure 35 Importance: tensor(0.6024)\n",
      "procedure 74 Importance: tensor(0.7134)\n",
      "procedure 177 Importance: tensor(0.6847)\n",
      "procedure 178 Importance: tensor(0.6364)\n",
      "diagnosis 40 Importance: tensor(0.6607)\n",
      "diagnosis 49 Importance: tensor(0.6316)\n",
      "diagnosis 62 Importance: tensor(0.6144)\n",
      "diagnosis 94 Importance: tensor(0.6611)\n",
      "diagnosis 183 Importance: tensor(0.6700)\n",
      "diagnosis 266 Importance: tensor(0.6610)\n",
      "diagnosis 395 Importance: tensor(0.6276)\n",
      "diagnosis 445 Importance: tensor(0.6144)\n",
      "diagnosis 447 Importance: tensor(0.6061)\n",
      "medication 363 Importance: tensor(0.8072)\n",
      "./explainability_results/explain_graph20240122_192000.html\n",
      "patient 48 Importance: tensor(0.7255)\n",
      "visit 76 Importance: tensor(0.7852)\n",
      "visit 109 Importance: tensor(0.7936)\n",
      "symptom 1 Systemic lupus erythematosus Importance: tensor(0.2980)\n",
      "symptom 6 Cerebral artery occlusion, unspecified with cerebral infarction Importance: tensor(0.3057)\n",
      "symptom 19 Lupus erythematosus Importance: tensor(0.3053)\n",
      "symptom 21 Chest pain, unspecified Importance: tensor(0.3836)\n",
      "symptom 34 Hematuria, unspecified Importance: tensor(0.5112)\n",
      "symptom 65 Senile osteoporosis Importance: tensor(0.3584)\n",
      "symptom 66 Other specified forms of effusion, except tuberculous Importance: tensor(0.3228)\n",
      "symptom 67 Pulmonary congestion and hypostasis Importance: tensor(0.3871)\n",
      "symptom 86 Unspecified deficiency anemia Importance: tensor(0.5317)\n",
      "symptom 87 Acute nasopharyngitis [common cold] Importance: tensor(0.3037)\n",
      "symptom 88 Pain in limb Importance: tensor(0.5801)\n",
      "symptom 110 Cirrhosis of liver without mention of alcohol Importance: tensor(0.3059)\n",
      "symptom 143 Acute kidney failure with lesion of tubular necrosis Importance: tensor(0.3007)\n",
      "symptom 168 Unspecified disorder of muscle, ligament, and fascia Importance: tensor(0.3993)\n",
      "procedure 13 Monitoring of cardiac output by other technique Importance: tensor(0.6898)\n",
      "procedure 21 Percutaneous nephrostomy without fragmentation Importance: tensor(0.6230)\n",
      "procedure 35 Single internal mammary-coronary artery bypass Importance: tensor(0.6024)\n",
      "procedure 74 Parenteral infusion of concentrated nutritional substances Importance: tensor(0.7134)\n",
      "procedure 177 Other cholangiogram Importance: tensor(0.6847)\n",
      "procedure 178 Repair of blood vessel with synthetic patch graft Importance: tensor(0.6364)\n",
      "diagnosis 40 Acute kidney failure, unspecified Importance: tensor(0.6607)\n",
      "diagnosis 49 Attention to gastrostomy Importance: tensor(0.6316)\n",
      "diagnosis 62 Dehydration Importance: tensor(0.6144)\n",
      "diagnosis 94 Ostium secundum type atrial septal defect Importance: tensor(0.6611)\n",
      "diagnosis 183 Pain in limb Importance: tensor(0.6700)\n",
      "diagnosis 266 Accidental poisoning by other opiates and related narcotics Importance: tensor(0.6610)\n",
      "diagnosis 395 Malignant neoplasm of prostate Importance: tensor(0.6276)\n",
      "diagnosis 445 Poisoning by other specified central nervous system stimulants Importance: tensor(0.6144)\n",
      "diagnosis 447 Chronic hepatitis C with hepatic coma Importance: tensor(0.6061)\n",
      "medication 363 Tumor necrosis factor alpha (TNF-alpha) inhibitors Importance: tensor(0.8072)\n",
      "./explainability_results/explain_graph20240122_192000.html\n"
     ]
    }
   ],
   "source": [
    "explainer.explain_graph(k=0, human_readable=False)\n",
    "explainer.explain_graph(k=0, human_readable=True)"
   ]
  },
  {
   "cell_type": "code",
   "execution_count": 36,
   "metadata": {},
   "outputs": [
    {
     "name": "stdout",
     "output_type": "stream",
     "text": [
      "Fidelity Positive: 0.2564408779144287\n",
      "Fidelity Negative: 0.07041871547698975\n",
      "Fidelity (weighted): 0.401986823257997\n",
      "Unfaithfulness Score: 0.9074167683720589\n",
      "Sparsity Score: 0.9319270253181458\n"
     ]
    }
   ],
   "source": [
    "explainer.explain_metrics(metrics=[\"Fidelity\", \"Fidelity_F1\", \"Unfaithfulness\", \"Sparsity\"])"
   ]
  },
  {
   "cell_type": "code",
   "execution_count": 53,
   "metadata": {},
   "outputs": [
    {
     "name": "stdout",
     "output_type": "stream",
     "text": [
      "Your task is to explain why the system recommended medication Low-ceiling diuretics and potassium-sparing agents at visit 131 by analysing the scenario with your medical knowledge and to assess the RELEVANCE and CORRECTNESS of the medication hypothesis. \n",
      "\n",
      "The patient's medical scenario, in which the importance values of each condition are highlighted, is obtained from the explainability phase of the recommendation system, which aims to provide the conditions that the system has deemed important for recommendation purposes. In particular, the scenario includes:\n",
      "\n",
      "Symptoms presented by the patient found to be important from the system (ordered by level of importance):\n",
      "\n",
      "- Unspecified nutritional deficiency - Importance level: 0.3033\n",
      "- Orthostatic hypotension - Importance level: 0.1634\n",
      "- Paralysis agitans - Importance level: 0.161\n",
      "- Anemia, unspecified - Importance level: 0.1521\n",
      "- Unspecified disorder of kidney and ureter - Importance level: 0.1507\n",
      "- Chest pain, unspecified - Importance level: 0.1116\n",
      "- Aortic aneurysm of unspecified site without mention of rupture - Importance level: 0.0915\n",
      "- Hemoptysis, unspecified - Importance level: 0.0908\n",
      "- Acute kidney failure with lesion of tubular necrosis - Importance level: 0.0905\n",
      "- Unspecified problem with special functions - Importance level: 0.0852\n",
      "\n",
      "Procedures performed on the patient results important from the system (ordered by level of importance):\n",
      "\n",
      "- Excisional debridement of wound, infection, or burn - Importance level: 0.8944\n",
      "- Repair of other bile ducts - Importance level: 0.7657\n",
      "- Biopsy of lymphatic structure - Importance level: 0.4292\n",
      "- Other lysis of peritoneal adhesions - Importance level: 0.1905\n",
      "- Small-to-small intestinal anastomosis - Importance level: 0.1836\n",
      "\n",
      "Patient diagnoses important from the system (ordered by level of importance):\n",
      "\n",
      "- Other specified bacterial infections in conditions classified elsewhere and of unspecified site, other specified bacteria - Importance level: 0.6859\n",
      "- Malignant neoplasm of ovary - Importance level: 0.6573\n",
      "- Other acute and subacute forms of ischemic heart disease, other - Importance level: 0.643\n",
      "- Methicillin susceptible pneumonia due to Staphylococcus aureus - Importance level: 0.618\n",
      "- Major depressive affective disorder, single episode, unspecified - Importance level: 0.6075\n",
      "- Mitral valve insufficiency and aortic valve stenosis - Importance level: 0.6021\n",
      "- Surgical operation with anastomosis, bypass, or graft, with natural or artificial tissues used as implant causing abnormal patient reaction, or later complication, without mention of misadventure at time of operation - Importance level: 0.5725\n",
      "- Acute alcoholic intoxication in alcoholism, in remission - Importance level: 0.5611\n",
      "\n",
      "Medications already administered to the patient found important from the system (ordered by level of importance):\n",
      "\n",
      "Provide a summary of MAX 75 words explaining why the drug is JUSTIFIABLE by highlighting the positive and negative aspects of the conditions supporting this recommendation. Please note, if in the medical scenario there is no correlation between the condition and the drug to be recommended, explain why the recommendation is UNJUSTIFIABLE.\n",
      "You are a medical expert specialised in classifying a specific medical scenario in specific areas of medicine. \n",
      "Generate a JSON file that lists a maximum of 5 MOST RELEVANT and COMPETENT doctors/specialists in the administration of the medication:\n",
      "\"Low-ceiling diuretics and potassium-sparing agents\" at visit 131 and on the patient's condition. \n",
      "\n",
      "The patient's medical scenario, in which the importance values of each condition are highlighted, is obtained from the explainability phase of the recommendation system, which aims to provide the conditions that the system has deemed important for recommendation purposes. In particular, the scenario includes:\n",
      "\n",
      "Symptoms presented by the patient found to be important from the system (ordered by level of importance):\n",
      "\n",
      "- Unspecified nutritional deficiency - Importance level: 0.3033\n",
      "- Orthostatic hypotension - Importance level: 0.1634\n",
      "- Paralysis agitans - Importance level: 0.161\n",
      "- Anemia, unspecified - Importance level: 0.1521\n",
      "- Unspecified disorder of kidney and ureter - Importance level: 0.1507\n",
      "- Chest pain, unspecified - Importance level: 0.1116\n",
      "- Aortic aneurysm of unspecified site without mention of rupture - Importance level: 0.0915\n",
      "- Hemoptysis, unspecified - Importance level: 0.0908\n",
      "- Acute kidney failure with lesion of tubular necrosis - Importance level: 0.0905\n",
      "- Unspecified problem with special functions - Importance level: 0.0852\n",
      "\n",
      "Procedures performed on the patient results important from the system (ordered by level of importance):\n",
      "\n",
      "- Excisional debridement of wound, infection, or burn - Importance level: 0.8944\n",
      "- Repair of other bile ducts - Importance level: 0.7657\n",
      "- Biopsy of lymphatic structure - Importance level: 0.4292\n",
      "- Other lysis of peritoneal adhesions - Importance level: 0.1905\n",
      "- Small-to-small intestinal anastomosis - Importance level: 0.1836\n",
      "\n",
      "Patient diagnoses important from the system (ordered by level of importance):\n",
      "\n",
      "- Other specified bacterial infections in conditions classified elsewhere and of unspecified site, other specified bacteria - Importance level: 0.6859\n",
      "- Malignant neoplasm of ovary - Importance level: 0.6573\n",
      "- Other acute and subacute forms of ischemic heart disease, other - Importance level: 0.643\n",
      "- Methicillin susceptible pneumonia due to Staphylococcus aureus - Importance level: 0.618\n",
      "- Major depressive affective disorder, single episode, unspecified - Importance level: 0.6075\n",
      "- Mitral valve insufficiency and aortic valve stenosis - Importance level: 0.6021\n",
      "- Surgical operation with anastomosis, bypass, or graft, with natural or artificial tissues used as implant causing abnormal patient reaction, or later complication, without mention of misadventure at time of operation - Importance level: 0.5725\n",
      "- Acute alcoholic intoxication in alcoholism, in remission - Importance level: 0.5611\n",
      "\n",
      "Medications already administered to the patient found important from the system (ordered by level of importance):\n",
      "\n",
      "\n",
      "For each doctor in the JSON file, include:\n",
      "- 'role': 'Specify medical speciality'\n",
      "- 'description': 'You are a [role identified] with expertise in [describe skills]'\n",
      "\n",
      "The structure of the JSON:\n",
      "'doctors': [\n",
      "\t'role': \n",
      "\t'description': \n",
      "]\n"
     ]
    },
    {
     "data": {
      "text/plain": [
       "'You are a medical expert specialised in classifying a specific medical scenario in specific areas of medicine. \\nGenerate a JSON file that lists a maximum of 5 MOST RELEVANT and COMPETENT doctors/specialists in the administration of the medication:\\n\"Low-ceiling diuretics and potassium-sparing agents\" at visit 131 and on the patient\\'s condition. \\n\\nThe patient\\'s medical scenario, in which the importance values of each condition are highlighted, is obtained from the explainability phase of the recommendation system, which aims to provide the conditions that the system has deemed important for recommendation purposes. In particular, the scenario includes:\\n\\nSymptoms presented by the patient found to be important from the system (ordered by level of importance):\\n\\n- Unspecified nutritional deficiency - Importance level: 0.3033\\n- Orthostatic hypotension - Importance level: 0.1634\\n- Paralysis agitans - Importance level: 0.161\\n- Anemia, unspecified - Importance level: 0.1521\\n- Unspecified disorder of kidney and ureter - Importance level: 0.1507\\n- Chest pain, unspecified - Importance level: 0.1116\\n- Aortic aneurysm of unspecified site without mention of rupture - Importance level: 0.0915\\n- Hemoptysis, unspecified - Importance level: 0.0908\\n- Acute kidney failure with lesion of tubular necrosis - Importance level: 0.0905\\n- Unspecified problem with special functions - Importance level: 0.0852\\n\\nProcedures performed on the patient results important from the system (ordered by level of importance):\\n\\n- Excisional debridement of wound, infection, or burn - Importance level: 0.8944\\n- Repair of other bile ducts - Importance level: 0.7657\\n- Biopsy of lymphatic structure - Importance level: 0.4292\\n- Other lysis of peritoneal adhesions - Importance level: 0.1905\\n- Small-to-small intestinal anastomosis - Importance level: 0.1836\\n\\nPatient diagnoses important from the system (ordered by level of importance):\\n\\n- Other specified bacterial infections in conditions classified elsewhere and of unspecified site, other specified bacteria - Importance level: 0.6859\\n- Malignant neoplasm of ovary - Importance level: 0.6573\\n- Other acute and subacute forms of ischemic heart disease, other - Importance level: 0.643\\n- Methicillin susceptible pneumonia due to Staphylococcus aureus - Importance level: 0.618\\n- Major depressive affective disorder, single episode, unspecified - Importance level: 0.6075\\n- Mitral valve insufficiency and aortic valve stenosis - Importance level: 0.6021\\n- Surgical operation with anastomosis, bypass, or graft, with natural or artificial tissues used as implant causing abnormal patient reaction, or later complication, without mention of misadventure at time of operation - Importance level: 0.5725\\n- Acute alcoholic intoxication in alcoholism, in remission - Importance level: 0.5611\\n\\nMedications already administered to the patient found important from the system (ordered by level of importance):\\n\\n\\nFor each doctor in the JSON file, include:\\n- \\'role\\': \\'Specify medical speciality\\'\\n- \\'description\\': \\'You are a [role identified] with expertise in [describe skills]\\'\\n\\nThe structure of the JSON:\\n\\'doctors\\': [\\n\\t\\'role\\': \\n\\t\\'description\\': \\n]'"
      ]
     },
     "execution_count": 53,
     "metadata": {},
     "output_type": "execute_result"
    }
   ],
   "source": [
    "explainer.explain_results(n=n, doctor_type=\"Internist_Doctor\")\n",
    "explainer.explain_results(n=n)"
   ]
  },
  {
   "cell_type": "markdown",
   "metadata": {},
   "source": [
    "## Baseline Models\n",
    "\n",
    "Here we can use the models having the same input built in the previous cells. We tried GRASP, SafeDrug, Transformer, and so on. And evaluate them performance with several metrics."
   ]
  },
  {
   "cell_type": "markdown",
   "metadata": {},
   "source": [
    "### RNN"
   ]
  },
  {
   "cell_type": "markdown",
   "metadata": {},
   "source": [
    "**- RNN without symptoms**"
   ]
  },
  {
   "cell_type": "code",
   "execution_count": null,
   "metadata": {},
   "outputs": [],
   "source": [
    "from pyhealth.models import RNN\n",
    "\n",
    "model_rnn = RNN(\n",
    "    dataset=mimic3sample,\n",
    "    feature_keys=[\"conditions\", \"procedures\"],\n",
    "    label_key=\"drugs\",\n",
    "    mode=\"multilabel\",\n",
    ")"
   ]
  },
  {
   "cell_type": "markdown",
   "metadata": {},
   "source": [
    "**- Training without symptoms**"
   ]
  },
  {
   "cell_type": "code",
   "execution_count": null,
   "metadata": {},
   "outputs": [],
   "source": [
    "from pyhealth.trainer import Trainer\n",
    "\n",
    "trainer_rnn = Trainer(model=model_rnn)\n",
    "trainer_rnn.train(\n",
    "    model_name=\"rnn\",\n",
    "    train_dataloader=train_loader,\n",
    "    val_dataloader=val_loader,\n",
    "    epochs=10,\n",
    "    optimizer_params = {\"lr\": 2 * 1e-4},\n",
    "    monitor=\"pr_auc_samples\",\n",
    ")"
   ]
  },
  {
   "cell_type": "markdown",
   "metadata": {},
   "source": [
    "loss: 0.2564\n",
    "New best pr_auc_samples score (0.6729) at epoch-9, step-510\n",
    "\n",
    "![image.png](attachment:image.png)"
   ]
  },
  {
   "cell_type": "markdown",
   "metadata": {},
   "source": [
    "**- RNN Evaluation**"
   ]
  },
  {
   "cell_type": "code",
   "execution_count": null,
   "metadata": {},
   "outputs": [
    {
     "name": "stderr",
     "output_type": "stream",
     "text": [
      "Evaluation: 100%|██████████| 7/7 [00:00<00:00, 136.85it/s]\n"
     ]
    },
    {
     "data": {
      "text/plain": [
       "{'accuracy': 0.8959572593082177,\n",
       " 'f1_samples': 0.5208913438646415,\n",
       " 'pr_auc_samples': 0.6492154854289413,\n",
       " 'jaccard_samples': 0.361292772853502}"
      ]
     },
     "metadata": {},
     "output_type": "display_data"
    }
   ],
   "source": [
    "### Without Symptoms - loss 0.3239 - time: 0m 6s\n",
    "from pyhealth.metrics import multilabel_metrics_fn\n",
    "\n",
    "y_true_rnn, y_prob_rnn, loss_rnn = trainer_rnn.inference(test_loader)\n",
    "metrics = [\"accuracy\", \"f1_samples\", \"pr_auc_samples\", \"jaccard_samples\"]\n",
    "multilabel_metrics_fn(y_true_rnn, y_prob_rnn, metrics=metrics)"
   ]
  },
  {
   "cell_type": "markdown",
   "metadata": {},
   "source": [
    "### Transformer"
   ]
  },
  {
   "cell_type": "markdown",
   "metadata": {},
   "source": [
    "**- Transformer without symptoms**"
   ]
  },
  {
   "cell_type": "code",
   "execution_count": 219,
   "metadata": {},
   "outputs": [],
   "source": [
    "from pyhealth.models import Transformer\n",
    "\n",
    "model_tr = Transformer(\n",
    "    dataset=mimic3sample,\n",
    "    feature_keys=[\"conditions\", \"procedures\"],\n",
    "    label_key=\"drugs\",\n",
    "    mode=\"multilabel\",\n",
    ")"
   ]
  },
  {
   "cell_type": "markdown",
   "metadata": {},
   "source": [
    "**- Transformer with symptoms**"
   ]
  },
  {
   "cell_type": "code",
   "execution_count": 230,
   "metadata": {},
   "outputs": [],
   "source": [
    "from pyhealth.models import Transformer\n",
    "\n",
    "model_tr_symptoms = Transformer(\n",
    "    dataset=mimic3sample,\n",
    "    feature_keys=[\"conditions\", \"procedures\", \"symptoms\"],\n",
    "    label_key=\"drugs\",\n",
    "    mode=\"multilabel\",\n",
    "    heads=8,\n",
    ")"
   ]
  },
  {
   "cell_type": "markdown",
   "metadata": {},
   "source": [
    "**- Training without symptoms**"
   ]
  },
  {
   "cell_type": "code",
   "execution_count": null,
   "metadata": {},
   "outputs": [],
   "source": [
    "from pyhealth.trainer import Trainer\n",
    "\n",
    "trainer_tr = Trainer(model=model_tr)\n",
    "trainer_tr.train(\n",
    "    model_name=\"transformer\",\n",
    "    train_dataloader=train_loader,\n",
    "    val_dataloader=val_loader,\n",
    "    epochs=10,\n",
    "    optimizer_params = {\"lr\": 2 * 1e-4},\n",
    "    monitor=\"pr_auc_samples\",\n",
    ")"
   ]
  },
  {
   "attachments": {
    "image.png": {
     "image/png": "[encoded data removed]"
    }
   },
   "cell_type": "markdown",
   "metadata": {},
   "source": [
    "loss: 0.2737\n",
    "New best pr_auc_samples score (0.6465) at epoch-9, step-510\n",
    "\n",
    "![image.png](attachment:image.png)"
   ]
  },
  {
   "cell_type": "markdown",
   "metadata": {},
   "source": [
    "**- Training with symptoms**"
   ]
  },
  {
   "cell_type": "code",
   "execution_count": 231,
   "metadata": {},
   "outputs": [
    {
     "name": "stdout",
     "output_type": "stream",
     "text": [
      "Transformer(\n",
      "  (embeddings): ModuleDict(\n",
      "    (conditions): Embedding(2101, 128, padding_idx=0)\n",
      "    (procedures): Embedding(735, 128, padding_idx=0)\n",
      "    (symptoms): Embedding(716, 128, padding_idx=0)\n",
      "  )\n",
      "  (linear_layers): ModuleDict()\n",
      "  (transformer): ModuleDict(\n",
      "    (conditions): TransformerLayer(\n",
      "      (transformer): ModuleList(\n",
      "        (0): TransformerBlock(\n",
      "          (attention): MultiHeadedAttention(\n",
      "            (linear_layers): ModuleList(\n",
      "              (0-2): 3 x Linear(in_features=128, out_features=128, bias=False)\n",
      "            )\n",
      "            (output_linear): Linear(in_features=128, out_features=128, bias=False)\n",
      "            (attention): Attention()\n",
      "            (dropout): Dropout(p=0.1, inplace=False)\n",
      "          )\n",
      "          (feed_forward): PositionwiseFeedForward(\n",
      "            (w_1): Linear(in_features=128, out_features=512, bias=True)\n",
      "            (w_2): Linear(in_features=512, out_features=128, bias=True)\n",
      "            (dropout): Dropout(p=0.5, inplace=False)\n",
      "            (activation): GELU(approximate='none')\n",
      "          )\n",
      "          (input_sublayer): SublayerConnection(\n",
      "            (norm): LayerNorm((128,), eps=1e-05, elementwise_affine=True)\n",
      "            (dropout): Dropout(p=0.5, inplace=False)\n",
      "          )\n",
      "          (output_sublayer): SublayerConnection(\n",
      "            (norm): LayerNorm((128,), eps=1e-05, elementwise_affine=True)\n",
      "            (dropout): Dropout(p=0.5, inplace=False)\n",
      "          )\n",
      "          (dropout): Dropout(p=0.5, inplace=False)\n",
      "        )\n",
      "      )\n",
      "    )\n",
      "    (procedures): TransformerLayer(\n",
      "      (transformer): ModuleList(\n",
      "        (0): TransformerBlock(\n",
      "          (attention): MultiHeadedAttention(\n",
      "            (linear_layers): ModuleList(\n",
      "              (0-2): 3 x Linear(in_features=128, out_features=128, bias=False)\n",
      "            )\n",
      "            (output_linear): Linear(in_features=128, out_features=128, bias=False)\n",
      "            (attention): Attention()\n",
      "            (dropout): Dropout(p=0.1, inplace=False)\n",
      "          )\n",
      "          (feed_forward): PositionwiseFeedForward(\n",
      "            (w_1): Linear(in_features=128, out_features=512, bias=True)\n",
      "            (w_2): Linear(in_features=512, out_features=128, bias=True)\n",
      "            (dropout): Dropout(p=0.5, inplace=False)\n",
      "            (activation): GELU(approximate='none')\n",
      "          )\n",
      "          (input_sublayer): SublayerConnection(\n",
      "            (norm): LayerNorm((128,), eps=1e-05, elementwise_affine=True)\n",
      "            (dropout): Dropout(p=0.5, inplace=False)\n",
      "          )\n",
      "          (output_sublayer): SublayerConnection(\n",
      "            (norm): LayerNorm((128,), eps=1e-05, elementwise_affine=True)\n",
      "            (dropout): Dropout(p=0.5, inplace=False)\n",
      "          )\n",
      "          (dropout): Dropout(p=0.5, inplace=False)\n",
      "        )\n",
      "      )\n",
      "    )\n",
      "    (symptoms): TransformerLayer(\n",
      "      (transformer): ModuleList(\n",
      "        (0): TransformerBlock(\n",
      "          (attention): MultiHeadedAttention(\n",
      "            (linear_layers): ModuleList(\n",
      "              (0-2): 3 x Linear(in_features=128, out_features=128, bias=False)\n",
      "            )\n",
      "            (output_linear): Linear(in_features=128, out_features=128, bias=False)\n",
      "            (attention): Attention()\n",
      "            (dropout): Dropout(p=0.1, inplace=False)\n",
      "          )\n",
      "          (feed_forward): PositionwiseFeedForward(\n",
      "            (w_1): Linear(in_features=128, out_features=512, bias=True)\n",
      "            (w_2): Linear(in_features=512, out_features=128, bias=True)\n",
      "            (dropout): Dropout(p=0.5, inplace=False)\n",
      "            (activation): GELU(approximate='none')\n",
      "          )\n",
      "          (input_sublayer): SublayerConnection(\n",
      "            (norm): LayerNorm((128,), eps=1e-05, elementwise_affine=True)\n",
      "            (dropout): Dropout(p=0.5, inplace=False)\n",
      "          )\n",
      "          (output_sublayer): SublayerConnection(\n",
      "            (norm): LayerNorm((128,), eps=1e-05, elementwise_affine=True)\n",
      "            (dropout): Dropout(p=0.5, inplace=False)\n",
      "          )\n",
      "          (dropout): Dropout(p=0.5, inplace=False)\n",
      "        )\n",
      "      )\n",
      "    )\n",
      "  )\n",
      "  (fc): Linear(in_features=384, out_features=406, bias=True)\n",
      ")\n",
      "Metrics: None\n",
      "Device: cpu\n",
      "\n",
      "Training:\n",
      "Batch size: 32\n",
      "Optimizer: <class 'torch.optim.adam.Adam'>\n",
      "Optimizer params: {'lr': 0.0002}\n",
      "Weight decay: 0.0\n",
      "Max grad norm: None\n",
      "Val dataloader: <torch.utils.data.dataloader.DataLoader object at 0x000002189BB41BB0>\n",
      "Monitor: pr_auc_samples\n",
      "Monitor criterion: max\n",
      "Epochs: 50\n",
      "\n"
     ]
    },
    {
     "data": {
      "application/vnd.jupyter.widget-view+json": {
       "model_id": "a5d76715dd68493c82254fee7e4334bd",
       "version_major": 2,
       "version_minor": 0
      },
      "text/plain": [
       "Epoch 0 / 50:   0%|          | 0/51 [00:00<?, ?it/s]"
      ]
     },
     "metadata": {},
     "output_type": "display_data"
    },
    {
     "name": "stdout",
     "output_type": "stream",
     "text": [
      "--- Train epoch-0, step-51 ---\n",
      "loss: 0.7998\n"
     ]
    },
    {
     "name": "stderr",
     "output_type": "stream",
     "text": [
      "Evaluation: 100%|██████████| 7/7 [00:00<00:00, 78.56it/s]"
     ]
    },
    {
     "name": "stdout",
     "output_type": "stream",
     "text": [
      "--- Eval epoch-0, step-51 ---\n",
      "pr_auc_samples: 0.3415\n",
      "loss: 0.2854\n",
      "New best pr_auc_samples score (0.3415) at epoch-0, step-51\n",
      "\n"
     ]
    },
    {
     "name": "stderr",
     "output_type": "stream",
     "text": [
      "\n"
     ]
    },
    {
     "data": {
      "application/vnd.jupyter.widget-view+json": {
       "model_id": "350dcac71b6e43e888c1b64aa2e57ca9",
       "version_major": 2,
       "version_minor": 0
      },
      "text/plain": [
       "Epoch 1 / 50:   0%|          | 0/51 [00:00<?, ?it/s]"
      ]
     },
     "metadata": {},
     "output_type": "display_data"
    },
    {
     "name": "stdout",
     "output_type": "stream",
     "text": [
      "--- Train epoch-1, step-102 ---\n",
      "loss: 0.3445\n"
     ]
    },
    {
     "name": "stderr",
     "output_type": "stream",
     "text": [
      "Evaluation: 100%|██████████| 7/7 [00:00<00:00, 87.95it/s]"
     ]
    },
    {
     "name": "stdout",
     "output_type": "stream",
     "text": [
      "--- Eval epoch-1, step-102 ---\n",
      "pr_auc_samples: 0.4794\n",
      "loss: 0.2345\n",
      "New best pr_auc_samples score (0.4794) at epoch-1, step-102\n",
      "\n"
     ]
    },
    {
     "name": "stderr",
     "output_type": "stream",
     "text": [
      "\n"
     ]
    },
    {
     "data": {
      "application/vnd.jupyter.widget-view+json": {
       "model_id": "200dc75936c747449531fb5ba46cf84d",
       "version_major": 2,
       "version_minor": 0
      },
      "text/plain": [
       "Epoch 2 / 50:   0%|          | 0/51 [00:00<?, ?it/s]"
      ]
     },
     "metadata": {},
     "output_type": "display_data"
    },
    {
     "name": "stdout",
     "output_type": "stream",
     "text": [
      "--- Train epoch-2, step-153 ---\n",
      "loss: 0.2997\n"
     ]
    },
    {
     "name": "stderr",
     "output_type": "stream",
     "text": [
      "Evaluation: 100%|██████████| 7/7 [00:00<00:00, 77.02it/s]"
     ]
    },
    {
     "name": "stdout",
     "output_type": "stream",
     "text": [
      "--- Eval epoch-2, step-153 ---\n",
      "pr_auc_samples: 0.4929\n",
      "loss: 0.2212\n",
      "New best pr_auc_samples score (0.4929) at epoch-2, step-153\n",
      "\n"
     ]
    },
    {
     "name": "stderr",
     "output_type": "stream",
     "text": [
      "\n"
     ]
    },
    {
     "data": {
      "application/vnd.jupyter.widget-view+json": {
       "model_id": "a52f66dcbda849fab0a657fd908990d5",
       "version_major": 2,
       "version_minor": 0
      },
      "text/plain": [
       "Epoch 3 / 50:   0%|          | 0/51 [00:00<?, ?it/s]"
      ]
     },
     "metadata": {},
     "output_type": "display_data"
    },
    {
     "name": "stdout",
     "output_type": "stream",
     "text": [
      "--- Train epoch-3, step-204 ---\n",
      "loss: 0.2757\n"
     ]
    },
    {
     "name": "stderr",
     "output_type": "stream",
     "text": [
      "Evaluation: 100%|██████████| 7/7 [00:00<00:00, 77.14it/s]"
     ]
    },
    {
     "name": "stdout",
     "output_type": "stream",
     "text": [
      "--- Eval epoch-3, step-204 ---\n",
      "pr_auc_samples: 0.5068\n",
      "loss: 0.2150\n",
      "New best pr_auc_samples score (0.5068) at epoch-3, step-204\n",
      "\n"
     ]
    },
    {
     "name": "stderr",
     "output_type": "stream",
     "text": [
      "\n"
     ]
    },
    {
     "data": {
      "application/vnd.jupyter.widget-view+json": {
       "model_id": "c9de20b99ef54a44b9421b6f78f4a2ce",
       "version_major": 2,
       "version_minor": 0
      },
      "text/plain": [
       "Epoch 4 / 50:   0%|          | 0/51 [00:00<?, ?it/s]"
      ]
     },
     "metadata": {},
     "output_type": "display_data"
    },
    {
     "name": "stdout",
     "output_type": "stream",
     "text": [
      "--- Train epoch-4, step-255 ---\n",
      "loss: 0.2603\n"
     ]
    },
    {
     "name": "stderr",
     "output_type": "stream",
     "text": [
      "Evaluation: 100%|██████████| 7/7 [00:00<00:00, 85.27it/s]"
     ]
    },
    {
     "name": "stdout",
     "output_type": "stream",
     "text": [
      "--- Eval epoch-4, step-255 ---\n",
      "pr_auc_samples: 0.5160\n",
      "loss: 0.2090\n",
      "New best pr_auc_samples score (0.5160) at epoch-4, step-255\n",
      "\n"
     ]
    },
    {
     "name": "stderr",
     "output_type": "stream",
     "text": [
      "\n"
     ]
    },
    {
     "data": {
      "application/vnd.jupyter.widget-view+json": {
       "model_id": "efc731624efe49c18d8b4536108c5f68",
       "version_major": 2,
       "version_minor": 0
      },
      "text/plain": [
       "Epoch 5 / 50:   0%|          | 0/51 [00:00<?, ?it/s]"
      ]
     },
     "metadata": {},
     "output_type": "display_data"
    },
    {
     "name": "stdout",
     "output_type": "stream",
     "text": [
      "--- Train epoch-5, step-306 ---\n",
      "loss: 0.2478\n"
     ]
    },
    {
     "name": "stderr",
     "output_type": "stream",
     "text": [
      "Evaluation: 100%|██████████| 7/7 [00:00<00:00, 33.01it/s]\n"
     ]
    },
    {
     "name": "stdout",
     "output_type": "stream",
     "text": [
      "--- Eval epoch-5, step-306 ---\n",
      "pr_auc_samples: 0.5233\n",
      "loss: 0.2037\n",
      "New best pr_auc_samples score (0.5233) at epoch-5, step-306\n",
      "\n"
     ]
    },
    {
     "data": {
      "application/vnd.jupyter.widget-view+json": {
       "model_id": "9b653c0eb98949bd9a2430cc66c2c75f",
       "version_major": 2,
       "version_minor": 0
      },
      "text/plain": [
       "Epoch 6 / 50:   0%|          | 0/51 [00:00<?, ?it/s]"
      ]
     },
     "metadata": {},
     "output_type": "display_data"
    },
    {
     "name": "stdout",
     "output_type": "stream",
     "text": [
      "--- Train epoch-6, step-357 ---\n",
      "loss: 0.2351\n"
     ]
    },
    {
     "name": "stderr",
     "output_type": "stream",
     "text": [
      "Evaluation: 100%|██████████| 7/7 [00:00<00:00, 54.56it/s]\n"
     ]
    },
    {
     "name": "stdout",
     "output_type": "stream",
     "text": [
      "--- Eval epoch-6, step-357 ---\n",
      "pr_auc_samples: 0.5345\n",
      "loss: 0.2011\n",
      "New best pr_auc_samples score (0.5345) at epoch-6, step-357\n",
      "\n"
     ]
    },
    {
     "data": {
      "application/vnd.jupyter.widget-view+json": {
       "model_id": "3d106fd1a159437385fc28c1b3ed3318",
       "version_major": 2,
       "version_minor": 0
      },
      "text/plain": [
       "Epoch 7 / 50:   0%|          | 0/51 [00:00<?, ?it/s]"
      ]
     },
     "metadata": {},
     "output_type": "display_data"
    },
    {
     "name": "stdout",
     "output_type": "stream",
     "text": [
      "--- Train epoch-7, step-408 ---\n",
      "loss: 0.2247\n"
     ]
    },
    {
     "name": "stderr",
     "output_type": "stream",
     "text": [
      "Evaluation: 100%|██████████| 7/7 [00:00<00:00, 43.08it/s]\n"
     ]
    },
    {
     "name": "stdout",
     "output_type": "stream",
     "text": [
      "--- Eval epoch-7, step-408 ---\n",
      "pr_auc_samples: 0.5399\n",
      "loss: 0.1976\n",
      "New best pr_auc_samples score (0.5399) at epoch-7, step-408\n",
      "\n"
     ]
    },
    {
     "data": {
      "application/vnd.jupyter.widget-view+json": {
       "model_id": "6e88d7efae39411ab3d39d5bc69994e5",
       "version_major": 2,
       "version_minor": 0
      },
      "text/plain": [
       "Epoch 8 / 50:   0%|          | 0/51 [00:00<?, ?it/s]"
      ]
     },
     "metadata": {},
     "output_type": "display_data"
    },
    {
     "name": "stdout",
     "output_type": "stream",
     "text": [
      "--- Train epoch-8, step-459 ---\n",
      "loss: 0.2178\n"
     ]
    },
    {
     "name": "stderr",
     "output_type": "stream",
     "text": [
      "Evaluation: 100%|██████████| 7/7 [00:00<00:00, 58.73it/s]\n"
     ]
    },
    {
     "name": "stdout",
     "output_type": "stream",
     "text": [
      "--- Eval epoch-8, step-459 ---\n",
      "pr_auc_samples: 0.5442\n",
      "loss: 0.1944\n",
      "New best pr_auc_samples score (0.5442) at epoch-8, step-459\n",
      "\n"
     ]
    },
    {
     "data": {
      "application/vnd.jupyter.widget-view+json": {
       "model_id": "848e75dae4fc4804b00b64d3daa45580",
       "version_major": 2,
       "version_minor": 0
      },
      "text/plain": [
       "Epoch 9 / 50:   0%|          | 0/51 [00:00<?, ?it/s]"
      ]
     },
     "metadata": {},
     "output_type": "display_data"
    },
    {
     "name": "stdout",
     "output_type": "stream",
     "text": [
      "--- Train epoch-9, step-510 ---\n",
      "loss: 0.2097\n"
     ]
    },
    {
     "name": "stderr",
     "output_type": "stream",
     "text": [
      "Evaluation: 100%|██████████| 7/7 [00:00<00:00, 43.35it/s]\n"
     ]
    },
    {
     "name": "stdout",
     "output_type": "stream",
     "text": [
      "--- Eval epoch-9, step-510 ---\n",
      "pr_auc_samples: 0.5517\n",
      "loss: 0.1927\n",
      "New best pr_auc_samples score (0.5517) at epoch-9, step-510\n",
      "\n"
     ]
    },
    {
     "data": {
      "application/vnd.jupyter.widget-view+json": {
       "model_id": "38c5ad81c239466f8960b75908bb83e6",
       "version_major": 2,
       "version_minor": 0
      },
      "text/plain": [
       "Epoch 10 / 50:   0%|          | 0/51 [00:00<?, ?it/s]"
      ]
     },
     "metadata": {},
     "output_type": "display_data"
    },
    {
     "name": "stdout",
     "output_type": "stream",
     "text": [
      "--- Train epoch-10, step-561 ---\n",
      "loss: 0.2017\n"
     ]
    },
    {
     "name": "stderr",
     "output_type": "stream",
     "text": [
      "Evaluation: 100%|██████████| 7/7 [00:00<00:00, 57.53it/s]\n"
     ]
    },
    {
     "name": "stdout",
     "output_type": "stream",
     "text": [
      "--- Eval epoch-10, step-561 ---\n",
      "pr_auc_samples: 0.5557\n",
      "loss: 0.1908\n",
      "New best pr_auc_samples score (0.5557) at epoch-10, step-561\n",
      "\n"
     ]
    },
    {
     "data": {
      "application/vnd.jupyter.widget-view+json": {
       "model_id": "1e807eb1592340febfc3d2a1b76c3207",
       "version_major": 2,
       "version_minor": 0
      },
      "text/plain": [
       "Epoch 11 / 50:   0%|          | 0/51 [00:00<?, ?it/s]"
      ]
     },
     "metadata": {},
     "output_type": "display_data"
    },
    {
     "name": "stdout",
     "output_type": "stream",
     "text": [
      "--- Train epoch-11, step-612 ---\n",
      "loss: 0.1954\n"
     ]
    },
    {
     "name": "stderr",
     "output_type": "stream",
     "text": [
      "Evaluation: 100%|██████████| 7/7 [00:00<00:00, 42.42it/s]\n"
     ]
    },
    {
     "name": "stdout",
     "output_type": "stream",
     "text": [
      "--- Eval epoch-11, step-612 ---\n",
      "pr_auc_samples: 0.5579\n",
      "loss: 0.1883\n",
      "New best pr_auc_samples score (0.5579) at epoch-11, step-612\n",
      "\n"
     ]
    },
    {
     "data": {
      "application/vnd.jupyter.widget-view+json": {
       "model_id": "1148a87b2bfe453192b6e41bd69d4cda",
       "version_major": 2,
       "version_minor": 0
      },
      "text/plain": [
       "Epoch 12 / 50:   0%|          | 0/51 [00:00<?, ?it/s]"
      ]
     },
     "metadata": {},
     "output_type": "display_data"
    },
    {
     "name": "stdout",
     "output_type": "stream",
     "text": [
      "--- Train epoch-12, step-663 ---\n",
      "loss: 0.1907\n"
     ]
    },
    {
     "name": "stderr",
     "output_type": "stream",
     "text": [
      "Evaluation: 100%|██████████| 7/7 [00:00<00:00, 63.88it/s]\n"
     ]
    },
    {
     "name": "stdout",
     "output_type": "stream",
     "text": [
      "--- Eval epoch-12, step-663 ---\n",
      "pr_auc_samples: 0.5625\n",
      "loss: 0.1872\n",
      "New best pr_auc_samples score (0.5625) at epoch-12, step-663\n",
      "\n"
     ]
    },
    {
     "data": {
      "application/vnd.jupyter.widget-view+json": {
       "model_id": "a24aa92319fd4582aa1df6fd860dfda7",
       "version_major": 2,
       "version_minor": 0
      },
      "text/plain": [
       "Epoch 13 / 50:   0%|          | 0/51 [00:00<?, ?it/s]"
      ]
     },
     "metadata": {},
     "output_type": "display_data"
    },
    {
     "name": "stdout",
     "output_type": "stream",
     "text": [
      "--- Train epoch-13, step-714 ---\n",
      "loss: 0.1842\n"
     ]
    },
    {
     "name": "stderr",
     "output_type": "stream",
     "text": [
      "Evaluation: 100%|██████████| 7/7 [00:00<00:00, 55.67it/s]\n"
     ]
    },
    {
     "name": "stdout",
     "output_type": "stream",
     "text": [
      "--- Eval epoch-13, step-714 ---\n",
      "pr_auc_samples: 0.5655\n",
      "loss: 0.1857\n",
      "New best pr_auc_samples score (0.5655) at epoch-13, step-714\n",
      "\n"
     ]
    },
    {
     "data": {
      "application/vnd.jupyter.widget-view+json": {
       "model_id": "99c9f28095a644ef81c33c49976e6606",
       "version_major": 2,
       "version_minor": 0
      },
      "text/plain": [
       "Epoch 14 / 50:   0%|          | 0/51 [00:00<?, ?it/s]"
      ]
     },
     "metadata": {},
     "output_type": "display_data"
    },
    {
     "name": "stdout",
     "output_type": "stream",
     "text": [
      "--- Train epoch-14, step-765 ---\n",
      "loss: 0.1798\n"
     ]
    },
    {
     "name": "stderr",
     "output_type": "stream",
     "text": [
      "Evaluation: 100%|██████████| 7/7 [00:00<00:00, 59.20it/s]\n"
     ]
    },
    {
     "name": "stdout",
     "output_type": "stream",
     "text": [
      "--- Eval epoch-14, step-765 ---\n",
      "pr_auc_samples: 0.5688\n",
      "loss: 0.1847\n",
      "New best pr_auc_samples score (0.5688) at epoch-14, step-765\n",
      "\n"
     ]
    },
    {
     "data": {
      "application/vnd.jupyter.widget-view+json": {
       "model_id": "096ea490daaa4d9cbeb1ab06146472a5",
       "version_major": 2,
       "version_minor": 0
      },
      "text/plain": [
       "Epoch 15 / 50:   0%|          | 0/51 [00:00<?, ?it/s]"
      ]
     },
     "metadata": {},
     "output_type": "display_data"
    },
    {
     "name": "stdout",
     "output_type": "stream",
     "text": [
      "--- Train epoch-15, step-816 ---\n",
      "loss: 0.1752\n"
     ]
    },
    {
     "name": "stderr",
     "output_type": "stream",
     "text": [
      "Evaluation: 100%|██████████| 7/7 [00:00<00:00, 77.78it/s]"
     ]
    },
    {
     "name": "stdout",
     "output_type": "stream",
     "text": [
      "--- Eval epoch-15, step-816 ---\n",
      "pr_auc_samples: 0.5704\n",
      "loss: 0.1840\n",
      "New best pr_auc_samples score (0.5704) at epoch-15, step-816\n",
      "\n"
     ]
    },
    {
     "name": "stderr",
     "output_type": "stream",
     "text": [
      "\n"
     ]
    },
    {
     "data": {
      "application/vnd.jupyter.widget-view+json": {
       "model_id": "b6b80443504441bea7a38853efa1d7c9",
       "version_major": 2,
       "version_minor": 0
      },
      "text/plain": [
       "Epoch 16 / 50:   0%|          | 0/51 [00:00<?, ?it/s]"
      ]
     },
     "metadata": {},
     "output_type": "display_data"
    },
    {
     "name": "stdout",
     "output_type": "stream",
     "text": [
      "--- Train epoch-16, step-867 ---\n",
      "loss: 0.1736\n"
     ]
    },
    {
     "name": "stderr",
     "output_type": "stream",
     "text": [
      "Evaluation: 100%|██████████| 7/7 [00:00<00:00, 55.92it/s]\n"
     ]
    },
    {
     "name": "stdout",
     "output_type": "stream",
     "text": [
      "--- Eval epoch-16, step-867 ---\n",
      "pr_auc_samples: 0.5736\n",
      "loss: 0.1824\n",
      "New best pr_auc_samples score (0.5736) at epoch-16, step-867\n",
      "\n"
     ]
    },
    {
     "data": {
      "application/vnd.jupyter.widget-view+json": {
       "model_id": "a6600e05ae234d018cbc9059c2b18c10",
       "version_major": 2,
       "version_minor": 0
      },
      "text/plain": [
       "Epoch 17 / 50:   0%|          | 0/51 [00:00<?, ?it/s]"
      ]
     },
     "metadata": {},
     "output_type": "display_data"
    },
    {
     "name": "stdout",
     "output_type": "stream",
     "text": [
      "--- Train epoch-17, step-918 ---\n",
      "loss: 0.1678\n"
     ]
    },
    {
     "name": "stderr",
     "output_type": "stream",
     "text": [
      "Evaluation: 100%|██████████| 7/7 [00:00<00:00, 80.55it/s]"
     ]
    },
    {
     "name": "stdout",
     "output_type": "stream",
     "text": [
      "--- Eval epoch-17, step-918 ---\n",
      "pr_auc_samples: 0.5759\n",
      "loss: 0.1822\n",
      "New best pr_auc_samples score (0.5759) at epoch-17, step-918\n",
      "\n"
     ]
    },
    {
     "name": "stderr",
     "output_type": "stream",
     "text": [
      "\n"
     ]
    },
    {
     "data": {
      "application/vnd.jupyter.widget-view+json": {
       "model_id": "d0d2922eaefb47fe87228565a9f9e016",
       "version_major": 2,
       "version_minor": 0
      },
      "text/plain": [
       "Epoch 18 / 50:   0%|          | 0/51 [00:00<?, ?it/s]"
      ]
     },
     "metadata": {},
     "output_type": "display_data"
    },
    {
     "name": "stdout",
     "output_type": "stream",
     "text": [
      "--- Train epoch-18, step-969 ---\n",
      "loss: 0.1635\n"
     ]
    },
    {
     "name": "stderr",
     "output_type": "stream",
     "text": [
      "Evaluation: 100%|██████████| 7/7 [00:00<00:00, 52.11it/s]\n"
     ]
    },
    {
     "name": "stdout",
     "output_type": "stream",
     "text": [
      "--- Eval epoch-18, step-969 ---\n",
      "pr_auc_samples: 0.5793\n",
      "loss: 0.1827\n",
      "New best pr_auc_samples score (0.5793) at epoch-18, step-969\n",
      "\n"
     ]
    },
    {
     "data": {
      "application/vnd.jupyter.widget-view+json": {
       "model_id": "165a5da3dfbf4a04b9955af0f7d68978",
       "version_major": 2,
       "version_minor": 0
      },
      "text/plain": [
       "Epoch 19 / 50:   0%|          | 0/51 [00:00<?, ?it/s]"
      ]
     },
     "metadata": {},
     "output_type": "display_data"
    },
    {
     "name": "stdout",
     "output_type": "stream",
     "text": [
      "--- Train epoch-19, step-1020 ---\n",
      "loss: 0.1607\n"
     ]
    },
    {
     "name": "stderr",
     "output_type": "stream",
     "text": [
      "Evaluation: 100%|██████████| 7/7 [00:00<00:00, 77.72it/s]"
     ]
    },
    {
     "name": "stdout",
     "output_type": "stream",
     "text": [
      "--- Eval epoch-19, step-1020 ---\n",
      "pr_auc_samples: 0.5792\n",
      "loss: 0.1816\n",
      "\n"
     ]
    },
    {
     "name": "stderr",
     "output_type": "stream",
     "text": [
      "\n"
     ]
    },
    {
     "data": {
      "application/vnd.jupyter.widget-view+json": {
       "model_id": "adc8f69da36641d692a21b270c394379",
       "version_major": 2,
       "version_minor": 0
      },
      "text/plain": [
       "Epoch 20 / 50:   0%|          | 0/51 [00:00<?, ?it/s]"
      ]
     },
     "metadata": {},
     "output_type": "display_data"
    },
    {
     "name": "stdout",
     "output_type": "stream",
     "text": [
      "--- Train epoch-20, step-1071 ---\n",
      "loss: 0.1573\n"
     ]
    },
    {
     "name": "stderr",
     "output_type": "stream",
     "text": [
      "Evaluation: 100%|██████████| 7/7 [00:00<00:00, 81.87it/s]"
     ]
    },
    {
     "name": "stdout",
     "output_type": "stream",
     "text": [
      "--- Eval epoch-20, step-1071 ---\n",
      "pr_auc_samples: 0.5816\n",
      "loss: 0.1816\n",
      "New best pr_auc_samples score (0.5816) at epoch-20, step-1071\n",
      "\n"
     ]
    },
    {
     "name": "stderr",
     "output_type": "stream",
     "text": [
      "\n"
     ]
    },
    {
     "data": {
      "application/vnd.jupyter.widget-view+json": {
       "model_id": "a2b0d6b2f4af464e92963cfd8c01d4d7",
       "version_major": 2,
       "version_minor": 0
      },
      "text/plain": [
       "Epoch 21 / 50:   0%|          | 0/51 [00:00<?, ?it/s]"
      ]
     },
     "metadata": {},
     "output_type": "display_data"
    },
    {
     "name": "stdout",
     "output_type": "stream",
     "text": [
      "--- Train epoch-21, step-1122 ---\n",
      "loss: 0.1554\n"
     ]
    },
    {
     "name": "stderr",
     "output_type": "stream",
     "text": [
      "Evaluation: 100%|██████████| 7/7 [00:00<00:00, 53.00it/s]\n"
     ]
    },
    {
     "name": "stdout",
     "output_type": "stream",
     "text": [
      "--- Eval epoch-21, step-1122 ---\n",
      "pr_auc_samples: 0.5834\n",
      "loss: 0.1814\n",
      "New best pr_auc_samples score (0.5834) at epoch-21, step-1122\n",
      "\n"
     ]
    },
    {
     "data": {
      "application/vnd.jupyter.widget-view+json": {
       "model_id": "c9adb311631142d4b92c7efd2aeed692",
       "version_major": 2,
       "version_minor": 0
      },
      "text/plain": [
       "Epoch 22 / 50:   0%|          | 0/51 [00:00<?, ?it/s]"
      ]
     },
     "metadata": {},
     "output_type": "display_data"
    },
    {
     "name": "stdout",
     "output_type": "stream",
     "text": [
      "--- Train epoch-22, step-1173 ---\n",
      "loss: 0.1522\n"
     ]
    },
    {
     "name": "stderr",
     "output_type": "stream",
     "text": [
      "Evaluation: 100%|██████████| 7/7 [00:00<00:00, 76.28it/s]"
     ]
    },
    {
     "name": "stdout",
     "output_type": "stream",
     "text": [
      "--- Eval epoch-22, step-1173 ---\n",
      "pr_auc_samples: 0.5842\n",
      "loss: 0.1809\n",
      "New best pr_auc_samples score (0.5842) at epoch-22, step-1173\n",
      "\n"
     ]
    },
    {
     "name": "stderr",
     "output_type": "stream",
     "text": [
      "\n"
     ]
    },
    {
     "data": {
      "application/vnd.jupyter.widget-view+json": {
       "model_id": "07a0ee35e96b4b08b0e2df6d5e57455f",
       "version_major": 2,
       "version_minor": 0
      },
      "text/plain": [
       "Epoch 23 / 50:   0%|          | 0/51 [00:00<?, ?it/s]"
      ]
     },
     "metadata": {},
     "output_type": "display_data"
    },
    {
     "name": "stdout",
     "output_type": "stream",
     "text": [
      "--- Train epoch-23, step-1224 ---\n",
      "loss: 0.1479\n"
     ]
    },
    {
     "name": "stderr",
     "output_type": "stream",
     "text": [
      "Evaluation: 100%|██████████| 7/7 [00:00<00:00, 54.87it/s]\n"
     ]
    },
    {
     "name": "stdout",
     "output_type": "stream",
     "text": [
      "--- Eval epoch-23, step-1224 ---\n",
      "pr_auc_samples: 0.5852\n",
      "loss: 0.1801\n",
      "New best pr_auc_samples score (0.5852) at epoch-23, step-1224\n",
      "\n"
     ]
    },
    {
     "data": {
      "application/vnd.jupyter.widget-view+json": {
       "model_id": "104e382ee64a4cfdacf6da573d70a86b",
       "version_major": 2,
       "version_minor": 0
      },
      "text/plain": [
       "Epoch 24 / 50:   0%|          | 0/51 [00:00<?, ?it/s]"
      ]
     },
     "metadata": {},
     "output_type": "display_data"
    },
    {
     "name": "stdout",
     "output_type": "stream",
     "text": [
      "--- Train epoch-24, step-1275 ---\n",
      "loss: 0.1468\n"
     ]
    },
    {
     "name": "stderr",
     "output_type": "stream",
     "text": [
      "Evaluation: 100%|██████████| 7/7 [00:00<00:00, 79.71it/s]"
     ]
    },
    {
     "name": "stdout",
     "output_type": "stream",
     "text": [
      "--- Eval epoch-24, step-1275 ---\n",
      "pr_auc_samples: 0.5865\n",
      "loss: 0.1822\n",
      "New best pr_auc_samples score (0.5865) at epoch-24, step-1275\n",
      "\n"
     ]
    },
    {
     "name": "stderr",
     "output_type": "stream",
     "text": [
      "\n"
     ]
    },
    {
     "data": {
      "application/vnd.jupyter.widget-view+json": {
       "model_id": "480eef34c5814658b08e02ff17d831f0",
       "version_major": 2,
       "version_minor": 0
      },
      "text/plain": [
       "Epoch 25 / 50:   0%|          | 0/51 [00:00<?, ?it/s]"
      ]
     },
     "metadata": {},
     "output_type": "display_data"
    },
    {
     "name": "stdout",
     "output_type": "stream",
     "text": [
      "--- Train epoch-25, step-1326 ---\n",
      "loss: 0.1448\n"
     ]
    },
    {
     "name": "stderr",
     "output_type": "stream",
     "text": [
      "Evaluation: 100%|██████████| 7/7 [00:00<00:00, 51.46it/s]\n"
     ]
    },
    {
     "name": "stdout",
     "output_type": "stream",
     "text": [
      "--- Eval epoch-25, step-1326 ---\n",
      "pr_auc_samples: 0.5881\n",
      "loss: 0.1828\n",
      "New best pr_auc_samples score (0.5881) at epoch-25, step-1326\n",
      "\n"
     ]
    },
    {
     "data": {
      "application/vnd.jupyter.widget-view+json": {
       "model_id": "ce5e682e87ef4ba496ec53bee396cb06",
       "version_major": 2,
       "version_minor": 0
      },
      "text/plain": [
       "Epoch 26 / 50:   0%|          | 0/51 [00:00<?, ?it/s]"
      ]
     },
     "metadata": {},
     "output_type": "display_data"
    },
    {
     "name": "stdout",
     "output_type": "stream",
     "text": [
      "--- Train epoch-26, step-1377 ---\n",
      "loss: 0.1418\n"
     ]
    },
    {
     "name": "stderr",
     "output_type": "stream",
     "text": [
      "Evaluation: 100%|██████████| 7/7 [00:00<00:00, 72.78it/s]"
     ]
    },
    {
     "name": "stdout",
     "output_type": "stream",
     "text": [
      "--- Eval epoch-26, step-1377 ---\n",
      "pr_auc_samples: 0.5876\n",
      "loss: 0.1834\n",
      "\n"
     ]
    },
    {
     "name": "stderr",
     "output_type": "stream",
     "text": [
      "\n"
     ]
    },
    {
     "data": {
      "application/vnd.jupyter.widget-view+json": {
       "model_id": "d515a92ee6e84e71834dc1ce48374260",
       "version_major": 2,
       "version_minor": 0
      },
      "text/plain": [
       "Epoch 27 / 50:   0%|          | 0/51 [00:00<?, ?it/s]"
      ]
     },
     "metadata": {},
     "output_type": "display_data"
    },
    {
     "name": "stdout",
     "output_type": "stream",
     "text": [
      "--- Train epoch-27, step-1428 ---\n",
      "loss: 0.1402\n"
     ]
    },
    {
     "name": "stderr",
     "output_type": "stream",
     "text": [
      "Evaluation: 100%|██████████| 7/7 [00:00<00:00, 52.40it/s]\n"
     ]
    },
    {
     "name": "stdout",
     "output_type": "stream",
     "text": [
      "--- Eval epoch-27, step-1428 ---\n",
      "pr_auc_samples: 0.5877\n",
      "loss: 0.1835\n",
      "\n"
     ]
    },
    {
     "data": {
      "application/vnd.jupyter.widget-view+json": {
       "model_id": "b6b259866c84418a84598feba7426b8c",
       "version_major": 2,
       "version_minor": 0
      },
      "text/plain": [
       "Epoch 28 / 50:   0%|          | 0/51 [00:00<?, ?it/s]"
      ]
     },
     "metadata": {},
     "output_type": "display_data"
    },
    {
     "name": "stdout",
     "output_type": "stream",
     "text": [
      "--- Train epoch-28, step-1479 ---\n",
      "loss: 0.1390\n"
     ]
    },
    {
     "name": "stderr",
     "output_type": "stream",
     "text": [
      "Evaluation: 100%|██████████| 7/7 [00:00<00:00, 80.07it/s]"
     ]
    },
    {
     "name": "stdout",
     "output_type": "stream",
     "text": [
      "--- Eval epoch-28, step-1479 ---\n",
      "pr_auc_samples: 0.5884\n",
      "loss: 0.1846\n",
      "New best pr_auc_samples score (0.5884) at epoch-28, step-1479\n",
      "\n"
     ]
    },
    {
     "name": "stderr",
     "output_type": "stream",
     "text": [
      "\n"
     ]
    },
    {
     "data": {
      "application/vnd.jupyter.widget-view+json": {
       "model_id": "11b1f7f29c2e4b40b67bb79c3460f903",
       "version_major": 2,
       "version_minor": 0
      },
      "text/plain": [
       "Epoch 29 / 50:   0%|          | 0/51 [00:00<?, ?it/s]"
      ]
     },
     "metadata": {},
     "output_type": "display_data"
    },
    {
     "name": "stdout",
     "output_type": "stream",
     "text": [
      "--- Train epoch-29, step-1530 ---\n",
      "loss: 0.1374\n"
     ]
    },
    {
     "name": "stderr",
     "output_type": "stream",
     "text": [
      "Evaluation: 100%|██████████| 7/7 [00:00<00:00, 51.56it/s]\n"
     ]
    },
    {
     "name": "stdout",
     "output_type": "stream",
     "text": [
      "--- Eval epoch-29, step-1530 ---\n",
      "pr_auc_samples: 0.5896\n",
      "loss: 0.1841\n",
      "New best pr_auc_samples score (0.5896) at epoch-29, step-1530\n",
      "\n"
     ]
    },
    {
     "data": {
      "application/vnd.jupyter.widget-view+json": {
       "model_id": "2d3d337b7a29424a8841814d84bc366b",
       "version_major": 2,
       "version_minor": 0
      },
      "text/plain": [
       "Epoch 30 / 50:   0%|          | 0/51 [00:00<?, ?it/s]"
      ]
     },
     "metadata": {},
     "output_type": "display_data"
    },
    {
     "name": "stdout",
     "output_type": "stream",
     "text": [
      "--- Train epoch-30, step-1581 ---\n",
      "loss: 0.1367\n"
     ]
    },
    {
     "name": "stderr",
     "output_type": "stream",
     "text": [
      "Evaluation: 100%|██████████| 7/7 [00:00<00:00, 76.33it/s]"
     ]
    },
    {
     "name": "stdout",
     "output_type": "stream",
     "text": [
      "--- Eval epoch-30, step-1581 ---\n",
      "pr_auc_samples: 0.5900\n",
      "loss: 0.1853\n",
      "New best pr_auc_samples score (0.5900) at epoch-30, step-1581\n",
      "\n"
     ]
    },
    {
     "name": "stderr",
     "output_type": "stream",
     "text": [
      "\n"
     ]
    },
    {
     "data": {
      "application/vnd.jupyter.widget-view+json": {
       "model_id": "35b7e725371d4954b670f041b360b539",
       "version_major": 2,
       "version_minor": 0
      },
      "text/plain": [
       "Epoch 31 / 50:   0%|          | 0/51 [00:00<?, ?it/s]"
      ]
     },
     "metadata": {},
     "output_type": "display_data"
    },
    {
     "name": "stdout",
     "output_type": "stream",
     "text": [
      "--- Train epoch-31, step-1632 ---\n",
      "loss: 0.1335\n"
     ]
    },
    {
     "name": "stderr",
     "output_type": "stream",
     "text": [
      "Evaluation: 100%|██████████| 7/7 [00:00<00:00, 47.72it/s]\n"
     ]
    },
    {
     "name": "stdout",
     "output_type": "stream",
     "text": [
      "--- Eval epoch-31, step-1632 ---\n",
      "pr_auc_samples: 0.5891\n",
      "loss: 0.1856\n",
      "\n"
     ]
    },
    {
     "data": {
      "application/vnd.jupyter.widget-view+json": {
       "model_id": "7fe8155d3e5a47b1911a4c032fc552b5",
       "version_major": 2,
       "version_minor": 0
      },
      "text/plain": [
       "Epoch 32 / 50:   0%|          | 0/51 [00:00<?, ?it/s]"
      ]
     },
     "metadata": {},
     "output_type": "display_data"
    },
    {
     "name": "stdout",
     "output_type": "stream",
     "text": [
      "--- Train epoch-32, step-1683 ---\n",
      "loss: 0.1336\n"
     ]
    },
    {
     "name": "stderr",
     "output_type": "stream",
     "text": [
      "Evaluation: 100%|██████████| 7/7 [00:00<00:00, 73.59it/s]"
     ]
    },
    {
     "name": "stdout",
     "output_type": "stream",
     "text": [
      "--- Eval epoch-32, step-1683 ---\n",
      "pr_auc_samples: 0.5905\n",
      "loss: 0.1856\n"
     ]
    },
    {
     "name": "stderr",
     "output_type": "stream",
     "text": [
      "\n"
     ]
    },
    {
     "name": "stdout",
     "output_type": "stream",
     "text": [
      "New best pr_auc_samples score (0.5905) at epoch-32, step-1683\n",
      "\n"
     ]
    },
    {
     "data": {
      "application/vnd.jupyter.widget-view+json": {
       "model_id": "a64ddec340924f679a52074f99d70918",
       "version_major": 2,
       "version_minor": 0
      },
      "text/plain": [
       "Epoch 33 / 50:   0%|          | 0/51 [00:00<?, ?it/s]"
      ]
     },
     "metadata": {},
     "output_type": "display_data"
    },
    {
     "name": "stdout",
     "output_type": "stream",
     "text": [
      "--- Train epoch-33, step-1734 ---\n",
      "loss: 0.1326\n"
     ]
    },
    {
     "name": "stderr",
     "output_type": "stream",
     "text": [
      "Evaluation: 100%|██████████| 7/7 [00:00<00:00, 74.67it/s]"
     ]
    },
    {
     "name": "stdout",
     "output_type": "stream",
     "text": [
      "--- Eval epoch-33, step-1734 ---\n",
      "pr_auc_samples: 0.5910\n",
      "loss: 0.1862\n",
      "New best pr_auc_samples score (0.5910) at epoch-33, step-1734\n",
      "\n"
     ]
    },
    {
     "name": "stderr",
     "output_type": "stream",
     "text": [
      "\n"
     ]
    },
    {
     "data": {
      "application/vnd.jupyter.widget-view+json": {
       "model_id": "7481f78096c342e09d5b3fd4e5ddbaf8",
       "version_major": 2,
       "version_minor": 0
      },
      "text/plain": [
       "Epoch 34 / 50:   0%|          | 0/51 [00:00<?, ?it/s]"
      ]
     },
     "metadata": {},
     "output_type": "display_data"
    },
    {
     "name": "stdout",
     "output_type": "stream",
     "text": [
      "--- Train epoch-34, step-1785 ---\n",
      "loss: 0.1300\n"
     ]
    },
    {
     "name": "stderr",
     "output_type": "stream",
     "text": [
      "Evaluation: 100%|██████████| 7/7 [00:00<00:00, 72.13it/s]"
     ]
    },
    {
     "name": "stdout",
     "output_type": "stream",
     "text": [
      "--- Eval epoch-34, step-1785 ---\n",
      "pr_auc_samples: 0.5908\n",
      "loss: 0.1873\n"
     ]
    },
    {
     "name": "stderr",
     "output_type": "stream",
     "text": [
      "\n"
     ]
    },
    {
     "name": "stdout",
     "output_type": "stream",
     "text": [
      "\n"
     ]
    },
    {
     "data": {
      "application/vnd.jupyter.widget-view+json": {
       "model_id": "a7e4aecd86464fa58dfcde3a12f13b2e",
       "version_major": 2,
       "version_minor": 0
      },
      "text/plain": [
       "Epoch 35 / 50:   0%|          | 0/51 [00:00<?, ?it/s]"
      ]
     },
     "metadata": {},
     "output_type": "display_data"
    },
    {
     "name": "stdout",
     "output_type": "stream",
     "text": [
      "--- Train epoch-35, step-1836 ---\n",
      "loss: 0.1284\n"
     ]
    },
    {
     "name": "stderr",
     "output_type": "stream",
     "text": [
      "Evaluation: 100%|██████████| 7/7 [00:00<00:00, 68.96it/s]"
     ]
    },
    {
     "name": "stdout",
     "output_type": "stream",
     "text": [
      "--- Eval epoch-35, step-1836 ---\n"
     ]
    },
    {
     "name": "stderr",
     "output_type": "stream",
     "text": [
      "\n"
     ]
    },
    {
     "name": "stdout",
     "output_type": "stream",
     "text": [
      "pr_auc_samples: 0.5908\n",
      "loss: 0.1856\n",
      "\n"
     ]
    },
    {
     "data": {
      "application/vnd.jupyter.widget-view+json": {
       "model_id": "e4b134afb07b4e0aa090adeeaf61d47b",
       "version_major": 2,
       "version_minor": 0
      },
      "text/plain": [
       "Epoch 36 / 50:   0%|          | 0/51 [00:00<?, ?it/s]"
      ]
     },
     "metadata": {},
     "output_type": "display_data"
    },
    {
     "name": "stdout",
     "output_type": "stream",
     "text": [
      "--- Train epoch-36, step-1887 ---\n",
      "loss: 0.1272\n"
     ]
    },
    {
     "name": "stderr",
     "output_type": "stream",
     "text": [
      "Evaluation: 100%|██████████| 7/7 [00:00<00:00, 47.14it/s]\n"
     ]
    },
    {
     "name": "stdout",
     "output_type": "stream",
     "text": [
      "--- Eval epoch-36, step-1887 ---\n",
      "pr_auc_samples: 0.5918\n",
      "loss: 0.1867\n",
      "New best pr_auc_samples score (0.5918) at epoch-36, step-1887\n",
      "\n"
     ]
    },
    {
     "data": {
      "application/vnd.jupyter.widget-view+json": {
       "model_id": "081beb0895e740bc99386579f33c8ed0",
       "version_major": 2,
       "version_minor": 0
      },
      "text/plain": [
       "Epoch 37 / 50:   0%|          | 0/51 [00:00<?, ?it/s]"
      ]
     },
     "metadata": {},
     "output_type": "display_data"
    },
    {
     "name": "stdout",
     "output_type": "stream",
     "text": [
      "--- Train epoch-37, step-1938 ---\n",
      "loss: 0.1267\n"
     ]
    },
    {
     "name": "stderr",
     "output_type": "stream",
     "text": [
      "Evaluation: 100%|██████████| 7/7 [00:00<00:00, 68.24it/s]"
     ]
    },
    {
     "name": "stdout",
     "output_type": "stream",
     "text": [
      "--- Eval epoch-37, step-1938 ---\n",
      "pr_auc_samples: 0.5918\n",
      "loss: 0.1860\n",
      "\n"
     ]
    },
    {
     "name": "stderr",
     "output_type": "stream",
     "text": [
      "\n"
     ]
    },
    {
     "data": {
      "application/vnd.jupyter.widget-view+json": {
       "model_id": "9246a536ad264f918de7b5db809f259c",
       "version_major": 2,
       "version_minor": 0
      },
      "text/plain": [
       "Epoch 38 / 50:   0%|          | 0/51 [00:00<?, ?it/s]"
      ]
     },
     "metadata": {},
     "output_type": "display_data"
    },
    {
     "name": "stdout",
     "output_type": "stream",
     "text": [
      "--- Train epoch-38, step-1989 ---\n",
      "loss: 0.1256\n"
     ]
    },
    {
     "name": "stderr",
     "output_type": "stream",
     "text": [
      "Evaluation: 100%|██████████| 7/7 [00:00<00:00, 71.16it/s]"
     ]
    },
    {
     "name": "stdout",
     "output_type": "stream",
     "text": [
      "--- Eval epoch-38, step-1989 ---\n",
      "pr_auc_samples: 0.5927\n",
      "loss: 0.1865\n",
      "New best pr_auc_samples score (0.5927) at epoch-38, step-1989\n"
     ]
    },
    {
     "name": "stderr",
     "output_type": "stream",
     "text": [
      "\n"
     ]
    },
    {
     "name": "stdout",
     "output_type": "stream",
     "text": [
      "\n"
     ]
    },
    {
     "data": {
      "application/vnd.jupyter.widget-view+json": {
       "model_id": "16c7b9da0d51483cac09ad78cf951e9d",
       "version_major": 2,
       "version_minor": 0
      },
      "text/plain": [
       "Epoch 39 / 50:   0%|          | 0/51 [00:00<?, ?it/s]"
      ]
     },
     "metadata": {},
     "output_type": "display_data"
    },
    {
     "name": "stdout",
     "output_type": "stream",
     "text": [
      "--- Train epoch-39, step-2040 ---\n",
      "loss: 0.1250\n"
     ]
    },
    {
     "name": "stderr",
     "output_type": "stream",
     "text": [
      "Evaluation: 100%|██████████| 7/7 [00:00<00:00, 69.11it/s]"
     ]
    },
    {
     "name": "stdout",
     "output_type": "stream",
     "text": [
      "--- Eval epoch-39, step-2040 ---\n",
      "pr_auc_samples: 0.5925\n",
      "loss: 0.1855\n"
     ]
    },
    {
     "name": "stderr",
     "output_type": "stream",
     "text": [
      "\n"
     ]
    },
    {
     "name": "stdout",
     "output_type": "stream",
     "text": [
      "\n"
     ]
    },
    {
     "data": {
      "application/vnd.jupyter.widget-view+json": {
       "model_id": "9b2a337038b749529f4787e1dbdf1b9b",
       "version_major": 2,
       "version_minor": 0
      },
      "text/plain": [
       "Epoch 40 / 50:   0%|          | 0/51 [00:00<?, ?it/s]"
      ]
     },
     "metadata": {},
     "output_type": "display_data"
    },
    {
     "name": "stdout",
     "output_type": "stream",
     "text": [
      "--- Train epoch-40, step-2091 ---\n",
      "loss: 0.1240\n"
     ]
    },
    {
     "name": "stderr",
     "output_type": "stream",
     "text": [
      "Evaluation: 100%|██████████| 7/7 [00:00<00:00, 41.97it/s]\n"
     ]
    },
    {
     "name": "stdout",
     "output_type": "stream",
     "text": [
      "--- Eval epoch-40, step-2091 ---\n",
      "pr_auc_samples: 0.5933\n",
      "loss: 0.1868\n",
      "New best pr_auc_samples score (0.5933) at epoch-40, step-2091\n",
      "\n"
     ]
    },
    {
     "data": {
      "application/vnd.jupyter.widget-view+json": {
       "model_id": "453b585bca96499b9732894c5ff3c0e5",
       "version_major": 2,
       "version_minor": 0
      },
      "text/plain": [
       "Epoch 41 / 50:   0%|          | 0/51 [00:00<?, ?it/s]"
      ]
     },
     "metadata": {},
     "output_type": "display_data"
    },
    {
     "name": "stdout",
     "output_type": "stream",
     "text": [
      "--- Train epoch-41, step-2142 ---\n",
      "loss: 0.1235\n"
     ]
    },
    {
     "name": "stderr",
     "output_type": "stream",
     "text": [
      "Evaluation: 100%|██████████| 7/7 [00:00<00:00, 61.26it/s]\n"
     ]
    },
    {
     "name": "stdout",
     "output_type": "stream",
     "text": [
      "--- Eval epoch-41, step-2142 ---\n",
      "pr_auc_samples: 0.5936\n",
      "loss: 0.1877\n",
      "New best pr_auc_samples score (0.5936) at epoch-41, step-2142\n",
      "\n"
     ]
    },
    {
     "data": {
      "application/vnd.jupyter.widget-view+json": {
       "model_id": "85dc47931ec04b66a7e93c95ff57cb60",
       "version_major": 2,
       "version_minor": 0
      },
      "text/plain": [
       "Epoch 42 / 50:   0%|          | 0/51 [00:00<?, ?it/s]"
      ]
     },
     "metadata": {},
     "output_type": "display_data"
    },
    {
     "name": "stdout",
     "output_type": "stream",
     "text": [
      "--- Train epoch-42, step-2193 ---\n",
      "loss: 0.1223\n"
     ]
    },
    {
     "name": "stderr",
     "output_type": "stream",
     "text": [
      "Evaluation: 100%|██████████| 7/7 [00:00<00:00, 71.64it/s]"
     ]
    },
    {
     "name": "stdout",
     "output_type": "stream",
     "text": [
      "--- Eval epoch-42, step-2193 ---\n",
      "pr_auc_samples: 0.5955\n",
      "loss: 0.1866\n",
      "New best pr_auc_samples score (0.5955) at epoch-42, step-2193\n",
      "\n"
     ]
    },
    {
     "name": "stderr",
     "output_type": "stream",
     "text": [
      "\n"
     ]
    },
    {
     "data": {
      "application/vnd.jupyter.widget-view+json": {
       "model_id": "7bacfecf4bd642a4923f1ce3248b56f7",
       "version_major": 2,
       "version_minor": 0
      },
      "text/plain": [
       "Epoch 43 / 50:   0%|          | 0/51 [00:00<?, ?it/s]"
      ]
     },
     "metadata": {},
     "output_type": "display_data"
    },
    {
     "name": "stdout",
     "output_type": "stream",
     "text": [
      "--- Train epoch-43, step-2244 ---\n",
      "loss: 0.1219\n"
     ]
    },
    {
     "name": "stderr",
     "output_type": "stream",
     "text": [
      "Evaluation: 100%|██████████| 7/7 [00:00<00:00, 52.00it/s]\n"
     ]
    },
    {
     "name": "stdout",
     "output_type": "stream",
     "text": [
      "--- Eval epoch-43, step-2244 ---\n",
      "pr_auc_samples: 0.5950\n",
      "loss: 0.1860\n",
      "\n"
     ]
    },
    {
     "data": {
      "application/vnd.jupyter.widget-view+json": {
       "model_id": "b2ab1bd83764421083f9ddb4638f6722",
       "version_major": 2,
       "version_minor": 0
      },
      "text/plain": [
       "Epoch 44 / 50:   0%|          | 0/51 [00:00<?, ?it/s]"
      ]
     },
     "metadata": {},
     "output_type": "display_data"
    },
    {
     "name": "stdout",
     "output_type": "stream",
     "text": [
      "--- Train epoch-44, step-2295 ---\n",
      "loss: 0.1201\n"
     ]
    },
    {
     "name": "stderr",
     "output_type": "stream",
     "text": [
      "Evaluation: 100%|██████████| 7/7 [00:00<00:00, 72.77it/s]"
     ]
    },
    {
     "name": "stdout",
     "output_type": "stream",
     "text": [
      "--- Eval epoch-44, step-2295 ---\n",
      "pr_auc_samples: 0.5954\n",
      "loss: 0.1865\n",
      "\n"
     ]
    },
    {
     "name": "stderr",
     "output_type": "stream",
     "text": [
      "\n"
     ]
    },
    {
     "data": {
      "application/vnd.jupyter.widget-view+json": {
       "model_id": "da70817997c84881ab8da8831f5cf579",
       "version_major": 2,
       "version_minor": 0
      },
      "text/plain": [
       "Epoch 45 / 50:   0%|          | 0/51 [00:00<?, ?it/s]"
      ]
     },
     "metadata": {},
     "output_type": "display_data"
    },
    {
     "name": "stdout",
     "output_type": "stream",
     "text": [
      "--- Train epoch-45, step-2346 ---\n",
      "loss: 0.1197\n"
     ]
    },
    {
     "name": "stderr",
     "output_type": "stream",
     "text": [
      "Evaluation: 100%|██████████| 7/7 [00:00<00:00, 56.69it/s]\n"
     ]
    },
    {
     "name": "stdout",
     "output_type": "stream",
     "text": [
      "--- Eval epoch-45, step-2346 ---\n",
      "pr_auc_samples: 0.5936\n",
      "loss: 0.1881\n",
      "\n"
     ]
    },
    {
     "data": {
      "application/vnd.jupyter.widget-view+json": {
       "model_id": "9a4abff2249a413da403303c9936a4af",
       "version_major": 2,
       "version_minor": 0
      },
      "text/plain": [
       "Epoch 46 / 50:   0%|          | 0/51 [00:00<?, ?it/s]"
      ]
     },
     "metadata": {},
     "output_type": "display_data"
    },
    {
     "name": "stdout",
     "output_type": "stream",
     "text": [
      "--- Train epoch-46, step-2397 ---\n",
      "loss: 0.1191\n"
     ]
    },
    {
     "name": "stderr",
     "output_type": "stream",
     "text": [
      "Evaluation: 100%|██████████| 7/7 [00:00<00:00, 73.82it/s]"
     ]
    },
    {
     "name": "stdout",
     "output_type": "stream",
     "text": [
      "--- Eval epoch-46, step-2397 ---\n",
      "pr_auc_samples: 0.5951\n",
      "loss: 0.1883\n",
      "\n"
     ]
    },
    {
     "name": "stderr",
     "output_type": "stream",
     "text": [
      "\n"
     ]
    },
    {
     "data": {
      "application/vnd.jupyter.widget-view+json": {
       "model_id": "cc96d853386640739870a486d012fe33",
       "version_major": 2,
       "version_minor": 0
      },
      "text/plain": [
       "Epoch 47 / 50:   0%|          | 0/51 [00:00<?, ?it/s]"
      ]
     },
     "metadata": {},
     "output_type": "display_data"
    },
    {
     "name": "stdout",
     "output_type": "stream",
     "text": [
      "--- Train epoch-47, step-2448 ---\n",
      "loss: 0.1193\n"
     ]
    },
    {
     "name": "stderr",
     "output_type": "stream",
     "text": [
      "Evaluation: 100%|██████████| 7/7 [00:00<00:00, 71.00it/s]"
     ]
    },
    {
     "name": "stdout",
     "output_type": "stream",
     "text": [
      "--- Eval epoch-47, step-2448 ---\n",
      "pr_auc_samples: 0.5933\n",
      "loss: 0.1886\n"
     ]
    },
    {
     "name": "stderr",
     "output_type": "stream",
     "text": [
      "\n"
     ]
    },
    {
     "name": "stdout",
     "output_type": "stream",
     "text": [
      "\n"
     ]
    },
    {
     "data": {
      "application/vnd.jupyter.widget-view+json": {
       "model_id": "ac4691ca85a34e91805999bb1aebdd63",
       "version_major": 2,
       "version_minor": 0
      },
      "text/plain": [
       "Epoch 48 / 50:   0%|          | 0/51 [00:00<?, ?it/s]"
      ]
     },
     "metadata": {},
     "output_type": "display_data"
    },
    {
     "name": "stdout",
     "output_type": "stream",
     "text": [
      "--- Train epoch-48, step-2499 ---\n",
      "loss: 0.1173\n"
     ]
    },
    {
     "name": "stderr",
     "output_type": "stream",
     "text": [
      "Evaluation: 100%|██████████| 7/7 [00:00<00:00, 67.37it/s]\n"
     ]
    },
    {
     "name": "stdout",
     "output_type": "stream",
     "text": [
      "--- Eval epoch-48, step-2499 ---\n",
      "pr_auc_samples: 0.5939\n",
      "loss: 0.1926\n",
      "\n"
     ]
    },
    {
     "data": {
      "application/vnd.jupyter.widget-view+json": {
       "model_id": "51e700bcf3c34216883ef631dcd18f9a",
       "version_major": 2,
       "version_minor": 0
      },
      "text/plain": [
       "Epoch 49 / 50:   0%|          | 0/51 [00:00<?, ?it/s]"
      ]
     },
     "metadata": {},
     "output_type": "display_data"
    },
    {
     "name": "stdout",
     "output_type": "stream",
     "text": [
      "--- Train epoch-49, step-2550 ---\n",
      "loss: 0.1177\n"
     ]
    },
    {
     "name": "stderr",
     "output_type": "stream",
     "text": [
      "Evaluation: 100%|██████████| 7/7 [00:00<00:00, 75.72it/s]"
     ]
    },
    {
     "name": "stdout",
     "output_type": "stream",
     "text": [
      "--- Eval epoch-49, step-2550 ---\n",
      "pr_auc_samples: 0.5942\n",
      "loss: 0.1889\n",
      "Loaded best model\n"
     ]
    },
    {
     "name": "stderr",
     "output_type": "stream",
     "text": [
      "\n"
     ]
    },
    {
     "data": {
      "image/png": "[encoded data removed]",
      "text/plain": [
       "<Figure size 640x480 with 1 Axes>"
      ]
     },
     "metadata": {},
     "output_type": "display_data"
    }
   ],
   "source": [
    "from pyhealth.trainer import Trainer\n",
    "\n",
    "trainer_tr_symptoms = Trainer(model=model_tr_symptoms)\n",
    "trainer_tr_symptoms.train(\n",
    "    model_name=\"transformer\",\n",
    "    train_dataloader=train_loader,\n",
    "    val_dataloader=val_loader,\n",
    "    epochs=50,\n",
    "    optimizer_params = {\"lr\": 2 * 1e-4},\n",
    "    monitor=\"pr_auc_samples\",\n",
    "    monitor_criterion=\"max\",\n",
    ")"
   ]
  },
  {
   "cell_type": "markdown",
   "metadata": {},
   "source": [
    "**Transformer Results**"
   ]
  },
  {
   "attachments": {
    "image-2.png": {
     "image/png": "[encoded data removed]"
    }
   },
   "cell_type": "markdown",
   "metadata": {},
   "source": [
    "loss: 0.1799\n",
    "New best pr_auc_samples score (0.5844) at epoch-40, step-2091\n",
    "\n",
    "![image-2.png](attachment:image-2.png)"
   ]
  },
  {
   "cell_type": "markdown",
   "metadata": {},
   "source": [
    "**- Transformer Evaluation**"
   ]
  },
  {
   "cell_type": "code",
   "execution_count": 223,
   "metadata": {},
   "outputs": [
    {
     "name": "stderr",
     "output_type": "stream",
     "text": [
      "Evaluation: 100%|██████████| 7/7 [00:00<00:00, 64.07it/s]\n"
     ]
    },
    {
     "data": {
      "text/plain": [
       "{'accuracy': 0.8929554968054637,\n",
       " 'f1_samples': 0.5066958446595764,\n",
       " 'pr_auc_samples': 0.6258955924552839,\n",
       " 'jaccard_samples': 0.34884642635231966}"
      ]
     },
     "execution_count": 223,
     "metadata": {},
     "output_type": "execute_result"
    }
   ],
   "source": [
    "### Without Symptoms - loss 0.3239 - time: 0m 6s\n",
    "from pyhealth.metrics import multilabel_metrics_fn\n",
    "\n",
    "y_true_tr, y_prob_tr, loss_tr = trainer_tr.inference(test_loader)\n",
    "metrics = [\"accuracy\", \"f1_samples\", \"pr_auc_samples\", \"jaccard_samples\"]\n",
    "multilabel_metrics_fn(y_true_tr, y_prob_tr, metrics=metrics)"
   ]
  },
  {
   "cell_type": "code",
   "execution_count": 232,
   "metadata": {},
   "outputs": [
    {
     "name": "stderr",
     "output_type": "stream",
     "text": [
      "Evaluation: 100%|██████████| 7/7 [00:00<00:00, 68.42it/s]\n"
     ]
    },
    {
     "data": {
      "text/plain": [
       "{'accuracy': 0.9436140814610117,\n",
       " 'f1_samples': 0.48076371753279945,\n",
       " 'pr_auc_samples': 0.5973332837448941,\n",
       " 'jaccard_samples': 0.3303265243284095}"
      ]
     },
     "execution_count": 232,
     "metadata": {},
     "output_type": "execute_result"
    }
   ],
   "source": [
    "### With Symptoms - loss 0.3192 - time: 0m 9s\n",
    "from pyhealth.metrics import multilabel_metrics_fn\n",
    "\n",
    "y_true_tr_s, y_prob_tr_s, loss_tr_s = trainer_tr_symptoms.inference(test_loader)\n",
    "metrics = [\"accuracy\", \"f1_samples\", \"pr_auc_samples\", \"jaccard_samples\"]\n",
    "multilabel_metrics_fn(y_true_tr_s, y_prob_tr_s, metrics=metrics)"
   ]
  },
  {
   "cell_type": "markdown",
   "metadata": {},
   "source": [
    "### SafeDrug"
   ]
  },
  {
   "cell_type": "markdown",
   "metadata": {},
   "source": [
    "**- SafeDrug without symptoms**"
   ]
  },
  {
   "cell_type": "code",
   "execution_count": 225,
   "metadata": {},
   "outputs": [],
   "source": [
    "from pyhealth.models import SafeDrug\n",
    "\n",
    "model_safe = SafeDrug(\n",
    "    dataset=mimic3sample\n",
    ")"
   ]
  },
  {
   "cell_type": "markdown",
   "metadata": {},
   "source": [
    "**- SafeDrug with symptoms**"
   ]
  },
  {
   "cell_type": "code",
   "execution_count": 226,
   "metadata": {},
   "outputs": [],
   "source": [
    "from pyhealth.models import SafeDrug_Mod\n",
    "\n",
    "model_safe_symptoms = SafeDrug_Mod(\n",
    "    dataset=mimic3sample\n",
    ")"
   ]
  },
  {
   "cell_type": "markdown",
   "metadata": {},
   "source": [
    "**- Training without symptoms**"
   ]
  },
  {
   "cell_type": "code",
   "execution_count": null,
   "metadata": {},
   "outputs": [],
   "source": [
    "from pyhealth.trainer import Trainer\n",
    "\n",
    "trainer_safe = Trainer(model=model_safe)\n",
    "trainer_safe.train(\n",
    "    model_name=\"safedrug\",\n",
    "    train_dataloader=train_loader,\n",
    "    val_dataloader=val_loader,\n",
    "    epochs=10,\n",
    "    optimizer_params = {\"lr\": 2 * 1e-4},\n",
    "    monitor=\"pr_auc_samples\",\n",
    ")"
   ]
  },
  {
   "attachments": {
    "image.png": {
     "image/png": "[encoded data removed]"
    }
   },
   "cell_type": "markdown",
   "metadata": {},
   "source": [
    "loss: 0.2503\n",
    "New best pr_auc_samples score (0.6564) at epoch-8, step-459\n",
    "\n",
    "![image.png](attachment:image.png)"
   ]
  },
  {
   "cell_type": "markdown",
   "metadata": {},
   "source": [
    "**- Training with symptoms**"
   ]
  },
  {
   "cell_type": "code",
   "execution_count": null,
   "metadata": {},
   "outputs": [],
   "source": [
    "from pyhealth.trainer import Trainer\n",
    "\n",
    "trainer_safe_symptoms = Trainer(model=model_safe_symptoms)\n",
    "trainer_safe_symptoms.train(\n",
    "    model_name=\"safedrug\",\n",
    "    train_dataloader=train_loader,\n",
    "    val_dataloader=val_loader,\n",
    "    epochs=10,\n",
    "    optimizer_params = {\"lr\": 2 * 1e-4},\n",
    "    monitor=\"pr_auc_samples\",\n",
    ")"
   ]
  },
  {
   "attachments": {
    "image.png": {
     "image/png": "[encoded data removed]"
    }
   },
   "cell_type": "markdown",
   "metadata": {},
   "source": [
    "loss: 0.2523\n",
    "New best pr_auc_samples score (0.6550) at epoch-6, step-357\n",
    "\n",
    "![image.png](attachment:image.png)"
   ]
  },
  {
   "cell_type": "markdown",
   "metadata": {},
   "source": [
    "**- SafeDrug Evaluation**"
   ]
  },
  {
   "cell_type": "code",
   "execution_count": 229,
   "metadata": {},
   "outputs": [
    {
     "name": "stderr",
     "output_type": "stream",
     "text": [
      "Evaluation: 100%|██████████| 7/7 [00:02<00:00,  2.46it/s]\n"
     ]
    },
    {
     "data": {
      "text/plain": [
       "{'accuracy': 0.8926801057501652,\n",
       " 'f1_samples': 0.46661275056800083,\n",
       " 'pr_auc_samples': 0.6270758763872015,\n",
       " 'jaccard_samples': 0.31076166173689124}"
      ]
     },
     "execution_count": 229,
     "metadata": {},
     "output_type": "execute_result"
    }
   ],
   "source": [
    "### Without Symptoms - loss 0.2672 - time: 2m 6s\n",
    "from pyhealth.metrics import multilabel_metrics_fn\n",
    "\n",
    "y_true_safe, y_prob_safe, loss_safe = trainer_safe.inference(test_loader)\n",
    "metrics = [\"accuracy\", \"f1_samples\", \"pr_auc_samples\", \"jaccard_samples\"]\n",
    "multilabel_metrics_fn(y_true_safe, y_prob_safe, metrics=metrics)"
   ]
  },
  {
   "cell_type": "code",
   "execution_count": 230,
   "metadata": {},
   "outputs": [
    {
     "name": "stderr",
     "output_type": "stream",
     "text": [
      "Evaluation: 100%|██████████| 7/7 [00:02<00:00,  2.93it/s]\n"
     ]
    },
    {
     "data": {
      "text/plain": [
       "{'accuracy': 0.8925148711169861,\n",
       " 'f1_samples': 0.47263706593544114,\n",
       " 'pr_auc_samples': 0.6248807689518094,\n",
       " 'jaccard_samples': 0.3164571303390051}"
      ]
     },
     "execution_count": 230,
     "metadata": {},
     "output_type": "execute_result"
    }
   ],
   "source": [
    "### With Symptoms - loss 0.2666 - time: 2m 0s\n",
    "from pyhealth.metrics import multilabel_metrics_fn\n",
    "\n",
    "y_true_safe_s, y_prob_safe_s, loss_safe_s = trainer_safe_symptoms.inference(test_loader)\n",
    "metrics = [\"accuracy\", \"f1_samples\", \"pr_auc_samples\", \"jaccard_samples\"]\n",
    "multilabel_metrics_fn(y_true_safe_s, y_prob_safe_s, metrics=metrics)"
   ]
  },
  {
   "cell_type": "markdown",
   "metadata": {},
   "source": [
    "### GAMENet"
   ]
  },
  {
   "cell_type": "markdown",
   "metadata": {},
   "source": [
    "### GRASP"
   ]
  },
  {
   "cell_type": "markdown",
   "metadata": {},
   "source": [
    "### RETAIN"
   ]
  },
  {
   "cell_type": "markdown",
   "metadata": {},
   "source": [
    "### MICRON"
   ]
  },
  {
   "cell_type": "markdown",
   "metadata": {},
   "source": [
    "### MoleRec"
   ]
  },
  {
   "cell_type": "markdown",
   "metadata": {},
   "source": [
    "## Let'see some recommendation..."
   ]
  },
  {
   "cell_type": "code",
   "execution_count": null,
   "metadata": {},
   "outputs": [],
   "source": [
    "import numpy as np\n",
    "import pandas as pd\n",
    "from pyhealth.medcode import InnerMap\n",
    "\n",
    "# initialize an InnerMap\n",
    "atc = InnerMap.load(\"ATC\")\n",
    "\n",
    "sorted_indices = []\n",
    "for i in range(len(y_prob)):\n",
    "    top_indices = np.argsort(y_prob[i, :])[::-1][:10]\n",
    "    sorted_values = y_prob[i, top_indices]\n",
    "    sorted_indices.append(top_indices)\n",
    "\n",
    "patient_ids = []\n",
    "visit_ids = []\n",
    "rec_drug = []\n",
    "\n",
    "# get the list of all drugs in the dataset\n",
    "list_drugs = mimic3sample.get_all_tokens('drugs')\n",
    "\n",
    "# iterate over the top indexes for each sample in test_ds\n",
    "for sample, top in zip(test_ds, sorted_indices):\n",
    "   \n",
    "    # append the patient id and visit id to their respective lists\n",
    "    patient_ids.append(sample['patient_id'])\n",
    "    visit_ids.append(sample['visit_id'])\n",
    "   \n",
    "    # create an empty list to store the recommended drugs for this sample\n",
    "    sample_rec_drug = []\n",
    "   \n",
    "    # iterate over the top indexes for this sample\n",
    "    for i in top:\n",
    "       \n",
    "        # append the drug at the i-th index to the recommended drugs list for this sample\n",
    "        sample_rec_drug.append(list_drugs[i])\n",
    "   \n",
    "    # append the recommended drugs for this sample to the recommended drugs list\n",
    "    rec_drug.append(sample_rec_drug)\n",
    "\n",
    "# create a dataframe with the patient ids, visit ids, and recommended drugs\n",
    "df_rec_drug = pd.DataFrame({'patient_id': patient_ids, 'visit_id': visit_ids, 'rec_drug': rec_drug})\n",
    "df_rec_drug"
   ]
  },
  {
   "cell_type": "code",
   "execution_count": 125,
   "metadata": {},
   "outputs": [
    {
     "name": "stdout",
     "output_type": "stream",
     "text": [
      "B05XA: Electrolyte solutions\n",
      "N03AX: Other antiepileptics in ATC\n",
      "M04AC: Preparations with no effect on uric acid metabolism\n",
      "M03BA: Carbamic acid esters, centrally acting muscle relaxants\n",
      "G04CA: Alpha-adrenoreceptor antagonists, benign prostatic hypertrophy\n",
      "J01EE: Combinations of sulfonamides and trimethoprim, incl. derivatives\n",
      "N02BE: Anilide analgesics and antipyretics\n",
      "B01AB: Heparin group antithrombotic drugs\n",
      "N05CF: Benzodiazepine related hypnotics and sedatives\n",
      "A02BC: Proton pump inhibitors for peptic ulcer and GORD\n"
     ]
    }
   ],
   "source": [
    "from pyhealth.medcode import InnerMap\n",
    "\n",
    "# initialize an InnerMap\n",
    "atc = InnerMap.load(\"ATC\")\n",
    "\n",
    "# select a patient from df_rec_drug\n",
    "patient_id = 10884\n",
    "visit_id = 150905\n",
    "patient_df = df_rec_drug[df_rec_drug['patient_id'].astype(int)==patient_id]\n",
    "patient_df = patient_df[patient_df['visit_id'].astype(int)==visit_id]\n",
    "\n",
    "# iterate over the recommended drugs for the selected patient\n",
    "for drugs in patient_df['rec_drug']:\n",
    "    # lookup the ATC code for each drug and print it\n",
    "    for drug in drugs:\n",
    "        print(f\"{drug}: {atc.lookup(drug)}\")"
   ]
  },
  {
   "cell_type": "code",
   "execution_count": 124,
   "metadata": {},
   "outputs": [
    {
     "name": "stdout",
     "output_type": "stream",
     "text": [
      "Condition 0: Acute and subacute necrosis of liver\n",
      "Condition 1: Alcoholic cirrhosis of liver\n",
      "Condition 2: Hepatorenal syndrome\n",
      "Condition 3: Acute kidney failure with lesion of tubular necrosis\n",
      "Condition 4: Congestive heart failure, unspecified\n",
      "Condition 5: Hyposmolality and/or hyponatremia\n",
      "Condition 6: Chronic kidney disease, unspecified\n",
      "Condition 7: Toxic encephalopathy\n",
      "Condition 8: Hepatic encephalopathy\n",
      "Condition 9: Calculus of gallbladder with other cholecystitis, without mention of obstruction\n",
      "Condition 10: Ascites\n",
      "Condition 11: Acquired coagulation factor deficiency\n",
      "Condition 12: Thrombocytopenia, unspecified\n",
      "Condition 13: Unspecified essential hypertension\n",
      "Condition 14: Other specified disorders of pancreatic internal secretion\n",
      "Condition 15: Adrenal cortical steroids causing adverse effects in therapeutic use\n",
      "Condition 16: Acute alcoholic intoxication in alcoholism, in remission\n",
      "Condition 17: Esophageal reflux\n",
      "Condition 18: Personal history of urinary calculi\n",
      "Condition 19: Aphasia\n",
      "Condition 20: Spinal stenosis, lumbar region, with neurogenic claudication\n",
      "Condition 21: Liver replaced by transplant\n",
      "Condition 22: Body Mass Index 40.0-44.9, adult\n",
      "Condition 23: Acquired spondylolisthesis\n",
      "Condition 24: Secondary diabetes mellitus without mention of complication, not stated as uncontrolled, or unspecified\n",
      "Condition 25: Adrenal cortical steroids causing adverse effects in therapeutic use\n",
      "Condition 26: Hypertensive chronic kidney disease, unspecified, with chronic kidney disease stage I through stage IV, or unspecified\n",
      "Condition 27: Chronic kidney disease, unspecified\n",
      "Condition 28: Gout, unspecified\n",
      "Condition 29: Obstructive sleep apnea (adult)(pediatric)\n",
      "Condition 30: Depressive disorder, not elsewhere classified\n",
      "Condition 31: Overweight\n",
      "Condition 32: Anemia in chronic kidney disease\n",
      "Condition 33: Postprocedural fever\n",
      "Procedure 0: Other transplant of liver\n",
      "Procedure 1: Cholecystectomy\n",
      "Procedure 2: Transplant from cadaver\n",
      "Procedure 3: Closed (percutaneous) [needle] biopsy of liver\n",
      "Procedure 4: Hemodialysis\n",
      "Procedure 5: Venous catheterization for renal dialysis\n",
      "Procedure 6: Pulmonary artery wedge monitoring\n",
      "Procedure 7: Percutaneous abdominal drainage\n",
      "Procedure 8: Parenteral infusion of concentrated nutritional substances\n",
      "Procedure 9: Enteral infusion of concentrated nutritional substances\n",
      "Procedure 10: Transfusion of packed cells\n",
      "Procedure 11: Transfusion of platelets\n",
      "Procedure 12: Venous catheterization, not elsewhere classified\n",
      "Procedure 13: Lumbar and lumbosacral fusion of the posterior column, posterior technique\n",
      "Procedure 14: Fusion or refusion of 2-3 vertebrae\n",
      "Procedure 15: Insertion of interbody spinal fusion device\n",
      "Symptom 0: Hepatorenal syndrome\n",
      "Symptom 1: Unspecified problem with special functions\n",
      "Symptom 2: Renal failure, unspecified\n",
      "Symptom 3: Jaundice, unspecified, not of newborn\n",
      "Symptom 4: Edema\n",
      "Symptom 5: Cirrhosis of liver without mention of alcohol\n",
      "Symptom 6: Esophageal reflux\n",
      "Symptom 7: Unspecified essential hypertension\n",
      "Symptom 8: Unspecified disorder of metabolism\n",
      "Symptom 9: Obstructive hydrocephalus\n",
      "Symptom 10: Dysphagia, unspecified\n",
      "Symptom 11: Other abnormal glucose\n",
      "Symptom 12: Chronic kidney disease, unspecified\n",
      "Symptom 13: Pain in limb\n",
      "Symptom 14: Unspecified problem with special functions\n",
      "Symptom 15: Gout, unspecified\n",
      "Symptom 16: Unspecified essential hypertension\n",
      "Symptom 17: Anemia, unspecified\n",
      "Symptom 18: Chronic kidney disease, unspecified\n",
      "Symptom 19: Generalized pain\n",
      "Symptom 20: Fever, unspecified\n",
      "Symptom 21: Constipation, unspecified\n",
      "Symptom 22: Acquired spondylolisthesis\n"
     ]
    }
   ],
   "source": [
    "from pyhealth.medcode import InnerMap\n",
    "\n",
    "# select a patient from df_rec_drug\n",
    "patient_id = 10884\n",
    "visit_id = 150905\n",
    "\n",
    "for sample in test_ds:\n",
    "    if (sample['patient_id'] == str(patient_id)) and (sample['visit_id'] == str(visit_id)):\n",
    "        conditions = sample['conditions']\n",
    "        procedures = sample['procedures']\n",
    "        symptoms = sample['symptoms']\n",
    "\n",
    "# initialize an InnerMap\n",
    "icd9cm = InnerMap.load(\"ICD9CM\")\n",
    "i=0\n",
    "for condition in conditions:\n",
    "    for code in condition:\n",
    "        print(f\"Condition {i}: {icd9cm.lookup(code)}\")\n",
    "        i+=1\n",
    "\n",
    "# initialize an InnerMap\n",
    "icd9pr = InnerMap.load(\"ICD9PROC\")\n",
    "i=0\n",
    "for procedure in procedures:\n",
    "    for code in procedure:\n",
    "        print(f\"Procedure {i}: {icd9pr.lookup(code)}\")\n",
    "        i+=1\n",
    "\n",
    "i=0\n",
    "for symptom in symptoms:\n",
    "    for code in symptom:\n",
    "        print(f\"Symptom {i}: {icd9cm.lookup(code)}\")\n",
    "        i+=1"
   ]
  }
 ],
 "metadata": {
  "kernelspec": {
   "display_name": "proj_venv",
   "language": "python",
   "name": "python3"
  },
  "language_info": {
   "codemirror_mode": {
    "name": "ipython",
    "version": 3
   },
   "file_extension": ".py",
   "mimetype": "text/x-python",
   "name": "python",
   "nbconvert_exporter": "python",
   "pygments_lexer": "ipython3",
   "version": "3.9.10"
  }
 },
 "nbformat": 4,
 "nbformat_minor": 2
}
