{
 "cells": [
  {
   "cell_type": "markdown",
   "metadata": {},
   "source": [
    "# Modelling with PyHealth (using NOTEEVENTS_ICD)"
   ]
  },
  {
   "cell_type": "markdown",
   "metadata": {},
   "source": [
    "## Libraries"
   ]
  },
  {
   "cell_type": "code",
   "execution_count": 1,
   "metadata": {},
   "outputs": [],
   "source": [
    "import pandas as pd\n",
    "import numpy as np"
   ]
  },
  {
   "cell_type": "code",
   "execution_count": null,
   "metadata": {},
   "outputs": [],
   "source": [
    "%pip install torch==2.1.0"
   ]
  },
  {
   "cell_type": "code",
   "execution_count": 1,
   "metadata": {},
   "outputs": [
    {
     "name": "stdout",
     "output_type": "stream",
     "text": [
      "2.1.0+cpu\n"
     ]
    }
   ],
   "source": [
    "import torch\n",
    "print(torch.__version__)\n",
    "\n",
    "# Install required packages.\n",
    "import os\n",
    "os.environ['TORCH'] = torch.__version__"
   ]
  },
  {
   "cell_type": "code",
   "execution_count": 13,
   "metadata": {},
   "outputs": [
    {
     "name": "stdout",
     "output_type": "stream",
     "text": [
      "Looking in links: https://data.pyg.org/whl/torch-${TORCH}.html\n",
      "Requirement already satisfied: torch-scatter in c:\\users\\giuse\\desktop\\msc-thesis-project\\proj_venv\\lib\\site-packages (2.1.2+pt21cpu)\n",
      "Note: you may need to restart the kernel to use updated packages.\n",
      "Looking in links: https://data.pyg.org/whl/torch-${TORCH}.html\n",
      "Requirement already satisfied: torch-sparse in c:\\users\\giuse\\desktop\\msc-thesis-project\\proj_venv\\lib\\site-packages (0.6.18+pt21cpu)\n",
      "Requirement already satisfied: scipy in c:\\users\\giuse\\desktop\\msc-thesis-project\\proj_venv\\lib\\site-packages (from torch-sparse) (1.9.3)\n",
      "Requirement already satisfied: numpy<1.26.0,>=1.18.5 in c:\\users\\giuse\\desktop\\msc-thesis-project\\proj_venv\\lib\\site-packages (from scipy->torch-sparse) (1.25.2)\n",
      "Note: you may need to restart the kernel to use updated packages.\n"
     ]
    }
   ],
   "source": [
    "%pip install torch-scatter -f https://data.pyg.org/whl/torch-${TORCH}.html\n",
    "%pip install torch-sparse -f https://data.pyg.org/whl/torch-${TORCH}.html"
   ]
  },
  {
   "cell_type": "code",
   "execution_count": null,
   "metadata": {},
   "outputs": [],
   "source": [
    "%pip install torch-geometric"
   ]
  },
  {
   "cell_type": "code",
   "execution_count": 2,
   "metadata": {},
   "outputs": [],
   "source": [
    "# carica i dati dai file csv\n",
    "noteevents = pd.read_csv('data/NOTEEVENTS_ICD.csv')\n",
    "patients = pd.read_csv('data/PATIENTS.csv')\n",
    "\n",
    "# seleziona i pazienti presenti in NOTEEVENTS_ICD\n",
    "selected_patients = patients[patients['SUBJECT_ID'].isin(noteevents['SUBJECT_ID'].unique())]\n",
    "\n",
    "# salva il risultato in un file csv\n",
    "selected_patients.to_csv('data/PATIENTS_SEL.csv', index=False)\n"
   ]
  },
  {
   "cell_type": "markdown",
   "metadata": {},
   "source": [
    "## Loading MIMIC-III into PyHealth"
   ]
  },
  {
   "cell_type": "code",
   "execution_count": 3,
   "metadata": {},
   "outputs": [],
   "source": [
    "from pyhealth.datasets import MIMIC3Dataset\n",
    "\n",
    "dataset = MIMIC3Dataset(\n",
    "    root='data/',\n",
    "    tables=[\"DIAGNOSES_ICD\",\"PROCEDURES_ICD\",\"PRESCRIPTIONS\",\"NOTEEVENTS_ICD\"],\n",
    "    code_mapping={\"NDC\": (\"ATC\", {\"target_kwargs\": {\"level\": 3}})},\n",
    "    # refresh_cache=True,\n",
    "    # dev=True\n",
    ")"
   ]
  },
  {
   "cell_type": "code",
   "execution_count": 4,
   "metadata": {},
   "outputs": [
    {
     "name": "stdout",
     "output_type": "stream",
     "text": [
      "\n",
      "Statistics of base dataset (dev=False):\n",
      "\t- Dataset: MIMIC3Dataset\n",
      "\t- Number of patients: 1560\n",
      "\t- Number of visits: 5014\n",
      "\t- Number of visits per patient: 3.2141\n",
      "\t- Number of events per visit in DIAGNOSES_ICD: 11.5987\n",
      "\t- Number of events per visit in PROCEDURES_ICD: 3.8771\n",
      "\t- Number of events per visit in PRESCRIPTIONS: 44.3879\n",
      "\t- Number of events per visit in NOTEEVENTS_ICD: 11.0782\n",
      "\n"
     ]
    },
    {
     "data": {
      "text/plain": [
       "'\\nStatistics of base dataset (dev=False):\\n\\t- Dataset: MIMIC3Dataset\\n\\t- Number of patients: 1560\\n\\t- Number of visits: 5014\\n\\t- Number of visits per patient: 3.2141\\n\\t- Number of events per visit in DIAGNOSES_ICD: 11.5987\\n\\t- Number of events per visit in PROCEDURES_ICD: 3.8771\\n\\t- Number of events per visit in PRESCRIPTIONS: 44.3879\\n\\t- Number of events per visit in NOTEEVENTS_ICD: 11.0782\\n'"
      ]
     },
     "execution_count": 4,
     "metadata": {},
     "output_type": "execute_result"
    }
   ],
   "source": [
    "dataset.stat()"
   ]
  },
  {
   "cell_type": "markdown",
   "metadata": {},
   "source": [
    "## Reading retrieved dataset"
   ]
  },
  {
   "cell_type": "code",
   "execution_count": 25,
   "metadata": {},
   "outputs": [
    {
     "name": "stdout",
     "output_type": "stream",
     "text": [
      "['10055', '10071', '10077', '10144', '10160', '10174', '10197', '10207', '10254', '10285', '1029', '10302', '10304', '10310', '10328', '10342', '10369', '10414', '10434', '10442', '10478', '10487', '10488', '1050', '10594', '10612', '10618', '10634', '10635', '10637', '10660', '10679', '10687', '1069', '10742', '10774', '10820', '10832', '10859', '10884', '109', '10906', '10932', '10939', '10973', '10976', '10977', '11043', '11102', '11108', '11135', '11165', '11171', '112', '11205', '1122', '11234', '11236', '11242', '11255', '11318', '11342', '11346', '11421', '11442', '11464', '11479', '11588', '11590', '11604', '11623', '11634', '11716', '11763', '11764', '11778', '11818', '11825', '11830', '11838', '11861', '1187', '11876', '11885', '11892', '11897', '11932', '1197', '11970', '12039', '12076', '12110', '12113', '12125', '12149', '12198', '12203', '12217', '1223', '12281', '12344', '124', '12411', '12446', '12467', '12501', '12515', '12521', '12566', '12567', '12690', '12706', '12712', '12720', '12769', '12788', '12798', '12799', '12819', '12829', '12833', '12834', '12849', '12856', '12902', '12945', '12954', '12982', '1301', '13033', '13055', '13074', '13192', '13212', '13223', '13259', '13293', '13305', '13308', '1332', '13329', '13355', '13384', '1339', '13403', '13476', '13508', '13552', '13599', '13627', '13641', '13653', '13686', '13705', '13733', '13739', '13740', '13744', '13767', '138', '13816', '13837', '1386', '13864', '13868', '13882', '13902', '13920', '13936', '13948', '13960', '13965', '14002', '1401', '14031', '14061', '14079', '14085', '14094', '14154', '1419', '1422', '14241', '14310', '14330', '14363', '1441', '14412', '14427', '14507', '14532', '14566', '14669', '14701', '14716', '1474', '14757', '14761', '1478', '14806', '14828', '14836', '14841', '1488', '14885', '1493', '14957', '15006', '15017', '15037', '15041', '15057', '15128', '1516', '1517', '15208', '15209', '15226', '15232', '15262', '1531', '15355', '15370', '15374', '15380', '15387', '15432', '1544', '15450', '15453', '15472', '15482', '15508', '15547', '15573', '15628', '15636', '15645', '15654', '15672', '1569', '15749', '15752', '15754', '1578', '15783', '15784', '15850', '15852', '15881', '1590', '15916', '15919', '15936', '1594', '15996', '16013', '16025', '16053', '1610', '16108', '1611', '16122', '16146', '16147', '16178', '16186', '16194', '16200', '16210', '16236', '16256', '16275', '16279', '16286', '16336', '1636', '16375', '16382', '16412', '16455', '16490', '16531', '16549', '16551', '16592', '16618', '16621', '16655', '16666', '16674', '16696', '16698', '16709', '16727', '16740', '16745', '16774', '16776', '16802', '16803', '16832', '16839', '16860', '16881', '16884', '16917', '16988', '16989', '16992', '16994', '16997', '17021', '17072', '17083', '17094', '17098', '17108', '17125', '17139', '17143', '17153', '17206', '17212', '17236', '17245', '17367', '17384', '17421', '17472', '17488', '17505', '17513', '17530', '17546', '17548', '17581', '17589', '17617', '17655', '17659', '17680', '17702', '17712', '17722', '17735', '17767', '1778', '17780', '17782', '17789', '17820', '17837', '17843', '17858', '1787', '17879', '17886', '17891', '17894', '17899', '17904', '17906', '17949', '17997', '18', '18055', '18094', '18105', '18126', '18144', '18200', '18353', '18376', '18400', '18408', '18418', '18430', '18459', '18490', '18497', '18572', '18633', '18648', '18657', '18681', '18689', '18704', '18739', '18771', '188', '18846', '18908', '18910', '18924', '18928', '18942', '18946', '18971', '18982', '18983', '1900', '19029', '19039', '19053', '19059', '19060', '19069', '19079', '19087', '19102', '19117', '19142', '19155', '19191', '19213', '19246', '19270', '1931', '19310', '19344', '1935', '19354', '19356', '1936', '19370', '19371', '19418', '1944', '19469', '19475', '19493', '19512', '19547', '19568', '19583', '19620', '19627', '19746', '19754', '19771', '19793', '19798', '19805', '19817', '19823', '1985', '19855', '19859', '1991', '1995', '19960', '19981', '1999', '20007', '20011', '20036', '20061', '20064', '20066', '20075', '20086', '20124', '20144', '20162', '2018', '20190', '20204', '20217', '20226', '20248', '20296', '20312', '20324', '20339', '2034', '20368', '20383', '20389', '20410', '20423', '20473', '20479', '2049', '20546', '20577', '20624', '20643', '20644', '20678', '20745', '2075', '20796', '2081', '2085', '2093', '20931', '20940', '20944', '20947', '20957', '20979', '20988', '21015', '21025', '21072', '21090', '21099', '21108', '21144', '21195', '21220', '21223', '21280', '21293', '21318', '21321', '2136', '21362', '21401', '21413', '21431', '21447', '21448', '21452', '21453', '21454', '21458', '21460', '21483', '21510', '21513', '21514', '21518', '21574', '2159', '21645', '21651', '21666', '21673', '21693', '21700', '21706', '21734', '21845', '2185', '21860', '21864', '2187', '21881', '21901', '21910', '21951', '21965', '21975', '21990', '22010', '22017', '22083', '22119', '22126', '2215', '22180', '22200', '22225', '2223', '2224', '22277', '22285', '22291', '22426', '22478', '22490', '22505', '22525', '22579', '22587', '22624', '2264', '22644', '2265', '22656', '22712', '22732', '22754', '22763', '22766', '22780', '22782', '22792', '22795', '22800', '22804', '22806', '22835', '22851', '22856', '22910', '22914', '22921', '22938', '22946', '22963', '22987', '23014', '23036', '23039', '23049', '23097', '23100', '23108', '23140', '23150', '23161', '23197', '23209', '23219', '2323', '23298', '23306', '23318', '23339', '23364', '23365', '23380', '23397', '23475', '23477', '23478', '23483', '2349', '23517', '23518', '23568', '23577', '23637', '23641', '2365', '23657', '23680', '23687', '23694', '23706', '23707', '23711', '23725', '23734', '23735', '23761', '23872', '23882', '23933', '23943', '23946', '23990', '24029', '24094', '24099', '24111', '24127', '24134', '24141', '24198', '24276', '24344', '24444', '24465', '24486', '2452', '24562', '24571', '24573', '24580', '2460', '24631', '24672', '24674', '24682', '24683', '24685', '24712', '24714', '24743', '24794', '24806', '24807', '24824', '24850', '24858', '24889', '24902', '24958', '24975', '24977', '24995', '25001', '25009', '25049', '25060', '25069', '25072', '25073', '25111', '25115', '25117', '2512', '25135', '25225', '25229', '25235', '25251', '25295', '25302', '25318', '25321', '25323', '25332', '25338', '25354', '25384', '25396', '25400', '25403', '25452', '2549', '2550', '25512', '25515', '25579', '25640', '25655', '25699', '25708', '25722', '25764', '25768', '25780', '25790', '25814', '25876', '25882', '25889', '2589', '25891', '2590', '25963', '25975', '26027', '26036', '26043', '26067', '26094', '26105', '26118', '26124', '26134', '26139', '26161', '26168', '26200', '26208', '26212', '26214', '2622', '26224', '26234', '26261', '26274', '26277', '26313', '26317', '26324', '26370', '26372', '26384', '26398', '26405', '26421', '26453', '26455', '26474', '26479', '26515', '26519', '26579', '2658', '26604', '26673', '26709', '26724', '26845', '26868', '26889', '26928', '26935', '26948', '26956', '2710', '27102', '27106', '27195', '27210', '27242', '27247', '2731', '27355', '27362', '27398', '27449', '27462', '27486', '27517', '27547', '27603', '27643', '27657', '27667', '27690', '27710', '27714', '27723', '27745', '2775', '27750', '27793', '27799', '27800', '27808', '2784', '27872', '2791', '27910', '27931', '27960', '2799', '28043', '28050', '28055', '28057', '28104', '28180', '28190', '28240', '28264', '28281', '283', '28365', '28394', '28423', '28424', '28531', '28561', '28577', '28601', '28651', '28657', '28671', '28716', '2872', '28735', '28805', '2890', '28944', '28982', '28999', '29035', '29055', '29092', '29137', '29334', '29350', '29352', '29360', '29372', '2939', '29398', '29426', '29478', '29483', '29576', '29633', '29660', '29666', '2973', '2975', '29859', '29862', '29872', '29946', '29965', '29967', '2997', '29972', '30183', '30217', '30221', '30239', '30243', '30277', '30296', '30322', '3036', '30412', '30457', '30507', '30508', '3052', '30530', '30533', '30548', '30551', '30552', '30564', '30590', '30616', '30638', '30660', '30671', '30678', '30682', '30696', '3070', '30737', '3078', '30786', '30855', '30887', '30917', '3100', '3115', '31170', '31185', '31205', '31312', '3133', '31332', '31340', '31376', '31385', '3154', '31640', '31719', '3181', '31966', '31996', '32052', '32082', '32161', '3225', '323', '32348', '32453', '32466', '32605', '3266', '32664', '32678', '32707', '32743', '32790', '32791', '3280', '3306', '3322', '3362', '3365', '339', '3393', '3417', '3436', '3437', '3460', '3490', '3496', '3506', '353', '3543', '3566', '3600', '3632', '3637', '3674', '3683', '3734', '3860', '3876', '3889', '3917', '3929', '394', '3974', '3977', '4004', '40464', '4059', '4063', '40697', '4096', '41034', '4113', '4126', '4138', '41603', '4166', '41702', '41768', '4187', '41966', '42180', '423', '42351', '4240', '4245', '4267', '4317', '4329', '43367', '434', '4367', '43673', '43991', '4410', '4448', '44521', '4454', '4458', '44602', '44751', '4495', '45180', '452', '4520', '4521', '45232', '4527', '45321', '45437', '45542', '4555', '45655', '4566', '4571', '4587', '46028', '4604', '46057', '4609', '46105', '46127', '46189', '46228', '4631', '46487', '4655', '46566', '46569', '46586', '4688', '47035', '47045', '47137', '4714', '4765', '4766', '47758', '47827', '4784', '4787', '47941', '4796', '48025', '48123', '4816', '4825', '4827', '48372', '48414', '48580', '48697', '4893', '4929', '4954', '49683', '5015', '5031', '5032', '5042', '5047', '5048', '5049', '5050', '50532', '5060', '50623', '5074', '5077', '50817', '50969', '51337', '51349', '5142', '5146', '51493', '515', '5158', '5171', '518', '5183', '52068', '522', '52263', '5242', '52482', '525', '52592', '52593', '5278', '52985', '53098', '53283', '53404', '5343', '53437', '5347', '5370', '5382', '5389', '5397', '5424', '54502', '5456', '54610', '5466', '5476', '54826', '54935', '5494', '5525', '55529', '5598', '55992', '5604', '5611', '5617', '56174', '5619', '56287', '5645', '56552', '5662', '5665', '5672', '56861', '5689', '57001', '5709', '57105', '5712', '5727', '57299', '5766', '5783', '5794', '5806', '5816', '58163', '5830', '58308', '58377', '5865', '5879', '58825', '58965', '5901', '59049', '59158', '5954', '5970', '5978', '59797', '59845', '59848', '59864', '59875', '59924', '59948', '60020', '6008', '60142', '60181', '60668', '6069', '60842', '6085', '60893', '61', '61198', '6124', '61259', '61630', '61659', '61809', '6195', '6212', '62186', '62261', '6272', '62813', '629', '6300', '63048', '6321', '63292', '634', '6349', '6358', '63637', '6365', '63660', '638', '63938', '6428', '6437', '6440', '6449', '6466', '64906', '64919', '64988', '65082', '65190', '65284', '6534', '65364', '65431', '65454', '65481', '6571', '65779', '65954', '65982', '65994', '6603', '6604', '66158', '6621', '6636', '6638', '665', '66637', '6685', '67017', '67070', '6710', '6711', '6718', '67426', '6749', '67683', '679', '67910', '68184', '68218', '6824', '6828', '68301', '6843', '68453', '6871', '6894', '6917', '69251', '69359', '69398', '6953', '6954', '6973', '69855', '70004', '7009', '7029', '703', '70386', '70494', '7066', '70807', '71192', '7138', '7142', '7169', '7170', '71878', '7188', '7192', '71921', '72083', '72147', '7223', '7232', '7234', '72447', '725', '72707', '7275', '72847', '72940', '73206', '7327', '73370', '7344', '73454', '73509', '7357', '7359', '73770', '7391', '74046', '7413', '74319', '74444', '747', '7477', '7482', '7504', '7514', '75249', '7529', '7552', '7562', '75668', '7589', '7614', '76203', '7621', '7629', '76459', '76646', '7666', '7668', '7681', '7702', '77037', '77067', '7718', '77220', '7726', '773', '77341', '77413', '7752', '7784', '77850', '7798', '7799', '78007', '7809', '7815', '78342', '78419', '78536', '7859', '78641', '787', '78814', '7908', '79100', '7955', '7958', '79673', '79977', '80144', '80163', '80369', '8060', '80791', '808', '8081', '80956', '8109', '81114', '8120', '81209', '81464', '81529', '81543', '8163', '81662', '81778', '82104', '8222', '8231', '8238', '8251', '8258', '8273', '82960', '8309', '83151', '8321', '83210', '8369', '8432', '84350', '8445', '84465', '8447', '8450', '8452', '84595', '8466', '84669', '8467', '8471', '8472', '84745', '849', '8493', '8501', '8505', '8507', '85079', '852', '85350', '8543', '8556', '8564', '8565', '85723', '85740', '85870', '8597', '85999', '86018', '86146', '862', '863', '8665', '86717', '87160', '8734', '8789', '87926', '87978', '8799', '8801', '88206', '8851', '8869', '88711', '88782', '88857', '88882', '8896', '8917', '89180', '89290', '89446', '8947', '89840', '8989', '8992', '9012', '90369', '904', '9061', '90889', '9090', '90902', '9102', '91103', '91295', '9177', '91827', '92066', '9216', '9233', '9248', '9253', '9256', '92895', '9304', '93229', '9324', '93277', '93336', '9362', '9363', '93632', '9395', '9397', '93996', '9402', '94049', '9412', '94264', '94312', '9453', '948', '9484', '9486', '949', '94962', '9505', '95122', '9517', '9518', '952', '95238', '9540', '9544', '95447', '9555', '95637', '9571', '95725', '959', '96010', '96212', '96442', '9656', '96759', '96791', '96950', '9714', '9725', '97307', '97353', '9736', '97443', '97488', '97529', '9753', '97543', '97917', '9795', '97984', '98024', '9818', '98518', '9862', '98744', '98813', '9882', '9887', '9889', '9900', '99031', '9923', '99299', '9930', '99322', '9933', '99384', '99408', '99503', '9962', '9970', '9973', '9976', '9982']\n",
      "1560\n"
     ]
    }
   ],
   "source": [
    "# get patient dictionary\n",
    "patient_dict = dataset.patients\n",
    "print(list(patient_dict.keys()))\n",
    "print(len(patient_dict))"
   ]
  },
  {
   "cell_type": "code",
   "execution_count": 26,
   "metadata": {},
   "outputs": [
    {
     "name": "stdout",
     "output_type": "stream",
     "text": [
      "OrderedDict([('124383', Visit 124383 from patient 4096 with 86 events from tables ['DIAGNOSES_ICD', 'PROCEDURES_ICD', 'PRESCRIPTIONS', 'NOTEEVENTS_ICD']), ('161677', Visit 161677 from patient 4096 with 109 events from tables ['DIAGNOSES_ICD', 'PROCEDURES_ICD', 'PRESCRIPTIONS', 'NOTEEVENTS_ICD'])])\n"
     ]
    }
   ],
   "source": [
    "# get the \"10\" patient\n",
    "patient = patient_dict[\"4096\"]\n",
    "patient.gender, patient.birth_datetime, patient.ethnicity, patient.death_datetime, patient.visits\n",
    "print(patient.visits)"
   ]
  },
  {
   "cell_type": "code",
   "execution_count": 27,
   "metadata": {},
   "outputs": [
    {
     "name": "stdout",
     "output_type": "stream",
     "text": [
      "['124383', '161677']\n"
     ]
    }
   ],
   "source": [
    "# get the visit list of this patient\n",
    "visit_dict = patient.visits\n",
    "print (list(visit_dict.keys()))"
   ]
  },
  {
   "cell_type": "code",
   "execution_count": 28,
   "metadata": {},
   "outputs": [
    {
     "data": {
      "text/plain": [
       "(datetime.datetime(2170, 7, 20, 18, 9),\n",
       " ['DIAGNOSES_ICD', 'PROCEDURES_ICD', 'PRESCRIPTIONS', 'NOTEEVENTS_ICD'],\n",
       " 86,\n",
       " {'DIAGNOSES_ICD': [Event with ICD9CM code 0389 from table DIAGNOSES_ICD,\n",
       "   Event with ICD9CM code 5849 from table DIAGNOSES_ICD,\n",
       "   Event with ICD9CM code 496 from table DIAGNOSES_ICD,\n",
       "   Event with ICD9CM code 4280 from table DIAGNOSES_ICD,\n",
       "   Event with ICD9CM code 42731 from table DIAGNOSES_ICD,\n",
       "   Event with ICD9CM code 566 from table DIAGNOSES_ICD,\n",
       "   Event with ICD9CM code 99592 from table DIAGNOSES_ICD,\n",
       "   Event with ICD9CM code 4589 from table DIAGNOSES_ICD,\n",
       "   Event with ICD9CM code 25080 from table DIAGNOSES_ICD,\n",
       "   Event with ICD9CM code 4019 from table DIAGNOSES_ICD,\n",
       "   Event with ICD9CM code 2859 from table DIAGNOSES_ICD,\n",
       "   Event with ICD9CM code 78009 from table DIAGNOSES_ICD,\n",
       "   Event with ICD9CM code 4439 from table DIAGNOSES_ICD,\n",
       "   Event with ICD9CM code 5939 from table DIAGNOSES_ICD,\n",
       "   Event with ICD9CM code 71590 from table DIAGNOSES_ICD,\n",
       "   Event with ICD9CM code V1259 from table DIAGNOSES_ICD,\n",
       "   Event with ICD9CM code V1251 from table DIAGNOSES_ICD],\n",
       "  'PROCEDURES_ICD': [Event with ICD9PROC code 3893 from table PROCEDURES_ICD,\n",
       "   Event with ICD9PROC code 9609 from table PROCEDURES_ICD,\n",
       "   Event with ICD9PROC code 9904 from table PROCEDURES_ICD,\n",
       "   Event with ICD9PROC code 9390 from table PROCEDURES_ICD,\n",
       "   Event with ICD9PROC code 3893 from table PROCEDURES_ICD],\n",
       "  'PRESCRIPTIONS': [Event with ATC code N03A from table PRESCRIPTIONS,\n",
       "   Event with ATC code A02B from table PRESCRIPTIONS,\n",
       "   Event with ATC code C09A from table PRESCRIPTIONS,\n",
       "   Event with ATC code H01A from table PRESCRIPTIONS,\n",
       "   Event with ATC code J01M from table PRESCRIPTIONS,\n",
       "   Event with ATC code N02B from table PRESCRIPTIONS,\n",
       "   Event with ATC code R03A from table PRESCRIPTIONS,\n",
       "   Event with ATC code C10A from table PRESCRIPTIONS,\n",
       "   Event with ATC code B05X from table PRESCRIPTIONS,\n",
       "   Event with ATC code N03A from table PRESCRIPTIONS,\n",
       "   Event with ATC code A12A from table PRESCRIPTIONS,\n",
       "   Event with ATC code C01C from table PRESCRIPTIONS,\n",
       "   Event with ATC code V06D from table PRESCRIPTIONS,\n",
       "   Event with ATC code J01X from table PRESCRIPTIONS,\n",
       "   Event with ATC code N02A from table PRESCRIPTIONS,\n",
       "   Event with ATC code N02B from table PRESCRIPTIONS,\n",
       "   Event with ATC code B01A from table PRESCRIPTIONS,\n",
       "   Event with ATC code R03B from table PRESCRIPTIONS,\n",
       "   Event with ATC code J01X from table PRESCRIPTIONS,\n",
       "   Event with ATC code C05A from table PRESCRIPTIONS,\n",
       "   Event with ATC code D04A from table PRESCRIPTIONS,\n",
       "   Event with ATC code B05X from table PRESCRIPTIONS,\n",
       "   Event with ATC code N06A from table PRESCRIPTIONS,\n",
       "   Event with ATC code N05A from table PRESCRIPTIONS,\n",
       "   Event with ATC code N05A from table PRESCRIPTIONS,\n",
       "   Event with ATC code C07A from table PRESCRIPTIONS,\n",
       "   Event with ATC code N02B from table PRESCRIPTIONS,\n",
       "   Event with ATC code B01A from table PRESCRIPTIONS,\n",
       "   Event with ATC code C03C from table PRESCRIPTIONS,\n",
       "   Event with ATC code J01X from table PRESCRIPTIONS,\n",
       "   Event with ATC code P01A from table PRESCRIPTIONS,\n",
       "   Event with ATC code C01D from table PRESCRIPTIONS,\n",
       "   Event with ATC code C09A from table PRESCRIPTIONS,\n",
       "   Event with ATC code J01M from table PRESCRIPTIONS,\n",
       "   Event with ATC code N05A from table PRESCRIPTIONS,\n",
       "   Event with ATC code A10A from table PRESCRIPTIONS,\n",
       "   Event with ATC code N02A from table PRESCRIPTIONS,\n",
       "   Event with ATC code A02A from table PRESCRIPTIONS,\n",
       "   Event with ATC code A06A from table PRESCRIPTIONS,\n",
       "   Event with ATC code A12C from table PRESCRIPTIONS,\n",
       "   Event with ATC code A12B from table PRESCRIPTIONS],\n",
       "  'NOTEEVENTS_ICD': [Event with ICD9CM code V419 from table NOTEEVENTS_ICD,\n",
       "   Event with ICD9CM code 4019 from table NOTEEVENTS_ICD,\n",
       "   Event with ICD9CM code 4439 from table NOTEEVENTS_ICD,\n",
       "   Event with ICD9CM code 43491 from table NOTEEVENTS_ICD,\n",
       "   Event with ICD9CM code 78060 from table NOTEEVENTS_ICD,\n",
       "   Event with ICD9CM code 51189 from table NOTEEVENTS_ICD,\n",
       "   Event with ICD9CM code 7840 from table NOTEEVENTS_ICD,\n",
       "   Event with ICD9CM code 78650 from table NOTEEVENTS_ICD,\n",
       "   Event with ICD9CM code 78609 from table NOTEEVENTS_ICD,\n",
       "   Event with ICD9CM code 78605 from table NOTEEVENTS_ICD,\n",
       "   Event with ICD9CM code 78096 from table NOTEEVENTS_ICD,\n",
       "   Event with ICD9CM code 2724 from table NOTEEVENTS_ICD,\n",
       "   Event with ICD9CM code 53081 from table NOTEEVENTS_ICD,\n",
       "   Event with ICD9CM code 71590 from table NOTEEVENTS_ICD,\n",
       "   Event with ICD9CM code 5770 from table NOTEEVENTS_ICD,\n",
       "   Event with ICD9CM code 496 from table NOTEEVENTS_ICD,\n",
       "   Event with ICD9CM code 27800 from table NOTEEVENTS_ICD,\n",
       "   Event with ICD9CM code 7823 from table NOTEEVENTS_ICD,\n",
       "   Event with ICD9CM code 42761 from table NOTEEVENTS_ICD,\n",
       "   Event with ICD9CM code 2512 from table NOTEEVENTS_ICD,\n",
       "   Event with ICD9CM code 5849 from table NOTEEVENTS_ICD,\n",
       "   Event with ICD9CM code 78791 from table NOTEEVENTS_ICD,\n",
       "   Event with ICD9CM code 3301 from table NOTEEVENTS_ICD]})"
      ]
     },
     "execution_count": 28,
     "metadata": {},
     "output_type": "execute_result"
    }
   ],
   "source": [
    "# get the first visit\n",
    "visit = visit_dict['124383']\n",
    "visit.encounter_time, visit.available_tables, visit.num_events, visit.event_list_dict"
   ]
  },
  {
   "cell_type": "code",
   "execution_count": 29,
   "metadata": {},
   "outputs": [
    {
     "data": {
      "text/plain": [
       "['V419',\n",
       " '4019',\n",
       " '4439',\n",
       " '43491',\n",
       " '78060',\n",
       " '51189',\n",
       " '7840',\n",
       " '78650',\n",
       " '78609',\n",
       " '78605',\n",
       " '78096',\n",
       " '2724',\n",
       " '53081',\n",
       " '71590',\n",
       " '5770',\n",
       " '496',\n",
       " '27800',\n",
       " '7823',\n",
       " '42761',\n",
       " '2512',\n",
       " '5849',\n",
       " '78791',\n",
       " '3301']"
      ]
     },
     "execution_count": 29,
     "metadata": {},
     "output_type": "execute_result"
    }
   ],
   "source": [
    "visit.get_code_list(table='NOTEEVENTS_ICD')"
   ]
  },
  {
   "cell_type": "markdown",
   "metadata": {},
   "source": [
    "## Modelling data for task of Drug Recommendation"
   ]
  },
  {
   "cell_type": "code",
   "execution_count": 5,
   "metadata": {},
   "outputs": [
    {
     "name": "stderr",
     "output_type": "stream",
     "text": [
      "Generating samples for drug_recommendation_mimic3_fn: 100%|██████████| 1560/1560 [00:00<00:00, 12557.72it/s]\n"
     ]
    }
   ],
   "source": [
    "from pyhealth.tasks import drug_recommendation_mimic3_fn\n",
    "from pyhealth.datasets import split_by_patient, get_dataloader\n",
    "\n",
    "mimic3sample = dataset.set_task(task_fn=drug_recommendation_mimic3_fn) # use default task\n",
    "train_ds, val_ds, test_ds = split_by_patient(mimic3sample, [0.8, 0.1, 0.1])\n"
   ]
  },
  {
   "cell_type": "code",
   "execution_count": 6,
   "metadata": {},
   "outputs": [
    {
     "name": "stdout",
     "output_type": "stream",
     "text": [
      "Statistics of sample dataset:\n",
      "\t- Dataset: MIMIC3Dataset\n",
      "\t- Task: drug_recommendation_mimic3_fn\n",
      "\t- Number of samples: 2012\n",
      "\t- Number of patients: 906\n",
      "\t- Number of visits: 2012\n",
      "\t- Number of visits per patient: 2.2208\n",
      "\t- conditions:\n",
      "\t\t- Number of conditions per sample: 18.8827\n",
      "\t\t- Number of unique conditions: 2099\n",
      "\t\t- Distribution of conditions (Top-10): [('4019', 1225), ('4280', 1021), ('42731', 783), ('41401', 767), ('5849', 594), ('25000', 537), ('53081', 458), ('5990', 393), ('40391', 389), ('2724', 386)]\n",
      "\t- procedures:\n",
      "\t\t- Number of procedures per sample: 7.0055\n",
      "\t\t- Number of unique procedures: 731\n",
      "\t\t- Distribution of procedures (Top-10): [('3893', 1047), ('9904', 776), ('9604', 529), ('3995', 505), ('966', 484), ('9671', 477), ('3891', 295), ('9672', 292), ('3961', 267), ('9915', 257)]\n",
      "\t- drugs:\n",
      "\t\t- Number of drugs per sample: 24.4841\n",
      "\t\t- Number of unique drugs: 178\n",
      "\t\t- Distribution of drugs (Top-10): [('A02B', 1797), ('B05X', 1792), ('B01A', 1686), ('N02B', 1681), ('A06A', 1564), ('N02A', 1453), ('V06D', 1383), ('C07A', 1334), ('V04C', 1199), ('A12C', 1190)]\n",
      "\t- drugs_hist:\n",
      "\t\t- Number of drugs_hist per sample: 17.2957\n",
      "\t\t- Number of unique drugs_hist: 174\n",
      "\t\t- Distribution of drugs_hist (Top-10): [('A02B', 1320), ('B05X', 1287), ('B01A', 1236), ('N02B', 1189), ('A06A', 1094), ('N02A', 1024), ('V06D', 999), ('C07A', 976), ('V04C', 840), ('A12C', 834)]\n",
      "\t- symptoms:\n",
      "\t\t- Number of symptoms per sample: 27.8588\n",
      "\t\t- Number of unique symptoms: 714\n",
      "\t\t- Distribution of symptoms (Top-10): [('V419', 3386), ('4019', 2372), ('7823', 2242), ('78060', 2124), ('78096', 2113), ('78650', 1390), ('78609', 1027), ('78605', 1020), ('4289', 1005), ('78900', 901)]\n"
     ]
    },
    {
     "data": {
      "text/plain": [
       "\"Statistics of sample dataset:\\n\\t- Dataset: MIMIC3Dataset\\n\\t- Task: drug_recommendation_mimic3_fn\\n\\t- Number of samples: 2012\\n\\t- Number of patients: 906\\n\\t- Number of visits: 2012\\n\\t- Number of visits per patient: 2.2208\\n\\t- conditions:\\n\\t\\t- Number of conditions per sample: 18.8827\\n\\t\\t- Number of unique conditions: 2099\\n\\t\\t- Distribution of conditions (Top-10): [('4019', 1225), ('4280', 1021), ('42731', 783), ('41401', 767), ('5849', 594), ('25000', 537), ('53081', 458), ('5990', 393), ('40391', 389), ('2724', 386)]\\n\\t- procedures:\\n\\t\\t- Number of procedures per sample: 7.0055\\n\\t\\t- Number of unique procedures: 731\\n\\t\\t- Distribution of procedures (Top-10): [('3893', 1047), ('9904', 776), ('9604', 529), ('3995', 505), ('966', 484), ('9671', 477), ('3891', 295), ('9672', 292), ('3961', 267), ('9915', 257)]\\n\\t- drugs:\\n\\t\\t- Number of drugs per sample: 24.4841\\n\\t\\t- Number of unique drugs: 178\\n\\t\\t- Distribution of drugs (Top-10): [('A02B', 1797), ('B05X', 1792), ('B01A', 1686), ('N02B', 1681), ('A06A', 1564), ('N02A', 1453), ('V06D', 1383), ('C07A', 1334), ('V04C', 1199), ('A12C', 1190)]\\n\\t- drugs_hist:\\n\\t\\t- Number of drugs_hist per sample: 17.2957\\n\\t\\t- Number of unique drugs_hist: 174\\n\\t\\t- Distribution of drugs_hist (Top-10): [('A02B', 1320), ('B05X', 1287), ('B01A', 1236), ('N02B', 1189), ('A06A', 1094), ('N02A', 1024), ('V06D', 999), ('C07A', 976), ('V04C', 840), ('A12C', 834)]\\n\\t- symptoms:\\n\\t\\t- Number of symptoms per sample: 27.8588\\n\\t\\t- Number of unique symptoms: 714\\n\\t\\t- Distribution of symptoms (Top-10): [('V419', 3386), ('4019', 2372), ('7823', 2242), ('78060', 2124), ('78096', 2113), ('78650', 1390), ('78609', 1027), ('78605', 1020), ('4289', 1005), ('78900', 901)]\""
      ]
     },
     "execution_count": 6,
     "metadata": {},
     "output_type": "execute_result"
    }
   ],
   "source": [
    "mimic3sample.stat()"
   ]
  },
  {
   "cell_type": "code",
   "execution_count": 7,
   "metadata": {},
   "outputs": [],
   "source": [
    "# create dataloaders (torch.data.DataLoader)\n",
    "train_loader = get_dataloader(train_ds, batch_size=128, shuffle=True)\n",
    "val_loader = get_dataloader(val_ds, batch_size=128, shuffle=False)\n",
    "test_loader = get_dataloader(test_ds, batch_size=128, shuffle=False)"
   ]
  },
  {
   "cell_type": "code",
   "execution_count": 8,
   "metadata": {},
   "outputs": [
    {
     "data": {
      "text/plain": [
       "(1593, 202, 217)"
      ]
     },
     "execution_count": 8,
     "metadata": {},
     "output_type": "execute_result"
    }
   ],
   "source": [
    "len(train_ds), len(val_ds), len(test_ds)"
   ]
  },
  {
   "cell_type": "markdown",
   "metadata": {},
   "source": [
    "## Our Model"
   ]
  },
  {
   "cell_type": "code",
   "execution_count": 81,
   "metadata": {},
   "outputs": [
    {
     "name": "stdout",
     "output_type": "stream",
     "text": [
      "The autoreload extension is already loaded. To reload it, use:\n",
      "  %reload_ext autoreload\n"
     ]
    },
    {
     "data": {
      "text/plain": [
       "<module 'pyhealth.models' from 'C:\\\\Users\\\\AR\\\\Desktop\\\\Tirocinio_Tesi\\\\src\\\\pyhealth\\\\pyhealth\\\\models\\\\__init__.py'>"
      ]
     },
     "execution_count": 81,
     "metadata": {},
     "output_type": "execute_result"
    }
   ],
   "source": [
    "%load_ext autoreload\n",
    "%autoreload 2\n",
    "\n",
    "import importlib\n",
    "import pyhealth.models\n",
    "\n",
    "importlib.reload(pyhealth.models)"
   ]
  },
  {
   "cell_type": "code",
   "execution_count": 82,
   "metadata": {},
   "outputs": [],
   "source": [
    "from pyhealth.models import GNN\n",
    "\n",
    "model = GNN(\n",
    "    dataset=mimic3sample\n",
    ")"
   ]
  },
  {
   "cell_type": "code",
   "execution_count": 83,
   "metadata": {},
   "outputs": [
    {
     "name": "stdout",
     "output_type": "stream",
     "text": [
      "GNN(\n",
      "  (layer): GNNLayer(\n",
      "    (pat_emb): Embedding(906, 128)\n",
      "    (symp_emb): Embedding(714, 128)\n",
      "    (proc_emb): Embedding(731, 128)\n",
      "    (dis_emb): Embedding(2099, 128)\n",
      "    (drug_emb): Embedding(178, 128)\n",
      "    (gnn): GraphModule(\n",
      "      (conv1): ModuleDict(\n",
      "        (patient__presents__symptom): SAGEConv(128, 128, aggr=mean)\n",
      "        (patient__has__disease): SAGEConv(128, 128, aggr=mean)\n",
      "        (patient__has_treat__procedure): SAGEConv(128, 128, aggr=mean)\n",
      "        (patient__has_received__drug): SAGEConv(128, 128, aggr=mean)\n",
      "        (symptom__rev_presents__patient): SAGEConv(128, 128, aggr=mean)\n",
      "        (disease__rev_has__patient): SAGEConv(128, 128, aggr=mean)\n",
      "        (procedure__rev_has_treat__patient): SAGEConv(128, 128, aggr=mean)\n",
      "        (drug__rev_has_received__patient): SAGEConv(128, 128, aggr=mean)\n",
      "      )\n",
      "      (dropout): ModuleDict(\n",
      "        (patient): Dropout(p=0.5, inplace=False)\n",
      "        (symptom): Dropout(p=0.5, inplace=False)\n",
      "        (disease): Dropout(p=0.5, inplace=False)\n",
      "        (procedure): Dropout(p=0.5, inplace=False)\n",
      "        (drug): Dropout(p=0.5, inplace=False)\n",
      "      )\n",
      "      (conv2): ModuleDict(\n",
      "        (patient__presents__symptom): SAGEConv(128, 128, aggr=mean)\n",
      "        (patient__has__disease): SAGEConv(128, 128, aggr=mean)\n",
      "        (patient__has_treat__procedure): SAGEConv(128, 128, aggr=mean)\n",
      "        (patient__has_received__drug): SAGEConv(128, 128, aggr=mean)\n",
      "        (symptom__rev_presents__patient): SAGEConv(128, 128, aggr=mean)\n",
      "        (disease__rev_has__patient): SAGEConv(128, 128, aggr=mean)\n",
      "        (procedure__rev_has_treat__patient): SAGEConv(128, 128, aggr=mean)\n",
      "        (drug__rev_has_received__patient): SAGEConv(128, 128, aggr=mean)\n",
      "      )\n",
      "    )\n",
      "    (classifier): Classifier()\n",
      "  )\n",
      ")\n",
      "Metrics: None\n",
      "Device: cpu\n",
      "\n",
      "Training:\n",
      "Batch size: 128\n",
      "Optimizer: <class 'torch.optim.adam.Adam'>\n",
      "Optimizer params: {'lr': 0.0002}\n",
      "Weight decay: 0.0\n",
      "Max grad norm: None\n",
      "Val dataloader: <torch.utils.data.dataloader.DataLoader object at 0x0000021C9DA90CA0>\n",
      "Monitor: pr_auc_samples\n",
      "Monitor criterion: max\n",
      "Epochs: 50\n",
      "\n"
     ]
    },
    {
     "data": {
      "application/vnd.jupyter.widget-view+json": {
       "model_id": "161c77b6e8294e8b83eaba11b010270f",
       "version_major": 2,
       "version_minor": 0
      },
      "text/plain": [
       "Epoch 0 / 50:   0%|          | 0/13 [00:00<?, ?it/s]"
      ]
     },
     "metadata": {},
     "output_type": "display_data"
    },
    {
     "name": "stdout",
     "output_type": "stream",
     "text": [
      "--- Train epoch-0, step-13 ---\n",
      "loss: 4.5015\n"
     ]
    },
    {
     "name": "stderr",
     "output_type": "stream",
     "text": [
      "Evaluation: 100%|██████████| 2/2 [00:00<00:00, 16.05it/s]"
     ]
    },
    {
     "name": "stdout",
     "output_type": "stream",
     "text": [
      "--- Eval epoch-0, step-13 ---\n",
      "pr_auc_samples: 0.5045\n",
      "loss: 1.1969\n",
      "New best pr_auc_samples score (0.5045) at epoch-0, step-13\n",
      "\n"
     ]
    },
    {
     "name": "stderr",
     "output_type": "stream",
     "text": [
      "\n"
     ]
    },
    {
     "data": {
      "application/vnd.jupyter.widget-view+json": {
       "model_id": "dd5fb4c2f757422897135d1981d3173b",
       "version_major": 2,
       "version_minor": 0
      },
      "text/plain": [
       "Epoch 1 / 50:   0%|          | 0/13 [00:00<?, ?it/s]"
      ]
     },
     "metadata": {},
     "output_type": "display_data"
    },
    {
     "name": "stdout",
     "output_type": "stream",
     "text": [
      "--- Train epoch-1, step-26 ---\n",
      "loss: 4.1018\n"
     ]
    },
    {
     "name": "stderr",
     "output_type": "stream",
     "text": [
      "Evaluation: 100%|██████████| 2/2 [00:00<00:00, 15.57it/s]"
     ]
    },
    {
     "name": "stdout",
     "output_type": "stream",
     "text": [
      "--- Eval epoch-1, step-26 ---\n",
      "pr_auc_samples: 0.5227\n",
      "loss: 1.0538\n",
      "New best pr_auc_samples score (0.5227) at epoch-1, step-26\n",
      "\n"
     ]
    },
    {
     "name": "stderr",
     "output_type": "stream",
     "text": [
      "\n"
     ]
    },
    {
     "data": {
      "application/vnd.jupyter.widget-view+json": {
       "model_id": "f9edcd0483af4db5aa2afd099f775af5",
       "version_major": 2,
       "version_minor": 0
      },
      "text/plain": [
       "Epoch 2 / 50:   0%|          | 0/13 [00:00<?, ?it/s]"
      ]
     },
     "metadata": {},
     "output_type": "display_data"
    },
    {
     "name": "stdout",
     "output_type": "stream",
     "text": [
      "--- Train epoch-2, step-39 ---\n",
      "loss: 3.8271\n"
     ]
    },
    {
     "name": "stderr",
     "output_type": "stream",
     "text": [
      "Evaluation: 100%|██████████| 2/2 [00:00<00:00, 15.31it/s]"
     ]
    },
    {
     "name": "stdout",
     "output_type": "stream",
     "text": [
      "--- Eval epoch-2, step-39 ---\n",
      "pr_auc_samples: 0.5382\n",
      "loss: 0.9571\n",
      "New best pr_auc_samples score (0.5382) at epoch-2, step-39\n",
      "\n"
     ]
    },
    {
     "name": "stderr",
     "output_type": "stream",
     "text": [
      "\n"
     ]
    },
    {
     "data": {
      "application/vnd.jupyter.widget-view+json": {
       "model_id": "2da05ed5b55f4ca5b84a2a072f6481bc",
       "version_major": 2,
       "version_minor": 0
      },
      "text/plain": [
       "Epoch 3 / 50:   0%|          | 0/13 [00:00<?, ?it/s]"
      ]
     },
     "metadata": {},
     "output_type": "display_data"
    },
    {
     "name": "stdout",
     "output_type": "stream",
     "text": [
      "--- Train epoch-3, step-52 ---\n",
      "loss: 3.4774\n"
     ]
    },
    {
     "name": "stderr",
     "output_type": "stream",
     "text": [
      "Evaluation: 100%|██████████| 2/2 [00:00<00:00, 13.15it/s]"
     ]
    },
    {
     "name": "stdout",
     "output_type": "stream",
     "text": [
      "--- Eval epoch-3, step-52 ---\n",
      "pr_auc_samples: 0.5524\n",
      "loss: 0.8838\n",
      "New best pr_auc_samples score (0.5524) at epoch-3, step-52\n",
      "\n"
     ]
    },
    {
     "name": "stderr",
     "output_type": "stream",
     "text": [
      "\n"
     ]
    },
    {
     "data": {
      "application/vnd.jupyter.widget-view+json": {
       "model_id": "37dab2605eff440b908584318fc912e2",
       "version_major": 2,
       "version_minor": 0
      },
      "text/plain": [
       "Epoch 4 / 50:   0%|          | 0/13 [00:00<?, ?it/s]"
      ]
     },
     "metadata": {},
     "output_type": "display_data"
    },
    {
     "name": "stdout",
     "output_type": "stream",
     "text": [
      "--- Train epoch-4, step-65 ---\n",
      "loss: 3.3004\n"
     ]
    },
    {
     "name": "stderr",
     "output_type": "stream",
     "text": [
      "Evaluation: 100%|██████████| 2/2 [00:00<00:00, 16.72it/s]"
     ]
    },
    {
     "name": "stdout",
     "output_type": "stream",
     "text": [
      "--- Eval epoch-4, step-65 ---\n",
      "pr_auc_samples: 0.5678\n",
      "loss: 0.8211\n",
      "New best pr_auc_samples score (0.5678) at epoch-4, step-65\n",
      "\n"
     ]
    },
    {
     "name": "stderr",
     "output_type": "stream",
     "text": [
      "\n"
     ]
    },
    {
     "data": {
      "application/vnd.jupyter.widget-view+json": {
       "model_id": "e302358976e54717aab7a3fa4cefcc3d",
       "version_major": 2,
       "version_minor": 0
      },
      "text/plain": [
       "Epoch 5 / 50:   0%|          | 0/13 [00:00<?, ?it/s]"
      ]
     },
     "metadata": {},
     "output_type": "display_data"
    },
    {
     "name": "stdout",
     "output_type": "stream",
     "text": [
      "--- Train epoch-5, step-78 ---\n",
      "loss: 3.0960\n"
     ]
    },
    {
     "name": "stderr",
     "output_type": "stream",
     "text": [
      "Evaluation: 100%|██████████| 2/2 [00:00<00:00, 17.55it/s]"
     ]
    },
    {
     "name": "stdout",
     "output_type": "stream",
     "text": [
      "--- Eval epoch-5, step-78 ---\n",
      "pr_auc_samples: 0.5895\n",
      "loss: 0.7688\n",
      "New best pr_auc_samples score (0.5895) at epoch-5, step-78\n",
      "\n"
     ]
    },
    {
     "name": "stderr",
     "output_type": "stream",
     "text": [
      "\n"
     ]
    },
    {
     "data": {
      "application/vnd.jupyter.widget-view+json": {
       "model_id": "0df712d24abe4a6f8a980c0afb67065d",
       "version_major": 2,
       "version_minor": 0
      },
      "text/plain": [
       "Epoch 6 / 50:   0%|          | 0/13 [00:00<?, ?it/s]"
      ]
     },
     "metadata": {},
     "output_type": "display_data"
    },
    {
     "name": "stdout",
     "output_type": "stream",
     "text": [
      "--- Train epoch-6, step-91 ---\n",
      "loss: 2.8544\n"
     ]
    },
    {
     "name": "stderr",
     "output_type": "stream",
     "text": [
      "Evaluation: 100%|██████████| 2/2 [00:00<00:00, 17.42it/s]"
     ]
    },
    {
     "name": "stdout",
     "output_type": "stream",
     "text": [
      "--- Eval epoch-6, step-91 ---\n",
      "pr_auc_samples: 0.6106\n",
      "loss: 0.7269\n",
      "New best pr_auc_samples score (0.6106) at epoch-6, step-91\n",
      "\n"
     ]
    },
    {
     "name": "stderr",
     "output_type": "stream",
     "text": [
      "\n"
     ]
    },
    {
     "data": {
      "application/vnd.jupyter.widget-view+json": {
       "model_id": "250106ca4cab4e22a977a9257da632d5",
       "version_major": 2,
       "version_minor": 0
      },
      "text/plain": [
       "Epoch 7 / 50:   0%|          | 0/13 [00:00<?, ?it/s]"
      ]
     },
     "metadata": {},
     "output_type": "display_data"
    },
    {
     "name": "stdout",
     "output_type": "stream",
     "text": [
      "--- Train epoch-7, step-104 ---\n",
      "loss: 2.6709\n"
     ]
    },
    {
     "name": "stderr",
     "output_type": "stream",
     "text": [
      "Evaluation: 100%|██████████| 2/2 [00:00<00:00, 15.55it/s]"
     ]
    },
    {
     "name": "stdout",
     "output_type": "stream",
     "text": [
      "--- Eval epoch-7, step-104 ---\n",
      "pr_auc_samples: 0.6313\n",
      "loss: 0.6944\n",
      "New best pr_auc_samples score (0.6313) at epoch-7, step-104\n",
      "\n"
     ]
    },
    {
     "name": "stderr",
     "output_type": "stream",
     "text": [
      "\n"
     ]
    },
    {
     "data": {
      "application/vnd.jupyter.widget-view+json": {
       "model_id": "3aff449638f543b2a963c3c747810844",
       "version_major": 2,
       "version_minor": 0
      },
      "text/plain": [
       "Epoch 8 / 50:   0%|          | 0/13 [00:00<?, ?it/s]"
      ]
     },
     "metadata": {},
     "output_type": "display_data"
    },
    {
     "name": "stdout",
     "output_type": "stream",
     "text": [
      "--- Train epoch-8, step-117 ---\n",
      "loss: 2.5899\n"
     ]
    },
    {
     "name": "stderr",
     "output_type": "stream",
     "text": [
      "Evaluation: 100%|██████████| 2/2 [00:00<00:00, 15.69it/s]"
     ]
    },
    {
     "name": "stdout",
     "output_type": "stream",
     "text": [
      "--- Eval epoch-8, step-117 ---\n",
      "pr_auc_samples: 0.6473\n",
      "loss: 0.6684\n",
      "New best pr_auc_samples score (0.6473) at epoch-8, step-117\n",
      "\n"
     ]
    },
    {
     "name": "stderr",
     "output_type": "stream",
     "text": [
      "\n"
     ]
    },
    {
     "data": {
      "application/vnd.jupyter.widget-view+json": {
       "model_id": "8a3cc69615544bda9e9748e16c67f551",
       "version_major": 2,
       "version_minor": 0
      },
      "text/plain": [
       "Epoch 9 / 50:   0%|          | 0/13 [00:00<?, ?it/s]"
      ]
     },
     "metadata": {},
     "output_type": "display_data"
    },
    {
     "name": "stdout",
     "output_type": "stream",
     "text": [
      "--- Train epoch-9, step-130 ---\n",
      "loss: 2.4158\n"
     ]
    },
    {
     "name": "stderr",
     "output_type": "stream",
     "text": [
      "Evaluation: 100%|██████████| 2/2 [00:00<00:00, 11.41it/s]"
     ]
    },
    {
     "name": "stdout",
     "output_type": "stream",
     "text": [
      "--- Eval epoch-9, step-130 ---\n",
      "pr_auc_samples: 0.6652\n",
      "loss: 0.6460\n",
      "New best pr_auc_samples score (0.6652) at epoch-9, step-130\n",
      "\n"
     ]
    },
    {
     "name": "stderr",
     "output_type": "stream",
     "text": [
      "\n"
     ]
    },
    {
     "data": {
      "application/vnd.jupyter.widget-view+json": {
       "model_id": "de225bcf84dc4e2f9d12dce58d8c90e5",
       "version_major": 2,
       "version_minor": 0
      },
      "text/plain": [
       "Epoch 10 / 50:   0%|          | 0/13 [00:00<?, ?it/s]"
      ]
     },
     "metadata": {},
     "output_type": "display_data"
    },
    {
     "name": "stdout",
     "output_type": "stream",
     "text": [
      "--- Train epoch-10, step-143 ---\n",
      "loss: 2.2912\n"
     ]
    },
    {
     "name": "stderr",
     "output_type": "stream",
     "text": [
      "Evaluation: 100%|██████████| 2/2 [00:00<00:00, 11.07it/s]"
     ]
    },
    {
     "name": "stdout",
     "output_type": "stream",
     "text": [
      "--- Eval epoch-10, step-143 ---\n",
      "pr_auc_samples: 0.6882\n",
      "loss: 0.6239\n",
      "New best pr_auc_samples score (0.6882) at epoch-10, step-143\n",
      "\n"
     ]
    },
    {
     "name": "stderr",
     "output_type": "stream",
     "text": [
      "\n"
     ]
    },
    {
     "data": {
      "application/vnd.jupyter.widget-view+json": {
       "model_id": "b45ebd4841c249bca5b6683f08a832a3",
       "version_major": 2,
       "version_minor": 0
      },
      "text/plain": [
       "Epoch 11 / 50:   0%|          | 0/13 [00:00<?, ?it/s]"
      ]
     },
     "metadata": {},
     "output_type": "display_data"
    },
    {
     "name": "stdout",
     "output_type": "stream",
     "text": [
      "--- Train epoch-11, step-156 ---\n",
      "loss: 2.1914\n"
     ]
    },
    {
     "name": "stderr",
     "output_type": "stream",
     "text": [
      "Evaluation: 100%|██████████| 2/2 [00:00<00:00, 15.22it/s]"
     ]
    },
    {
     "name": "stdout",
     "output_type": "stream",
     "text": [
      "--- Eval epoch-11, step-156 ---\n",
      "pr_auc_samples: 0.6976\n",
      "loss: 0.6156\n",
      "New best pr_auc_samples score (0.6976) at epoch-11, step-156\n",
      "\n"
     ]
    },
    {
     "name": "stderr",
     "output_type": "stream",
     "text": [
      "\n"
     ]
    },
    {
     "data": {
      "application/vnd.jupyter.widget-view+json": {
       "model_id": "62064381b67842749cf9480fd6ea4171",
       "version_major": 2,
       "version_minor": 0
      },
      "text/plain": [
       "Epoch 12 / 50:   0%|          | 0/13 [00:00<?, ?it/s]"
      ]
     },
     "metadata": {},
     "output_type": "display_data"
    },
    {
     "name": "stdout",
     "output_type": "stream",
     "text": [
      "--- Train epoch-12, step-169 ---\n",
      "loss: 2.0955\n"
     ]
    },
    {
     "name": "stderr",
     "output_type": "stream",
     "text": [
      "Evaluation: 100%|██████████| 2/2 [00:00<00:00, 17.02it/s]"
     ]
    },
    {
     "name": "stdout",
     "output_type": "stream",
     "text": [
      "--- Eval epoch-12, step-169 ---\n",
      "pr_auc_samples: 0.7083\n",
      "loss: 0.6084\n",
      "New best pr_auc_samples score (0.7083) at epoch-12, step-169\n",
      "\n"
     ]
    },
    {
     "name": "stderr",
     "output_type": "stream",
     "text": [
      "\n"
     ]
    },
    {
     "data": {
      "application/vnd.jupyter.widget-view+json": {
       "model_id": "fd9858d10eb549efaeea90e41ec1e72b",
       "version_major": 2,
       "version_minor": 0
      },
      "text/plain": [
       "Epoch 13 / 50:   0%|          | 0/13 [00:00<?, ?it/s]"
      ]
     },
     "metadata": {},
     "output_type": "display_data"
    },
    {
     "name": "stdout",
     "output_type": "stream",
     "text": [
      "--- Train epoch-13, step-182 ---\n",
      "loss: 1.9760\n"
     ]
    },
    {
     "name": "stderr",
     "output_type": "stream",
     "text": [
      "Evaluation: 100%|██████████| 2/2 [00:00<00:00, 15.56it/s]"
     ]
    },
    {
     "name": "stdout",
     "output_type": "stream",
     "text": [
      "--- Eval epoch-13, step-182 ---\n",
      "pr_auc_samples: 0.7131\n",
      "loss: 0.6040\n",
      "New best pr_auc_samples score (0.7131) at epoch-13, step-182\n",
      "\n"
     ]
    },
    {
     "name": "stderr",
     "output_type": "stream",
     "text": [
      "\n"
     ]
    },
    {
     "data": {
      "application/vnd.jupyter.widget-view+json": {
       "model_id": "b08594aecff84f4cadb421dee220f6a0",
       "version_major": 2,
       "version_minor": 0
      },
      "text/plain": [
       "Epoch 14 / 50:   0%|          | 0/13 [00:00<?, ?it/s]"
      ]
     },
     "metadata": {},
     "output_type": "display_data"
    },
    {
     "name": "stdout",
     "output_type": "stream",
     "text": [
      "--- Train epoch-14, step-195 ---\n",
      "loss: 1.8855\n"
     ]
    },
    {
     "name": "stderr",
     "output_type": "stream",
     "text": [
      "Evaluation: 100%|██████████| 2/2 [00:00<00:00, 15.29it/s]"
     ]
    },
    {
     "name": "stdout",
     "output_type": "stream",
     "text": [
      "--- Eval epoch-14, step-195 ---\n",
      "pr_auc_samples: 0.7275\n",
      "loss: 0.5933\n",
      "New best pr_auc_samples score (0.7275) at epoch-14, step-195\n",
      "\n"
     ]
    },
    {
     "name": "stderr",
     "output_type": "stream",
     "text": [
      "\n"
     ]
    },
    {
     "data": {
      "application/vnd.jupyter.widget-view+json": {
       "model_id": "b93bb8752ea2401bbdf20c7324524234",
       "version_major": 2,
       "version_minor": 0
      },
      "text/plain": [
       "Epoch 15 / 50:   0%|          | 0/13 [00:00<?, ?it/s]"
      ]
     },
     "metadata": {},
     "output_type": "display_data"
    },
    {
     "name": "stdout",
     "output_type": "stream",
     "text": [
      "--- Train epoch-15, step-208 ---\n",
      "loss: 1.8211\n"
     ]
    },
    {
     "name": "stderr",
     "output_type": "stream",
     "text": [
      "Evaluation: 100%|██████████| 2/2 [00:00<00:00, 17.22it/s]"
     ]
    },
    {
     "name": "stdout",
     "output_type": "stream",
     "text": [
      "--- Eval epoch-15, step-208 ---\n",
      "pr_auc_samples: 0.7356\n",
      "loss: 0.5856\n",
      "New best pr_auc_samples score (0.7356) at epoch-15, step-208\n",
      "\n"
     ]
    },
    {
     "name": "stderr",
     "output_type": "stream",
     "text": [
      "\n"
     ]
    },
    {
     "data": {
      "application/vnd.jupyter.widget-view+json": {
       "model_id": "ab37e308edfc4eb8abeec4e29af836d9",
       "version_major": 2,
       "version_minor": 0
      },
      "text/plain": [
       "Epoch 16 / 50:   0%|          | 0/13 [00:00<?, ?it/s]"
      ]
     },
     "metadata": {},
     "output_type": "display_data"
    },
    {
     "name": "stdout",
     "output_type": "stream",
     "text": [
      "--- Train epoch-16, step-221 ---\n",
      "loss: 1.7727\n"
     ]
    },
    {
     "name": "stderr",
     "output_type": "stream",
     "text": [
      "Evaluation: 100%|██████████| 2/2 [00:00<00:00, 16.82it/s]"
     ]
    },
    {
     "name": "stdout",
     "output_type": "stream",
     "text": [
      "--- Eval epoch-16, step-221 ---\n",
      "pr_auc_samples: 0.7455\n",
      "loss: 0.5747\n",
      "New best pr_auc_samples score (0.7455) at epoch-16, step-221\n",
      "\n"
     ]
    },
    {
     "name": "stderr",
     "output_type": "stream",
     "text": [
      "\n"
     ]
    },
    {
     "data": {
      "application/vnd.jupyter.widget-view+json": {
       "model_id": "efe89701675f401eaf94d7950bc56803",
       "version_major": 2,
       "version_minor": 0
      },
      "text/plain": [
       "Epoch 17 / 50:   0%|          | 0/13 [00:00<?, ?it/s]"
      ]
     },
     "metadata": {},
     "output_type": "display_data"
    },
    {
     "name": "stdout",
     "output_type": "stream",
     "text": [
      "--- Train epoch-17, step-234 ---\n",
      "loss: 1.6877\n"
     ]
    },
    {
     "name": "stderr",
     "output_type": "stream",
     "text": [
      "Evaluation: 100%|██████████| 2/2 [00:00<00:00, 16.03it/s]"
     ]
    },
    {
     "name": "stdout",
     "output_type": "stream",
     "text": [
      "--- Eval epoch-17, step-234 ---\n",
      "pr_auc_samples: 0.7565\n",
      "loss: 0.5640\n",
      "New best pr_auc_samples score (0.7565) at epoch-17, step-234\n",
      "\n"
     ]
    },
    {
     "name": "stderr",
     "output_type": "stream",
     "text": [
      "\n"
     ]
    },
    {
     "data": {
      "application/vnd.jupyter.widget-view+json": {
       "model_id": "45a45975869a4a59b670a47e953546ed",
       "version_major": 2,
       "version_minor": 0
      },
      "text/plain": [
       "Epoch 18 / 50:   0%|          | 0/13 [00:00<?, ?it/s]"
      ]
     },
     "metadata": {},
     "output_type": "display_data"
    },
    {
     "name": "stdout",
     "output_type": "stream",
     "text": [
      "--- Train epoch-18, step-247 ---\n",
      "loss: 1.6216\n"
     ]
    },
    {
     "name": "stderr",
     "output_type": "stream",
     "text": [
      "Evaluation: 100%|██████████| 2/2 [00:00<00:00, 15.76it/s]"
     ]
    },
    {
     "name": "stdout",
     "output_type": "stream",
     "text": [
      "--- Eval epoch-18, step-247 ---\n",
      "pr_auc_samples: 0.7582\n",
      "loss: 0.5632\n",
      "New best pr_auc_samples score (0.7582) at epoch-18, step-247\n",
      "\n"
     ]
    },
    {
     "name": "stderr",
     "output_type": "stream",
     "text": [
      "\n"
     ]
    },
    {
     "data": {
      "application/vnd.jupyter.widget-view+json": {
       "model_id": "ecbbbf92c15f4fa486ce07307b6aab26",
       "version_major": 2,
       "version_minor": 0
      },
      "text/plain": [
       "Epoch 19 / 50:   0%|          | 0/13 [00:00<?, ?it/s]"
      ]
     },
     "metadata": {},
     "output_type": "display_data"
    },
    {
     "name": "stdout",
     "output_type": "stream",
     "text": [
      "--- Train epoch-19, step-260 ---\n",
      "loss: 1.5240\n"
     ]
    },
    {
     "name": "stderr",
     "output_type": "stream",
     "text": [
      "Evaluation: 100%|██████████| 2/2 [00:00<00:00, 15.35it/s]"
     ]
    },
    {
     "name": "stdout",
     "output_type": "stream",
     "text": [
      "--- Eval epoch-19, step-260 ---\n",
      "pr_auc_samples: 0.7734\n",
      "loss: 0.5551\n",
      "New best pr_auc_samples score (0.7734) at epoch-19, step-260\n",
      "\n"
     ]
    },
    {
     "name": "stderr",
     "output_type": "stream",
     "text": [
      "\n"
     ]
    },
    {
     "data": {
      "application/vnd.jupyter.widget-view+json": {
       "model_id": "5ba1aa3839cc4a15956cc0d5354d6d83",
       "version_major": 2,
       "version_minor": 0
      },
      "text/plain": [
       "Epoch 20 / 50:   0%|          | 0/13 [00:00<?, ?it/s]"
      ]
     },
     "metadata": {},
     "output_type": "display_data"
    },
    {
     "name": "stdout",
     "output_type": "stream",
     "text": [
      "--- Train epoch-20, step-273 ---\n",
      "loss: 1.5073\n"
     ]
    },
    {
     "name": "stderr",
     "output_type": "stream",
     "text": [
      "Evaluation: 100%|██████████| 2/2 [00:00<00:00, 15.33it/s]"
     ]
    },
    {
     "name": "stdout",
     "output_type": "stream",
     "text": [
      "--- Eval epoch-20, step-273 ---\n",
      "pr_auc_samples: 0.7771\n",
      "loss: 0.5526\n",
      "New best pr_auc_samples score (0.7771) at epoch-20, step-273\n",
      "\n"
     ]
    },
    {
     "name": "stderr",
     "output_type": "stream",
     "text": [
      "\n"
     ]
    },
    {
     "data": {
      "application/vnd.jupyter.widget-view+json": {
       "model_id": "f1888d8f950e4cb589f536e9af55f7f3",
       "version_major": 2,
       "version_minor": 0
      },
      "text/plain": [
       "Epoch 21 / 50:   0%|          | 0/13 [00:00<?, ?it/s]"
      ]
     },
     "metadata": {},
     "output_type": "display_data"
    },
    {
     "name": "stdout",
     "output_type": "stream",
     "text": [
      "--- Train epoch-21, step-286 ---\n",
      "loss: 1.4499\n"
     ]
    },
    {
     "name": "stderr",
     "output_type": "stream",
     "text": [
      "Evaluation: 100%|██████████| 2/2 [00:00<00:00, 16.91it/s]"
     ]
    },
    {
     "name": "stdout",
     "output_type": "stream",
     "text": [
      "--- Eval epoch-21, step-286 ---\n",
      "pr_auc_samples: 0.7777\n",
      "loss: 0.5503\n",
      "New best pr_auc_samples score (0.7777) at epoch-21, step-286\n",
      "\n"
     ]
    },
    {
     "name": "stderr",
     "output_type": "stream",
     "text": [
      "\n"
     ]
    },
    {
     "data": {
      "application/vnd.jupyter.widget-view+json": {
       "model_id": "14799e48d6684847a5645cdc52e6fb2f",
       "version_major": 2,
       "version_minor": 0
      },
      "text/plain": [
       "Epoch 22 / 50:   0%|          | 0/13 [00:00<?, ?it/s]"
      ]
     },
     "metadata": {},
     "output_type": "display_data"
    },
    {
     "name": "stdout",
     "output_type": "stream",
     "text": [
      "--- Train epoch-22, step-299 ---\n",
      "loss: 1.3753\n"
     ]
    },
    {
     "name": "stderr",
     "output_type": "stream",
     "text": [
      "Evaluation: 100%|██████████| 2/2 [00:00<00:00, 15.29it/s]"
     ]
    },
    {
     "name": "stdout",
     "output_type": "stream",
     "text": [
      "--- Eval epoch-22, step-299 ---\n",
      "pr_auc_samples: 0.7801\n",
      "loss: 0.5455\n",
      "New best pr_auc_samples score (0.7801) at epoch-22, step-299\n",
      "\n"
     ]
    },
    {
     "name": "stderr",
     "output_type": "stream",
     "text": [
      "\n"
     ]
    },
    {
     "data": {
      "application/vnd.jupyter.widget-view+json": {
       "model_id": "199c44721b1d4d6fb95736ddbe6908eb",
       "version_major": 2,
       "version_minor": 0
      },
      "text/plain": [
       "Epoch 23 / 50:   0%|          | 0/13 [00:00<?, ?it/s]"
      ]
     },
     "metadata": {},
     "output_type": "display_data"
    },
    {
     "name": "stdout",
     "output_type": "stream",
     "text": [
      "--- Train epoch-23, step-312 ---\n",
      "loss: 1.3547\n"
     ]
    },
    {
     "name": "stderr",
     "output_type": "stream",
     "text": [
      "Evaluation: 100%|██████████| 2/2 [00:00<00:00, 16.38it/s]"
     ]
    },
    {
     "name": "stdout",
     "output_type": "stream",
     "text": [
      "--- Eval epoch-23, step-312 ---\n",
      "pr_auc_samples: 0.7813\n",
      "loss: 0.5415\n",
      "New best pr_auc_samples score (0.7813) at epoch-23, step-312\n",
      "\n"
     ]
    },
    {
     "name": "stderr",
     "output_type": "stream",
     "text": [
      "\n"
     ]
    },
    {
     "data": {
      "application/vnd.jupyter.widget-view+json": {
       "model_id": "f1dff6f55f8846e6b07a120c98dd98d2",
       "version_major": 2,
       "version_minor": 0
      },
      "text/plain": [
       "Epoch 24 / 50:   0%|          | 0/13 [00:00<?, ?it/s]"
      ]
     },
     "metadata": {},
     "output_type": "display_data"
    },
    {
     "name": "stdout",
     "output_type": "stream",
     "text": [
      "--- Train epoch-24, step-325 ---\n",
      "loss: 1.2920\n"
     ]
    },
    {
     "name": "stderr",
     "output_type": "stream",
     "text": [
      "Evaluation: 100%|██████████| 2/2 [00:00<00:00, 16.00it/s]"
     ]
    },
    {
     "name": "stdout",
     "output_type": "stream",
     "text": [
      "--- Eval epoch-24, step-325 ---\n",
      "pr_auc_samples: 0.7800\n",
      "loss: 0.5422\n",
      "\n"
     ]
    },
    {
     "name": "stderr",
     "output_type": "stream",
     "text": [
      "\n"
     ]
    },
    {
     "data": {
      "application/vnd.jupyter.widget-view+json": {
       "model_id": "1269a77a315a45dab1b621d10cfae11d",
       "version_major": 2,
       "version_minor": 0
      },
      "text/plain": [
       "Epoch 25 / 50:   0%|          | 0/13 [00:00<?, ?it/s]"
      ]
     },
     "metadata": {},
     "output_type": "display_data"
    },
    {
     "name": "stdout",
     "output_type": "stream",
     "text": [
      "--- Train epoch-25, step-338 ---\n",
      "loss: 1.2828\n"
     ]
    },
    {
     "name": "stderr",
     "output_type": "stream",
     "text": [
      "Evaluation: 100%|██████████| 2/2 [00:00<00:00, 15.25it/s]"
     ]
    },
    {
     "name": "stdout",
     "output_type": "stream",
     "text": [
      "--- Eval epoch-25, step-338 ---\n",
      "pr_auc_samples: 0.7859\n",
      "loss: 0.5417\n",
      "New best pr_auc_samples score (0.7859) at epoch-25, step-338\n",
      "\n"
     ]
    },
    {
     "name": "stderr",
     "output_type": "stream",
     "text": [
      "\n"
     ]
    },
    {
     "data": {
      "application/vnd.jupyter.widget-view+json": {
       "model_id": "1d32cfd8c1bd477b82855bcf1a0948e9",
       "version_major": 2,
       "version_minor": 0
      },
      "text/plain": [
       "Epoch 26 / 50:   0%|          | 0/13 [00:00<?, ?it/s]"
      ]
     },
     "metadata": {},
     "output_type": "display_data"
    },
    {
     "name": "stdout",
     "output_type": "stream",
     "text": [
      "--- Train epoch-26, step-351 ---\n",
      "loss: 1.2453\n"
     ]
    },
    {
     "name": "stderr",
     "output_type": "stream",
     "text": [
      "Evaluation: 100%|██████████| 2/2 [00:00<00:00, 13.00it/s]"
     ]
    },
    {
     "name": "stdout",
     "output_type": "stream",
     "text": [
      "--- Eval epoch-26, step-351 ---\n",
      "pr_auc_samples: 0.7980\n",
      "loss: 0.5348\n",
      "New best pr_auc_samples score (0.7980) at epoch-26, step-351\n",
      "\n"
     ]
    },
    {
     "name": "stderr",
     "output_type": "stream",
     "text": [
      "\n"
     ]
    },
    {
     "data": {
      "application/vnd.jupyter.widget-view+json": {
       "model_id": "22bd89a028cf4156807aef4dd549e9e2",
       "version_major": 2,
       "version_minor": 0
      },
      "text/plain": [
       "Epoch 27 / 50:   0%|          | 0/13 [00:00<?, ?it/s]"
      ]
     },
     "metadata": {},
     "output_type": "display_data"
    },
    {
     "name": "stdout",
     "output_type": "stream",
     "text": [
      "--- Train epoch-27, step-364 ---\n",
      "loss: 1.1961\n"
     ]
    },
    {
     "name": "stderr",
     "output_type": "stream",
     "text": [
      "Evaluation: 100%|██████████| 2/2 [00:00<00:00, 18.23it/s]"
     ]
    },
    {
     "name": "stdout",
     "output_type": "stream",
     "text": [
      "--- Eval epoch-27, step-364 ---\n",
      "pr_auc_samples: 0.8008\n",
      "loss: 0.5341\n",
      "New best pr_auc_samples score (0.8008) at epoch-27, step-364\n",
      "\n"
     ]
    },
    {
     "name": "stderr",
     "output_type": "stream",
     "text": [
      "\n"
     ]
    },
    {
     "data": {
      "application/vnd.jupyter.widget-view+json": {
       "model_id": "b6e703be081f4def81f5b25d08a04bca",
       "version_major": 2,
       "version_minor": 0
      },
      "text/plain": [
       "Epoch 28 / 50:   0%|          | 0/13 [00:00<?, ?it/s]"
      ]
     },
     "metadata": {},
     "output_type": "display_data"
    },
    {
     "name": "stdout",
     "output_type": "stream",
     "text": [
      "--- Train epoch-28, step-377 ---\n",
      "loss: 1.1670\n"
     ]
    },
    {
     "name": "stderr",
     "output_type": "stream",
     "text": [
      "Evaluation: 100%|██████████| 2/2 [00:00<00:00, 15.68it/s]"
     ]
    },
    {
     "name": "stdout",
     "output_type": "stream",
     "text": [
      "--- Eval epoch-28, step-377 ---\n",
      "pr_auc_samples: 0.8039\n",
      "loss: 0.5278\n",
      "New best pr_auc_samples score (0.8039) at epoch-28, step-377\n",
      "\n"
     ]
    },
    {
     "name": "stderr",
     "output_type": "stream",
     "text": [
      "\n"
     ]
    },
    {
     "data": {
      "application/vnd.jupyter.widget-view+json": {
       "model_id": "ae563ca7bebc4b4fa64d893116371830",
       "version_major": 2,
       "version_minor": 0
      },
      "text/plain": [
       "Epoch 29 / 50:   0%|          | 0/13 [00:00<?, ?it/s]"
      ]
     },
     "metadata": {},
     "output_type": "display_data"
    },
    {
     "name": "stdout",
     "output_type": "stream",
     "text": [
      "--- Train epoch-29, step-390 ---\n",
      "loss: 1.1548\n"
     ]
    },
    {
     "name": "stderr",
     "output_type": "stream",
     "text": [
      "Evaluation: 100%|██████████| 2/2 [00:00<00:00, 15.52it/s]"
     ]
    },
    {
     "name": "stdout",
     "output_type": "stream",
     "text": [
      "--- Eval epoch-29, step-390 ---\n",
      "pr_auc_samples: 0.8028\n",
      "loss: 0.5269\n",
      "\n"
     ]
    },
    {
     "name": "stderr",
     "output_type": "stream",
     "text": [
      "\n"
     ]
    },
    {
     "data": {
      "application/vnd.jupyter.widget-view+json": {
       "model_id": "6e1466492a59431c9bc711a529246e67",
       "version_major": 2,
       "version_minor": 0
      },
      "text/plain": [
       "Epoch 30 / 50:   0%|          | 0/13 [00:00<?, ?it/s]"
      ]
     },
     "metadata": {},
     "output_type": "display_data"
    },
    {
     "name": "stdout",
     "output_type": "stream",
     "text": [
      "--- Train epoch-30, step-403 ---\n",
      "loss: 1.1145\n"
     ]
    },
    {
     "name": "stderr",
     "output_type": "stream",
     "text": [
      "Evaluation: 100%|██████████| 2/2 [00:00<00:00, 15.51it/s]"
     ]
    },
    {
     "name": "stdout",
     "output_type": "stream",
     "text": [
      "--- Eval epoch-30, step-403 ---\n",
      "pr_auc_samples: 0.8062\n",
      "loss: 0.5223\n",
      "New best pr_auc_samples score (0.8062) at epoch-30, step-403\n",
      "\n"
     ]
    },
    {
     "name": "stderr",
     "output_type": "stream",
     "text": [
      "\n"
     ]
    },
    {
     "data": {
      "application/vnd.jupyter.widget-view+json": {
       "model_id": "57b68971752e4468818beacc830f2b44",
       "version_major": 2,
       "version_minor": 0
      },
      "text/plain": [
       "Epoch 31 / 50:   0%|          | 0/13 [00:00<?, ?it/s]"
      ]
     },
     "metadata": {},
     "output_type": "display_data"
    },
    {
     "name": "stdout",
     "output_type": "stream",
     "text": [
      "--- Train epoch-31, step-416 ---\n",
      "loss: 1.1121\n"
     ]
    },
    {
     "name": "stderr",
     "output_type": "stream",
     "text": [
      "Evaluation: 100%|██████████| 2/2 [00:00<00:00, 16.48it/s]"
     ]
    },
    {
     "name": "stdout",
     "output_type": "stream",
     "text": [
      "--- Eval epoch-31, step-416 ---\n",
      "pr_auc_samples: 0.8088\n",
      "loss: 0.5195\n",
      "New best pr_auc_samples score (0.8088) at epoch-31, step-416\n",
      "\n"
     ]
    },
    {
     "name": "stderr",
     "output_type": "stream",
     "text": [
      "\n"
     ]
    },
    {
     "data": {
      "application/vnd.jupyter.widget-view+json": {
       "model_id": "d47e5cebc0104615a350061ff87c8d8d",
       "version_major": 2,
       "version_minor": 0
      },
      "text/plain": [
       "Epoch 32 / 50:   0%|          | 0/13 [00:00<?, ?it/s]"
      ]
     },
     "metadata": {},
     "output_type": "display_data"
    },
    {
     "name": "stdout",
     "output_type": "stream",
     "text": [
      "--- Train epoch-32, step-429 ---\n",
      "loss: 1.0602\n"
     ]
    },
    {
     "name": "stderr",
     "output_type": "stream",
     "text": [
      "Evaluation: 100%|██████████| 2/2 [00:00<00:00, 14.91it/s]"
     ]
    },
    {
     "name": "stdout",
     "output_type": "stream",
     "text": [
      "--- Eval epoch-32, step-429 ---\n",
      "pr_auc_samples: 0.8141\n",
      "loss: 0.5143\n",
      "New best pr_auc_samples score (0.8141) at epoch-32, step-429\n",
      "\n"
     ]
    },
    {
     "name": "stderr",
     "output_type": "stream",
     "text": [
      "\n"
     ]
    },
    {
     "data": {
      "application/vnd.jupyter.widget-view+json": {
       "model_id": "47ecfcacfdde403fbd41a8a381c4bc2d",
       "version_major": 2,
       "version_minor": 0
      },
      "text/plain": [
       "Epoch 33 / 50:   0%|          | 0/13 [00:00<?, ?it/s]"
      ]
     },
     "metadata": {},
     "output_type": "display_data"
    },
    {
     "name": "stdout",
     "output_type": "stream",
     "text": [
      "--- Train epoch-33, step-442 ---\n",
      "loss: 1.0226\n"
     ]
    },
    {
     "name": "stderr",
     "output_type": "stream",
     "text": [
      "Evaluation: 100%|██████████| 2/2 [00:00<00:00, 16.42it/s]"
     ]
    },
    {
     "name": "stdout",
     "output_type": "stream",
     "text": [
      "--- Eval epoch-33, step-442 ---\n",
      "pr_auc_samples: 0.8062\n",
      "loss: 0.5188\n",
      "\n"
     ]
    },
    {
     "name": "stderr",
     "output_type": "stream",
     "text": [
      "\n"
     ]
    },
    {
     "data": {
      "application/vnd.jupyter.widget-view+json": {
       "model_id": "54a529469f2446ce807cb4234d6d6ce2",
       "version_major": 2,
       "version_minor": 0
      },
      "text/plain": [
       "Epoch 34 / 50:   0%|          | 0/13 [00:00<?, ?it/s]"
      ]
     },
     "metadata": {},
     "output_type": "display_data"
    },
    {
     "name": "stdout",
     "output_type": "stream",
     "text": [
      "--- Train epoch-34, step-455 ---\n",
      "loss: 1.0211\n"
     ]
    },
    {
     "name": "stderr",
     "output_type": "stream",
     "text": [
      "Evaluation: 100%|██████████| 2/2 [00:00<00:00, 14.86it/s]"
     ]
    },
    {
     "name": "stdout",
     "output_type": "stream",
     "text": [
      "--- Eval epoch-34, step-455 ---\n",
      "pr_auc_samples: 0.8141\n",
      "loss: 0.5118\n",
      "\n"
     ]
    },
    {
     "name": "stderr",
     "output_type": "stream",
     "text": [
      "\n"
     ]
    },
    {
     "data": {
      "application/vnd.jupyter.widget-view+json": {
       "model_id": "8721d2469e014db3843ee83ca3479c6f",
       "version_major": 2,
       "version_minor": 0
      },
      "text/plain": [
       "Epoch 35 / 50:   0%|          | 0/13 [00:00<?, ?it/s]"
      ]
     },
     "metadata": {},
     "output_type": "display_data"
    },
    {
     "name": "stdout",
     "output_type": "stream",
     "text": [
      "--- Train epoch-35, step-468 ---\n",
      "loss: 0.9864\n"
     ]
    },
    {
     "name": "stderr",
     "output_type": "stream",
     "text": [
      "Evaluation: 100%|██████████| 2/2 [00:00<00:00, 15.55it/s]"
     ]
    },
    {
     "name": "stdout",
     "output_type": "stream",
     "text": [
      "--- Eval epoch-35, step-468 ---\n",
      "pr_auc_samples: 0.8118\n",
      "loss: 0.5075\n",
      "\n"
     ]
    },
    {
     "name": "stderr",
     "output_type": "stream",
     "text": [
      "\n"
     ]
    },
    {
     "data": {
      "application/vnd.jupyter.widget-view+json": {
       "model_id": "2874a66290d146febeed99976fb388e3",
       "version_major": 2,
       "version_minor": 0
      },
      "text/plain": [
       "Epoch 36 / 50:   0%|          | 0/13 [00:00<?, ?it/s]"
      ]
     },
     "metadata": {},
     "output_type": "display_data"
    },
    {
     "name": "stdout",
     "output_type": "stream",
     "text": [
      "--- Train epoch-36, step-481 ---\n",
      "loss: 0.9893\n"
     ]
    },
    {
     "name": "stderr",
     "output_type": "stream",
     "text": [
      "Evaluation: 100%|██████████| 2/2 [00:00<00:00, 12.72it/s]"
     ]
    },
    {
     "name": "stdout",
     "output_type": "stream",
     "text": [
      "--- Eval epoch-36, step-481 ---\n",
      "pr_auc_samples: 0.8206\n",
      "loss: 0.5004\n",
      "New best pr_auc_samples score (0.8206) at epoch-36, step-481\n",
      "\n"
     ]
    },
    {
     "name": "stderr",
     "output_type": "stream",
     "text": [
      "\n"
     ]
    },
    {
     "data": {
      "application/vnd.jupyter.widget-view+json": {
       "model_id": "1e7d6854502d42aaa7eff49986575362",
       "version_major": 2,
       "version_minor": 0
      },
      "text/plain": [
       "Epoch 37 / 50:   0%|          | 0/13 [00:00<?, ?it/s]"
      ]
     },
     "metadata": {},
     "output_type": "display_data"
    },
    {
     "name": "stdout",
     "output_type": "stream",
     "text": [
      "--- Train epoch-37, step-494 ---\n",
      "loss: 0.9504\n"
     ]
    },
    {
     "name": "stderr",
     "output_type": "stream",
     "text": [
      "Evaluation: 100%|██████████| 2/2 [00:00<00:00, 16.80it/s]"
     ]
    },
    {
     "name": "stdout",
     "output_type": "stream",
     "text": [
      "--- Eval epoch-37, step-494 ---\n",
      "pr_auc_samples: 0.8107\n",
      "loss: 0.5034\n",
      "\n"
     ]
    },
    {
     "name": "stderr",
     "output_type": "stream",
     "text": [
      "\n"
     ]
    },
    {
     "data": {
      "application/vnd.jupyter.widget-view+json": {
       "model_id": "f1f272d745cc428e842d87b67cea390f",
       "version_major": 2,
       "version_minor": 0
      },
      "text/plain": [
       "Epoch 38 / 50:   0%|          | 0/13 [00:00<?, ?it/s]"
      ]
     },
     "metadata": {},
     "output_type": "display_data"
    },
    {
     "name": "stdout",
     "output_type": "stream",
     "text": [
      "--- Train epoch-38, step-507 ---\n",
      "loss: 0.9379\n"
     ]
    },
    {
     "name": "stderr",
     "output_type": "stream",
     "text": [
      "Evaluation: 100%|██████████| 2/2 [00:00<00:00, 15.04it/s]"
     ]
    },
    {
     "name": "stdout",
     "output_type": "stream",
     "text": [
      "--- Eval epoch-38, step-507 ---\n",
      "pr_auc_samples: 0.8152\n",
      "loss: 0.5026\n",
      "\n"
     ]
    },
    {
     "name": "stderr",
     "output_type": "stream",
     "text": [
      "\n"
     ]
    },
    {
     "data": {
      "application/vnd.jupyter.widget-view+json": {
       "model_id": "fe180159df044f76906d7bdde168ae62",
       "version_major": 2,
       "version_minor": 0
      },
      "text/plain": [
       "Epoch 39 / 50:   0%|          | 0/13 [00:00<?, ?it/s]"
      ]
     },
     "metadata": {},
     "output_type": "display_data"
    },
    {
     "name": "stdout",
     "output_type": "stream",
     "text": [
      "--- Train epoch-39, step-520 ---\n",
      "loss: 0.9427\n"
     ]
    },
    {
     "name": "stderr",
     "output_type": "stream",
     "text": [
      "Evaluation: 100%|██████████| 2/2 [00:00<00:00, 14.86it/s]"
     ]
    },
    {
     "name": "stdout",
     "output_type": "stream",
     "text": [
      "--- Eval epoch-39, step-520 ---\n",
      "pr_auc_samples: 0.8253\n",
      "loss: 0.5022\n",
      "New best pr_auc_samples score (0.8253) at epoch-39, step-520\n",
      "\n"
     ]
    },
    {
     "name": "stderr",
     "output_type": "stream",
     "text": [
      "\n"
     ]
    },
    {
     "data": {
      "application/vnd.jupyter.widget-view+json": {
       "model_id": "1bd5d5f95b1849678f4a656f21834c7b",
       "version_major": 2,
       "version_minor": 0
      },
      "text/plain": [
       "Epoch 40 / 50:   0%|          | 0/13 [00:00<?, ?it/s]"
      ]
     },
     "metadata": {},
     "output_type": "display_data"
    },
    {
     "name": "stdout",
     "output_type": "stream",
     "text": [
      "--- Train epoch-40, step-533 ---\n",
      "loss: 0.9157\n"
     ]
    },
    {
     "name": "stderr",
     "output_type": "stream",
     "text": [
      "Evaluation: 100%|██████████| 2/2 [00:00<00:00, 16.03it/s]"
     ]
    },
    {
     "name": "stdout",
     "output_type": "stream",
     "text": [
      "--- Eval epoch-40, step-533 ---\n",
      "pr_auc_samples: 0.8186\n",
      "loss: 0.5077\n",
      "\n"
     ]
    },
    {
     "name": "stderr",
     "output_type": "stream",
     "text": [
      "\n"
     ]
    },
    {
     "data": {
      "application/vnd.jupyter.widget-view+json": {
       "model_id": "070d2a9f31d84d0bb1b225c3c2c1c803",
       "version_major": 2,
       "version_minor": 0
      },
      "text/plain": [
       "Epoch 41 / 50:   0%|          | 0/13 [00:00<?, ?it/s]"
      ]
     },
     "metadata": {},
     "output_type": "display_data"
    },
    {
     "name": "stdout",
     "output_type": "stream",
     "text": [
      "--- Train epoch-41, step-546 ---\n",
      "loss: 0.9049\n"
     ]
    },
    {
     "name": "stderr",
     "output_type": "stream",
     "text": [
      "Evaluation: 100%|██████████| 2/2 [00:00<00:00, 15.67it/s]"
     ]
    },
    {
     "name": "stdout",
     "output_type": "stream",
     "text": [
      "--- Eval epoch-41, step-546 ---\n",
      "pr_auc_samples: 0.8193\n",
      "loss: 0.5053\n",
      "\n"
     ]
    },
    {
     "name": "stderr",
     "output_type": "stream",
     "text": [
      "\n"
     ]
    },
    {
     "data": {
      "application/vnd.jupyter.widget-view+json": {
       "model_id": "c12978a7c73143568d145bc6c6c6543a",
       "version_major": 2,
       "version_minor": 0
      },
      "text/plain": [
       "Epoch 42 / 50:   0%|          | 0/13 [00:00<?, ?it/s]"
      ]
     },
     "metadata": {},
     "output_type": "display_data"
    },
    {
     "name": "stdout",
     "output_type": "stream",
     "text": [
      "--- Train epoch-42, step-559 ---\n",
      "loss: 0.8544\n"
     ]
    },
    {
     "name": "stderr",
     "output_type": "stream",
     "text": [
      "Evaluation: 100%|██████████| 2/2 [00:00<00:00, 15.13it/s]"
     ]
    },
    {
     "name": "stdout",
     "output_type": "stream",
     "text": [
      "--- Eval epoch-42, step-559 ---\n",
      "pr_auc_samples: 0.8241\n",
      "loss: 0.5048\n",
      "\n"
     ]
    },
    {
     "name": "stderr",
     "output_type": "stream",
     "text": [
      "\n"
     ]
    },
    {
     "data": {
      "application/vnd.jupyter.widget-view+json": {
       "model_id": "5fcc1b8882f74af6a00f25d070d08aec",
       "version_major": 2,
       "version_minor": 0
      },
      "text/plain": [
       "Epoch 43 / 50:   0%|          | 0/13 [00:00<?, ?it/s]"
      ]
     },
     "metadata": {},
     "output_type": "display_data"
    },
    {
     "name": "stdout",
     "output_type": "stream",
     "text": [
      "--- Train epoch-43, step-572 ---\n",
      "loss: 0.8553\n"
     ]
    },
    {
     "name": "stderr",
     "output_type": "stream",
     "text": [
      "Evaluation: 100%|██████████| 2/2 [00:00<00:00, 14.73it/s]"
     ]
    },
    {
     "name": "stdout",
     "output_type": "stream",
     "text": [
      "--- Eval epoch-43, step-572 ---\n",
      "pr_auc_samples: 0.8247\n",
      "loss: 0.5042\n",
      "\n"
     ]
    },
    {
     "name": "stderr",
     "output_type": "stream",
     "text": [
      "\n"
     ]
    },
    {
     "data": {
      "application/vnd.jupyter.widget-view+json": {
       "model_id": "454b542be4b84a56a7697447fe50f793",
       "version_major": 2,
       "version_minor": 0
      },
      "text/plain": [
       "Epoch 44 / 50:   0%|          | 0/13 [00:00<?, ?it/s]"
      ]
     },
     "metadata": {},
     "output_type": "display_data"
    },
    {
     "name": "stdout",
     "output_type": "stream",
     "text": [
      "--- Train epoch-44, step-585 ---\n",
      "loss: 0.8482\n"
     ]
    },
    {
     "name": "stderr",
     "output_type": "stream",
     "text": [
      "Evaluation: 100%|██████████| 2/2 [00:00<00:00, 16.04it/s]"
     ]
    },
    {
     "name": "stdout",
     "output_type": "stream",
     "text": [
      "--- Eval epoch-44, step-585 ---\n",
      "pr_auc_samples: 0.8388\n",
      "loss: 0.4970\n",
      "New best pr_auc_samples score (0.8388) at epoch-44, step-585\n",
      "\n"
     ]
    },
    {
     "name": "stderr",
     "output_type": "stream",
     "text": [
      "\n"
     ]
    },
    {
     "data": {
      "application/vnd.jupyter.widget-view+json": {
       "model_id": "55a15926770347639c4f77c8e1d87686",
       "version_major": 2,
       "version_minor": 0
      },
      "text/plain": [
       "Epoch 45 / 50:   0%|          | 0/13 [00:00<?, ?it/s]"
      ]
     },
     "metadata": {},
     "output_type": "display_data"
    },
    {
     "name": "stdout",
     "output_type": "stream",
     "text": [
      "--- Train epoch-45, step-598 ---\n",
      "loss: 0.8359\n"
     ]
    },
    {
     "name": "stderr",
     "output_type": "stream",
     "text": [
      "Evaluation: 100%|██████████| 2/2 [00:00<00:00, 16.93it/s]"
     ]
    },
    {
     "name": "stdout",
     "output_type": "stream",
     "text": [
      "--- Eval epoch-45, step-598 ---\n",
      "pr_auc_samples: 0.8281\n",
      "loss: 0.4982\n",
      "\n"
     ]
    },
    {
     "name": "stderr",
     "output_type": "stream",
     "text": [
      "\n"
     ]
    },
    {
     "data": {
      "application/vnd.jupyter.widget-view+json": {
       "model_id": "bfb2653fc8a64a0bafcaf24913a2b399",
       "version_major": 2,
       "version_minor": 0
      },
      "text/plain": [
       "Epoch 46 / 50:   0%|          | 0/13 [00:00<?, ?it/s]"
      ]
     },
     "metadata": {},
     "output_type": "display_data"
    },
    {
     "name": "stdout",
     "output_type": "stream",
     "text": [
      "--- Train epoch-46, step-611 ---\n",
      "loss: 0.8286\n"
     ]
    },
    {
     "name": "stderr",
     "output_type": "stream",
     "text": [
      "Evaluation: 100%|██████████| 2/2 [00:00<00:00, 14.17it/s]"
     ]
    },
    {
     "name": "stdout",
     "output_type": "stream",
     "text": [
      "--- Eval epoch-46, step-611 ---\n",
      "pr_auc_samples: 0.8352\n",
      "loss: 0.4883\n",
      "\n"
     ]
    },
    {
     "name": "stderr",
     "output_type": "stream",
     "text": [
      "\n"
     ]
    },
    {
     "data": {
      "application/vnd.jupyter.widget-view+json": {
       "model_id": "1cdd634cacb7463996840aff1534a284",
       "version_major": 2,
       "version_minor": 0
      },
      "text/plain": [
       "Epoch 47 / 50:   0%|          | 0/13 [00:00<?, ?it/s]"
      ]
     },
     "metadata": {},
     "output_type": "display_data"
    },
    {
     "name": "stdout",
     "output_type": "stream",
     "text": [
      "--- Train epoch-47, step-624 ---\n",
      "loss: 0.8022\n"
     ]
    },
    {
     "name": "stderr",
     "output_type": "stream",
     "text": [
      "Evaluation: 100%|██████████| 2/2 [00:00<00:00, 15.85it/s]"
     ]
    },
    {
     "name": "stdout",
     "output_type": "stream",
     "text": [
      "--- Eval epoch-47, step-624 ---\n",
      "pr_auc_samples: 0.8354\n",
      "loss: 0.4869\n",
      "\n"
     ]
    },
    {
     "name": "stderr",
     "output_type": "stream",
     "text": [
      "\n"
     ]
    },
    {
     "data": {
      "application/vnd.jupyter.widget-view+json": {
       "model_id": "55132cd404d1446a8fe592fb2e60d5bc",
       "version_major": 2,
       "version_minor": 0
      },
      "text/plain": [
       "Epoch 48 / 50:   0%|          | 0/13 [00:00<?, ?it/s]"
      ]
     },
     "metadata": {},
     "output_type": "display_data"
    },
    {
     "name": "stdout",
     "output_type": "stream",
     "text": [
      "--- Train epoch-48, step-637 ---\n",
      "loss: 0.7935\n"
     ]
    },
    {
     "name": "stderr",
     "output_type": "stream",
     "text": [
      "Evaluation: 100%|██████████| 2/2 [00:00<00:00, 14.84it/s]"
     ]
    },
    {
     "name": "stdout",
     "output_type": "stream",
     "text": [
      "--- Eval epoch-48, step-637 ---\n",
      "pr_auc_samples: 0.8425\n",
      "loss: 0.4837\n",
      "New best pr_auc_samples score (0.8425) at epoch-48, step-637\n",
      "\n"
     ]
    },
    {
     "name": "stderr",
     "output_type": "stream",
     "text": [
      "\n"
     ]
    },
    {
     "data": {
      "application/vnd.jupyter.widget-view+json": {
       "model_id": "85d0839f6cd84d1b9fcdadcbefdcbfc6",
       "version_major": 2,
       "version_minor": 0
      },
      "text/plain": [
       "Epoch 49 / 50:   0%|          | 0/13 [00:00<?, ?it/s]"
      ]
     },
     "metadata": {},
     "output_type": "display_data"
    },
    {
     "name": "stdout",
     "output_type": "stream",
     "text": [
      "--- Train epoch-49, step-650 ---\n",
      "loss: 0.7916\n"
     ]
    },
    {
     "name": "stderr",
     "output_type": "stream",
     "text": [
      "Evaluation: 100%|██████████| 2/2 [00:00<00:00, 16.21it/s]"
     ]
    },
    {
     "name": "stdout",
     "output_type": "stream",
     "text": [
      "--- Eval epoch-49, step-650 ---\n",
      "pr_auc_samples: 0.8382\n",
      "loss: 0.4894\n",
      "Loaded best model\n"
     ]
    },
    {
     "name": "stderr",
     "output_type": "stream",
     "text": [
      "\n"
     ]
    },
    {
     "data": {
      "image/png": "[encoded data removed]",
      "text/plain": [
       "<Figure size 432x288 with 1 Axes>"
      ]
     },
     "metadata": {
      "needs_background": "light"
     },
     "output_type": "display_data"
    },
    {
     "name": "stderr",
     "output_type": "stream",
     "text": [
      "Evaluation: 100%|██████████| 2/2 [00:00<00:00, 11.07it/s]"
     ]
    },
    {
     "name": "stdout",
     "output_type": "stream",
     "text": [
      "--- Test ---\n"
     ]
    },
    {
     "name": "stderr",
     "output_type": "stream",
     "text": [
      "\n"
     ]
    },
    {
     "name": "stdout",
     "output_type": "stream",
     "text": [
      "pr_auc_samples: 0.8618\n",
      "loss: 0.4591\n"
     ]
    }
   ],
   "source": [
    "from pyhealth.trainer import Trainer\n",
    "\n",
    "trainer = Trainer(model=model)\n",
    "trainer.train(\n",
    "    model_name=\"gnn\",\n",
    "    train_dataloader=train_loader,\n",
    "    val_dataloader=val_loader,\n",
    "    test_dataloader=test_loader,\n",
    "    epochs=50,\n",
    "    optimizer_params = {\"lr\": 2 * 1e-4},\n",
    "    monitor=\"pr_auc_samples\",\n",
    "    monitor_criterion=\"max\",\n",
    ")"
   ]
  },
  {
   "cell_type": "code",
   "execution_count": 84,
   "metadata": {},
   "outputs": [
    {
     "data": {
      "text/plain": [
       "5633"
      ]
     },
     "execution_count": 84,
     "metadata": {},
     "output_type": "execute_result"
    }
   ],
   "source": [
    "tot = 0\n",
    "for i in range(0, len(test_ds)):\n",
    "    tot = tot + len(test_ds[i][\"drugs\"])\n",
    "\n",
    "tot\n",
    "#4891 dovrebbero essere"
   ]
  },
  {
   "cell_type": "code",
   "execution_count": 85,
   "metadata": {},
   "outputs": [
    {
     "name": "stderr",
     "output_type": "stream",
     "text": [
      "Evaluation: 100%|██████████| 2/2 [00:00<00:00, 13.66it/s]"
     ]
    },
    {
     "name": "stdout",
     "output_type": "stream",
     "text": [
      "0.45830751955509186\n"
     ]
    },
    {
     "name": "stderr",
     "output_type": "stream",
     "text": [
      "\n"
     ]
    }
   ],
   "source": [
    "from pyhealth.metrics import binary_metrics_fn\n",
    "\n",
    "y_true, y_prob, loss = trainer.inference(test_loader)\n",
    "print(loss)"
   ]
  },
  {
   "cell_type": "code",
   "execution_count": 86,
   "metadata": {},
   "outputs": [
    {
     "name": "stdout",
     "output_type": "stream",
     "text": [
      "[0.626046   0.796329   0.448914   ... 0.18634897 0.10752654 0.12738775]\n",
      "(11266,)\n",
      "0.9919487\n",
      "0.0005565783\n"
     ]
    }
   ],
   "source": [
    "print(y_prob)\n",
    "print(y_prob.shape)\n",
    "print(y_prob.max())\n",
    "print(y_prob.min())"
   ]
  },
  {
   "cell_type": "code",
   "execution_count": 87,
   "metadata": {},
   "outputs": [
    {
     "name": "stdout",
     "output_type": "stream",
     "text": [
      "[1. 1. 1. ... 0. 0. 0.]\n",
      "(11266,)\n",
      "(5633,)\n",
      "(5633,)\n"
     ]
    }
   ],
   "source": [
    "print(y_true)\n",
    "print(y_true.shape)\n",
    "\n",
    "print(y_true[y_true == 0].shape)\n",
    "print(y_true[y_true == 1].shape)\n",
    "\n"
   ]
  },
  {
   "cell_type": "code",
   "execution_count": 90,
   "metadata": {},
   "outputs": [
    {
     "data": {
      "text/plain": [
       "{'accuracy': 0.7801349192259897,\n",
       " 'f1': 0.8006438631790745,\n",
       " 'pr_auc': 0.8610040147228184,\n",
       " 'jaccard': 0.6675614011542075,\n",
       " 'precision': 0.7323321554770318,\n",
       " 'recall': 0.8830108290431387}"
      ]
     },
     "execution_count": 90,
     "metadata": {},
     "output_type": "execute_result"
    }
   ],
   "source": [
    "# best risultati\n",
    "# Relu with 256 hidden units -> circa 0.74 Acc - 0.70 F1 - 0.64 PRAUC (threshold 0.2-0.4)\n",
    "# Relu with 512 hidden units -> circa 0.76 Acc - 0.72 F1 - 0.63 PRAUC (threshold 0.2-0.4)\n",
    "# relu with 128 hidden units -> circa 0.76 Acc - 0.64 F1 - 0.63 PRAUC (threshold 0.4-0.5) - batch size 64\n",
    "\n",
    "\n",
    "metrics = [\"accuracy\", \"f1\", \"pr_auc\", \"jaccard\", \"precision\", \"recall\"]\n",
    "binary_metrics_fn(y_true, y_prob, metrics=metrics, threshold=0.3)"
   ]
  },
  {
   "cell_type": "markdown",
   "metadata": {},
   "source": [
    "## Baseline Models\n",
    "\n",
    "Here we can use the models having the same input built in the previous cells. We tried GRASP, SafeDrug, Transformer, and so on. And evaluate them performance with several metrics."
   ]
  },
  {
   "cell_type": "markdown",
   "metadata": {},
   "source": [
    "### Transformer"
   ]
  },
  {
   "cell_type": "markdown",
   "metadata": {},
   "source": [
    "**- Transformer without symptoms**"
   ]
  },
  {
   "cell_type": "code",
   "execution_count": 5,
   "metadata": {},
   "outputs": [],
   "source": [
    "from pyhealth.models import Transformer\n",
    "\n",
    "model = Transformer(\n",
    "    dataset=mimic3sample,\n",
    "    feature_keys=[\"conditions\", \"procedures\"],\n",
    "    label_key=\"drugs\",\n",
    "    mode=\"multilabel\",\n",
    ")"
   ]
  },
  {
   "cell_type": "markdown",
   "metadata": {},
   "source": [
    "**- Transformer with symptoms**"
   ]
  },
  {
   "cell_type": "code",
   "execution_count": 14,
   "metadata": {},
   "outputs": [],
   "source": [
    "from pyhealth.models import Transformer\n",
    "\n",
    "model_symptoms = Transformer(\n",
    "    dataset=mimic3sample,\n",
    "    feature_keys=[\"conditions\", \"procedures\", \"symptoms\"],\n",
    "    label_key=\"drugs\",\n",
    "    mode=\"multilabel\",\n",
    ")"
   ]
  },
  {
   "cell_type": "markdown",
   "metadata": {},
   "source": [
    "**- Training without symptoms**"
   ]
  },
  {
   "cell_type": "code",
   "execution_count": 6,
   "metadata": {},
   "outputs": [
    {
     "name": "stdout",
     "output_type": "stream",
     "text": [
      "Transformer(\n",
      "  (embeddings): ModuleDict(\n",
      "    (conditions): Embedding(2101, 128, padding_idx=0)\n",
      "    (procedures): Embedding(735, 128, padding_idx=0)\n",
      "  )\n",
      "  (linear_layers): ModuleDict()\n",
      "  (transformer): ModuleDict(\n",
      "    (conditions): TransformerLayer(\n",
      "      (transformer): ModuleList(\n",
      "        (0): TransformerBlock(\n",
      "          (attention): MultiHeadedAttention(\n",
      "            (linear_layers): ModuleList(\n",
      "              (0-2): 3 x Linear(in_features=128, out_features=128, bias=False)\n",
      "            )\n",
      "            (output_linear): Linear(in_features=128, out_features=128, bias=False)\n",
      "            (attention): Attention()\n",
      "            (dropout): Dropout(p=0.1, inplace=False)\n",
      "          )\n",
      "          (feed_forward): PositionwiseFeedForward(\n",
      "            (w_1): Linear(in_features=128, out_features=512, bias=True)\n",
      "            (w_2): Linear(in_features=512, out_features=128, bias=True)\n",
      "            (dropout): Dropout(p=0.5, inplace=False)\n",
      "            (activation): GELU(approximate='none')\n",
      "          )\n",
      "          (input_sublayer): SublayerConnection(\n",
      "            (norm): LayerNorm((128,), eps=1e-05, elementwise_affine=True)\n",
      "            (dropout): Dropout(p=0.5, inplace=False)\n",
      "          )\n",
      "          (output_sublayer): SublayerConnection(\n",
      "            (norm): LayerNorm((128,), eps=1e-05, elementwise_affine=True)\n",
      "            (dropout): Dropout(p=0.5, inplace=False)\n",
      "          )\n",
      "          (dropout): Dropout(p=0.5, inplace=False)\n",
      "        )\n",
      "      )\n",
      "    )\n",
      "    (procedures): TransformerLayer(\n",
      "      (transformer): ModuleList(\n",
      "        (0): TransformerBlock(\n",
      "          (attention): MultiHeadedAttention(\n",
      "            (linear_layers): ModuleList(\n",
      "              (0-2): 3 x Linear(in_features=128, out_features=128, bias=False)\n",
      "            )\n",
      "            (output_linear): Linear(in_features=128, out_features=128, bias=False)\n",
      "            (attention): Attention()\n",
      "            (dropout): Dropout(p=0.1, inplace=False)\n",
      "          )\n",
      "          (feed_forward): PositionwiseFeedForward(\n",
      "            (w_1): Linear(in_features=128, out_features=512, bias=True)\n",
      "            (w_2): Linear(in_features=512, out_features=128, bias=True)\n",
      "            (dropout): Dropout(p=0.5, inplace=False)\n",
      "            (activation): GELU(approximate='none')\n",
      "          )\n",
      "          (input_sublayer): SublayerConnection(\n",
      "            (norm): LayerNorm((128,), eps=1e-05, elementwise_affine=True)\n",
      "            (dropout): Dropout(p=0.5, inplace=False)\n",
      "          )\n",
      "          (output_sublayer): SublayerConnection(\n",
      "            (norm): LayerNorm((128,), eps=1e-05, elementwise_affine=True)\n",
      "            (dropout): Dropout(p=0.5, inplace=False)\n",
      "          )\n",
      "          (dropout): Dropout(p=0.5, inplace=False)\n",
      "        )\n",
      "      )\n",
      "    )\n",
      "  )\n",
      "  (fc): Linear(in_features=256, out_features=178, bias=True)\n",
      ")\n",
      "Metrics: None\n",
      "Device: cpu\n",
      "\n",
      "Training:\n",
      "Batch size: 32\n",
      "Optimizer: <class 'torch.optim.adam.Adam'>\n",
      "Optimizer params: {'lr': 0.0002}\n",
      "Weight decay: 0.0\n",
      "Max grad norm: None\n",
      "Val dataloader: <torch.utils.data.dataloader.DataLoader object at 0x000001C91E99C940>\n",
      "Monitor: pr_auc_samples\n",
      "Monitor criterion: max\n",
      "Epochs: 5\n",
      "\n"
     ]
    },
    {
     "data": {
      "application/vnd.jupyter.widget-view+json": {
       "model_id": "bcd257fb6c0947398a6b56c56a54dae0",
       "version_major": 2,
       "version_minor": 0
      },
      "text/plain": [
       "Epoch 0 / 5:   0%|          | 0/38 [00:00<?, ?it/s]"
      ]
     },
     "metadata": {},
     "output_type": "display_data"
    },
    {
     "name": "stdout",
     "output_type": "stream",
     "text": [
      "--- Train epoch-0, step-38 ---\n",
      "loss: 1.0009\n"
     ]
    },
    {
     "name": "stderr",
     "output_type": "stream",
     "text": [
      "Evaluation: 100%|██████████| 13/13 [00:00<00:00, 64.71it/s]\n"
     ]
    },
    {
     "name": "stdout",
     "output_type": "stream",
     "text": [
      "--- Eval epoch-0, step-38 ---\n",
      "pr_auc_samples: 0.2503\n",
      "loss: 0.6405\n",
      "New best pr_auc_samples score (0.2503) at epoch-0, step-38\n",
      "\n"
     ]
    },
    {
     "data": {
      "application/vnd.jupyter.widget-view+json": {
       "model_id": "2cf5c09ddf0949a9984ab2890db5d1fd",
       "version_major": 2,
       "version_minor": 0
      },
      "text/plain": [
       "Epoch 1 / 5:   0%|          | 0/38 [00:00<?, ?it/s]"
      ]
     },
     "metadata": {},
     "output_type": "display_data"
    },
    {
     "name": "stdout",
     "output_type": "stream",
     "text": [
      "--- Train epoch-1, step-76 ---\n",
      "loss: 0.6743\n"
     ]
    },
    {
     "name": "stderr",
     "output_type": "stream",
     "text": [
      "Evaluation: 100%|██████████| 13/13 [00:00<00:00, 96.61it/s]\n"
     ]
    },
    {
     "name": "stdout",
     "output_type": "stream",
     "text": [
      "--- Eval epoch-1, step-76 ---\n",
      "pr_auc_samples: 0.4571\n",
      "loss: 0.4041\n",
      "New best pr_auc_samples score (0.4571) at epoch-1, step-76\n",
      "\n"
     ]
    },
    {
     "data": {
      "application/vnd.jupyter.widget-view+json": {
       "model_id": "fde4a65198af4801a5221039c6efe817",
       "version_major": 2,
       "version_minor": 0
      },
      "text/plain": [
       "Epoch 2 / 5:   0%|          | 0/38 [00:00<?, ?it/s]"
      ]
     },
     "metadata": {},
     "output_type": "display_data"
    },
    {
     "name": "stdout",
     "output_type": "stream",
     "text": [
      "--- Train epoch-2, step-114 ---\n",
      "loss: 0.4855\n"
     ]
    },
    {
     "name": "stderr",
     "output_type": "stream",
     "text": [
      "Evaluation: 100%|██████████| 13/13 [00:00<00:00, 109.89it/s]\n"
     ]
    },
    {
     "name": "stdout",
     "output_type": "stream",
     "text": [
      "--- Eval epoch-2, step-114 ---\n",
      "pr_auc_samples: 0.5531\n",
      "loss: 0.3572\n",
      "New best pr_auc_samples score (0.5531) at epoch-2, step-114\n",
      "\n"
     ]
    },
    {
     "data": {
      "application/vnd.jupyter.widget-view+json": {
       "model_id": "d39f6040079f44a697c4141cd317aad7",
       "version_major": 2,
       "version_minor": 0
      },
      "text/plain": [
       "Epoch 3 / 5:   0%|          | 0/38 [00:00<?, ?it/s]"
      ]
     },
     "metadata": {},
     "output_type": "display_data"
    },
    {
     "name": "stdout",
     "output_type": "stream",
     "text": [
      "--- Train epoch-3, step-152 ---\n",
      "loss: 0.4314\n"
     ]
    },
    {
     "name": "stderr",
     "output_type": "stream",
     "text": [
      "Evaluation: 100%|██████████| 13/13 [00:00<00:00, 95.69it/s]\n"
     ]
    },
    {
     "name": "stdout",
     "output_type": "stream",
     "text": [
      "--- Eval epoch-3, step-152 ---\n",
      "pr_auc_samples: 0.5662\n",
      "loss: 0.3405\n",
      "New best pr_auc_samples score (0.5662) at epoch-3, step-152\n",
      "\n"
     ]
    },
    {
     "data": {
      "application/vnd.jupyter.widget-view+json": {
       "model_id": "61121fc98c834839b98d15206cd8b5f4",
       "version_major": 2,
       "version_minor": 0
      },
      "text/plain": [
       "Epoch 4 / 5:   0%|          | 0/38 [00:00<?, ?it/s]"
      ]
     },
     "metadata": {},
     "output_type": "display_data"
    },
    {
     "name": "stdout",
     "output_type": "stream",
     "text": [
      "--- Train epoch-4, step-190 ---\n",
      "loss: 0.4042\n"
     ]
    },
    {
     "name": "stderr",
     "output_type": "stream",
     "text": [
      "Evaluation: 100%|██████████| 13/13 [00:00<00:00, 105.36it/s]\n"
     ]
    },
    {
     "name": "stdout",
     "output_type": "stream",
     "text": [
      "--- Eval epoch-4, step-190 ---\n",
      "pr_auc_samples: 0.5733\n",
      "loss: 0.3298\n",
      "New best pr_auc_samples score (0.5733) at epoch-4, step-190\n",
      "Loaded best model\n"
     ]
    }
   ],
   "source": [
    "from pyhealth.trainer import Trainer\n",
    "\n",
    "trainer = Trainer(model=model)\n",
    "trainer.train(\n",
    "    model_name=\"transformer\",\n",
    "    train_dataloader=train_loader,\n",
    "    val_dataloader=val_loader,\n",
    "    epochs=5,\n",
    "    optimizer_params = {\"lr\": 2 * 1e-4},\n",
    "    monitor=\"pr_auc_samples\",\n",
    ")"
   ]
  },
  {
   "cell_type": "markdown",
   "metadata": {},
   "source": [
    "**- Training with symptoms**"
   ]
  },
  {
   "cell_type": "code",
   "execution_count": null,
   "metadata": {},
   "outputs": [],
   "source": [
    "from pyhealth.trainer import Trainer\n",
    "\n",
    "trainer_symptoms = Trainer(model=model_symptoms)\n",
    "trainer_symptoms.train(\n",
    "    model_name=\"transformer\",\n",
    "    train_dataloader=train_loader,\n",
    "    val_dataloader=val_loader,\n",
    "    epochs=5,\n",
    "    optimizer_params = {\"lr\": 2 * 1e-4},\n",
    "    monitor=\"pr_auc_samples\",\n",
    ")"
   ]
  },
  {
   "cell_type": "markdown",
   "metadata": {},
   "source": [
    "**- Transformer Evaluation**"
   ]
  },
  {
   "cell_type": "code",
   "execution_count": null,
   "metadata": {},
   "outputs": [],
   "source": [
    "### Without Symptoms - loss 0.3239 - time: 0m 6s\n",
    "from pyhealth.metrics import multilabel_metrics_fn\n",
    "\n",
    "y_true, y_prob, loss = trainer.inference(test_loader)\n",
    "metrics = [\"accuracy\", \"f1_samples\", \"pr_auc_samples\", \"jaccard_samples\"]\n",
    "multilabel_metrics_fn(y_true, y_prob, metrics=metrics)"
   ]
  },
  {
   "cell_type": "code",
   "execution_count": 8,
   "metadata": {},
   "outputs": [
    {
     "data": {
      "text/plain": [
       "(405, 178)"
      ]
     },
     "execution_count": 8,
     "metadata": {},
     "output_type": "execute_result"
    }
   ],
   "source": [
    "y_true.shape"
   ]
  },
  {
   "cell_type": "code",
   "execution_count": 16,
   "metadata": {},
   "outputs": [
    {
     "name": "stderr",
     "output_type": "stream",
     "text": [
      "Evaluation: 100%|██████████| 13/13 [00:00<00:00, 99.65it/s]\n"
     ]
    },
    {
     "data": {
      "text/plain": [
       "{'accuracy': 0.8900255754475703,\n",
       " 'f1_samples': 0.5218895587506972,\n",
       " 'pr_auc_samples': 0.6142927508787751,\n",
       " 'jaccard_samples': 0.36047014930167576}"
      ]
     },
     "execution_count": 16,
     "metadata": {},
     "output_type": "execute_result"
    }
   ],
   "source": [
    "### With Symptoms - loss 0.3192 - time: 0m 9s\n",
    "from pyhealth.metrics import multilabel_metrics_fn\n",
    "\n",
    "y_true, y_prob, loss = trainer_symptoms.inference(test_loader)\n",
    "metrics = [\"accuracy\", \"f1_samples\", \"pr_auc_samples\", \"jaccard_samples\"]\n",
    "multilabel_metrics_fn(y_true, y_prob, metrics=metrics)"
   ]
  },
  {
   "cell_type": "markdown",
   "metadata": {},
   "source": [
    "### SafeDrug"
   ]
  },
  {
   "cell_type": "markdown",
   "metadata": {},
   "source": [
    "**- SafeDrug without symptoms**"
   ]
  },
  {
   "cell_type": "code",
   "execution_count": 9,
   "metadata": {},
   "outputs": [],
   "source": [
    "from pyhealth.models import SafeDrug\n",
    "\n",
    "model = SafeDrug(\n",
    "    dataset=mimic3sample\n",
    ")"
   ]
  },
  {
   "cell_type": "markdown",
   "metadata": {},
   "source": [
    "**- SafeDrug with symptoms**"
   ]
  },
  {
   "cell_type": "code",
   "execution_count": 23,
   "metadata": {},
   "outputs": [],
   "source": [
    "from pyhealth.models import SafeDrug_Mod\n",
    "\n",
    "model_symptoms = SafeDrug_Mod(\n",
    "    dataset=mimic3sample\n",
    ")"
   ]
  },
  {
   "cell_type": "markdown",
   "metadata": {},
   "source": [
    "**- Training without symptoms**"
   ]
  },
  {
   "cell_type": "code",
   "execution_count": 10,
   "metadata": {},
   "outputs": [
    {
     "name": "stdout",
     "output_type": "stream",
     "text": [
      "SafeDrug(\n",
      "  (embeddings): ModuleDict(\n",
      "    (conditions): Embedding(2101, 128, padding_idx=0)\n",
      "    (procedures): Embedding(735, 128, padding_idx=0)\n",
      "  )\n",
      "  (cond_rnn): GRU(128, 128, batch_first=True)\n",
      "  (proc_rnn): GRU(128, 128, batch_first=True)\n",
      "  (query): Sequential(\n",
      "    (0): ReLU()\n",
      "    (1): Linear(in_features=256, out_features=128, bias=True)\n",
      "  )\n",
      "  (safedrug): SafeDrugLayer(\n",
      "    (bipartite_transform): Linear(in_features=128, out_features=315, bias=True)\n",
      "    (bipartite_output): Linear(in_features=315, out_features=178, bias=True)\n",
      "    (mpnn): MolecularGraphNeuralNetwork(\n",
      "      (embed_fingerprint): Embedding(226, 128)\n",
      "      (W_fingerprint): ModuleList(\n",
      "        (0-1): 2 x Linear(in_features=128, out_features=128, bias=True)\n",
      "      )\n",
      "    )\n",
      "    (mpnn_output): Linear(in_features=178, out_features=178, bias=True)\n",
      "    (mpnn_layernorm): LayerNorm((178,), eps=1e-05, elementwise_affine=True)\n",
      "    (test): Linear(in_features=128, out_features=178, bias=True)\n",
      "    (loss_fn): BCEWithLogitsLoss()\n",
      "  )\n",
      ")\n",
      "Metrics: None\n",
      "Device: cpu\n",
      "\n",
      "Training:\n",
      "Batch size: 32\n",
      "Optimizer: <class 'torch.optim.adam.Adam'>\n",
      "Optimizer params: {'lr': 0.0002}\n",
      "Weight decay: 0.0\n",
      "Max grad norm: None\n",
      "Val dataloader: <torch.utils.data.dataloader.DataLoader object at 0x000001C91E99C940>\n",
      "Monitor: pr_auc_samples\n",
      "Monitor criterion: max\n",
      "Epochs: 5\n",
      "\n"
     ]
    },
    {
     "data": {
      "application/vnd.jupyter.widget-view+json": {
       "model_id": "4ca01e1868b34275b6770688211f7df6",
       "version_major": 2,
       "version_minor": 0
      },
      "text/plain": [
       "Epoch 0 / 5:   0%|          | 0/38 [00:00<?, ?it/s]"
      ]
     },
     "metadata": {},
     "output_type": "display_data"
    },
    {
     "name": "stdout",
     "output_type": "stream",
     "text": [
      "--- Train epoch-0, step-38 ---\n",
      "loss: 0.5502\n",
      "ddi_loss: 0.1019\n"
     ]
    },
    {
     "name": "stderr",
     "output_type": "stream",
     "text": [
      "Evaluation: 100%|██████████| 13/13 [00:03<00:00,  3.32it/s]"
     ]
    },
    {
     "name": "stdout",
     "output_type": "stream",
     "text": [
      "--- Eval epoch-0, step-38 ---\n",
      "pr_auc_samples: 0.4981\n",
      "loss: 0.4226\n",
      "New best pr_auc_samples score (0.4981) at epoch-0, step-38\n"
     ]
    },
    {
     "name": "stderr",
     "output_type": "stream",
     "text": [
      "\n"
     ]
    },
    {
     "name": "stdout",
     "output_type": "stream",
     "text": [
      "\n"
     ]
    },
    {
     "data": {
      "application/vnd.jupyter.widget-view+json": {
       "model_id": "dc5ba85c6e43439f9c0bee85baf31380",
       "version_major": 2,
       "version_minor": 0
      },
      "text/plain": [
       "Epoch 1 / 5:   0%|          | 0/38 [00:00<?, ?it/s]"
      ]
     },
     "metadata": {},
     "output_type": "display_data"
    },
    {
     "name": "stdout",
     "output_type": "stream",
     "text": [
      "--- Train epoch-1, step-76 ---\n",
      "loss: 0.3415\n",
      "ddi_loss: 0.0516\n"
     ]
    },
    {
     "name": "stderr",
     "output_type": "stream",
     "text": [
      "Evaluation: 100%|██████████| 13/13 [00:03<00:00,  3.48it/s]"
     ]
    },
    {
     "name": "stdout",
     "output_type": "stream",
     "text": [
      "--- Eval epoch-1, step-76 ---\n",
      "pr_auc_samples: 0.6138\n",
      "loss: 0.3050\n",
      "New best pr_auc_samples score (0.6138) at epoch-1, step-76\n"
     ]
    },
    {
     "name": "stderr",
     "output_type": "stream",
     "text": [
      "\n"
     ]
    },
    {
     "name": "stdout",
     "output_type": "stream",
     "text": [
      "\n"
     ]
    },
    {
     "data": {
      "application/vnd.jupyter.widget-view+json": {
       "model_id": "e86e7aecbb41476b8ef6c902bb9b340d",
       "version_major": 2,
       "version_minor": 0
      },
      "text/plain": [
       "Epoch 2 / 5:   0%|          | 0/38 [00:00<?, ?it/s]"
      ]
     },
     "metadata": {},
     "output_type": "display_data"
    },
    {
     "name": "stdout",
     "output_type": "stream",
     "text": [
      "--- Train epoch-2, step-114 ---\n",
      "loss: 0.2843\n",
      "ddi_loss: 0.0429\n"
     ]
    },
    {
     "name": "stderr",
     "output_type": "stream",
     "text": [
      "Evaluation: 100%|██████████| 13/13 [00:04<00:00,  3.24it/s]"
     ]
    },
    {
     "name": "stdout",
     "output_type": "stream",
     "text": [
      "--- Eval epoch-2, step-114 ---\n",
      "pr_auc_samples: 0.6275\n",
      "loss: 0.2770\n",
      "New best pr_auc_samples score (0.6275) at epoch-2, step-114\n"
     ]
    },
    {
     "name": "stderr",
     "output_type": "stream",
     "text": [
      "\n"
     ]
    },
    {
     "name": "stdout",
     "output_type": "stream",
     "text": [
      "\n"
     ]
    },
    {
     "data": {
      "application/vnd.jupyter.widget-view+json": {
       "model_id": "dbd83dd180404c9a80a7295f1bcac050",
       "version_major": 2,
       "version_minor": 0
      },
      "text/plain": [
       "Epoch 3 / 5:   0%|          | 0/38 [00:00<?, ?it/s]"
      ]
     },
     "metadata": {},
     "output_type": "display_data"
    },
    {
     "name": "stdout",
     "output_type": "stream",
     "text": [
      "--- Train epoch-3, step-152 ---\n",
      "loss: 0.2694\n",
      "ddi_loss: 0.0339\n"
     ]
    },
    {
     "name": "stderr",
     "output_type": "stream",
     "text": [
      "Evaluation: 100%|██████████| 13/13 [00:03<00:00,  3.77it/s]"
     ]
    },
    {
     "name": "stdout",
     "output_type": "stream",
     "text": [
      "--- Eval epoch-3, step-152 ---\n",
      "pr_auc_samples: 0.6311\n",
      "loss: 0.2726\n",
      "New best pr_auc_samples score (0.6311) at epoch-3, step-152\n"
     ]
    },
    {
     "name": "stderr",
     "output_type": "stream",
     "text": [
      "\n"
     ]
    },
    {
     "name": "stdout",
     "output_type": "stream",
     "text": [
      "\n"
     ]
    },
    {
     "data": {
      "application/vnd.jupyter.widget-view+json": {
       "model_id": "5f442cb476a04564846253a033fdeabf",
       "version_major": 2,
       "version_minor": 0
      },
      "text/plain": [
       "Epoch 4 / 5:   0%|          | 0/38 [00:00<?, ?it/s]"
      ]
     },
     "metadata": {},
     "output_type": "display_data"
    },
    {
     "name": "stdout",
     "output_type": "stream",
     "text": [
      "--- Train epoch-4, step-190 ---\n",
      "loss: 0.2607\n",
      "ddi_loss: 0.0356\n"
     ]
    },
    {
     "name": "stderr",
     "output_type": "stream",
     "text": [
      "Evaluation: 100%|██████████| 13/13 [00:03<00:00,  3.87it/s]"
     ]
    },
    {
     "name": "stdout",
     "output_type": "stream",
     "text": [
      "--- Eval epoch-4, step-190 ---\n",
      "pr_auc_samples: 0.6315\n",
      "loss: 0.2722\n",
      "New best pr_auc_samples score (0.6315) at epoch-4, step-190\n"
     ]
    },
    {
     "name": "stderr",
     "output_type": "stream",
     "text": [
      "\n"
     ]
    },
    {
     "name": "stdout",
     "output_type": "stream",
     "text": [
      "Loaded best model\n"
     ]
    }
   ],
   "source": [
    "from pyhealth.trainer import Trainer\n",
    "\n",
    "trainer = Trainer(model=model)\n",
    "trainer.train(\n",
    "    model_name=\"safedrug\",\n",
    "    train_dataloader=train_loader,\n",
    "    val_dataloader=val_loader,\n",
    "    epochs=5,\n",
    "    optimizer_params = {\"lr\": 2 * 1e-4},\n",
    "    monitor=\"pr_auc_samples\",\n",
    ")"
   ]
  },
  {
   "cell_type": "markdown",
   "metadata": {},
   "source": [
    "**- Training with symptoms**"
   ]
  },
  {
   "cell_type": "code",
   "execution_count": null,
   "metadata": {},
   "outputs": [],
   "source": [
    "from pyhealth.trainer import Trainer\n",
    "\n",
    "trainer_symptoms = Trainer(model=model_symptoms)\n",
    "trainer_symptoms.train(\n",
    "    model_name=\"safedrug\",\n",
    "    train_dataloader=train_loader,\n",
    "    val_dataloader=val_loader,\n",
    "    epochs=5,\n",
    "    optimizer_params = {\"lr\": 2 * 1e-4},\n",
    "    monitor=\"pr_auc_samples\",\n",
    ")"
   ]
  },
  {
   "cell_type": "markdown",
   "metadata": {},
   "source": [
    "**- SafeDrug Evaluation**"
   ]
  },
  {
   "cell_type": "code",
   "execution_count": 11,
   "metadata": {},
   "outputs": [
    {
     "name": "stderr",
     "output_type": "stream",
     "text": [
      "Evaluation: 100%|██████████| 13/13 [00:03<00:00,  3.79it/s]\n"
     ]
    },
    {
     "data": {
      "text/plain": [
       "{'accuracy': 0.893424885559717,\n",
       " 'f1_samples': 0.48484571222068096,\n",
       " 'pr_auc_samples': 0.6387088524041594,\n",
       " 'jaccard_samples': 0.32679935189451037}"
      ]
     },
     "execution_count": 11,
     "metadata": {},
     "output_type": "execute_result"
    }
   ],
   "source": [
    "### Without Symptoms - loss 0.2672 - time: 2m 6s\n",
    "from pyhealth.metrics import multilabel_metrics_fn\n",
    "\n",
    "y_true, y_prob, loss = trainer.inference(test_loader)\n",
    "metrics = [\"accuracy\", \"f1_samples\", \"pr_auc_samples\", \"jaccard_samples\"]\n",
    "multilabel_metrics_fn(y_true, y_prob, metrics=metrics)"
   ]
  },
  {
   "cell_type": "code",
   "execution_count": 12,
   "metadata": {},
   "outputs": [
    {
     "data": {
      "text/plain": [
       "(405, 178)"
      ]
     },
     "execution_count": 12,
     "metadata": {},
     "output_type": "execute_result"
    }
   ],
   "source": [
    "y_true.shape"
   ]
  },
  {
   "cell_type": "code",
   "execution_count": 25,
   "metadata": {},
   "outputs": [
    {
     "name": "stderr",
     "output_type": "stream",
     "text": [
      "Evaluation: 100%|██████████| 13/13 [00:03<00:00,  4.25it/s]\n"
     ]
    },
    {
     "data": {
      "text/plain": [
       "{'accuracy': 0.8965487514009023,\n",
       " 'f1_samples': 0.4940201459077551,\n",
       " 'pr_auc_samples': 0.6575319724664682,\n",
       " 'jaccard_samples': 0.3343368918438221}"
      ]
     },
     "execution_count": 25,
     "metadata": {},
     "output_type": "execute_result"
    }
   ],
   "source": [
    "### With Symptoms - loss 0.2666 - time: 2m 0s\n",
    "from pyhealth.metrics import multilabel_metrics_fn\n",
    "\n",
    "y_true, y_prob, loss = trainer_symptoms.inference(test_loader)\n",
    "metrics = [\"accuracy\", \"f1_samples\", \"pr_auc_samples\", \"jaccard_samples\"]\n",
    "multilabel_metrics_fn(y_true, y_prob, metrics=metrics)"
   ]
  },
  {
   "cell_type": "markdown",
   "metadata": {},
   "source": [
    "### GAMENet"
   ]
  },
  {
   "cell_type": "markdown",
   "metadata": {},
   "source": [
    "### GRASP"
   ]
  },
  {
   "cell_type": "markdown",
   "metadata": {},
   "source": [
    "### RETAIN"
   ]
  },
  {
   "cell_type": "markdown",
   "metadata": {},
   "source": [
    "### GRAM"
   ]
  },
  {
   "cell_type": "markdown",
   "metadata": {},
   "source": [
    "### KAME"
   ]
  },
  {
   "cell_type": "markdown",
   "metadata": {},
   "source": [
    "### MoleRec"
   ]
  },
  {
   "cell_type": "markdown",
   "metadata": {},
   "source": [
    "## Let'see some recommendation..."
   ]
  },
  {
   "cell_type": "code",
   "execution_count": 26,
   "metadata": {},
   "outputs": [],
   "source": [
    "y_prob_round = np.round(y_prob, 0)\n",
    "\n",
    "# Find the indices of the columns with values equal to 1 for each row\n",
    "column_indices = [np.where(row == 1)[0] for row in y_prob_round]\n",
    "\n",
    "indexes_prob=[]\n",
    "# Print the column indices for each row\n",
    "for i, indices in enumerate(column_indices):\n",
    "    indexes_prob.append(indices)"
   ]
  },
  {
   "cell_type": "code",
   "execution_count": 27,
   "metadata": {},
   "outputs": [],
   "source": [
    "# create empty lists to store the recommended drugs, patient ids, and visit ids\n",
    "rec_drug = []\n",
    "patient_ids = []\n",
    "visit_ids = []\n",
    "\n",
    "# get the list of all drugs in the dataset\n",
    "list_drugs = mimic3sample.get_all_tokens('drugs')\n",
    "\n",
    "# iterate over the top indexes for each sample in test_ds\n",
    "for sample, top in zip(test_ds, indexes_prob):\n",
    "    \n",
    "    # append the patient id and visit id to their respective lists\n",
    "    patient_ids.append(sample['patient_id'])\n",
    "    visit_ids.append(sample['visit_id'])\n",
    "    \n",
    "    # create an empty list to store the recommended drugs for this sample\n",
    "    sample_rec_drug = []\n",
    "    \n",
    "    # iterate over the top indexes for this sample\n",
    "    for i in top:\n",
    "        \n",
    "        # append the drug at the i-th index to the recommended drugs list for this sample\n",
    "        sample_rec_drug.append(list_drugs[i])\n",
    "    \n",
    "    # append the recommended drugs for this sample to the recommended drugs list\n",
    "    rec_drug.append(sample_rec_drug)\n",
    "\n",
    "# create a dataframe with the patient ids, visit ids, and recommended drugs\n",
    "df_rec_drug = pd.DataFrame({'patient_id': patient_ids, 'visit_id': visit_ids, 'rec_drug': rec_drug})\n",
    "df_rec_drug.to_csv('data/rec_drug.csv', index=False)"
   ]
  },
  {
   "cell_type": "code",
   "execution_count": 28,
   "metadata": {},
   "outputs": [],
   "source": [
    "# Find the indices of the columns with values equal to 1 for each row\n",
    "column_indices = [np.where(row == 1)[0] for row in y_true]\n",
    "\n",
    "indexes=[]\n",
    "# Print the column indices for each row\n",
    "for i, indices in enumerate(column_indices):\n",
    "    indexes.append(indices)"
   ]
  },
  {
   "cell_type": "code",
   "execution_count": 29,
   "metadata": {},
   "outputs": [],
   "source": [
    "# create empty lists to store the recommended drugs, patient ids, and visit ids\n",
    "true_drug = []\n",
    "patient_ids = []\n",
    "visit_ids = []\n",
    "\n",
    "\n",
    "# get the list of all drugs in the dataset\n",
    "list_drugs = mimic3sample.get_all_tokens('drugs')\n",
    "\n",
    "# iterate over the top indexes for each sample in test_ds\n",
    "for sample, top in zip(test_ds, indexes):\n",
    "    \n",
    "    # append the patient id and visit id to their respective lists\n",
    "    patient_ids.append(sample['patient_id'])\n",
    "    visit_ids.append(sample['visit_id'])\n",
    "    \n",
    "    # create an empty list to store the recommended drugs for this sample\n",
    "    sample_true_drug = []\n",
    "    \n",
    "    # iterate over the top indexes for this sample\n",
    "    for i in top:\n",
    "        \n",
    "        # append the drug at the i-th index to the recommended drugs list for this sample\n",
    "        sample_true_drug.append(list_drugs[i])\n",
    "    \n",
    "    # append the recommended drugs for this sample to the recommended drugs list\n",
    "    true_drug.append(sample_true_drug)\n",
    "\n",
    "# create a dataframe with the patient ids, visit ids, and recommended drugs\n",
    "df_true_drug = pd.DataFrame({'patient_id': patient_ids, 'visit_id': visit_ids, 'true_drug': true_drug})\n",
    "df_true_drug.to_csv('data/true_drug.csv', index=False)"
   ]
  },
  {
   "cell_type": "code",
   "execution_count": 36,
   "metadata": {},
   "outputs": [
    {
     "name": "stdout",
     "output_type": "stream",
     "text": [
      "A02B: DRUGS FOR PEPTIC ULCER AND GASTRO-OESOPHAGEAL REFLUX DISEASE (GORD)\n",
      "A06A: DRUGS FOR CONSTIPATION\n",
      "A12B: POTASSIUM SUPPLEMENTS\n",
      "A12C: OTHER MINERAL SUPPLEMENTS in ATC\n",
      "B01A: ANTITHROMBOTIC AGENTS\n",
      "B05X: I.V. SOLUTION ADDITIVES\n",
      "C03C: HIGH-CEILING DIURETICS\n",
      "C07A: BETA BLOCKING AGENTS\n",
      "N02A: OPIOID ANALGESICS\n",
      "N02B: OTHER ANALGESICS AND ANTIPYRETICS in ATC\n",
      "V04C: OTHER DIAGNOSTIC AGENTS in ATC\n",
      "V06D: OTHER NUTRIENTS in ATC\n"
     ]
    }
   ],
   "source": [
    "from pyhealth.medcode import InnerMap\n",
    "\n",
    "# initialize an InnerMap\n",
    "atc = InnerMap.load(\"ATC\")\n",
    "\n",
    "# select a patient from df_rec_drug\n",
    "patient_id = 25111\n",
    "visit_id = 147012\n",
    "patient_df = df_rec_drug[df_rec_drug['patient_id'].astype(int)==patient_id]\n",
    "patient_df = patient_df[patient_df['visit_id'].astype(int)==visit_id]\n",
    "\n",
    "# iterate over the recommended drugs for the selected patient\n",
    "for drugs in patient_df['rec_drug']:\n",
    "    # lookup the ATC code for each drug and print it\n",
    "    for drug in drugs:\n",
    "        print(f\"{drug}: {atc.lookup(drug)}\")"
   ]
  }
 ],
 "metadata": {
  "kernelspec": {
   "display_name": "proj_venv",
   "language": "python",
   "name": "python3"
  },
  "language_info": {
   "codemirror_mode": {
    "name": "ipython",
    "version": 3
   },
   "file_extension": ".py",
   "mimetype": "text/x-python",
   "name": "python",
   "nbconvert_exporter": "python",
   "pygments_lexer": "ipython3",
   "version": "3.10.2"
  }
 },
 "nbformat": 4,
 "nbformat_minor": 2
}
